{
  "cells": [
    {
      "cell_type": "markdown",
      "metadata": {
        "id": "view-in-github",
        "colab_type": "text"
      },
      "source": [
        "<a href=\"https://colab.research.google.com/github/pgordin/OptDisc2024/blob/main/lab1%20-%20programowanie%20liniowe%20(ci%C4%85g%C5%82e%20i%20dyskretne)%20-%20SciPy.ipynb\" target=\"_parent\"><img src=\"https://colab.research.google.com/assets/colab-badge.svg\" alt=\"Open In Colab\"/></a>"
      ]
    },
    {
      "cell_type": "markdown",
      "id": "cdf33023",
      "metadata": {
        "id": "cdf33023"
      },
      "source": [
        "# Zadanie 1\n",
        "Na przykładzie ciągłego problemu plecakowego sprawdzić (i przetestować) SciPy, PuLP i Google OR-Tools."
      ]
    },
    {
      "cell_type": "code",
      "execution_count": null,
      "id": "91d54567",
      "metadata": {
        "id": "91d54567",
        "outputId": "2353b5e0-a5a3-44ea-d6e4-a1b4edd11e8b"
      },
      "outputs": [
        {
          "name": "stdout",
          "output_type": "stream",
          "text": [
            "[[1. 0. 0. 0. 0. 0.]\n",
            " [0. 1. 0. 0. 0. 0.]\n",
            " [0. 0. 1. 0. 0. 0.]\n",
            " [0. 0. 0. 1. 0. 0.]\n",
            " [0. 0. 0. 0. 1. 0.]\n",
            " [0. 0. 0. 0. 0. 1.]\n",
            " [1. 1. 1. 1. 1. 1.]]\n",
            "[3.5, 2, 3, 5, 1, 2.5, 10]\n"
          ]
        }
      ],
      "source": [
        "from scipy.optimize import linprog\n",
        "import numpy as np\n",
        "c = [-20, -15, -10, -5, -30, -18]\n",
        "A=np.eye(6)\n",
        "A=np.append(A, np.ones(6).reshape(1,6),0)\n",
        "b=[3.5, 2, 3, 5, 1, 2.5, 10]\n",
        "\n",
        "print(A)\n",
        "print(b)"
      ]
    },
    {
      "cell_type": "code",
      "execution_count": null,
      "id": "162f858c-79c5-4fef-9cdb-0241ad67ba28",
      "metadata": {
        "id": "162f858c-79c5-4fef-9cdb-0241ad67ba28",
        "outputId": "b00f2624-1809-4517-e264-7ba03a0ec59e"
      },
      "outputs": [
        {
          "name": "stderr",
          "output_type": "stream",
          "text": [
            "C:\\Users\\janek\\AppData\\Local\\Temp\\ipykernel_14076\\4062951985.py:1: DeprecationWarning: `method='simplex'` is deprecated and will be removed in SciPy 1.11.0. Please use one of the HiGHS solvers (e.g. `method='highs'`) in new code.\n",
            "  lp=linprog(c=c, A_ub=A, b_ub=b, bounds=(0,None), method='simplex')\n"
          ]
        },
        {
          "data": {
            "text/plain": [
              " message: Optimization terminated successfully.\n",
              " success: True\n",
              "  status: 0\n",
              "     fun: -185.0\n",
              "       x: [ 3.500e+00  2.000e+00  1.000e+00  0.000e+00  1.000e+00\n",
              "            2.500e+00]\n",
              "     nit: 13"
            ]
          },
          "execution_count": 8,
          "metadata": {},
          "output_type": "execute_result"
        }
      ],
      "source": [
        "lp=linprog(c=c, A_ub=A, b_ub=b, bounds=(0,None), method='simplex')\n",
        "lp"
      ]
    },
    {
      "cell_type": "code",
      "execution_count": null,
      "id": "87793d34",
      "metadata": {
        "id": "87793d34",
        "outputId": "119b7007-c713-4c26-9467-4b8c6e6efc33"
      },
      "outputs": [
        {
          "data": {
            "text/plain": [
              "185.0"
            ]
          },
          "execution_count": 2,
          "metadata": {},
          "output_type": "execute_result"
        }
      ],
      "source": [
        "lp.fun*(-1)"
      ]
    },
    {
      "cell_type": "code",
      "execution_count": null,
      "id": "da6112be",
      "metadata": {
        "id": "da6112be",
        "outputId": "f16bf74b-3ce2-4d05-bfd6-36025cc6e5ba"
      },
      "outputs": [
        {
          "data": {
            "text/plain": [
              "array([3.5, 2. , 1. , 0. , 1. , 2.5])"
            ]
          },
          "execution_count": 3,
          "metadata": {},
          "output_type": "execute_result"
        }
      ],
      "source": [
        "lp.x"
      ]
    },
    {
      "cell_type": "markdown",
      "id": "f4378c23",
      "metadata": {
        "id": "f4378c23"
      },
      "source": [
        "# Zadanie 2\n",
        "Jak wygląda programowanie całkowitoliczbowe w tych pakietach? Rozwiązać (zwykły) problem plecakowy."
      ]
    },
    {
      "cell_type": "code",
      "execution_count": null,
      "id": "7a511559",
      "metadata": {
        "id": "7a511559",
        "outputId": "e13a667f-886c-4ec4-c46e-537dc90a9851"
      },
      "outputs": [
        {
          "data": {
            "text/plain": [
              "        message: Optimization terminated successfully. (HiGHS Status 7: Optimal)\n",
              "        success: True\n",
              "         status: 0\n",
              "            fun: -13200.0\n",
              "              x: [ 1.000e+00  3.000e+00  3.000e+00  0.000e+00  5.000e+00\n",
              "                   1.000e+00]\n",
              "            nit: -1\n",
              "          lower:  residual: [ 1.000e+00  3.000e+00  3.000e+00  0.000e+00\n",
              "                              5.000e+00  1.000e+00]\n",
              "                 marginals: [ 0.000e+00  0.000e+00  0.000e+00  0.000e+00\n",
              "                              0.000e+00  0.000e+00]\n",
              "          upper:  residual: [ 0.000e+00  0.000e+00  2.000e+00  1.000e+00\n",
              "                              0.000e+00  1.000e+00]\n",
              "                 marginals: [ 0.000e+00  0.000e+00  0.000e+00  0.000e+00\n",
              "                              0.000e+00  0.000e+00]\n",
              "          eqlin:  residual: []\n",
              "                 marginals: []\n",
              "        ineqlin:  residual: [ 1.000e-01]\n",
              "                 marginals: [ 0.000e+00]\n",
              " mip_node_count: 1\n",
              " mip_dual_bound: -13200.0\n",
              "        mip_gap: 0.0"
            ]
          },
          "execution_count": 4,
          "metadata": {},
          "output_type": "execute_result"
        }
      ],
      "source": [
        "x1_bounds = (0, 1)\n",
        "x2_bounds = (0, 3)\n",
        "x3_bounds = (0, 5)\n",
        "x4_bounds = (0, 1)\n",
        "x5_bounds = (0, 5)\n",
        "x6_bounds = (0, 2)\n",
        "\n",
        "c = [-5000, -1500, -200, -1000, -500, -600]\n",
        "A=[[1, 0.5, 0.3, 4, 1, 3]]\n",
        "b=[11.5]\n",
        "\n",
        "lp=linprog(c=c, A_ub=A, b_ub=b, bounds=[x1_bounds, x2_bounds, x3_bounds, x4_bounds, x5_bounds,x6_bounds], method='highs', integrality=1)\n",
        "lp"
      ]
    },
    {
      "cell_type": "code",
      "execution_count": null,
      "id": "68a7edbf",
      "metadata": {
        "id": "68a7edbf",
        "outputId": "6e791f13-3337-4815-eb40-ee39910b2cdd"
      },
      "outputs": [
        {
          "data": {
            "text/plain": [
              "13200.0"
            ]
          },
          "execution_count": 5,
          "metadata": {},
          "output_type": "execute_result"
        }
      ],
      "source": [
        "lp.fun*(-1)"
      ]
    },
    {
      "cell_type": "code",
      "execution_count": null,
      "id": "89020bc1",
      "metadata": {
        "id": "89020bc1",
        "outputId": "5a1f2989-6bed-47f0-9156-fba5ab9c8213"
      },
      "outputs": [
        {
          "data": {
            "text/plain": [
              "array([1., 3., 3., 0., 5., 1.])"
            ]
          },
          "execution_count": 6,
          "metadata": {},
          "output_type": "execute_result"
        }
      ],
      "source": [
        "lp.x"
      ]
    },
    {
      "cell_type": "markdown",
      "id": "f4530bd0-028c-4cfc-9236-abb28cb8338b",
      "metadata": {
        "id": "f4530bd0-028c-4cfc-9236-abb28cb8338b"
      },
      "source": [
        "# Maximum Transversal"
      ]
    },
    {
      "cell_type": "markdown",
      "id": "c6ed9269-a819-46a1-83da-73cf155d2d7c",
      "metadata": {
        "id": "c6ed9269-a819-46a1-83da-73cf155d2d7c"
      },
      "source": [
        "## With Binary Matrix"
      ]
    },
    {
      "cell_type": "code",
      "execution_count": null,
      "id": "3980556b-945d-4672-80c2-a9ace24ad6b7",
      "metadata": {
        "id": "3980556b-945d-4672-80c2-a9ace24ad6b7"
      },
      "outputs": [],
      "source": [
        "import numpy as np\n",
        "from scipy.optimize import linear_sum_assignment"
      ]
    },
    {
      "cell_type": "code",
      "execution_count": null,
      "id": "d3bf5175-8e47-4728-a3a0-cbdc59de6a7b",
      "metadata": {
        "id": "d3bf5175-8e47-4728-a3a0-cbdc59de6a7b",
        "outputId": "f7077d40-ee9f-4578-e3ff-5d0b0d82b644"
      },
      "outputs": [
        {
          "name": "stdout",
          "output_type": "stream",
          "text": [
            "[[7 0 1 1 0]\n",
            " [1 8 7 6 1]\n",
            " [0 1 9 6 9]\n",
            " [1 3 4 5 5]\n",
            " [2 9 4 6 3]]\n"
          ]
        }
      ],
      "source": [
        "# bm = np.array([\n",
        "#     [0, 1, 0, 0],\n",
        "#     [1, 0, 0, 0],\n",
        "#     [0, 0, 1, 0],\n",
        "# ])\n",
        "\n",
        "bm = np.random.randint(0, 10, (5, 5))\n",
        "print(bm)"
      ]
    },
    {
      "cell_type": "code",
      "execution_count": null,
      "id": "19882631-b68b-4881-9519-ab31b649031c",
      "metadata": {
        "id": "19882631-b68b-4881-9519-ab31b649031c"
      },
      "outputs": [],
      "source": [
        "def find_maximum_transversal(bm):\n",
        "    bm = -bm\n",
        "    row_idx, col_idx = linear_sum_assignment(bm)\n",
        "    transversal = list(zip(row_idx, col_idx))\n",
        "    return transversal, row_idx, col_idx"
      ]
    },
    {
      "cell_type": "code",
      "execution_count": null,
      "id": "83e74a6b-a25e-4ab9-98b2-b958cc211779",
      "metadata": {
        "id": "83e74a6b-a25e-4ab9-98b2-b958cc211779"
      },
      "outputs": [],
      "source": [
        "mat = np.array([\n",
        "    [4,1,6,2,3],\n",
        "    [5,0,3,7,6],\n",
        "    [2,3,4,5,8],\n",
        "    [3,4,6,3,4],\n",
        "    [4,6,5,8,6]\n",
        "])"
      ]
    },
    {
      "cell_type": "code",
      "execution_count": null,
      "id": "3b4735bd-f583-4259-b90c-0a49aa7de8af",
      "metadata": {
        "id": "3b4735bd-f583-4259-b90c-0a49aa7de8af",
        "outputId": "18f4fe60-392e-4825-adba-1c5032c935fb"
      },
      "outputs": [
        {
          "data": {
            "text/plain": [
              "([(0, 2), (1, 0), (2, 4), (3, 1), (4, 3)],\n",
              " array([0, 1, 2, 3, 4], dtype=int64),\n",
              " array([2, 0, 4, 1, 3], dtype=int64))"
            ]
          },
          "execution_count": 24,
          "metadata": {},
          "output_type": "execute_result"
        }
      ],
      "source": [
        "find_maximum_transversal(mat)"
      ]
    },
    {
      "cell_type": "code",
      "execution_count": null,
      "id": "99033696-506f-4e09-8321-a10110c98f6f",
      "metadata": {
        "id": "99033696-506f-4e09-8321-a10110c98f6f"
      },
      "outputs": [],
      "source": []
    }
  ],
  "metadata": {
    "kernelspec": {
      "display_name": "Python 3 (ipykernel)",
      "language": "python",
      "name": "python3"
    },
    "language_info": {
      "codemirror_mode": {
        "name": "ipython",
        "version": 3
      },
      "file_extension": ".py",
      "mimetype": "text/x-python",
      "name": "python",
      "nbconvert_exporter": "python",
      "pygments_lexer": "ipython3",
      "version": "3.12.1"
    },
    "colab": {
      "provenance": [],
      "include_colab_link": true
    }
  },
  "nbformat": 4,
  "nbformat_minor": 5
}