{
  "cells": [
    {
      "cell_type": "markdown",
      "metadata": {
        "id": "view-in-github",
        "colab_type": "text"
      },
      "source": [
        "<a href=\"https://colab.research.google.com/github/pgordin/OptDisc2024/blob/main/lab1%20-%20programowanie%20liniowe%20(ci%C4%85g%C5%82e%20i%20dyskretne)%20-%20SciPy.ipynb\" target=\"_parent\"><img src=\"https://colab.research.google.com/assets/colab-badge.svg\" alt=\"Open In Colab\"/></a>"
      ]
    },
    {
      "cell_type": "markdown",
      "id": "cdf33023",
      "metadata": {
        "id": "cdf33023"
      },
      "source": [
        "# Zadanie 1\n",
        "Na przykładzie ciągłego problemu plecakowego sprawdzić (i przetestować) SciPy, PuLP i Google OR-Tools."
      ]
    },
    {
      "cell_type": "code",
      "execution_count": 1,
      "id": "91d54567",
      "metadata": {
        "colab": {
          "base_uri": "https://localhost:8080/"
        },
        "id": "91d54567",
        "outputId": "72daa446-48c8-4b17-89c5-afe6fed4c7ba"
      },
      "outputs": [
        {
          "output_type": "stream",
          "name": "stdout",
          "text": [
            "[[1. 0. 0. 0. 0. 0.]\n",
            " [0. 1. 0. 0. 0. 0.]\n",
            " [0. 0. 1. 0. 0. 0.]\n",
            " [0. 0. 0. 1. 0. 0.]\n",
            " [0. 0. 0. 0. 1. 0.]\n",
            " [0. 0. 0. 0. 0. 1.]\n",
            " [1. 1. 1. 1. 1. 1.]]\n",
            "[3.5, 2, 3, 5, 1, 2.5, 10]\n"
          ]
        }
      ],
      "source": [
        "from scipy.optimize import linprog\n",
        "import numpy as np\n",
        "c = [-20, -15, -10, -5, -30, -18]\n",
        "A=np.eye(6)\n",
        "A=np.append(A, np.ones(6).reshape(1,6),0)\n",
        "b=[3.5, 2, 3, 5, 1, 2.5, 10]\n",
        "\n",
        "print(A)\n",
        "print(b)"
      ]
    },
    {
      "cell_type": "code",
      "execution_count": 2,
      "id": "162f858c-79c5-4fef-9cdb-0241ad67ba28",
      "metadata": {
        "colab": {
          "base_uri": "https://localhost:8080/"
        },
        "id": "162f858c-79c5-4fef-9cdb-0241ad67ba28",
        "outputId": "ca7509c8-1e81-44f4-e4e9-227e319788aa"
      },
      "outputs": [
        {
          "output_type": "stream",
          "name": "stderr",
          "text": [
            "<ipython-input-2-4c80090c967e>:1: DeprecationWarning: `method='simplex'` is deprecated and will be removed in SciPy 1.11.0. Please use one of the HiGHS solvers (e.g. `method='highs'`) in new code.\n",
            "  lp=linprog(c=c, A_ub=A, b_ub=b, bounds=(0,None), method='simplex')\n"
          ]
        },
        {
          "output_type": "execute_result",
          "data": {
            "text/plain": [
              " message: Optimization terminated successfully.\n",
              " success: True\n",
              "  status: 0\n",
              "     fun: -185.0\n",
              "       x: [ 3.500e+00  2.000e+00  1.000e+00  0.000e+00  1.000e+00\n",
              "            2.500e+00]\n",
              "     nit: 13"
            ]
          },
          "metadata": {},
          "execution_count": 2
        }
      ],
      "source": [
        "lp=linprog(c=c, A_ub=A, b_ub=b, bounds=(0,None), method='simplex')\n",
        "lp"
      ]
    },
    {
      "cell_type": "code",
      "execution_count": 3,
      "id": "87793d34",
      "metadata": {
        "colab": {
          "base_uri": "https://localhost:8080/"
        },
        "id": "87793d34",
        "outputId": "05262e40-1fcc-4501-c026-a6c9260c3369"
      },
      "outputs": [
        {
          "output_type": "execute_result",
          "data": {
            "text/plain": [
              "185.0"
            ]
          },
          "metadata": {},
          "execution_count": 3
        }
      ],
      "source": [
        "lp.fun*(-1)"
      ]
    },
    {
      "cell_type": "code",
      "execution_count": 4,
      "id": "da6112be",
      "metadata": {
        "colab": {
          "base_uri": "https://localhost:8080/"
        },
        "id": "da6112be",
        "outputId": "63c25997-41b3-49da-bc1e-3a0c342d9973"
      },
      "outputs": [
        {
          "output_type": "execute_result",
          "data": {
            "text/plain": [
              "array([3.5, 2. , 1. , 0. , 1. , 2.5])"
            ]
          },
          "metadata": {},
          "execution_count": 4
        }
      ],
      "source": [
        "lp.x"
      ]
    },
    {
      "cell_type": "markdown",
      "id": "f4378c23",
      "metadata": {
        "id": "f4378c23"
      },
      "source": [
        "# Zadanie 2\n",
        "Jak wygląda programowanie całkowitoliczbowe w tych pakietach? Rozwiązać (zwykły) problem plecakowy."
      ]
    },
    {
      "cell_type": "code",
      "execution_count": 5,
      "id": "7a511559",
      "metadata": {
        "colab": {
          "base_uri": "https://localhost:8080/"
        },
        "id": "7a511559",
        "outputId": "f789c6d6-4c16-4029-fcc5-e339a8fad9b8"
      },
      "outputs": [
        {
          "output_type": "execute_result",
          "data": {
            "text/plain": [
              "        message: Optimization terminated successfully. (HiGHS Status 7: Optimal)\n",
              "        success: True\n",
              "         status: 0\n",
              "            fun: -13200.0\n",
              "              x: [ 1.000e+00  3.000e+00  3.000e+00  0.000e+00  5.000e+00\n",
              "                   1.000e+00]\n",
              "            nit: -1\n",
              "          lower:  residual: [ 1.000e+00  3.000e+00  3.000e+00  0.000e+00\n",
              "                              5.000e+00  1.000e+00]\n",
              "                 marginals: [ 0.000e+00  0.000e+00  0.000e+00  0.000e+00\n",
              "                              0.000e+00  0.000e+00]\n",
              "          upper:  residual: [ 0.000e+00  0.000e+00  2.000e+00  1.000e+00\n",
              "                              0.000e+00  1.000e+00]\n",
              "                 marginals: [ 0.000e+00  0.000e+00  0.000e+00  0.000e+00\n",
              "                              0.000e+00  0.000e+00]\n",
              "          eqlin:  residual: []\n",
              "                 marginals: []\n",
              "        ineqlin:  residual: [ 1.000e-01]\n",
              "                 marginals: [ 0.000e+00]\n",
              " mip_node_count: 1\n",
              " mip_dual_bound: -13200.0\n",
              "        mip_gap: 0.0"
            ]
          },
          "metadata": {},
          "execution_count": 5
        }
      ],
      "source": [
        "x1_bounds = (0, 1)\n",
        "x2_bounds = (0, 3)\n",
        "x3_bounds = (0, 5)\n",
        "x4_bounds = (0, 1)\n",
        "x5_bounds = (0, 5)\n",
        "x6_bounds = (0, 2)\n",
        "\n",
        "c = [-5000, -1500, -200, -1000, -500, -600]\n",
        "A=[[1, 0.5, 0.3, 4, 1, 3]]\n",
        "b=[11.5]\n",
        "\n",
        "lp=linprog(c=c, A_ub=A, b_ub=b, bounds=[x1_bounds, x2_bounds, x3_bounds, x4_bounds, x5_bounds,x6_bounds], method='highs', integrality=1)\n",
        "lp"
      ]
    },
    {
      "cell_type": "code",
      "execution_count": 6,
      "id": "68a7edbf",
      "metadata": {
        "colab": {
          "base_uri": "https://localhost:8080/"
        },
        "id": "68a7edbf",
        "outputId": "3388e205-8630-47ee-9082-da527766769a"
      },
      "outputs": [
        {
          "output_type": "execute_result",
          "data": {
            "text/plain": [
              "13200.0"
            ]
          },
          "metadata": {},
          "execution_count": 6
        }
      ],
      "source": [
        "lp.fun*(-1)"
      ]
    },
    {
      "cell_type": "code",
      "execution_count": 7,
      "id": "89020bc1",
      "metadata": {
        "colab": {
          "base_uri": "https://localhost:8080/"
        },
        "id": "89020bc1",
        "outputId": "45e5e702-4419-4668-c121-8eb09ac9d38a"
      },
      "outputs": [
        {
          "output_type": "execute_result",
          "data": {
            "text/plain": [
              "array([1., 3., 3., 0., 5., 1.])"
            ]
          },
          "metadata": {},
          "execution_count": 7
        }
      ],
      "source": [
        "lp.x"
      ]
    },
    {
      "cell_type": "markdown",
      "id": "f4530bd0-028c-4cfc-9236-abb28cb8338b",
      "metadata": {
        "id": "f4530bd0-028c-4cfc-9236-abb28cb8338b"
      },
      "source": [
        "# Maximum Transversal"
      ]
    },
    {
      "cell_type": "markdown",
      "id": "c6ed9269-a819-46a1-83da-73cf155d2d7c",
      "metadata": {
        "id": "c6ed9269-a819-46a1-83da-73cf155d2d7c"
      },
      "source": [
        "## With Binary Matrix"
      ]
    },
    {
      "cell_type": "code",
      "execution_count": 8,
      "id": "3980556b-945d-4672-80c2-a9ace24ad6b7",
      "metadata": {
        "id": "3980556b-945d-4672-80c2-a9ace24ad6b7"
      },
      "outputs": [],
      "source": [
        "import numpy as np\n",
        "from scipy.optimize import linear_sum_assignment"
      ]
    },
    {
      "cell_type": "code",
      "execution_count": 9,
      "id": "19882631-b68b-4881-9519-ab31b649031c",
      "metadata": {
        "id": "19882631-b68b-4881-9519-ab31b649031c"
      },
      "outputs": [],
      "source": [
        "def find_maximum_transversal(bm):\n",
        "    bm = -bm\n",
        "    row_idx, col_idx = linear_sum_assignment(bm)\n",
        "    transversal = list(zip(row_idx, col_idx))\n",
        "    return transversal, row_idx, col_idx"
      ]
    },
    {
      "cell_type": "code",
      "execution_count": 10,
      "id": "83e74a6b-a25e-4ab9-98b2-b958cc211779",
      "metadata": {
        "id": "83e74a6b-a25e-4ab9-98b2-b958cc211779"
      },
      "outputs": [],
      "source": [
        "mat = np.array([\n",
        "    [4,1,6,2,3],\n",
        "    [5,0,3,7,6],\n",
        "    [2,3,4,5,8],\n",
        "    [3,4,6,3,4],\n",
        "    [4,6,5,8,6]\n",
        "])"
      ]
    },
    {
      "cell_type": "code",
      "execution_count": 14,
      "id": "3b4735bd-f583-4259-b90c-0a49aa7de8af",
      "metadata": {
        "colab": {
          "base_uri": "https://localhost:8080/"
        },
        "id": "3b4735bd-f583-4259-b90c-0a49aa7de8af",
        "outputId": "6c08a732-764b-4fa8-f692-dd3d76e78deb"
      },
      "outputs": [
        {
          "output_type": "execute_result",
          "data": {
            "text/plain": [
              "[(0, 2), (1, 0), (2, 4), (3, 1), (4, 3)]"
            ]
          },
          "metadata": {},
          "execution_count": 14
        }
      ],
      "source": [
        "tr = find_maximum_transversal(mat)\n",
        "tr[0]"
      ]
    },
    {
      "cell_type": "code",
      "execution_count": 16,
      "id": "99033696-506f-4e09-8321-a10110c98f6f",
      "metadata": {
        "colab": {
          "base_uri": "https://localhost:8080/"
        },
        "id": "99033696-506f-4e09-8321-a10110c98f6f",
        "outputId": "9f333cd6-a5f4-45fe-fb9b-8a88dd784701"
      },
      "outputs": [
        {
          "output_type": "stream",
          "name": "stdout",
          "text": [
            "(0, 2): 6\n",
            "(1, 0): 5\n",
            "(2, 4): 8\n",
            "(3, 1): 4\n",
            "(4, 3): 8\n"
          ]
        }
      ],
      "source": [
        "for idx in tr[0]:\n",
        "    print(f\"{idx}: {mat[idx]}\")"
      ]
    },
    {
      "cell_type": "code",
      "source": [],
      "metadata": {
        "id": "PkZxa27eio9V"
      },
      "id": "PkZxa27eio9V",
      "execution_count": null,
      "outputs": []
    }
  ],
  "metadata": {
    "kernelspec": {
      "display_name": "Python 3 (ipykernel)",
      "language": "python",
      "name": "python3"
    },
    "language_info": {
      "codemirror_mode": {
        "name": "ipython",
        "version": 3
      },
      "file_extension": ".py",
      "mimetype": "text/x-python",
      "name": "python",
      "nbconvert_exporter": "python",
      "pygments_lexer": "ipython3",
      "version": "3.12.1"
    },
    "colab": {
      "provenance": [],
      "include_colab_link": true
    }
  },
  "nbformat": 4,
  "nbformat_minor": 5
}