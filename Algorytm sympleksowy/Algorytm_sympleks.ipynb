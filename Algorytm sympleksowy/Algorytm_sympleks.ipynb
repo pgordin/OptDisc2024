{
 "cells": [
  {
   "cell_type": "markdown",
   "id": "671d3d78",
   "metadata": {},
   "source": [
    "# Algorytm sympleksowy"
   ]
  },
  {
   "cell_type": "markdown",
   "id": "57307373",
   "metadata": {},
   "source": [
    "Algorytm sympleksowy służy do rozwiązywania problemów programowania liniowego, tzn.\n",
    "\n",
    "$$(*)\\left\\{\n",
    "\\begin{array}{lll}\n",
    "&\\boldsymbol{c}^T\\boldsymbol{x}\\to \\max\\\\\n",
    "&\\text{przy ograniczeniach}\\\\\n",
    "& A\\boldsymbol{x}\\le\\boldsymbol{b},\\\\\n",
    "& \\boldsymbol{x}\\ge 0,\\\\\n",
    "\\end{array}\n",
    "\\right.$$\n",
    "\n",
    "gdzie $\\boldsymbol{x} = [x_1, ..., x_n]^T, \\boldsymbol{c} = [c_1, ..., c_n]^T\\in\\mathbb{R}^n$, $\\boldsymbol{b} = [b_1, ..., b_m]^T\\in\\mathbb{R}^m$ oraz $A = [a_{ij}]\\in\\mathcal{M}_{m,n}(\\mathbb{R})$."
   ]
  },
  {
   "cell_type": "markdown",
   "id": "e2cff06a",
   "metadata": {},
   "source": [
    "# Metoda"
   ]
  },
  {
   "cell_type": "markdown",
   "id": "b5596756",
   "metadata": {},
   "source": [
    "Rozważmy następujący problem optymalizacyjny z ograniczeniami\n",
    "\n",
    "$$(P_1)\\left\\{\n",
    "\\begin{array}{lll}\n",
    "&-0.5(x+y)\\to \\min\\\\\n",
    "&\\text{przy ograniczeniach}\\\\\n",
    "& x - y \\le 2,\\\\\n",
    "& x - y \\ge -3,\\\\\n",
    "& -2x - y \\ge -10,\\\\\n",
    "& x, y\\ge 0.\\\\\n",
    "\\end{array}\n",
    "\\right.$$\n",
    "\n",
    "Po pierwsze, powinniśmy zadbać o to by był on w takiej samej postaci jak $(*)$, tzn. \n",
    "\n",
    "$$(P_1^*)\\left\\{\n",
    "\\begin{array}{lll}\n",
    "&0.5(x+y)\\to \\max\\\\\n",
    "&\\text{przy ograniczeniach}\\\\\n",
    "& x - y \\le 2,\\\\\n",
    "& -x + y \\le 3,\\\\\n",
    "& 2x + y \\le 10,\\\\\n",
    "& x, y\\ge 0.\\\\\n",
    "\\end{array}\n",
    "\\right.$$\n",
    "\n",
    "Zobaczmy jak problem $(P_1^*)$ wygląda na wykresie.\n",
    "\n",
    "![Wykres](wykres.png) \n",
    "\n",
    "Dodajemy zmienne bazowe $s_1, s_2, s_3$ tak, aby zmienić ograniczenia typu '$\\le$' na '$=$', czyli\n",
    "\n",
    "$$(P_1^{*})\\left\\{\n",
    "\\begin{array}{lll}\n",
    "&0.5(x+y)\\to \\max\\\\\n",
    "&\\text{przy ograniczeniach}\\\\\n",
    "& x - y + s_1 = 2,\\\\\n",
    "& -x + y + s_2 = 3,\\\\\n",
    "& 2x + y + s_3 = 10,\\\\\n",
    "& x, y, s_1, s_2, s_3\\ge 0.\\\\\n",
    "\\end{array}\n",
    "\\right.$$\n",
    "\n",
    "Następnie tworzymy tablice sympleksową, tzn.\n",
    "\n",
    "$$\n",
    "B = \\begin{bmatrix}\n",
    "&A                  &|&  I_{m\\times m} \\hspace{0.1cm} &|&  \\boldsymbol{b} &\\\\\n",
    "&-\\boldsymbol{c}^T  &|&  \\boldsymbol{0^T_m}           &|&  0 &\n",
    "\\end{bmatrix}\n",
    "$$\n",
    "\n",
    "W naszym przykładzie tablica ta ma postać\n",
    "\n",
    "$$\n",
    "B = \\begin{bmatrix}\n",
    "x & y & s_1 & s_2 & s_3 & \\\\\n",
    "1 & -1 & 1 & 0 & 0 & 2 & s_1\\\\\n",
    "-1 & 1 & 0 & 1 & 0 & 3 & s_2\\\\\n",
    "2 & 1 & 0 & 0 & 1 & 10 & s_3\\\\\n",
    "-0.5 & -0.5 & 0 & 0 & 0 & 0\n",
    "\\end{bmatrix}\n",
    "$$\n",
    "\n",
    "Dodatkowo odnotujmy dopuszczalne rozwiązanie bazowe, tj. $(x, y, s_1, s_2, s_3) = (0, 0, 2, 3, 10)$. Będziemy je aktualizować, po każdym kroku algorytmu. $$$$\n",
    "Przechodzimy do metody. \n",
    "1. Na początek sprawdzamy czy ostatni wiersz macierzy B zawiera wartości ujemne. Jeśli nie, to znaleźliśmy rozwiązanie optymalne. W przeciwnym razie szukamy najmniejszej wartości ujemnej. Kolumna, którą wybraliśmy, decyduje o zmiennej, wychodzącej z bazy. $\\longrightarrow$ W naszym przykładzie ostatnia kolumna zawiera dwie takie same ujemne wartości. Wybieramy tą, która odpowiada pierwszej kolumnie. Do bazy wchodzi zmienna $x$. \n",
    "2. Następnie sprawdzamy, czy istnieje jakakolwiek dodatnia wartość pośród pozostałych współczynników z wybranej kolumny. Jeśli nie, to problem jest nieograniczony. W przeciwnym razie szukamy najmniejszej wartości nieujemnej z dzielenia ostatniej kolumny macierzy B (bez ostatniego wiersza) przez kolumnę pozostałych współczynników z kroku nr 1. Odpowiada ona numerowi wiersza zmiennej, która wychodzi z bazy. $\\longrightarrow$ W naszym przykładzie istnieją dwie dotatnie wartości w pierwszej kolumnie, tj. $1$ i $2$. Wykonujemy dzielenie i wybieramy najmniejszą wartość, tutaj to $\\frac{2}{1}=2$. Z bazy wychodzi zmienna $s_1$.\n",
    "3. W ostatnim kroku wykonujemy eliminację Gaussa dla kolumny z kroku nr 1 względem wiersza z kroku nr 2 oraz aktualizujemy dopuszczalne rozwiązanie bazowe.\n",
    "\n",
    "$$\n",
    "B = \\begin{bmatrix}\n",
    "x & y & s_1 & s_2 & s_3 & \\\\\n",
    "1 & -1 & 1 & 0 & 0 & 2 & x\\\\\n",
    "0 & 0 & 1 & 1 & 0 & 5 & s_2\\\\\n",
    "0 & 3 & -2 & 0 & 1 & 6 & s_3\\\\\n",
    "0 & -1 & 0.5 & 0 & 0 & 1\n",
    "\\end{bmatrix}\n",
    "$$\n",
    "\n",
    "Nowe dopuszczalne rozwiązanie bazowe, to $(x, y, s_1, s_2, s_3) = (2, 0, 0, 5, 14)$.\n",
    "\n",
    "4. Iterujemy tak do momentu, w którym w ostatnim wierszu tablicy B znajdą się same nieujemne wartości.\n",
    "\n",
    "$$\n",
    "B = \\begin{bmatrix}\n",
    "x & y & s_1 & s_2 & s_3 & \\\\\n",
    "1 & 0 & 0 & -\\frac{1}{3} & \\frac{1}{3} & \\frac{7}{3} & x\\\\\n",
    "0 & 0 & 1 & 1 & 0 & 5 & s_1\\\\\n",
    "0 & 1 & 0 & \\frac{2}{3} & \\frac{1}{3} & \\frac{16}{3} & y\\\\\n",
    "0 & 0 & 0 & \\frac{1}{6} & \\frac{1}{3} & \\frac{23}{6}\n",
    "\\end{bmatrix}\n",
    "$$\n",
    "\n",
    "Ostateczne dopuszczalne rozwiązanie bazowe, to $(x, y, s_1, s_2, s_3) = \\left(\\frac{7}{3}, \\frac{16}{3}, 5, 0, 0\\right)$.\n",
    "Poszukiwane rozwiązanie, to $(x,y)=\\left(\\frac{7}{3}, \\frac{16}{3}\\right)$. Wartość funkcji celu dla problemu $(P_1^*)$ to $\\frac{23}{6}$, czyli dla problemu $(P_1)$ to $\\left(-\\frac{23}{6}\\right)$. Sprawdźmy rozwiązanie graficznie dla problemu $(P_1^*)$!\n",
    "\n",
    "![Wykres2](BFS.png)"
   ]
  },
  {
   "cell_type": "markdown",
   "id": "44e81abf",
   "metadata": {},
   "source": [
    "# Właściwy algorytm"
   ]
  },
  {
   "cell_type": "code",
   "execution_count": 1,
   "id": "569cc79f",
   "metadata": {},
   "outputs": [],
   "source": [
    "import numpy as np\n",
    "from copy import deepcopy"
   ]
  },
  {
   "cell_type": "code",
   "execution_count": 2,
   "id": "3dacb0c7",
   "metadata": {},
   "outputs": [],
   "source": [
    "def non_neg(lst):\n",
    "    return [x for x in lst if x >= 0] or None"
   ]
  },
  {
   "cell_type": "code",
   "execution_count": 3,
   "id": "213f966a",
   "metadata": {},
   "outputs": [],
   "source": [
    "def pos(lst):\n",
    "    return [x for x in lst if x > 0] or None"
   ]
  },
  {
   "cell_type": "code",
   "execution_count": 7,
   "id": "1bd12816",
   "metadata": {},
   "outputs": [],
   "source": [
    "def Simplex_solve(CONSTRAINTS_LEFT, CONSTRAINTS_RIGHT, OBJECTIVE_FUNCTION):\n",
    "    \n",
    "    #liczby ograniczeń i zmiennych\n",
    "    NUM_OF_CONSTRAINTS = len(CONSTRAINTS_LEFT)\n",
    "    NUM_OF_VARIABLES = len(OBJECTIVE_FUNCTION)\n",
    "    \n",
    "    #zmienna do przechowywania\n",
    "    STORAGE = {}\n",
    "    \n",
    "    #jeśli listy są jednowymiarowe, to zamieniamy je na dwuwymiarowe dla poprawności obliczeń\n",
    "    if np.ndim(CONSTRAINTS_RIGHT) != 2 and np.ndim(OBJECTIVE_FUNCTION) != 2:\n",
    "        CONSTRAINTS_RIGHT = np.array([CONSTRAINTS_RIGHT])\n",
    "        OBJECTIVE_FUNCTION = np.array([OBJECTIVE_FUNCTION])\n",
    "    \n",
    "    #tworzymy tablice sympleksową B\n",
    "    I = np.identity(NUM_OF_CONSTRAINTS)\n",
    "    PARTIAL_B = np.concatenate((CONSTRAINTS_LEFT, I, CONSTRAINTS_RIGHT.T), axis = 1) \n",
    "    LAST_ROW_OF_B = np.array([np.concatenate((-OBJECTIVE_FUNCTION, np.zeros((1, NUM_OF_CONSTRAINTS + 1))), axis = None)])\n",
    "    B = np.concatenate((PARTIAL_B, LAST_ROW_OF_B), axis = 0)\n",
    "    \n",
    "    #zapisujemy rozwiązanie bazowe\n",
    "    BFS = np.concatenate((np.zeros(NUM_OF_VARIABLES), CONSTRAINTS_RIGHT), axis = None)\n",
    "    \n",
    "    #główna treść algorytmu\n",
    "    while min(B[NUM_OF_CONSTRAINTS]) < 0:\n",
    "        #szukamy numeru kolumny, w której znajduje się maksymalna (-1)*wartość z ostatniego wiersza tablicy sympleksowej\n",
    "        i, = np.where(np.isclose(-B[NUM_OF_CONSTRAINTS, :NUM_OF_CONSTRAINTS + NUM_OF_VARIABLES], max(-B[NUM_OF_CONSTRAINTS, :NUM_OF_CONSTRAINTS + NUM_OF_VARIABLES])))  \n",
    "        #sprawdzamy ograniczoność problemu optymalizacyjnego\n",
    "        if pos(B[:NUM_OF_CONSTRAINTS, i[0]]) == None:\n",
    "            return print('Problem jest nieograniczony!')\n",
    "        else:\n",
    "            #następnie szukamy numeru wiersza, w której znajduje się najmniejsza nieujemna wartość z dzielenia ostatniej kolumny przez i-tą\n",
    "            j, = np.where(np.isclose(B[:NUM_OF_CONSTRAINTS, NUM_OF_CONSTRAINTS + NUM_OF_VARIABLES]/B[:NUM_OF_CONSTRAINTS, i[0]], min(non_neg(B[:NUM_OF_CONSTRAINTS, NUM_OF_CONSTRAINTS + NUM_OF_VARIABLES]/B[:NUM_OF_CONSTRAINTS, i[0]]))))\n",
    "        #wykonujemy to, aby określić, która ze zmiennych wychodzi z tablicy, a która wchodzi\n",
    "        #następnie wykonujemy eliminację Gaussa dla i-tej kolumny, posługując się j-tym wierszem\n",
    "        B[j[0], :] = B[j[0], :]/B[j[0], i[0]]\n",
    "        for n in range(j[0] + 1, NUM_OF_CONSTRAINTS + 1):\n",
    "            x = B[n, i[0]]/B[j[0], i[0]]\n",
    "            B[n, :] = B[n, :] - x * B[j[0], :]\n",
    "        for m in range(j[0]):\n",
    "            y = B[m, i[0]]/B[j[0], i[0]]\n",
    "            B[m, :] = B[m, :] - y * B[j[0], :]\n",
    "        #aktualizujemy rozwiązanie bazowe z każdą iteracją \n",
    "        STORAGE[i[0]] = [j[0]]\n",
    "        for key in STORAGE:\n",
    "            for val in STORAGE[key]:\n",
    "                temp = BFS[key]\n",
    "                BFS[key] = B[val, NUM_OF_CONSTRAINTS + NUM_OF_VARIABLES]\n",
    "                BFS[NUM_OF_VARIABLES + val] = temp\n",
    "        #wykonujemy te same kroki, dopóki w ostatnim wierszu pojawią się tylko dodatnie liczby\n",
    "    \n",
    "    #rozwiązanie\n",
    "    SOLUTION = BFS[:NUM_OF_VARIABLES]\n",
    "    OBJECTIVE_VALUE = B[NUM_OF_CONSTRAINTS, NUM_OF_CONSTRAINTS + NUM_OF_VARIABLES]\n",
    "    \n",
    "    return print('Znaleziono rozwiązanie! \\nWartość funkcji celu: '\n",
    "                 + str(OBJECTIVE_VALUE) +'\\nPunkt, w którym wartość ta jest przyjmowana: '+ str(SOLUTION))"
   ]
  },
  {
   "cell_type": "markdown",
   "id": "cf8dbc81",
   "metadata": {},
   "source": [
    "# Przykłady zastosowania"
   ]
  },
  {
   "cell_type": "markdown",
   "id": "cd265bc8",
   "metadata": {},
   "source": [
    "### Problem $(P_1^*)$\n",
    "$$(P_1^*)\\left\\{\n",
    "\\begin{array}{lll}\n",
    "&0.5(x+y)\\to \\max\\\\\n",
    "&\\text{przy ograniczeniach}\\\\\n",
    "& x - y \\le 2,\\\\\n",
    "& -x + y \\le 3,\\\\\n",
    "& 2x + y \\le 10,\\\\\n",
    "& x, y\\ge 0.\\\\\n",
    "\\end{array}\n",
    "\\right.$$\n",
    "### Rozwiązanie:"
   ]
  },
  {
   "cell_type": "code",
   "execution_count": 10,
   "id": "41337d86",
   "metadata": {},
   "outputs": [
    {
     "name": "stdout",
     "output_type": "stream",
     "text": [
      "Znaleziono rozwiązanie! \n",
      "Wartość funkcji celu: 3.833333333333333\n",
      "Punkt, w którym wartość ta jest przyjmowana: [2.33333333 5.33333333]\n"
     ]
    },
    {
     "name": "stderr",
     "output_type": "stream",
     "text": [
      "C:\\Users\\kubal\\AppData\\Local\\Temp\\ipykernel_7680\\174954847.py:34: RuntimeWarning: divide by zero encountered in divide\n",
      "  j, = np.where(np.isclose(B[:NUM_OF_CONSTRAINTS, NUM_OF_CONSTRAINTS + NUM_OF_VARIABLES]/B[:NUM_OF_CONSTRAINTS, i[0]], min(non_neg(B[:NUM_OF_CONSTRAINTS, NUM_OF_CONSTRAINTS + NUM_OF_VARIABLES]/B[:NUM_OF_CONSTRAINTS, i[0]]))))\n"
     ]
    }
   ],
   "source": [
    "CONSTRAINTS_LEFT = np.array([[1, -1], \n",
    "                             [-1, 1],\n",
    "                             [2, 1]]) \n",
    "\n",
    "CONSTRAINTS_RIGHT = np.array([2, 3, 10]) \n",
    "\n",
    "OBJECTIVE_FUNCTION = np.array([0.5, 0.5])\n",
    "\n",
    "Simplex_solve(CONSTRAINTS_LEFT, CONSTRAINTS_RIGHT, OBJECTIVE_FUNCTION)"
   ]
  },
  {
   "cell_type": "markdown",
   "id": "d77744a6",
   "metadata": {},
   "source": [
    "### Problem optymalizacji w $\\mathbb{R}^4$\n",
    "$$(P_2)\\left\\{\n",
    "\\begin{array}{lll}\n",
    "&5x_1 - 3x_2 - 4x_3 + 7x_4\\to \\max\\\\\n",
    "&\\text{przy ograniczeniach}\\\\\n",
    "& x_1 + x_2 + x_3 + x_4 \\le 14,\\\\\n",
    "& x_1 + x_3 \\le 7,\\\\\n",
    "& 2x_1 + x_2 + x_3 \\le 13,\\\\\n",
    "& x_1, x_2, x_3, x_4 \\ge 0.\\\\\n",
    "\\end{array}\n",
    "\\right.$$\n",
    "### Rozwiązanie:"
   ]
  },
  {
   "cell_type": "code",
   "execution_count": 41,
   "id": "25470bd7",
   "metadata": {},
   "outputs": [
    {
     "name": "stdout",
     "output_type": "stream",
     "text": [
      "Znaleziono rozwiązanie! \n",
      "Wartość funkcji celu: 98.0\n",
      "Punkt, w którym wartość ta jest przyjmowana: [ 0.  0.  0. 14.]\n"
     ]
    },
    {
     "name": "stderr",
     "output_type": "stream",
     "text": [
      "C:\\Users\\kubal\\AppData\\Local\\Temp\\ipykernel_7680\\174954847.py:34: RuntimeWarning: divide by zero encountered in divide\n",
      "  j, = np.where(np.isclose(B[:NUM_OF_CONSTRAINTS, NUM_OF_CONSTRAINTS + NUM_OF_VARIABLES]/B[:NUM_OF_CONSTRAINTS, i[0]], min(non_neg(B[:NUM_OF_CONSTRAINTS, NUM_OF_CONSTRAINTS + NUM_OF_VARIABLES]/B[:NUM_OF_CONSTRAINTS, i[0]]))))\n"
     ]
    }
   ],
   "source": [
    "CONSTRAINTS_LEFT = np.array([[1, 1, 1, 1],\n",
    "                             [1, 0, 1, 0],\n",
    "                             [2, 1, 1, 0]])\n",
    "\n",
    "CONSTRAINTS_RIGHT = np.array([14, 7, 13])\n",
    "\n",
    "OBJECTIVE_FUNCTION = np.array([5, -3, -4, 7])\n",
    "\n",
    "Simplex_solve(CONSTRAINTS_LEFT, CONSTRAINTS_RIGHT, OBJECTIVE_FUNCTION)"
   ]
  },
  {
   "cell_type": "markdown",
   "id": "09216813",
   "metadata": {},
   "source": [
    "### Sprawdzenie: "
   ]
  },
  {
   "cell_type": "code",
   "execution_count": 42,
   "id": "681248b5",
   "metadata": {},
   "outputs": [],
   "source": [
    "from scipy.optimize import linprog"
   ]
  },
  {
   "cell_type": "code",
   "execution_count": 43,
   "id": "99ffc2b0",
   "metadata": {},
   "outputs": [
    {
     "name": "stderr",
     "output_type": "stream",
     "text": [
      "C:\\Users\\kubal\\AppData\\Local\\Temp\\ipykernel_7680\\2976385410.py:3: DeprecationWarning: `method='simplex'` is deprecated and will be removed in SciPy 1.11.0. Please use one of the HiGHS solvers (e.g. `method='highs'`) in new code.\n",
      "  optimize = linprog(c = -OBJECTIVE_FUNCTION,\n"
     ]
    },
    {
     "data": {
      "text/plain": [
       "     con: array([], dtype=float64)\n",
       "     fun: -98.0\n",
       " message: 'Optimization terminated successfully.'\n",
       "     nit: 7\n",
       "   slack: array([ 0.,  7., 13.])\n",
       "  status: 0\n",
       " success: True\n",
       "       x: array([ 0.,  0.,  0., 14.])"
      ]
     },
     "execution_count": 43,
     "metadata": {},
     "output_type": "execute_result"
    }
   ],
   "source": [
    "BOUNDS = [(0,float('inf')) ,(0,float('inf')) ,(0,float('inf')) ,(0,float('inf'))] #There are 4 bounds because 4 variables\n",
    "\n",
    "optimize = linprog(c = -OBJECTIVE_FUNCTION,\n",
    "                  A_ub = CONSTRAINTS_LEFT,\n",
    "                  b_ub = CONSTRAINTS_RIGHT,\n",
    "                  bounds = BOUNDS,\n",
    "                  method = 'simplex')\n",
    "optimize"
   ]
  },
  {
   "cell_type": "markdown",
   "id": "f5f74533",
   "metadata": {},
   "source": [
    "### Przykład w zastosowaniu do wyznaczania optymalnego portfela wzg. maksymalnego oczekiwanego zwrotu\n",
    "Jesteśmy początkującym inwestorem z kapitałem początkowym 20 tys. PLN. Obserwowaliśmy na GPW akcje trzech różnych spółek, w które chcemy zainwestować. Amortyzując straty dobieramy do naszego portfela lokatę oprocentowaną 5% w skali roku. Wówczas, jeśli $\\boldsymbol{x}=[x_0, x_1, x_2, x_3]^T$ opisuje portfel inwestycyjny, a $R_0, R_1, R_2, R_3$ są zmiennymi losowymi całkowalnymi, które opisują odpowiednio dzienne stopy zwrotu z intrumentu bezpiecznego (lokaty) oraz intrumentów ryzykownych (3 wybrane przez nas akcje), to problem znalezienia najlepszego portfela wzg. maksymalizowania oczekiwanego zysku możemy opisać za pomocą problemu optymalizacyjnego:\n",
    "\n",
    "$$(\\boldsymbol{\\mu})\\left\\{\n",
    "\\begin{array}{lll}\n",
    "&R_0x_0 + \\mathbb{E}(R_1)x_1 + \\mathbb{E}(R_2)x_2 + \\mathbb{E}(R_3)x_3\\to \\max\\\\\n",
    "&\\text{przy ograniczeniu}\\\\\n",
    "& x_0 + x_1 + x_2 + x_3 = 1.\n",
    "\\end{array}\n",
    "\\right.$$\n",
    "\n",
    "W domu maklerskim dowiadujemy się, że:\n",
    "1. Krótka sprzedaż jest zabroniona, tzn. $x_i\\ge 0$ dla $i=1,2,3$;\n",
    "2. Aktualnie dostępne są tylko 4 akcje spółki nr 1, 10 akcji spółki nr 2 oraz 40 akcji spółki nr 3.  \n",
    "$$$$\n",
    "\n",
    "Zatem nasz problem przyjmuje postać:\n",
    "\n",
    "$$(\\boldsymbol{\\mu}^*)\\left\\{\n",
    "\\begin{array}{lll}\n",
    "&R_0x_0 + \\mathbb{E}(R_1)x_1 + \\mathbb{E}(R_2)x_2 + \\mathbb{E}(R_3)x_3\\to \\max\\\\\n",
    "&\\text{przy ograniczeniu}\\\\\n",
    "& x_0 + x_1 + x_2 + x_3 = 1,\\\\\n",
    "& \\frac{K_0}{P_1}x_1 <= 4,\\\\\n",
    "& \\frac{K_0}{P_2}x_2 <= 10,\\\\\n",
    "& \\frac{K_0}{P_3}x_3 <= 40,\\\\\n",
    "& x_1, x_2, x_3, x_4 \\ge 0,\n",
    "\\end{array}\n",
    "\\right.$$\n",
    "\n",
    "gdzie $K_0$ to kapitał początkowy, a $P_i$ to cena $i$-tej akcji w momencie jej kupna dla $i=1,2,3$.\n",
    "\n",
    "### Rozwiązanie:"
   ]
  },
  {
   "cell_type": "code",
   "execution_count": 21,
   "id": "e288d5bd",
   "metadata": {},
   "outputs": [],
   "source": [
    "import pandas as pd\n",
    "import statistics as stat\n",
    "from math import *"
   ]
  },
  {
   "cell_type": "code",
   "execution_count": 22,
   "id": "356f9ec7",
   "metadata": {},
   "outputs": [],
   "source": [
    "SOURCE = 'Portfel.csv'\n",
    "NAMES = ['Dzień', 'nr 1', 'nr 2', 'nr 3']\n",
    "DELIMITER = \",\""
   ]
  },
  {
   "cell_type": "code",
   "execution_count": 23,
   "id": "c915a729",
   "metadata": {},
   "outputs": [],
   "source": [
    "def rate_of_return(data):\n",
    "    R = []\n",
    "    for name in NAMES[1:]:\n",
    "        R.append([(data[name][idx+1]-data[name][idx])/data[name][idx] for idx in range(len(data[name])-1)])\n",
    "    return R  "
   ]
  },
  {
   "cell_type": "code",
   "execution_count": 24,
   "id": "0bb6f4cf",
   "metadata": {},
   "outputs": [
    {
     "data": {
      "text/html": [
       "<div>\n",
       "<style scoped>\n",
       "    .dataframe tbody tr th:only-of-type {\n",
       "        vertical-align: middle;\n",
       "    }\n",
       "\n",
       "    .dataframe tbody tr th {\n",
       "        vertical-align: top;\n",
       "    }\n",
       "\n",
       "    .dataframe thead th {\n",
       "        text-align: right;\n",
       "    }\n",
       "</style>\n",
       "<table border=\"1\" class=\"dataframe\">\n",
       "  <thead>\n",
       "    <tr style=\"text-align: right;\">\n",
       "      <th></th>\n",
       "      <th>Dzień</th>\n",
       "      <th>nr 1</th>\n",
       "      <th>nr 2</th>\n",
       "      <th>nr 3</th>\n",
       "    </tr>\n",
       "  </thead>\n",
       "  <tbody>\n",
       "    <tr>\n",
       "      <th>0</th>\n",
       "      <td>04/09/2023</td>\n",
       "      <td>1680</td>\n",
       "      <td>705</td>\n",
       "      <td>128.0</td>\n",
       "    </tr>\n",
       "    <tr>\n",
       "      <th>1</th>\n",
       "      <td>05/09/2023</td>\n",
       "      <td>1700</td>\n",
       "      <td>698</td>\n",
       "      <td>124.0</td>\n",
       "    </tr>\n",
       "    <tr>\n",
       "      <th>2</th>\n",
       "      <td>06/09/2023</td>\n",
       "      <td>1695</td>\n",
       "      <td>699</td>\n",
       "      <td>126.0</td>\n",
       "    </tr>\n",
       "    <tr>\n",
       "      <th>3</th>\n",
       "      <td>07/09/2023</td>\n",
       "      <td>1690</td>\n",
       "      <td>698</td>\n",
       "      <td>122.0</td>\n",
       "    </tr>\n",
       "    <tr>\n",
       "      <th>4</th>\n",
       "      <td>08/09/2023</td>\n",
       "      <td>1765</td>\n",
       "      <td>692</td>\n",
       "      <td>125.0</td>\n",
       "    </tr>\n",
       "    <tr>\n",
       "      <th>...</th>\n",
       "      <td>...</td>\n",
       "      <td>...</td>\n",
       "      <td>...</td>\n",
       "      <td>...</td>\n",
       "    </tr>\n",
       "    <tr>\n",
       "      <th>81</th>\n",
       "      <td>29/12/2023</td>\n",
       "      <td>2000</td>\n",
       "      <td>551</td>\n",
       "      <td>99.4</td>\n",
       "    </tr>\n",
       "    <tr>\n",
       "      <th>82</th>\n",
       "      <td>02/01/2024</td>\n",
       "      <td>1970</td>\n",
       "      <td>544</td>\n",
       "      <td>100.0</td>\n",
       "    </tr>\n",
       "    <tr>\n",
       "      <th>83</th>\n",
       "      <td>03/01/2024</td>\n",
       "      <td>2070</td>\n",
       "      <td>550</td>\n",
       "      <td>100.0</td>\n",
       "    </tr>\n",
       "    <tr>\n",
       "      <th>84</th>\n",
       "      <td>04/01/2024</td>\n",
       "      <td>2020</td>\n",
       "      <td>534</td>\n",
       "      <td>100.0</td>\n",
       "    </tr>\n",
       "    <tr>\n",
       "      <th>85</th>\n",
       "      <td>05/01/2024</td>\n",
       "      <td>2030</td>\n",
       "      <td>540</td>\n",
       "      <td>101.0</td>\n",
       "    </tr>\n",
       "  </tbody>\n",
       "</table>\n",
       "<p>86 rows × 4 columns</p>\n",
       "</div>"
      ],
      "text/plain": [
       "         Dzień  nr 1  nr 2   nr 3\n",
       "0   04/09/2023  1680   705  128.0\n",
       "1   05/09/2023  1700   698  124.0\n",
       "2   06/09/2023  1695   699  126.0\n",
       "3   07/09/2023  1690   698  122.0\n",
       "4   08/09/2023  1765   692  125.0\n",
       "..         ...   ...   ...    ...\n",
       "81  29/12/2023  2000   551   99.4\n",
       "82  02/01/2024  1970   544  100.0\n",
       "83  03/01/2024  2070   550  100.0\n",
       "84  04/01/2024  2020   534  100.0\n",
       "85  05/01/2024  2030   540  101.0\n",
       "\n",
       "[86 rows x 4 columns]"
      ]
     },
     "execution_count": 24,
     "metadata": {},
     "output_type": "execute_result"
    }
   ],
   "source": [
    "DF = pd.read_csv(SOURCE, names = NAMES, delimiter = DELIMITER)\n",
    "DF"
   ]
  },
  {
   "cell_type": "code",
   "execution_count": 25,
   "id": "750be118",
   "metadata": {},
   "outputs": [],
   "source": [
    "R_0 = exp(0.05/364.25)-1\n",
    "R = rate_of_return(DF)\n",
    "ER_1 = stat.mean(R[0])\n",
    "ER_2 = stat.mean(R[1])\n",
    "ER_3 = stat.mean(R[2])"
   ]
  },
  {
   "cell_type": "code",
   "execution_count": 44,
   "id": "c365f03f",
   "metadata": {},
   "outputs": [
    {
     "name": "stdout",
     "output_type": "stream",
     "text": [
      "Znaleziono rozwiązanie! \n",
      "Wartość funkcji celu: 0.0011287287837831248\n",
      "Punkt, w którym wartość ta jest przyjmowana: [0.594 0.406 0.    0.   ]\n"
     ]
    },
    {
     "name": "stderr",
     "output_type": "stream",
     "text": [
      "C:\\Users\\kubal\\AppData\\Local\\Temp\\ipykernel_7680\\174954847.py:34: RuntimeWarning: divide by zero encountered in divide\n",
      "  j, = np.where(np.isclose(B[:NUM_OF_CONSTRAINTS, NUM_OF_CONSTRAINTS + NUM_OF_VARIABLES]/B[:NUM_OF_CONSTRAINTS, i[0]], min(non_neg(B[:NUM_OF_CONSTRAINTS, NUM_OF_CONSTRAINTS + NUM_OF_VARIABLES]/B[:NUM_OF_CONSTRAINTS, i[0]]))))\n"
     ]
    }
   ],
   "source": [
    "CONSTRAINTS_LEFT = np.array([[1, 1, 1, 1],\n",
    "                             [0, 20000/2030, 0, 0],\n",
    "                             [0, 0, 20000/540, 0],\n",
    "                             [0, 0, 0, 20000/101]])\n",
    "\n",
    "CONSTRAINTS_RIGHT = np.array([1, 4, 10, 40])\n",
    "\n",
    "OBJECTIVE_FUNCTION = np.array([R_0, ER_1, ER_2, ER_3])\n",
    "\n",
    "Simplex_solve(CONSTRAINTS_LEFT, CONSTRAINTS_RIGHT, OBJECTIVE_FUNCTION)"
   ]
  },
  {
   "cell_type": "code",
   "execution_count": 36,
   "id": "69144768",
   "metadata": {},
   "outputs": [
    {
     "data": {
      "text/plain": [
       "array([ 0.00013728,  0.00257928, -0.00291377, -0.00244279])"
      ]
     },
     "execution_count": 36,
     "metadata": {},
     "output_type": "execute_result"
    }
   ],
   "source": [
    "OBJECTIVE_FUNCTION"
   ]
  },
  {
   "cell_type": "markdown",
   "id": "633b5ea5",
   "metadata": {},
   "source": [
    "### Sprawdzenie:"
   ]
  },
  {
   "cell_type": "code",
   "execution_count": 45,
   "id": "c890c358",
   "metadata": {},
   "outputs": [
    {
     "name": "stderr",
     "output_type": "stream",
     "text": [
      "C:\\Users\\kubal\\AppData\\Local\\Temp\\ipykernel_7680\\2976385410.py:3: DeprecationWarning: `method='simplex'` is deprecated and will be removed in SciPy 1.11.0. Please use one of the HiGHS solvers (e.g. `method='highs'`) in new code.\n",
      "  optimize = linprog(c = -OBJECTIVE_FUNCTION,\n"
     ]
    },
    {
     "data": {
      "text/plain": [
       "     con: array([], dtype=float64)\n",
       "     fun: -0.0011287287837831248\n",
       " message: 'Optimization terminated successfully.'\n",
       "     nit: 6\n",
       "   slack: array([ 0.,  0., 10., 40.])\n",
       "  status: 0\n",
       " success: True\n",
       "       x: array([0.594, 0.406, 0.   , 0.   ])"
      ]
     },
     "execution_count": 45,
     "metadata": {},
     "output_type": "execute_result"
    }
   ],
   "source": [
    "BOUNDS = [(0,float('inf')) ,(0,float('inf')) ,(0,float('inf')) ,(0,float('inf'))] #There are 4 bounds because 4 variables\n",
    "\n",
    "optimize = linprog(c = -OBJECTIVE_FUNCTION,\n",
    "                  A_ub = CONSTRAINTS_LEFT,\n",
    "                  b_ub = CONSTRAINTS_RIGHT,\n",
    "                  bounds = BOUNDS,\n",
    "                  method = 'simplex')\n",
    "optimize"
   ]
  }
 ],
 "metadata": {
  "kernelspec": {
   "display_name": "Python 3 (ipykernel)",
   "language": "python",
   "name": "python3"
  },
  "language_info": {
   "codemirror_mode": {
    "name": "ipython",
    "version": 3
   },
   "file_extension": ".py",
   "mimetype": "text/x-python",
   "name": "python",
   "nbconvert_exporter": "python",
   "pygments_lexer": "ipython3",
   "version": "3.8.2"
  }
 },
 "nbformat": 4,
 "nbformat_minor": 5
}
