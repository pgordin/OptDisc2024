{
  "cells": [
    {
      "cell_type": "markdown",
      "metadata": {
        "id": "view-in-github"
      },
      "source": [
        "<a href=\"https://colab.research.google.com/github/pgordin/OptDisc2024/blob/main/Grafy8_class.ipynb\" target=\"_parent\"><img src=\"https://colab.research.google.com/assets/colab-badge.svg\" alt=\"Open In Colab\"/></a>"
      ]
    },
    {
      "cell_type": "code",
      "execution_count": null,
      "metadata": {
        "id": "vWgeTyk5qbAu"
      },
      "outputs": [],
      "source": [
        "import numpy as np\n",
        "from random import random\n",
        "from copy import deepcopy\n",
        "from queue import PriorityQueue\n",
        "from collections import defaultdict"
      ]
    },
    {
      "cell_type": "markdown",
      "metadata": {
        "id": "F5WO5nc5wRzG"
      },
      "source": [
        "# Klasa Grafy"
      ]
    },
    {
      "cell_type": "code",
      "execution_count": null,
      "metadata": {
        "id": "ECGnFwaXqbAx"
      },
      "outputs": [],
      "source": [
        "class Graph:\n",
        "    def __init__(self, graph=None):\n",
        "        if graph is None:\n",
        "            graph = {}\n",
        "        self.graph = graph\n",
        "        self.weighted = False\n",
        "\n",
        "    # dict initializer\n",
        "    @classmethod\n",
        "    def from_dict(cls, graph):\n",
        "        return cls(graph)\n",
        "\n",
        "    # array initializer\n",
        "    @classmethod\n",
        "    def from_array(cls, graph: np.array, nodes: list = None):\n",
        "        if nodes is None:\n",
        "            nodes = [*range(1, len(graph) + 1)]\n",
        "        return cls.from_dict(\n",
        "            cls._array_to_dict(graph, nodes)\n",
        "        )\n",
        "\n",
        "    @staticmethod\n",
        "    def from_edges(filename: str, directed = 0):\n",
        "        \"\"\"\n",
        "        Generates a graphs from a text file, where each line defines one edge.\\n\n",
        "        Filename is a file path.\n",
        "        \"\"\"\n",
        "        graph = Graph()\n",
        "        file = open(filename, \"r\")\n",
        "        for line in file:\n",
        "            words = line.strip().split()\n",
        "            if len(words) == 1:\n",
        "                graph.add_node(words[0])\n",
        "            elif len(words) == 2: # two words -- unweighed graph\n",
        "                if directed:\n",
        "                    graph.add_arc([words[0], words[1]])\n",
        "                else:\n",
        "                    graph.add_edge([words[0], words[1]])\n",
        "            elif len(words) > 2: # more than two words - labeled graph\n",
        "                graph.weighted = True\n",
        "                if directed:\n",
        "                    graph.add_arc([words[0], words[1]])\n",
        "                    graph.graph[words[0]][-1] = (words[1], words[2]) # process label\n",
        "                else:\n",
        "                    graph.add_edge([words[0], words[1]])\n",
        "                    graph.graph[words[0]][-1] = (words[1], words[2])\n",
        "                    graph.graph[words[1]][-1] = (words[0], words[2])\n",
        "        file.close()\n",
        "        return graph\n",
        "\n",
        "    @staticmethod\n",
        "    def random_graph(nodes_num: int, prob: float):\n",
        "        \"\"\"\n",
        "        Generates a random graph provided a number of nodes and probability of generating an edge.\n",
        "        \"\"\"\n",
        "        rand_graph = Graph()\n",
        "        for i in range(1, nodes_num + 1):\n",
        "            rand_graph.add_node(i)\n",
        "            for j in range(1, i):\n",
        "                if random() < prob:\n",
        "                    rand_graph.add_edge([i, j])\n",
        "        return rand_graph\n",
        "\n",
        "    @staticmethod\n",
        "    def cycle(nodes_num: int):\n",
        "        \"\"\"\n",
        "        Generates a cycle provided a number of nodes.\n",
        "        \"\"\"\n",
        "        cycle = Graph()\n",
        "        nodes = [*range(1, nodes_num + 1)]\n",
        "        for i in nodes:\n",
        "            cycle.add_edge([nodes[i-2], nodes[i-1]])\n",
        "        cycle.graph = dict(sorted(cycle.graph.items()))\n",
        "        return cycle\n",
        "\n",
        "    def to_neighbourlist(self, filename: str):\n",
        "        \"\"\"\n",
        "        Saves a graphs to a text file as a neighbour dict.\\n\n",
        "        Filename is a file path.\n",
        "        \"\"\"\n",
        "        file = open(filename, \"w\")\n",
        "        file.write(str(self))\n",
        "        file.close()\n",
        "\n",
        "    def nodes(self) -> list:\n",
        "        \"\"\"\n",
        "        Returns list of nodes of a graph.\n",
        "        \"\"\"\n",
        "        return [*self.graph.keys()]\n",
        "\n",
        "    def array(self) -> np.array:\n",
        "        \"\"\"\n",
        "        Returns the graph in array form.\n",
        "        \"\"\"\n",
        "        return self._dict_to_array(self.graph)\n",
        "\n",
        "    # redefinition of print for objects of class Graph\n",
        "    def __str__(self):\n",
        "        res = \"\"\n",
        "        for v in self.graph:\n",
        "            res += f\"{v}:\"\n",
        "            for u in self.graph[v]:\n",
        "                res += f\" {u}\"\n",
        "            res += \"\\n\"\n",
        "        return res\n",
        "\n",
        "    def add_node(self, node):\n",
        "        \"\"\"\n",
        "        Adds a node to a graph.\n",
        "        \"\"\"\n",
        "        if node not in self.graph:\n",
        "            self.graph[node] = []\n",
        "\n",
        "    def del_node(self, node):\n",
        "        \"\"\"\n",
        "        Recursively removes a node from a graph.\n",
        "        \"\"\"\n",
        "        if node in self.graph:\n",
        "            self.graph.pop(node)\n",
        "            for key in [*self.graph.keys()]:\n",
        "                if node in self.graph[key]:\n",
        "                    self.graph[key].remove(node)\n",
        "\n",
        "    def add_arc(self, arc: list):\n",
        "        \"\"\"\n",
        "        Adds arc to a graph provided a list of nodes.\n",
        "        \"\"\"\n",
        "        u, v = arc\n",
        "        self.add_node(u)\n",
        "        self.add_node(v)\n",
        "        if v not in self.graph[u]:\n",
        "            self.graph[u].append(v)\n",
        "\n",
        "    def add_edge(self, edge: list):\n",
        "        \"\"\"\n",
        "        Adds edge to a graph provided a list of nodes.\n",
        "        \"\"\"\n",
        "        u, v = edge\n",
        "        if u == v:\n",
        "            raise ValueError(\"Pętla!\")\n",
        "        self.add_node(u)\n",
        "        self.add_node(v)\n",
        "        if v not in self.graph[u]:\n",
        "            self.graph[u].append(v)\n",
        "        if u not in self.graph[v]:\n",
        "            self.graph[v].append(u)\n",
        "\n",
        "    def _array_to_dict(arr: np.array, nodes: list) -> dict:\n",
        "        \"\"\"\n",
        "        Converts a graph in array form to a graph in dict form.\n",
        "        \"\"\"\n",
        "        res_dict = {}\n",
        "        for i, node in enumerate(nodes):\n",
        "            neighbours = [nodes[j] for j, edge in enumerate(arr[i]) if edge]\n",
        "            res_dict[node] = neighbours\n",
        "        return res_dict\n",
        "\n",
        "    def _dict_to_array(self, _dict: dict) -> np.array:\n",
        "        \"\"\"\n",
        "        Converts a graph in dict form to a graph in array form.\n",
        "        \"\"\"\n",
        "        n = len(_dict)\n",
        "        nodes = [*_dict.keys()]\n",
        "        res_arr = np.zeros(shape = (n, n), dtype=int)\n",
        "        for u,v in [\n",
        "            (nodes.index(u), nodes.index(v))\n",
        "            for u, row in _dict.items() for v in row\n",
        "        ]:\n",
        "            res_arr[u][v] += 1\n",
        "        return res_arr\n",
        "\n",
        "    def Prufer(self):\n",
        "      \"\"\"\n",
        "      Kod Prufera drzewa - zwrócony jako napis\n",
        "      Wymagane, aby graf był drzewem.\n",
        "      Zwraca pusty napis dla drzew o mniej niż 3 wierzchołkach.\n",
        "      \"\"\"\n",
        "      tr = deepcopy(self.graph)   # będziemy psuć graf\n",
        "      code = \"\"\n",
        "      for i in range(len(self.graph) - 2):\n",
        "        for x in sorted(tr):    # po kolei przeglądam nieusunięte wierzchołki\n",
        "          if len(tr[x]) == 1:   # najmniejszy liść\n",
        "            break\n",
        "        v = tr[x][0]  # sąsiad najmniejszego x\n",
        "        code = code + f\"{v} \"\n",
        "        tr[v].remove(x)   # usuwam x z listy sąsiadów v\n",
        "        tr.pop(x)         # usuwam x z drzewa\n",
        "      return code.strip()\n",
        "\n",
        "    @staticmethod\n",
        "    def tree_from_Prufer(code: str):\n",
        "        \"\"\"\n",
        "        Tworzy drzewo na podstawie kodu Prufera.\n",
        "        \"\"\"\n",
        "        tree = Graph()\n",
        "        clist = [int(x) for x in code.strip().split()]   # kod zamieniamy na listę liczb\n",
        "        n = len(clist) + 2    # liczba wierzchołków\n",
        "        vert = [v for v in range(1, n+1)]  # lista liczb od 1 do n\n",
        "        for v in vert:\n",
        "          tree.add_node(v)\n",
        "        for i in range(n-2):\n",
        "          for x in vert:\n",
        "            if not x in clist:    # najmniejszy liść\n",
        "              break\n",
        "          v = clist.pop(0)    # usuwam pierwszy element listy (sąsiad x)\n",
        "          tree.add_edge((x, v))\n",
        "          vert.remove(x)\n",
        "        tree.add_edge(vert)\n",
        "        return tree\n",
        "\n",
        "    def ConnectedComponents(self):\n",
        "      \"\"\"\n",
        "      Znajduje spójne składowe w grafie nieskierowanym\n",
        "      Jako wynik zwraca listę zbiorów wierzchołków\n",
        "      Uwaga: jako pierwszy element listy uzyskamy zbiór wszystkich wierzchołków grafu\n",
        "      \"\"\"\n",
        "      def DFS(u):\n",
        "        \"\"\"\n",
        "        Przeszukiwanie w głąb\n",
        "        \"\"\"\n",
        "        for w in self.graph[u]:\n",
        "          if not w in VT[0]:  # w jeszcze nie odwiedzony\n",
        "            VT[0].add(w)      # już odwiedzony\n",
        "            VT[-1].add(w)     # w ostatniej spójnej składowej\n",
        "            DFS(w)\n",
        "      \"\"\"\n",
        "      VT - lista zbiorów VT[i] dla i > 0 - lista wierzchołków spójnych składowych\n",
        "      dla i = 0 - lista wszystkich odwiedzonych wierzchołków\n",
        "      \"\"\"\n",
        "      VT = [set([])]\n",
        "      for v in self.graph:\n",
        "        if v not in VT[0]:\n",
        "          VT[0].add(v)\n",
        "          VT.append(set([v]))   # zaczątek nowej spójnej składowej\n",
        "          DFS(v)\n",
        "      return VT\n",
        "\n",
        "    def Connected_components_graphs(self):\n",
        "      \"\"\"\n",
        "      Spójne składowe jako grafy\n",
        "      \"\"\"\n",
        "      VT=self.ConnectedComponents()\n",
        "      noCc=len(VT)-1  #liczba spojnych skladowych\n",
        "      graphs=[]  #lista do przechowywania grafow reprezentujacych spojne skladowe\n",
        "      for i in range(noCc):  #iterujemy przez wszystkie spojne skladowe\n",
        "          graph_i={}    #dla każdej spójnej składowej tworzymy nowy graf graph_i, który jest podgrafem oryginalnego grafu,\n",
        "          for v in VT[i+1]:     #zawierającym tylko wierzchołki z bieżącej spójnej składowej\n",
        "              graph_i[v]=self.graph[v].copy()\n",
        "          graphs.append(Graph.from_dict(graph_i))  #dodajemy stworzone grafy do listy\n",
        "      return graphs\n",
        "\n",
        "    def Distance(self, v):\n",
        "      \"\"\"\n",
        "      Znajduje i zwraca jako wektor słownik odległości od wierzchołka v\n",
        "      do wierzchołków w tej samej spójnej składowej co v\n",
        "      \"\"\"\n",
        "      dist = {v:0} # zalążek słownika odległości\n",
        "      kolejka = [v]\n",
        "      while len(kolejka) > 0:\n",
        "        u = kolejka.pop(0)\n",
        "        for w in self.graph[u]:\n",
        "          if not w in dist:\n",
        "            dist[w] = dist[u] + 1\n",
        "            kolejka.append(w)\n",
        "      return dist\n",
        "\n",
        "\n",
        "    def Bellman_Ford(self, s, t):\n",
        "      if not self.weighted: # jak graf nie jest ważony - zwróć nic\n",
        "        return None, None\n",
        "      # Init\n",
        "      dist = {}\n",
        "      pred = {}\n",
        "      for v in self.graph:\n",
        "        dist[v] = 2**31 # substytut nieskończoności\n",
        "        pred[v] = None\n",
        "      dist[s] = 0\n",
        "      for i in range(len(self.graph)-1):\n",
        "        for u in self.graph:\n",
        "          for v, w, _ in self.graph[u]:  # relax\n",
        "            if dist[v] > dist[u] + int(w):\n",
        "              dist[v] = dist[u] + int(w)\n",
        "              pred[v] = u\n",
        "      for u in self.graph:\n",
        "        for v,w, _ in self.graph[u]:\n",
        "          if dist[v] > dist[u] + int(w):\n",
        "            print(f\"graf zawiera cykl o ujemnej wadze {u}, {v}\")\n",
        "      return dist, pred\n",
        "\n",
        "\n",
        "#zamienić poniższy kod, tak żeby używał bellmana-forda, żeby przyjmował\n",
        "#koszt przepływu grafu skierowanego,tak aby przeszedł z punktu s do t wszystkimi możliwymi ścieżkami i minimalizował koszt (podczas, gdy cała\n",
        "#przepustowość przepływu została wykorzystana może przejść w drugą stronę z kosztem ujemnym wykorzystując całą pierwotną przepustowość)\n",
        "\n",
        "#Cały czas najtańsza ścieżka, zwykły bellman-ford, belmanem fordem minimalizujemty graf po kosztach\n",
        "\n",
        "\n",
        "\n",
        "    def MaxFlow_MinCost(self, s, t):\n",
        "        \"\"\"\n",
        "        Algorytm na maksymalny przepływ z minimalnym kosztem\n",
        "        \"\"\"\n",
        "        if not self.weighted:  # jeśli graf nie jest ważony - zwróć nic\n",
        "            return None, None\n",
        "\n",
        "        n = len(self.graph)\n",
        "        network = {u: [] for u in self.graph}\n",
        "        for u in self.graph:\n",
        "            for v, cap, cos in self.graph[u]:\n",
        "                if int(cap) > 0:\n",
        "                    network[u].append((v, int(cap), cos))\n",
        "                    if v not in network:\n",
        "                        network[v] = []\n",
        "                    network[v].append((u, 0, -cos))\n",
        "        print(network)\n",
        "\n",
        "        flow = np.zeros((n, n))\n",
        "        nodes = list(network.keys())\n",
        "        print(nodes)\n",
        "\n",
        "        cap_s=0\n",
        "        for i in range(len(network['s'])):\n",
        "            cap_s += network['s'][i][1]\n",
        "\n",
        "        def find_path():\n",
        "            dist, pred = self.Bellman_Ford(s, t)\n",
        "            if dist[t] == float('inf'):\n",
        "                return None\n",
        "            path = []\n",
        "            u = t\n",
        "            while u is not None:\n",
        "                path.append(u)\n",
        "                u = pred[u]\n",
        "            path.reverse()\n",
        "            if path[0] != s:\n",
        "                return None\n",
        "            return path\n",
        "\n",
        "        total_flow = 0\n",
        "        total_cost = 0\n",
        "\n",
        "\n",
        "\n",
        "        while cap_s > 0:\n",
        "\n",
        "           # if capacity s to a > 0 then\n",
        "            path = find_path()\n",
        "            #elif capacity s to a = 0 the delete the path from s to a and search for the path again\n",
        "            if path is None:\n",
        "                break\n",
        "\n",
        "            # Znaleziono ścieżkę powiększającą\n",
        "            print(path)\n",
        "            capacities = []\n",
        "\n",
        "            for i in range(len(path)-1): #Długość ścieżki - 1\n",
        "               for j in range(len(network[path[i]])): #Długość składowych wpisu słownika\n",
        "                  if(network[path[i]][j][0] == path[i+1]): #Jeśli wpis o literze path[i] w ścieżce na j pozycji ma literę path[i+1]\n",
        "                    capacities.append(network[path[i]][j][1])\n",
        "\n",
        "            flow = min(capacities)\n",
        "            #print(flow)\n",
        "            total_flow += flow\n",
        "            capacities.clear()\n",
        "\n",
        "            if flow > 0:\n",
        "              for i in range(len(path) - 1):\n",
        "                for j in range(len(network[path[i]])):\n",
        "                    print(i,j)\n",
        "                    if (network[path[i]][j][0] == path[i+1]):\n",
        "                        network[path[i]][j] = (network[path[i]][j][0], network[path[i]][j][1] - flow, network[path[i]][j][2])\n",
        "                        network[path[j]][i] = (network[path[j]][i][0], network[path[j]][i][1] + flow, network[path[j]][i][2])\n",
        "                        print(network)\n",
        "              total_cost += flow * network[path[i]][j][2]\n",
        "              print(total_cost)\n",
        "            else:\n",
        "              break #jak nadpisać pojedyncze ścieżki, czy zadziała dodatnie do innego slownika\n",
        "\n",
        "\n",
        "        return total_flow, total_cost\n",
        "h\n",
        "\n",
        "    def MaxFlow_EK(self, s, t):\n",
        "        \"\"\"\n",
        "        Algorytm Edmondsa-Karpa na maksymalny przepływ\n",
        "        \"\"\"\n",
        "        if not self.weighted: # jak graf nie jest ważony - zwróć nic\n",
        "          return None, None\n",
        "        n = len(self.graph)\n",
        "        #przygotowanie - sieć przepustowość\n",
        "        network = {}\n",
        "        for u in self.graph:\n",
        "          network[u] = []\n",
        "        for u in self.graph:\n",
        "          for (v, w) in self.graph[u]:\n",
        "            if int(w) > 0:\n",
        "              network[u].append((v, int(w)))\n",
        "              network[v].append((u, 0))\n",
        "        flow = np.zeros((n,n))\n",
        "        nodes = [*network.keys()]\n",
        "        while True:\n",
        "          # ścieżki powiększające s - > t\n",
        "          pred = {s:None} # zalążek słownika poprzedników\n",
        "          cap = {s:2^31}  # zalążek słownika przepustowości\n",
        "          kolejka = [s]\n",
        "          while len(kolejka) > 0:\n",
        "            u = kolejka.pop(0)\n",
        "            for (v, w) in network[u]:\n",
        "              if (not v in pred) and w + flow[nodes.index(v), nodes.index(u)] > 0:\n",
        "                pred[v] = u\n",
        "                cap[v] = min(cap[u], w + flow[nodes.index(v), nodes.index(u)])\n",
        "                kolejka.append(v)\n",
        "              if v == t:\n",
        "                break\n",
        "          if not t in pred:\n",
        "            break # koniec - nie ma s->t-ścieżki\n",
        "          else:\n",
        "            u = t\n",
        "            c = cap[t]\n",
        "            while u != s:\n",
        "              v = pred[u]\n",
        "              flow[nodes.index(v), nodes.index(u)] += c\n",
        "              flow[nodes.index(u), nodes.index(v)] -= c\n",
        "              u = v\n",
        "\n",
        "        return nodes, flow"
      ]
    },
    {
      "cell_type": "markdown",
      "metadata": {
        "id": "FkUyth0KqbAz"
      },
      "source": [
        "# Przykłady wykorzystania"
      ]
    },
    {
      "cell_type": "code",
      "execution_count": null,
      "metadata": {
        "colab": {
          "base_uri": "https://localhost:8080/"
        },
        "id": "9zFrGW190afh",
        "outputId": "82dec896-9052-483c-a13a-4529a1449230"
      },
      "outputs": [
        {
          "name": "stdout",
          "output_type": "stream",
          "text": [
            "--2024-06-17 07:45:31--  https://raw.githubusercontent.com/pgordin/OptDisc2024/main/wagi2.txt\n",
            "Resolving raw.githubusercontent.com (raw.githubusercontent.com)... 185.199.109.133, 185.199.108.133, 185.199.110.133, ...\n",
            "Connecting to raw.githubusercontent.com (raw.githubusercontent.com)|185.199.109.133|:443... connected.\n",
            "HTTP request sent, awaiting response... 200 OK\n",
            "Length: 67 [text/plain]\n",
            "Saving to: ‘wagi2.txt’\n",
            "\n",
            "\rwagi2.txt             0%[                    ]       0  --.-KB/s               \rwagi2.txt           100%[===================>]      67  --.-KB/s    in 0s      \n",
            "\n",
            "2024-06-17 07:45:31 (1.07 MB/s) - ‘wagi2.txt’ saved [67/67]\n",
            "\n"
          ]
        }
      ],
      "source": [
        "!wget https://raw.githubusercontent.com/pgordin/OptDisc2024/main/wagi2.txt"
      ]
    },
    {
      "cell_type": "code",
      "execution_count": null,
      "metadata": {
        "colab": {
          "base_uri": "https://localhost:8080/"
        },
        "id": "-IYceHDR0maU",
        "outputId": "aca2d1a3-dd55-4324-ec24-c837a042d887"
      },
      "outputs": [
        {
          "name": "stdout",
          "output_type": "stream",
          "text": [
            "1 2 3\r\n",
            "1 3 8\r\n",
            "1 5 -4\r\n",
            "4 1 2\r\n",
            "3 2 4\r\n",
            "2 4 1\r\n",
            "2 5 7\r\n",
            "4 3 -5 \r\n",
            "5 4 6 \r\n"
          ]
        }
      ],
      "source": [
        "%cat wagi2.txt"
      ]
    },
    {
      "cell_type": "code",
      "execution_count": null,
      "metadata": {
        "colab": {
          "base_uri": "https://localhost:8080/"
        },
        "id": "XMSYWVbg0qN7",
        "outputId": "172ab4b7-9658-4c85-ed6f-568a3f9fa3fd"
      },
      "outputs": [
        {
          "name": "stdout",
          "output_type": "stream",
          "text": [
            "1: ('2', '3') ('3', '8') ('5', '-4')\n",
            "2: ('4', '1') ('5', '7')\n",
            "3: ('2', '4')\n",
            "5: ('4', '6')\n",
            "4: ('1', '2') ('3', '-5')\n",
            "\n"
          ]
        }
      ],
      "source": [
        "wgraph = Graph.from_edges(\"wagi2.txt\", directed = 1)\n",
        "print(wgraph)"
      ]
    },
    {
      "cell_type": "code",
      "execution_count": null,
      "metadata": {
        "id": "6bmVSkNB0ywv"
      },
      "outputs": [],
      "source": [
        "dist,pred = wgraph.Bellman_Ford('1')"
      ]
    },
    {
      "cell_type": "code",
      "execution_count": null,
      "metadata": {
        "colab": {
          "base_uri": "https://localhost:8080/"
        },
        "id": "yyMf9qFw07wM",
        "outputId": "d21581f5-d4ed-434a-db65-8e6404d7718b"
      },
      "outputs": [
        {
          "name": "stdout",
          "output_type": "stream",
          "text": [
            "{'1': 0, '2': 1, '3': -3, '5': -4, '4': 2}\n"
          ]
        }
      ],
      "source": [
        "print(dist)"
      ]
    },
    {
      "cell_type": "code",
      "execution_count": null,
      "metadata": {
        "colab": {
          "base_uri": "https://localhost:8080/"
        },
        "id": "i4P65sZE09ck",
        "outputId": "5de3b988-e25c-4024-db6e-78dd37729cc0"
      },
      "outputs": [
        {
          "name": "stdout",
          "output_type": "stream",
          "text": [
            "{'1': None, '2': '3', '3': '4', '5': '1', '4': '5'}\n"
          ]
        }
      ],
      "source": [
        "print(pred)"
      ]
    },
    {
      "cell_type": "markdown",
      "metadata": {
        "id": "KNiTrsoVttNk"
      },
      "source": [
        "# Maksymalny przepływ"
      ]
    },
    {
      "cell_type": "code",
      "execution_count": null,
      "metadata": {
        "colab": {
          "base_uri": "https://localhost:8080/"
        },
        "id": "aaqXBaLQKyUJ",
        "outputId": "97768939-ba53-49da-bce5-60fd3acaa5c0"
      },
      "outputs": [
        {
          "name": "stdout",
          "output_type": "stream",
          "text": [
            "s: ('a', '6') ('b', '4')\n",
            "a: ('b', '5') ('c', '2') ('d', '3')\n",
            "b: ('c', '6')\n",
            "c: ('a', '2') ('d', '3') ('t', '4')\n",
            "d: ('t', '6')\n",
            "t:\n",
            "\n"
          ]
        }
      ],
      "source": [
        "graph1 = Graph.from_edges(\"flow1.txt\", directed = 1)\n",
        "print(graph1)"
      ]
    },
    {
      "cell_type": "code",
      "execution_count": null,
      "metadata": {
        "id": "WSvRW-m94f5e"
      },
      "outputs": [],
      "source": [
        "nodes, flow = graph1.MaxFlow_EK(\"s\", \"t\")"
      ]
    },
    {
      "cell_type": "code",
      "execution_count": null,
      "metadata": {
        "colab": {
          "base_uri": "https://localhost:8080/"
        },
        "id": "MC5x3DkC9TGJ",
        "outputId": "986b4685-0259-4a99-afa8-eb467b5d6a65"
      },
      "outputs": [
        {
          "name": "stdout",
          "output_type": "stream",
          "text": [
            "['s', 'a', 'b', 'c', 'd', 't']\n"
          ]
        }
      ],
      "source": [
        "print(nodes)"
      ]
    },
    {
      "cell_type": "code",
      "execution_count": null,
      "metadata": {
        "colab": {
          "base_uri": "https://localhost:8080/"
        },
        "id": "DG3OxxDA43LV",
        "outputId": "e4a2482c-847c-4d70-9b08-31ccb9c2826c"
      },
      "outputs": [
        {
          "name": "stdout",
          "output_type": "stream",
          "text": [
            "[[ 0.  6.  4.  0.  0.  0.]\n",
            " [-6.  0.  1.  2.  3.  0.]\n",
            " [-4. -1.  0.  5.  0.  0.]\n",
            " [ 0. -2. -5.  0.  3.  4.]\n",
            " [ 0. -3.  0. -3.  0.  6.]\n",
            " [ 0.  0.  0. -4. -6.  0.]]\n"
          ]
        }
      ],
      "source": [
        "print(flow)"
      ]
    },
    {
      "cell_type": "code",
      "source": [
        "graph = {\n",
        "    's': [('a', 10, 4), ('d', 10, 4)],\n",
        "    'a': [('b', 5, 20), ('e', 8, 2)],\n",
        "    'b': [('c', 13, 2)],\n",
        "    'c': [('t', 10, 4)],\n",
        "    'd': [('e', 5, 1), ('b', 8, 2)],\n",
        "    'e': [('t', 10, 4)],\n",
        "    't': []\n",
        "}"
      ],
      "metadata": {
        "id": "riYzt2NacyBm"
      },
      "execution_count": null,
      "outputs": []
    },
    {
      "cell_type": "code",
      "source": [
        "g = Graph(graph)\n",
        "g.weighted = True"
      ],
      "metadata": {
        "id": "Ya9gJ8LoewsJ"
      },
      "execution_count": null,
      "outputs": []
    },
    {
      "cell_type": "code",
      "source": [
        "total_flow, total_cost = g.MaxFlow_MinCost('s', 't')"
      ],
      "metadata": {
        "colab": {
          "base_uri": "https://localhost:8080/"
        },
        "id": "nMTgF89HdjlF",
        "outputId": "a4ad627b-68a5-4e5f-d2e8-d2a75ae7e496"
      },
      "execution_count": null,
      "outputs": [
        {
          "output_type": "stream",
          "name": "stdout",
          "text": [
            "{'s': [('a', 10, 4), ('d', 10, 4)], 'a': [('s', 0, -4), ('b', 5, 20), ('e', 8, 2)], 'b': [('a', 0, -20), ('c', 13, 2), ('d', 0, -2)], 'c': [('b', 0, -2), ('t', 10, 4)], 'd': [('s', 0, -4), ('e', 5, 1), ('b', 8, 2)], 'e': [('a', 0, -2), ('d', 0, -1), ('t', 10, 4)], 't': [('c', 0, -4), ('e', 0, -4)]}\n",
            "['s', 'a', 'b', 'c', 'd', 'e', 't']\n",
            "['s', 'd', 'e', 't']\n",
            "0 0\n",
            "0 1\n",
            "{'s': [('a', 10, 4), ('d', 5, 4)], 'a': [('s', 0, -4), ('b', 5, 20), ('e', 8, 2)], 'b': [('a', 0, -20), ('c', 13, 2), ('d', 0, -2)], 'c': [('b', 0, -2), ('t', 10, 4)], 'd': [('s', 5, -4), ('e', 5, 1), ('b', 8, 2)], 'e': [('a', 0, -2), ('d', 0, -1), ('t', 10, 4)], 't': [('c', 0, -4), ('e', 0, -4)]}\n",
            "1 0\n",
            "1 1\n",
            "{'s': [('a', 10, 4), ('d', 5, 4)], 'a': [('s', 0, -4), ('b', 5, 20), ('e', 8, 2)], 'b': [('a', 0, -20), ('c', 13, 2), ('d', 0, -2)], 'c': [('b', 0, -2), ('t', 10, 4)], 'd': [('s', 5, -4), ('e', 5, 1), ('b', 8, 2)], 'e': [('a', 0, -2), ('d', 0, -1), ('t', 10, 4)], 't': [('c', 0, -4), ('e', 0, -4)]}\n",
            "1 2\n",
            "2 0\n",
            "2 1\n",
            "2 2\n",
            "{'s': [('a', 10, 4), ('d', 5, 4)], 'a': [('s', 0, -4), ('b', 5, 20), ('e', 8, 2)], 'b': [('a', 0, -20), ('c', 13, 2), ('d', 0, -2)], 'c': [('b', 0, -2), ('t', 10, 4)], 'd': [('s', 5, -4), ('e', 5, 1), ('b', 8, 2)], 'e': [('a', 0, -2), ('d', 0, -1), ('t', 10, 4)], 't': [('c', 0, -4), ('e', 0, -4)]}\n",
            "20\n",
            "['s', 'd', 'e', 't']\n",
            "0 0\n",
            "0 1\n",
            "{'s': [('a', 10, 4), ('d', 0, 4)], 'a': [('s', 0, -4), ('b', 5, 20), ('e', 8, 2)], 'b': [('a', 0, -20), ('c', 13, 2), ('d', 0, -2)], 'c': [('b', 0, -2), ('t', 10, 4)], 'd': [('s', 10, -4), ('e', 5, 1), ('b', 8, 2)], 'e': [('a', 0, -2), ('d', 0, -1), ('t', 10, 4)], 't': [('c', 0, -4), ('e', 0, -4)]}\n",
            "1 0\n",
            "1 1\n",
            "{'s': [('a', 10, 4), ('d', 0, 4)], 'a': [('s', 0, -4), ('b', 5, 20), ('e', 8, 2)], 'b': [('a', 0, -20), ('c', 13, 2), ('d', 0, -2)], 'c': [('b', 0, -2), ('t', 10, 4)], 'd': [('s', 10, -4), ('e', 5, 1), ('b', 8, 2)], 'e': [('a', 0, -2), ('d', 0, -1), ('t', 10, 4)], 't': [('c', 0, -4), ('e', 0, -4)]}\n",
            "1 2\n",
            "2 0\n",
            "2 1\n",
            "2 2\n",
            "{'s': [('a', 10, 4), ('d', 0, 4)], 'a': [('s', 0, -4), ('b', 5, 20), ('e', 8, 2)], 'b': [('a', 0, -20), ('c', 13, 2), ('d', 0, -2)], 'c': [('b', 0, -2), ('t', 10, 4)], 'd': [('s', 10, -4), ('e', 5, 1), ('b', 8, 2)], 'e': [('a', 0, -2), ('d', 0, -1), ('t', 10, 4)], 't': [('c', 0, -4), ('e', 0, -4)]}\n",
            "40\n",
            "['s', 'd', 'e', 't']\n"
          ]
        }
      ]
    }
  ],
  "metadata": {
    "colab": {
      "provenance": []
    },
    "kernelspec": {
      "display_name": ".venv",
      "language": "python",
      "name": "python3"
    },
    "language_info": {
      "codemirror_mode": {
        "name": "ipython",
        "version": 3
      },
      "file_extension": ".py",
      "mimetype": "text/x-python",
      "name": "python",
      "nbconvert_exporter": "python",
      "pygments_lexer": "ipython3",
      "version": "3.11.6"
    }
  },
  "nbformat": 4,
  "nbformat_minor": 0
}