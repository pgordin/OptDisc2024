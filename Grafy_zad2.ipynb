{
  "cells": [
    {
      "cell_type": "markdown",
      "metadata": {
        "id": "view-in-github",
        "colab_type": "text"
      },
      "source": [
        "<a href=\"https://colab.research.google.com/github/pgordin/OptDisc2024/blob/main/Grafy_zad2.ipynb\" target=\"_parent\"><img src=\"https://colab.research.google.com/assets/colab-badge.svg\" alt=\"Open In Colab\"/></a>"
      ]
    },
    {
      "cell_type": "code",
      "execution_count": null,
      "id": "c2901f2b",
      "metadata": {
        "id": "c2901f2b"
      },
      "outputs": [],
      "source": [
        "import numpy as np\n",
        "from random import random, seed"
      ]
    },
    {
      "cell_type": "markdown",
      "id": "67435c93",
      "metadata": {
        "id": "67435c93"
      },
      "source": [
        "# Funkcje grafowe"
      ]
    },
    {
      "cell_type": "code",
      "execution_count": null,
      "id": "0f450469",
      "metadata": {
        "id": "0f450469"
      },
      "outputs": [],
      "source": [
        "def print_matrix(vertices, matrix):\n",
        "    '''\n",
        "    wypisuje na ekranie graf podany jako macierz sąsiedztwa\n",
        "    '''\n",
        "    n = len(matrix)\n",
        "    if (vertices is not None) and (len(vertices) == n):\n",
        "        vv = vertices\n",
        "    else:\n",
        "        vv = range(1, n+1)\n",
        "    for i in range(n):\n",
        "        print(vv[i], \":\", end = \"\")\n",
        "        for j in range(n):\n",
        "            if matrix[i, j]:\n",
        "                print(\" \", vv[j], end=\"\")\n",
        "        print(\"\")"
      ]
    },
    {
      "cell_type": "code",
      "execution_count": null,
      "id": "87be4581",
      "metadata": {
        "id": "87be4581"
      },
      "outputs": [],
      "source": [
        "def print_graph(graph):\n",
        "    '''\n",
        "    wypisuje na ekranie graf podany jako słownik w pythonie\n",
        "    '''\n",
        "    for v in graph:\n",
        "        print(v, \":\", end = \"\")\n",
        "        for u in graph[v]:\n",
        "            print(\"\", u, end = \"\")\n",
        "        print(\"\")"
      ]
    },
    {
      "cell_type": "markdown",
      "id": "40699bd2",
      "metadata": {
        "id": "40699bd2"
      },
      "source": [
        "Tworzenie i modyfikacja grafów"
      ]
    },
    {
      "cell_type": "code",
      "execution_count": null,
      "id": "f034bffe",
      "metadata": {
        "id": "f034bffe"
      },
      "outputs": [],
      "source": [
        "def add_vertex(graph, vertex):\n",
        "    '''\n",
        "    Nowy wierzchołek do istniejącego grafu\n",
        "    '''\n",
        "    if vertex not in graph:\n",
        "        graph[vertex] = []\n",
        "\n",
        "def add_arc(graph, arc):\n",
        "    '''\n",
        "    Dodaje nowy łuk (podany jako para wierzchołków) do istniejącego grafu\n",
        "    Rozważamy grafy proste, skierowane\n",
        "    '''\n",
        "    u, v = arc\n",
        "    add_vertex(graph, u)\n",
        "    add_vertex(graph, v)\n",
        "    if v not in graph[u]:\n",
        "        graph[u].append(v)\n",
        "\n",
        "def add_edge(graph, edge):\n",
        "    '''\n",
        "    Dodaje nową krawędź (podaną jako parę wierzchołków) do istniejącego grafu\n",
        "    traktując graf nieskierowany jako prosty graf skierowany, symetryczny i bez pętli.\n",
        "    '''\n",
        "    u, v = edge\n",
        "    add_vertex(graph, u)\n",
        "    add_vertex(graph, v)\n",
        "    if u == v:\n",
        "        raise ValueError(\"Pętla!\")\n",
        "    if v not in graph[u]:\n",
        "        graph[u].append(v)\n",
        "    if u not in graph[v]:\n",
        "        graph[v].append(u)\n",
        ""
      ]
    },
    {
      "cell_type": "markdown",
      "id": "98bb2765",
      "metadata": {
        "id": "98bb2765"
      },
      "source": [
        "Losowe grafy"
      ]
    },
    {
      "cell_type": "code",
      "execution_count": null,
      "id": "fbdf3ce3",
      "metadata": {
        "id": "fbdf3ce3"
      },
      "outputs": [],
      "source": [
        "def random_graph(n, p):\n",
        "    '''\n",
        "    losowanie grafu o n wierzchołkach z p-ństwem połączenia p\n",
        "    '''\n",
        "    random_graph = {}\n",
        "    for i in range(1, n+1):\n",
        "        add_vertex(random_graph, i)\n",
        "        for j in range(1, i):\n",
        "            if random() < p:\n",
        "                add_edge(random_graph, [i, j])\n",
        "    return random_graph"
      ]
    },
    {
      "cell_type": "markdown",
      "id": "93839ae0",
      "metadata": {
        "id": "93839ae0"
      },
      "source": [
        "Konwersja między macierzą sąsiedztwa, a słownikiem"
      ]
    },
    {
      "cell_type": "code",
      "execution_count": null,
      "id": "110c5ab1",
      "metadata": {
        "id": "110c5ab1"
      },
      "outputs": [],
      "source": [
        "def matrix_to_dict(vertices, matrix):\n",
        "    '''\n",
        "    konwersja między postacią macierzową a słownikową\n",
        "    '''\n",
        "    n = len(vertices)\n",
        "    graph = {}\n",
        "    for vertex in vertices:\n",
        "        graph[vertex] = []\n",
        "    for i in range(n):\n",
        "        for j in range(n):\n",
        "            if matrix[i, j] == 1:\n",
        "                graph[list(graph.keys())[i]].append(list(graph.keys())[j])\n",
        "    return graph"
      ]
    },
    {
      "cell_type": "code",
      "execution_count": null,
      "id": "8b4a4a9d",
      "metadata": {
        "id": "8b4a4a9d"
      },
      "outputs": [],
      "source": [
        "def dict_to_matrix(graph):\n",
        "    '''\n",
        "    konwersja między postacią słownikową a macierzową\n",
        "    '''\n",
        "    n = len(graph)\n",
        "    matrix = np.zeros((n,n))\n",
        "    vertices = list(graph.keys())\n",
        "    for key in graph:\n",
        "        for arc in graph[key]:\n",
        "            i = list(graph.keys()).index(key)\n",
        "            j = list(graph.keys()).index(arc)\n",
        "            matrix[i, j] = 1\n",
        "    return (vertices, matrix)"
      ]
    },
    {
      "cell_type": "markdown",
      "id": "366aea2c",
      "metadata": {
        "id": "366aea2c"
      },
      "source": [
        "Tworzenie cyklu o n wierzchołkach"
      ]
    },
    {
      "cell_type": "code",
      "execution_count": null,
      "id": "24011a79",
      "metadata": {
        "id": "24011a79"
      },
      "outputs": [],
      "source": [
        "def cycle(n):\n",
        "    '''\n",
        "    tworzenie cyklu o n wierzchołkach\n",
        "    '''\n",
        "    cycle = {}\n",
        "    for i in range(1, n+1):\n",
        "        add_vertex(cycle, i)\n",
        "        cycle[i].append(i%n + 1)\n",
        "    return cycle"
      ]
    },
    {
      "cell_type": "markdown",
      "id": "8b6a61e4",
      "metadata": {
        "id": "8b6a61e4"
      },
      "source": [
        "# Wczytywanie grafów z plików"
      ]
    },
    {
      "cell_type": "code",
      "execution_count": null,
      "id": "9775fc25",
      "metadata": {
        "id": "9775fc25"
      },
      "outputs": [],
      "source": [
        "def graph_from_edges(filename, directed = 0):\n",
        "    '''\n",
        "    wczytuje graf z pliku tekstowego (pełna ścieżka dostępu), który w każdej linii zawiera opis jednej krawędzi (pary słów),\n",
        "    ewentualnie jednego wierzchołka (pojedyncze słowo). Jako wynik zwraca graf w formie listy sąsiedztwa\n",
        "    '''\n",
        "    graph = {}\n",
        "    file = open(filename, \"r\")             #otwieranie pliku do odczytu\n",
        "    for line in file:                      #dla każdej linii w pliku\n",
        "        words = line.strip().split()       #rozbijam linię na słowa\n",
        "        if len(words) == 1:                #jedno słowo = wierzchołek\n",
        "            add_vertex(graph, words[0])\n",
        "        elif len(words) == 2:              #więcej słów - używamy dwóch pierwszych\n",
        "            if directed:\n",
        "                add_arc(graph, (words[0],words[1]))\n",
        "            else:\n",
        "                add_edge(graph, (words[0],words[1]))\n",
        "    file.close()\n",
        "    return graph\n",
        "\n",
        "def graph_to_edges(graph, filename):\n",
        "    \"\"\"\n",
        "    Wczytuje graf z pliku zawierającego opis jednej krawędzi (pary słów), ewentualnie jednego wierzchołka\n",
        "    \"\"\"\n",
        "    file = open(filename, \"w\")\n",
        "\n",
        "    vertexes = list(graph.keys())\n",
        "    print(vertexes)\n",
        "    for v in graph:\n",
        "        if len(graph[v]) != 0:\n",
        "            for u in graph[v]:\n",
        "                desc = f\"{v} {u}\\n\"\n",
        "                file.write(desc)\n",
        "                if u in vertexes:\n",
        "                    vertexes.remove(u)\n",
        "        elif v in vertexes:\n",
        "            desc = f\"{v}\\n\"\n",
        "            file.write(desc)\n",
        "\n",
        "    file.close()\n",
        "\n",
        "def graph_from_neighbourlist(filename):\n",
        "    \"\"\"\n",
        "    Wczytuje graf z pliku tekstowego zawierającego listę sąsiedztwa\n",
        "    \"\"\"\n",
        "    graph = {}\n",
        "    file = open(filename, \"r\")\n",
        "    for line in file:\n",
        "        words = line.strip().split(\":\")\n",
        "        vertex = words[0].strip()\n",
        "        neighbours = words[1].strip().split()\n",
        "        add_vertex(graph, vertex)\n",
        "        if len(neighbours) > 0:\n",
        "            for v in neighbours:\n",
        "                add_arc(graph, (vertex,v))\n",
        "    file.close()\n",
        "    return graph\n",
        "\n",
        "def graph_to_neighbourlist(graph, filename):\n",
        "    '''\n",
        "    zapisuje graf do pliku tekstowego (pełna ścieżka dostępu) jako listę sąsiedztwa\n",
        "    '''\n",
        "    file = open(filename, 'w')   #otwarcie pliku do zapisu\n",
        "    for v in graph:\n",
        "        neigh_list = f\"{v}:\"\n",
        "        for u in graph[v]:\n",
        "            neigh_list = neigh_list + f\" {u}\"  #u na koniec listy sąsiedztwa\n",
        "        neigh_list = neigh_list + \"\\n\"  #koniec wiersza\n",
        "        file.write(neigh_list)\n",
        "    file.close()\n",
        "\n"
      ]
    },
    {
      "cell_type": "markdown",
      "id": "3b5c8818",
      "metadata": {
        "id": "3b5c8818"
      },
      "source": [
        "# Przykłady wykorzystania"
      ]
    },
    {
      "cell_type": "code",
      "execution_count": null,
      "id": "47121112",
      "metadata": {
        "id": "47121112"
      },
      "outputs": [],
      "source": [
        "vertices = [\"a\", \"b\", \"c\", \"d\", \"e\", \"i\"]\n",
        "matrix = np.array([[0,1,1,0,0,0],[1,0,1,0,0,0],[1,1,0,0,1,0],[0,0,1,0,1,1],[0,0,1,1,0,1],[1,0,1,0,1,0]])"
      ]
    },
    {
      "cell_type": "code",
      "execution_count": null,
      "id": "5e37fedc",
      "metadata": {
        "id": "5e37fedc",
        "outputId": "c8aee2e6-dc11-4a12-e371-30cf1e814cbc"
      },
      "outputs": [
        {
          "name": "stdout",
          "output_type": "stream",
          "text": [
            "['a', 'b', 'c', 'd', 'e', 'i']\n",
            "[[0 1 1 0 0 0]\n",
            " [1 0 1 0 0 0]\n",
            " [1 1 0 0 1 0]\n",
            " [0 0 1 0 1 1]\n",
            " [0 0 1 1 0 1]\n",
            " [1 0 1 0 1 0]]\n",
            "------------------------------------------------------\n",
            "a :  b  c\n",
            "b :  a  c\n",
            "c :  a  b  e\n",
            "d :  c  e  i\n",
            "e :  c  d  i\n",
            "i :  a  c  e\n",
            "------------------------------------------------------\n",
            "1 :  2  3\n",
            "2 :  1  3\n",
            "3 :  1  2  5\n",
            "4 :  3  5  6\n",
            "5 :  3  4  6\n",
            "6 :  1  3  5\n"
          ]
        }
      ],
      "source": [
        "print(vertices)\n",
        "print(matrix)\n",
        "print(\"------------------------------------------------------\")\n",
        "print_matrix(vertices, matrix)\n",
        "print(\"------------------------------------------------------\")\n",
        "print_matrix(None, matrix)"
      ]
    },
    {
      "cell_type": "markdown",
      "id": "041c7bb5",
      "metadata": {
        "id": "041c7bb5"
      },
      "source": [
        "Druga reprezentacja"
      ]
    },
    {
      "cell_type": "code",
      "execution_count": null,
      "id": "c81d3904",
      "metadata": {
        "id": "c81d3904",
        "outputId": "207508d6-a4c0-4fe5-8846-3f33ad2f4069"
      },
      "outputs": [
        {
          "name": "stdout",
          "output_type": "stream",
          "text": [
            "{'a': ['b', 'c'], 'b': ['a', 'c'], 'c': ['a', 'b', 'e'], 'd': ['c', 'e', 'i'], 'e': ['c', 'd', 'i'], 'i': ['a', 'c', 'e'], 'g': []}\n"
          ]
        }
      ],
      "source": [
        "graph = {\n",
        "    'a' :  ['b',  'c'],\n",
        "    'b' :  ['a',  'c'],\n",
        "    'c' :  ['a',  'b',  'e'],\n",
        "    'd' :  ['c',  'e',  'i'],\n",
        "    'e' :  ['c',  'd',  'i'],\n",
        "    'i' :  ['a',  'c',  'e'],\n",
        "    'g' :  []\n",
        "}\n",
        "print(graph)"
      ]
    },
    {
      "cell_type": "code",
      "execution_count": null,
      "id": "91bfeddf",
      "metadata": {
        "id": "91bfeddf",
        "outputId": "dc737e22-2881-4d12-8052-c11713a8eb70"
      },
      "outputs": [
        {
          "name": "stdout",
          "output_type": "stream",
          "text": [
            "a : b c\n",
            "b : a c\n",
            "c : a b e\n",
            "d : c e i\n",
            "e : c d i\n",
            "i : a c e\n",
            "g :\n"
          ]
        }
      ],
      "source": [
        "print_graph(graph)"
      ]
    },
    {
      "cell_type": "code",
      "execution_count": null,
      "id": "19ddee47",
      "metadata": {
        "id": "19ddee47"
      },
      "outputs": [],
      "source": [
        "graph_to_neighbourlist(graph, \"graf_1.txt\")"
      ]
    },
    {
      "cell_type": "code",
      "execution_count": null,
      "id": "20d942b7",
      "metadata": {
        "id": "20d942b7",
        "outputId": "0d144819-c438-474c-95ce-d6d369c933f5"
      },
      "outputs": [
        {
          "name": "stdout",
          "output_type": "stream",
          "text": [
            "a : b c\n",
            "b : a c\n",
            "c : a b e\n",
            "e : c d i\n",
            "d : c e i\n",
            "i : a c e\n",
            "g :\n"
          ]
        }
      ],
      "source": [
        "print_graph(graph_from_neighbourlist(\"graf_1.txt\"))"
      ]
    },
    {
      "cell_type": "code",
      "execution_count": null,
      "id": "e43afbef",
      "metadata": {
        "id": "e43afbef",
        "outputId": "a4c208fe-a64e-4635-d4e7-0956852e343f"
      },
      "outputs": [
        {
          "name": "stdout",
          "output_type": "stream",
          "text": [
            "Writing lista.txt\n"
          ]
        }
      ],
      "source": [
        "%%writefile lista.txt\n",
        "A B\n",
        "B C\n",
        "B D\n",
        "D C\n",
        "E\n",
        "F"
      ]
    },
    {
      "cell_type": "code",
      "execution_count": null,
      "id": "e2578ec5",
      "metadata": {
        "id": "e2578ec5"
      },
      "outputs": [],
      "source": [
        "graph_1 = graph_from_edges(\"lista.txt\", directed=1)"
      ]
    },
    {
      "cell_type": "code",
      "execution_count": null,
      "id": "dbaa7125",
      "metadata": {
        "id": "dbaa7125",
        "outputId": "d1f52593-694c-4537-d0fa-300e0ca43654"
      },
      "outputs": [
        {
          "data": {
            "text/plain": [
              "{'A': ['B'], 'B': ['C', 'D'], 'C': [], 'D': ['C'], 'E': [], 'F': []}"
            ]
          },
          "execution_count": 35,
          "metadata": {},
          "output_type": "execute_result"
        }
      ],
      "source": [
        "graph_1"
      ]
    },
    {
      "cell_type": "code",
      "execution_count": null,
      "id": "e798d58c",
      "metadata": {
        "id": "e798d58c",
        "outputId": "06fbbd35-eb5d-4b40-9bde-e5c309002d87"
      },
      "outputs": [
        {
          "name": "stdout",
          "output_type": "stream",
          "text": [
            "['A', 'B', 'C', 'D', 'E', 'F']\n"
          ]
        }
      ],
      "source": [
        "graph_to_edges(graph_1, \"lista2.txt\")"
      ]
    }
  ],
  "metadata": {
    "kernelspec": {
      "display_name": "Python 3 (ipykernel)",
      "language": "python",
      "name": "python3"
    },
    "language_info": {
      "codemirror_mode": {
        "name": "ipython",
        "version": 3
      },
      "file_extension": ".py",
      "mimetype": "text/x-python",
      "name": "python",
      "nbconvert_exporter": "python",
      "pygments_lexer": "ipython3",
      "version": "3.9.2"
    },
    "colab": {
      "provenance": [],
      "include_colab_link": true
    }
  },
  "nbformat": 4,
  "nbformat_minor": 5
}