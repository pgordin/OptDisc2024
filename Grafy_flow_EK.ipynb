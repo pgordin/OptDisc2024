{
 "cells": [
  {
   "cell_type": "code",
   "execution_count": 1,
   "id": "c2901f2b",
   "metadata": {},
   "outputs": [],
   "source": [
    "import numpy as np\n",
    "from random import random, seed\n",
    "from copy import deepcopy\n",
    "from queue import PriorityQueue\n",
    "#from MyHeap import MyHeap"
   ]
  },
  {
   "cell_type": "markdown",
   "id": "67435c93",
   "metadata": {},
   "source": [
    "# Funkcje grafowe"
   ]
  },
  {
   "cell_type": "code",
   "execution_count": 2,
   "id": "0f450469",
   "metadata": {},
   "outputs": [],
   "source": [
    "def print_matrix(vertices, matrix):\n",
    "    '''\n",
    "    wypisuje na ekranie graf podany jako macierz sąsiedztwa\n",
    "    '''\n",
    "    n = len(matrix)\n",
    "    if (vertices is not None) and (len(vertices) == n):\n",
    "        vv = vertices\n",
    "    else:\n",
    "        vv = range(1, n+1)\n",
    "    for i in range(n):\n",
    "        print(vv[i], \":\", end = \"\")\n",
    "        for j in range(n):\n",
    "            if matrix[i, j]:\n",
    "                print(\" \", vv[j], end=\"\")\n",
    "        print(\"\")"
   ]
  },
  {
   "cell_type": "code",
   "execution_count": 3,
   "id": "87be4581",
   "metadata": {},
   "outputs": [],
   "source": [
    "def print_graph(graph):\n",
    "    '''\n",
    "    wypisuje na ekranie graf podany jako słownik w pythonie\n",
    "    '''\n",
    "    for v in graph:\n",
    "        print(v, \":\", end = \"\")\n",
    "        for u in graph[v]:\n",
    "            print(\"\", u, end = \"\")\n",
    "        print(\"\")    "
   ]
  },
  {
   "cell_type": "markdown",
   "id": "40699bd2",
   "metadata": {},
   "source": [
    "Tworzenie i modyfikacja grafów"
   ]
  },
  {
   "cell_type": "code",
   "execution_count": 4,
   "id": "f034bffe",
   "metadata": {},
   "outputs": [],
   "source": [
    "def add_vertex(graph, vertex):\n",
    "    '''\n",
    "    Nowy wierzchołek do istniejącego grafu\n",
    "    '''\n",
    "    if vertex not in graph:\n",
    "        graph[vertex] = []\n",
    "        \n",
    "def add_arc(graph, arc):\n",
    "    '''\n",
    "    Dodaje nowy łuk (podany jako para wierzchołków) do istniejącego grafu\n",
    "    Rozważamy grafy proste, skierowane\n",
    "    '''\n",
    "    u, v = arc\n",
    "    add_vertex(graph, u)\n",
    "    add_vertex(graph, v)\n",
    "    if v not in graph[u]:\n",
    "        graph[u].append(v)\n",
    "\n",
    "def add_edge(graph, edge):\n",
    "    '''\n",
    "    Dodaje nową krawędź (podaną jako parę wierzchołków) do istniejącego grafu\n",
    "    traktując graf nieskierowany jako prosty graf skierowany, symetryczny i bez pętli.\n",
    "    '''\n",
    "    u, v = edge\n",
    "    add_vertex(graph, u)\n",
    "    add_vertex(graph, v)\n",
    "    if u == v:\n",
    "        raise ValueError(\"Pętla!\")\n",
    "    if v not in graph[u]:\n",
    "        graph[u].append(v)\n",
    "    if u not in graph[v]:\n",
    "        graph[v].append(u)\n",
    "    "
   ]
  },
  {
   "cell_type": "markdown",
   "id": "98bb2765",
   "metadata": {},
   "source": [
    "Losowe grafy"
   ]
  },
  {
   "cell_type": "code",
   "execution_count": 5,
   "id": "fbdf3ce3",
   "metadata": {},
   "outputs": [],
   "source": [
    "def random_graph(n, p):\n",
    "    '''\n",
    "    losowanie grafu o n wierzchołkach z p-ństwem połączenia p\n",
    "    '''\n",
    "    random_graph = {}\n",
    "    for i in range(1, n+1):\n",
    "        add_vertex(random_graph, i)\n",
    "        for j in range(1, i):\n",
    "            if random() < p:\n",
    "                add_edge(random_graph, [i, j])\n",
    "    return random_graph"
   ]
  },
  {
   "cell_type": "markdown",
   "id": "93839ae0",
   "metadata": {},
   "source": [
    "Konwersja między macierzą sąsiedztwa, a słownikiem"
   ]
  },
  {
   "cell_type": "code",
   "execution_count": 6,
   "id": "110c5ab1",
   "metadata": {},
   "outputs": [],
   "source": [
    "def matrix_to_dict(vertices, matrix):\n",
    "    '''\n",
    "    konwersja między postacią macierzową a słownikową\n",
    "    '''\n",
    "    n = len(vertices)\n",
    "    graph = {}\n",
    "    for vertex in vertices:\n",
    "        graph[vertex] = []\n",
    "    for i in range(n):    \n",
    "        for j in range(n):\n",
    "            if matrix[i, j] == 1:\n",
    "                graph[list(graph.keys())[i]].append(list(graph.keys())[j])\n",
    "    return graph            "
   ]
  },
  {
   "cell_type": "code",
   "execution_count": 7,
   "id": "8b4a4a9d",
   "metadata": {},
   "outputs": [],
   "source": [
    "def dict_to_matrix(graph, weighted = None):\n",
    "    '''\n",
    "    konwersja między postacią słownikową a macierzową\n",
    "    '''\n",
    "    n = len(graph)\n",
    "    matrix = np.zeros((n,n))\n",
    "    vertices = list(graph.keys())\n",
    "    if weighted == None:\n",
    "        for key in graph:\n",
    "            for arc in graph[key]:\n",
    "                i = list(graph.keys()).index(key)\n",
    "                j = list(graph.keys()).index(arc)\n",
    "                matrix[i, j] = 1\n",
    "    else:\n",
    "        for key in graph:\n",
    "            for arc in graph[key]:\n",
    "                i = list(graph.keys()).index(key)\n",
    "                j = list(graph.keys()).index(arc[0])\n",
    "                matrix[i, j] = arc[1]\n",
    "    return (vertices, matrix)"
   ]
  },
  {
   "cell_type": "markdown",
   "id": "366aea2c",
   "metadata": {},
   "source": [
    "Tworzenie cyklu o n wierzchołkach"
   ]
  },
  {
   "cell_type": "code",
   "execution_count": 8,
   "id": "24011a79",
   "metadata": {},
   "outputs": [],
   "source": [
    "def cycle(n):\n",
    "    '''\n",
    "    tworzenie cyklu o n wierzchołkach\n",
    "    '''\n",
    "    cycle = {}\n",
    "    for i in range(1, n+1):\n",
    "        add_vertex(cycle, i)\n",
    "        cycle[i].append(i%n + 1)\n",
    "    return cycle    "
   ]
  },
  {
   "cell_type": "markdown",
   "id": "8b6a61e4",
   "metadata": {},
   "source": [
    "# Wczytywanie grafów z plików"
   ]
  },
  {
   "cell_type": "code",
   "execution_count": 9,
   "id": "9775fc25",
   "metadata": {},
   "outputs": [],
   "source": [
    "def graph_from_edges(filename, directed = 0):\n",
    "    '''\n",
    "    wczytuje graf z pliku tekstowego (pełna ścieżka dostępu), który w każdej linii zawiera opis jednej krawędzi (pary słów),\n",
    "    ewentualnie jednego wierzchołka (pojedyncze słowo). Jako wynik zwraca graf w formie listy sąsiedztwa\n",
    "    '''\n",
    "    graph = {}\n",
    "    file = open(filename, \"r\")             #otwieranie pliku do odczytu\n",
    "    for line in file:                      #dla każdej linii w pliku\n",
    "        words = line.strip().split()       #rozbijam linię na słowa\n",
    "        if len(words) == 1:                #jedno słowo = wierzchołek\n",
    "            add_vertex(graph, words[0])\n",
    "        elif len(words) == 2:              #więcej słów - używamy dwóch pierwszych\n",
    "            if directed:\n",
    "                add_arc(graph, (words[0],words[1]))\n",
    "            else:\n",
    "                add_edge(graph, (words[0],words[1]))\n",
    "        elif len(words) > 2: # more than two words, weighted graph  \n",
    "            if directed:\n",
    "                add_arc(graph, (words[0],words[1]))\n",
    "                graph[words[0]][-1] = (words[1], words[2])\n",
    "            else:\n",
    "                add_edge(graph, (words[0],words[1]))\n",
    "                graph[words[0]][-1] = (words[1], words[2])\n",
    "                graph[words[1]][-1] = (words[0], words[2])\n",
    "    file.close()\n",
    "    return graph\n",
    "\n",
    "\n",
    "def graph_to_neighbourlist(graph, filename):\n",
    "    '''\n",
    "    zapisuje graf do pliku tekstowego (pełna ścieżka dostępu) jako listę sąsiedztwa \n",
    "    '''\n",
    "    file = open(filename, 'w')   #otwarcie pliku do zapisu\n",
    "    for v in graph:\n",
    "        neigh_list = f\"{v}:\"\n",
    "        for u in graph[v]:  \n",
    "            neigh_list = neigh_list + f\" {u}\"  #u na koniec listy sąsiedztwa\n",
    "        neigh_list = neigh_list + \"\\n\"  #koniec wiersza\n",
    "        file.write(neigh_list)\n",
    "    file.close()\n",
    "    \n",
    "    \n",
    "def graph_to_edges(graph, filename):\n",
    "    '''\n",
    "    zapisuje graf do pliku tekstowego (pełna ścieżka dostępu), który w każdej linii zawiera opis jednej krawędzi (pary słów),\n",
    "    ewentualnie jednego wierzchołka (pojedyncze słowo). \n",
    "    '''\n",
    "    file = open(filename, 'w')\n",
    "    for v in graph:\n",
    "        if len(graph[v]) == 0:\n",
    "            edges = f\"{v}\" + \"\\n\"\n",
    "            file.write(edges)\n",
    "        else:    \n",
    "            for u in graph[v]:\n",
    "                edges = f\"{v} \" + f\"{u}\" + \"\\n\"\n",
    "                file.write(edges)\n",
    "    file.close()  \n",
    "    \n",
    "    \n",
    "def graph_from_neighbourlist(filename):\n",
    "    '''\n",
    "    wczytuje graf z pliku tekstowego (pełna ścieżka dostępu), który ma postać listy sąsiedztwa. \n",
    "    Jako wynik zwraca graf w formie listy sąsiedztwa.\n",
    "    '''\n",
    "    graph = {}\n",
    "    file = open(filename, 'r')\n",
    "    for line in file:\n",
    "        words = line.strip().split(':')\n",
    "        words1 = words[1].split()\n",
    "        add_vertex(graph, words[0])\n",
    "        for v in words1:\n",
    "            graph[words[0]].append(v)\n",
    "    return graph"
   ]
  },
  {
   "cell_type": "code",
   "execution_count": 10,
   "id": "50efdaa3",
   "metadata": {},
   "outputs": [],
   "source": [
    "def Prufer(graph):\n",
    "    '''\n",
    "    Kod Prufera drzewa - zwrócony jako napis.\n",
    "    Wymagamy, aby graf był drzewem.\n",
    "    '''\n",
    "    tr = deepcopy(graph)\n",
    "    code = \"\"\n",
    "    for i in range(len(graph) - 2):\n",
    "        for x in sorted(tr): #po kolei przeglądam nieusunięte wierzchołki \n",
    "            if len(tr[x]) == 1: #najmniejszy liść\n",
    "                break\n",
    "        v = tr[x][0] #sąsiad najmniejszego x \n",
    "        code = code + f'{v} '\n",
    "        tr[v].remove(x) #usuwam x z listy sąsiadów v\n",
    "        tr.pop(x)       #usuwam x z drzewa\n",
    "    return code.strip()"
   ]
  },
  {
   "cell_type": "code",
   "execution_count": 11,
   "id": "922add46",
   "metadata": {},
   "outputs": [],
   "source": [
    "def tree_from_Prufer(code: str):\n",
    "    '''\n",
    "    tworzy drzewo z kodu Prufera\n",
    "    '''\n",
    "    tree = {}\n",
    "    clist = [int(x) for x in code.strip().split()] #kod zamieniony na listę liczb\n",
    "    n = len(clist) + 2  #liczba wierzchołków\n",
    "    vert = [v for v in range(1, n+1)]  #lista liczb od 1 do n\n",
    "    for v in vert:\n",
    "        add_vertex(tree, v)\n",
    "    for i in range(n-2):\n",
    "        for x in vert:\n",
    "            if not x in clist:   #najmniejszy liść\n",
    "                break \n",
    "        v = clist.pop(0)    #usuwam pierwszy element (sąsiad x)\n",
    "        add_edge(tree, (x, v))\n",
    "        vert.remove(x)\n",
    "    add_edge(tree, vert)\n",
    "    return tree"
   ]
  },
  {
   "cell_type": "code",
   "execution_count": 12,
   "id": "1af54a76",
   "metadata": {},
   "outputs": [],
   "source": [
    "def ConnectedComponents(graph):\n",
    "    '''\n",
    "    znajduje spójne składowe w grafie nieskierowanym, zwraca listę list wierzchołków\n",
    "    uwaga: jako pierwszy element listy uzyskamy zbiór wszystkich wierzchołków grafu \n",
    "    '''\n",
    "    def DFS(u):\n",
    "        '''\n",
    "        przeszukiwanie w głąb\n",
    "        '''\n",
    "        for w in graph[u]:\n",
    "            if not w in VT[0]: #w jeszcze nieodwiedzony                          \n",
    "                VT[0].add(w)   #już odwiedzony\n",
    "                VT[-1].add(w)  #w ostatniej spójnej składowej\n",
    "                DFS(w)\n",
    "    '''\n",
    "    VT - lista zbiorów VT[i] :\n",
    "    dla i > 0 lista wierzchołków spójnych składowych \n",
    "    dla i = 0 - lista wszystkich odwiedzonych wierzchołków \n",
    "    '''\n",
    "    VT = [set([])]\n",
    "    for v in graph:\n",
    "        if v not in VT[0]:\n",
    "            VT[0].add(v)\n",
    "            VT.append(set([v])) #zaczątek nowej spójnej składowej\n",
    "            DFS(v)\n",
    "    return VT        "
   ]
  },
  {
   "cell_type": "code",
   "execution_count": 13,
   "id": "3146d0ad",
   "metadata": {},
   "outputs": [],
   "source": [
    "def ConnectedComponentsGraphs(graph):\n",
    "    '''\n",
    "    zwraca listę grafów - spójnych składowych grafu podanego jako parametr\n",
    "    '''\n",
    "    components_list = ConnectedComponents(graph)\n",
    "    graphs = []\n",
    "    n = len(components_list)\n",
    "    for i in range(1, n):\n",
    "        copy_graph = deepcopy(graph)\n",
    "        for v in components_list[0]:\n",
    "            if v not in components_list[i]:\n",
    "                copy_graph.pop(v)\n",
    "        graphs.append(copy_graph)\n",
    "    return graphs"
   ]
  },
  {
   "cell_type": "code",
   "execution_count": 14,
   "id": "d018779e",
   "metadata": {},
   "outputs": [],
   "source": [
    "def random_bipartite_graph(n, p):\n",
    "    '''\n",
    "    generuje dwudzielny graf losowy o 2n wierzchołkach\n",
    "    '''\n",
    "    random_bipartite_graph = {}\n",
    "    for i in range(1, 2*n+1):\n",
    "        add_vertex(random_bipartite_graph, i)\n",
    "    for i in range(1, n+1):    \n",
    "        for j in range(n+1, 2*n+1):\n",
    "            if random() < p:\n",
    "                add_edge(random_bipartite_graph, [i, j])\n",
    "    return random_bipartite_graph"
   ]
  },
  {
   "cell_type": "code",
   "execution_count": 15,
   "id": "c8871ad9",
   "metadata": {},
   "outputs": [],
   "source": [
    "def preorder(graph, v):\n",
    "    '''\n",
    "    wypisanie drzewa w porządku preorder\n",
    "    '''\n",
    "    def DFS(u):\n",
    "        for w in graph[u]:\n",
    "            if not w in VT[0]:                           \n",
    "                VT[0].add(w)   \n",
    "                VT[1].append(w)  \n",
    "                DFS(w)\n",
    "    VT = [set([v]), [v]]\n",
    "    DFS(v)\n",
    "    return VT[1] "
   ]
  },
  {
   "cell_type": "code",
   "execution_count": 16,
   "id": "4b089c51",
   "metadata": {},
   "outputs": [],
   "source": [
    "def postorder(graph, v):\n",
    "    '''\n",
    "    wypisanie drzewa w porządku postorder\n",
    "    '''\n",
    "    def DFS(u):\n",
    "        for w in graph[u]:\n",
    "            if not w in VT[0]:                           \n",
    "                VT[0].add(w)     \n",
    "                DFS(w)\n",
    "                VT[1].append(w)\n",
    "    VT = [set([v]), []]\n",
    "    DFS(v)\n",
    "    VT[1].append(v)\n",
    "    return VT[1] "
   ]
  },
  {
   "cell_type": "code",
   "execution_count": 17,
   "id": "2915bb9f",
   "metadata": {},
   "outputs": [],
   "source": [
    "def Distance(graph, v):\n",
    "    '''\n",
    "    znajduje i zwraca jako wektor słownik odległości od wierzchołka v do wierzchołków w tej samej spójnej składowej co v\n",
    "    '''\n",
    "    dist = {v:0} #zalążek \n",
    "    kolejka = [v]\n",
    "    while len(kolejka) > 0:\n",
    "        u = kolejka.pop(0)\n",
    "        for w in graph[u]:\n",
    "            if not w in dist:\n",
    "                dist[w] = dist[u] + 1\n",
    "                kolejka.append(w)\n",
    "    return dist   "
   ]
  },
  {
   "cell_type": "code",
   "execution_count": 18,
   "id": "2cbc9c50",
   "metadata": {},
   "outputs": [],
   "source": [
    "def ConnectedComponentsBFS(graph):\n",
    "    '''\n",
    "    znajduje spójne składowe w grafie nieskierowanym, zwraca listę list wierzchołków\n",
    "    uwaga: jako pierwszy element listy uzyskamy zbiór wszystkich wierzchołków grafu\n",
    "    '''\n",
    "    def BFS(u):\n",
    "        '''\n",
    "        przeszukiwanie grafu w szerz\n",
    "        '''\n",
    "        kolejka = [u]\n",
    "        while len(kolejka) > 0:\n",
    "            w = kolejka.pop(0)\n",
    "            for k in graph[w]:\n",
    "                if not k in VT[0]:\n",
    "                    VT[0].add(k)   #już odwiedzony\n",
    "                    VT[-1].add(k)  #w ostatniej spójnej składowej\n",
    "                    kolejka.append(k)       \n",
    "    VT = [set([])]\n",
    "    for v in graph:\n",
    "        if v not in VT[0]:\n",
    "            VT[0].add(v)\n",
    "            VT.append(set([v])) #zaczątek nowej spójnej składowej\n",
    "            BFS(v)\n",
    "    return VT   "
   ]
  },
  {
   "cell_type": "code",
   "execution_count": 19,
   "id": "c15bf762",
   "metadata": {},
   "outputs": [],
   "source": [
    "def Floyd_Warshall(W):\n",
    "    n = len(W)\n",
    "    D = deepcopy(W)\n",
    "    for k in range(n):\n",
    "        for i in range(n):\n",
    "            for j in range(n):\n",
    "                D[i,j] = min(D[i,j], D[i,k]+D[k,j])\n",
    "    return D"
   ]
  },
  {
   "cell_type": "code",
   "execution_count": 20,
   "id": "35def820",
   "metadata": {},
   "outputs": [],
   "source": [
    "def GDFS(graph, order = None):\n",
    "    '''\n",
    "    uogólnione przechodzenie grafu skierowanego w głąb\n",
    "    order - porządek wierzchołków (opcjonalny)\n",
    "    zwraca dwa słowniki (visited, processed)\n",
    "    '''\n",
    "    def DFS(u):\n",
    "        '''\n",
    "        wewnętrzna - przeszukiwanie grafu w głąb\n",
    "        '''\n",
    "        visited[u] = len(visited) + 1 #u już odwiedzony\n",
    "        for w in graph[u]:\n",
    "            if not w in visited: #w jeszcze nieodwiedzony                          \n",
    "                DFS(w)\n",
    "        processed[u] = len(visited)    \n",
    "    if order is None:\n",
    "        vertices = graph.keys()\n",
    "    else:\n",
    "        vertices = order\n",
    "    visited = {}\n",
    "    processed = {}\n",
    "    for v in vertices:\n",
    "        if not v in visited:\n",
    "            DFS(v)\n",
    "    return visited, processed"
   ]
  },
  {
   "cell_type": "code",
   "execution_count": 21,
   "id": "44c5d6d0",
   "metadata": {},
   "outputs": [],
   "source": [
    "def TopologicalSort(graph, order = None):\n",
    "    '''\n",
    "    sortowanie topologiczne grafu skierowanego\n",
    "    '''\n",
    "    lista = sorted(graph.keys())\n",
    "    visited, processed = GDFS(graph, order) #można dać inny porządek np. lista\n",
    "    n = len(graph)\n",
    "    order = {}\n",
    "    for v in graph:\n",
    "        order[v] = n*processed[v] - visited[v]\n",
    "    sort = sorted(order, key = order.get, reverse = True)\n",
    "    return sort"
   ]
  },
  {
   "cell_type": "code",
   "execution_count": 22,
   "id": "cff5c71f",
   "metadata": {},
   "outputs": [],
   "source": [
    "def MinSpanningTree(graph):\n",
    "    '''\n",
    "    algorytm jarnika-prima -- minimalne drzewa spinające. Dla nieskierowanych grafów ważonych zwraca parę,\n",
    "    gdzie waga to łączna waga drzewa, a drzewo to minimalne drzewo spinające w formie grafu ważonego.\n",
    "    '''\n",
    "    for v in graph:\n",
    "        break\n",
    "    tree = {v:[]} #zalążek drzewa\n",
    "    weight = 0 #łączna waga\n",
    "    q = PriorityQueue() #pusta kolejka priorytetowa\n",
    "    for (u, w) in graph[v]:\n",
    "        q.put((int(w), v, u))\n",
    "    while not q.empty():\n",
    "        (w, v, u) = q.get()\n",
    "        if u not in tree:\n",
    "            weight += w\n",
    "            tree[u] = [(v, w)]\n",
    "            tree[v].append([(u, w)])\n",
    "            for (x, w) in graph[u]:\n",
    "                if not x in tree:\n",
    "                    q.put((int(w), u, x))\n",
    "    if len(tree) < len(graph):\n",
    "        print('Graf niespójny - zwrócone drzewo dla jednej składowej')\n",
    "    return weight, tree"
   ]
  },
  {
   "cell_type": "code",
   "execution_count": 23,
   "id": "2d2ea486",
   "metadata": {},
   "outputs": [],
   "source": [
    "def direct_dist(graph, weighted = True, infinity = True):\n",
    "    n = len(graph)\n",
    "    if infinity == True:\n",
    "        inf = float('inf')\n",
    "        D = np.array([[inf for i in range(n)] for j in range(n)])\n",
    "    else:\n",
    "        D = np.array([[0 for i in range(n)] for j in range(n)])\n",
    "    if weighted == False:\n",
    "        for key in graph:\n",
    "            for arc in graph[key]:\n",
    "                i = list(graph.keys()).index(key)\n",
    "                j = list(graph.keys()).index(arc)\n",
    "                D[i, i] = 0\n",
    "                D[i, j] = 1\n",
    "    else:\n",
    "        for key in graph:\n",
    "            for arc in graph[key]:\n",
    "                i = list(graph.keys()).index(key)\n",
    "                j = list(graph.keys()).index(arc[0])\n",
    "                D[i, i] = 0\n",
    "                D[i, j] = arc[1]\n",
    "    return D"
   ]
  },
  {
   "cell_type": "code",
   "execution_count": 24,
   "id": "4bdc1a50",
   "metadata": {},
   "outputs": [],
   "source": [
    "def Dijkstra(graph, s):\n",
    "    \"\"\"\n",
    "    Algorytm Dijkstry - najkrótsze ścieżki z jednym źródłem (z wierzchołka s)\n",
    "    Wagi krawędzi - liczby naturalne\n",
    "    \"\"\"\n",
    "    dist = {}\n",
    "    pred = {}\n",
    "    for v in graph:\n",
    "        dist[v] = 2**31 # substytut nieskończoności\n",
    "        pred[v] = None\n",
    "    dist[s] = 0\n",
    "    q = PriorityQueue()\n",
    "    q.put((0, s))\n",
    "    V = set() # zbiór wierzchołków przetworzonych\n",
    "    while not q.empty():   # dopóki kolejka niepusta\n",
    "        (d, u) = q.get()      # odległość i najbliższy wierzchołek\n",
    "        if u not in V:\n",
    "            V.add(u)\n",
    "            for (v, w) in graph[u]:  # relax\n",
    "                if dist[v] > dist[u] + int(w):\n",
    "                    dist[v] = dist[u] + int(w)\n",
    "                    pred[v] = u\n",
    "                    q.put((dist[v], v))\n",
    "    return dist, pred"
   ]
  },
  {
   "cell_type": "code",
   "execution_count": 25,
   "id": "ebbeb466",
   "metadata": {},
   "outputs": [],
   "source": [
    "def Dijkstra2(graph, s):\n",
    "        \"\"\"Algorytm Dijkstry - szukanie najkrótszych scieżek z jednym źródłem\n",
    "            wariant z własnym kopcem - każdy wierzchołek wstawiony raz\"\"\"\n",
    "        heap = MyHeap()\n",
    "        # init\n",
    "        dist = {}\n",
    "        pred = {}\n",
    "        for v in graph:\n",
    "            dist[v] = 2**31 # taki substytut nieskończoności\n",
    "            pred[v] = None\n",
    "        dist[s] = 0\n",
    "        # główny algorytm\n",
    "        heap.insert_val(s, 0)\n",
    "        V = set()\n",
    "        while len(heap):    # dopóki kopiec niepusty, są w nim tylko wierzchołki osiągalne z s\n",
    "            (d, u) = heap.get_min()\n",
    "            V.add(u)\n",
    "            for (v, w) in graph[u]:\n",
    "                if v not in V: # relax\n",
    "                    if dist[v] > dist[u] + int(w):\n",
    "                        dist[v] = dist[u] + int(w)\n",
    "                        pred[v] = u\n",
    "                        heap.insert_val(v, dist[v]) #insert_val działa tak, że jak v jest to zmniejsza wartość, a jak nie ma to dodaje\n",
    "        return dist, pred"
   ]
  },
  {
   "cell_type": "code",
   "execution_count": 26,
   "id": "4e777b7a",
   "metadata": {},
   "outputs": [],
   "source": [
    "def Bellman_Ford(graph, s):\n",
    "    # init\n",
    "    dist = {}\n",
    "    pred = {}\n",
    "    for v in graph:\n",
    "        dist[v] = 2**31 # taki substytut nieskończoności\n",
    "        pred[v] = None\n",
    "    dist[s] = 0\n",
    "    for i in range(len(graph)-1):\n",
    "        for u in graph:\n",
    "            for (v, w) in graph[u]:  # relax\n",
    "                    if dist[v] > dist[u] + int(w):\n",
    "                        dist[v] = dist[u] + int(w)\n",
    "                        pred[v] = u\n",
    "    for u in graph:\n",
    "        for (v, w) in graph[u]:  \n",
    "                if dist[v] > dist[u] + int(w):\n",
    "                    print(f\"Graf zawiera cykl o ujemnej wadze {u} -> {v}!\") \n",
    "                    return None, None\n",
    "    return dist, pred"
   ]
  },
  {
   "cell_type": "code",
   "execution_count": 35,
   "id": "6da90be4",
   "metadata": {},
   "outputs": [],
   "source": [
    "def flow_EK(C, s, t):\n",
    "        n = len(C) # C is the capacity matrix\n",
    "        F = np.array([[0] * n for i in range(n)]) #F is the flow matrix \n",
    "        path = BFS(C, F, s, t)\n",
    "        while path != None:\n",
    "            flow = min(C[u, v] - F[u, v] for u,v in path)\n",
    "            for u,v in path:\n",
    "                F[u, v] += flow\n",
    "                F[v, u] -= flow\n",
    "            path = BFS(C, F, s, t)\n",
    "        return sum(F[s, i] for i in range(n))\n",
    "\n",
    "#find path by using BFS\n",
    "def BFS(C, F, s, t):\n",
    "        n = len(C)\n",
    "        q = PriorityQueue()\n",
    "        q.put((0, s))\n",
    "        paths = {s:[]}\n",
    "        if s == t:\n",
    "            return paths[s] \n",
    "        while not q.empty():\n",
    "            (d, u) = q.get()\n",
    "            for v in range(n):\n",
    "                    if (C[u, v] - F[u, v] > 0) and v not in paths:\n",
    "                        paths[v] = paths[u] + [(u,v)]\n",
    "                        if v == t:\n",
    "                            return paths[v]\n",
    "                        q.put((0, v))\n",
    "        return None"
   ]
  },
  {
   "cell_type": "markdown",
   "id": "3b5c8818",
   "metadata": {},
   "source": [
    "# Przykłady wykorzystania"
   ]
  },
  {
   "cell_type": "code",
   "execution_count": 37,
   "id": "25e3b3c8",
   "metadata": {},
   "outputs": [
    {
     "name": "stdout",
     "output_type": "stream",
     "text": [
      "Edmonds-Karp algorithm\n",
      "max_flow_value is:  4\n"
     ]
    }
   ],
   "source": [
    "C = np.array([[ 0, 3, 3, 0, 0, 0 ],  # s\n",
    "              [ 0, 0, 2, 3, 0, 0 ],  # o\n",
    "              [ 0, 0, 0, 0, 2, 0 ],  # p\n",
    "              [ 0, 0, 0, 0, 4, 2 ],  # q\n",
    "              [ 0, 0, 0, 0, 0, 2 ],  # r\n",
    "              [ 0, 0, 0, 0, 0, 3 ]]) # t\n",
    "              # s, o, p, q, r, t\n",
    "    \n",
    "source = 0  # s\n",
    "sink = 5    # t\n",
    "max_flow_value = flow_EK(C, source, sink)\n",
    "print(\"Edmonds-Karp algorithm\")\n",
    "print(\"max_flow_value is: \", max_flow_value)"
   ]
  },
  {
   "cell_type": "markdown",
   "id": "bc96ba43",
   "metadata": {},
   "source": [
    "# Sortowanie topologiczne"
   ]
  },
  {
   "cell_type": "code",
   "execution_count": 158,
   "id": "860ab8f0",
   "metadata": {},
   "outputs": [
    {
     "name": "stdout",
     "output_type": "stream",
     "text": [
      "['koszula', 'krawat', 'skarpety', 'slipki', 'kalesony', 'spodnie', 'szelki', 'marynarka', 'plaszcz', 'buty']\n"
     ]
    }
   ],
   "source": [
    "ubranie_graph = graph_from_edges('ubranie.txt', directed = 1)\n",
    "porz = TopologicalSort(ubranie_graph)\n",
    "print(porz)"
   ]
  },
  {
   "cell_type": "markdown",
   "id": "dd830866",
   "metadata": {},
   "source": [
    "# Small world phenomenon"
   ]
  },
  {
   "cell_type": "code",
   "execution_count": 37,
   "id": "f5f00253",
   "metadata": {},
   "outputs": [
    {
     "name": "stdout",
     "output_type": "stream",
     "text": [
      "496\n"
     ]
    }
   ],
   "source": [
    "import sys\n",
    "\n",
    "n = 500\n",
    "p = 1/100\n",
    "#sys.setrecursionlimit(n+5)\n",
    "\n",
    "rgraph = random_graph(n,p)\n",
    "lista = ConnectedComponentsGraphs(rgraph)\n",
    "graph = lista[0]\n",
    "print(len(graph))"
   ]
  },
  {
   "cell_type": "code",
   "execution_count": 38,
   "id": "016f938d",
   "metadata": {},
   "outputs": [
    {
     "name": "stdout",
     "output_type": "stream",
     "text": [
      "Promień: 5 ; Średnica: 8 ; Średnia: 4.003755853277837\n"
     ]
    }
   ],
   "source": [
    "md = {}\n",
    "ecc = {}\n",
    "for v in graph:\n",
    "    dist = Distance(graph, v)\n",
    "    ecc[v] = max(dist.values())\n",
    "    md[v] = sum(dist.values())/len(dist.values())\n",
    "print('Promień:', min(ecc.values()), '; Średnica:', max(ecc.values()), '; Średnia:', sum(md.values())/len(md.values()))"
   ]
  },
  {
   "cell_type": "markdown",
   "id": "4432e549",
   "metadata": {},
   "source": [
    "## To samo przy użyciu algorytmu Floyda-Warshalla (ale wolniej) "
   ]
  },
  {
   "cell_type": "code",
   "execution_count": 39,
   "id": "4c571310",
   "metadata": {},
   "outputs": [],
   "source": [
    "W = direct_dist(graph)"
   ]
  },
  {
   "cell_type": "code",
   "execution_count": 40,
   "id": "e979e83c",
   "metadata": {},
   "outputs": [
    {
     "data": {
      "text/plain": [
       "array([[ 0.,  1., inf, ..., inf, inf, inf],\n",
       "       [ 1.,  0., inf, ..., inf, inf, inf],\n",
       "       [inf, inf,  0., ..., inf, inf, inf],\n",
       "       ...,\n",
       "       [inf, inf, inf, ...,  0., inf, inf],\n",
       "       [inf, inf, inf, ..., inf,  0., inf],\n",
       "       [inf, inf, inf, ..., inf, inf,  0.]])"
      ]
     },
     "execution_count": 40,
     "metadata": {},
     "output_type": "execute_result"
    }
   ],
   "source": [
    "W"
   ]
  },
  {
   "cell_type": "code",
   "execution_count": 41,
   "id": "e407316b",
   "metadata": {},
   "outputs": [],
   "source": [
    "F = Floyd_Warshall(W) #nie jest szybsze"
   ]
  },
  {
   "cell_type": "code",
   "execution_count": 42,
   "id": "09e45917",
   "metadata": {},
   "outputs": [
    {
     "data": {
      "text/plain": [
       "array([[0., 1., 4., ..., 5., 4., 4.],\n",
       "       [1., 0., 5., ..., 4., 5., 5.],\n",
       "       [4., 5., 0., ..., 2., 5., 4.],\n",
       "       ...,\n",
       "       [5., 4., 2., ..., 0., 4., 4.],\n",
       "       [4., 5., 5., ..., 4., 0., 4.],\n",
       "       [4., 5., 4., ..., 4., 4., 0.]])"
      ]
     },
     "execution_count": 42,
     "metadata": {},
     "output_type": "execute_result"
    }
   ],
   "source": [
    "F"
   ]
  },
  {
   "cell_type": "code",
   "execution_count": 43,
   "id": "4da41f11",
   "metadata": {},
   "outputs": [
    {
     "name": "stdout",
     "output_type": "stream",
     "text": [
      "Promień: 5.0 ; Średnica: 8.0 ; Średnia: 4.003755853277837\n"
     ]
    }
   ],
   "source": [
    "md1 = {}\n",
    "ecc1 = {}\n",
    "for i in range(len(F)):\n",
    "    ecc1[i] = max(F[i])\n",
    "    md1[i] = sum(F[i])/len(F[i])\n",
    "print('Promień:', min(ecc1.values()), '; Średnica:', max(ecc1.values()), '; Średnia:', sum(md1.values())/len(md1.values()))"
   ]
  },
  {
   "cell_type": "markdown",
   "id": "adac121d",
   "metadata": {},
   "source": [
    "# Dalsze przykłady"
   ]
  },
  {
   "cell_type": "code",
   "execution_count": 232,
   "id": "b19a80d9",
   "metadata": {},
   "outputs": [],
   "source": [
    "prufer_tree = tree_from_Prufer('1 2 7 3 4')"
   ]
  },
  {
   "cell_type": "code",
   "execution_count": 233,
   "id": "af7c1348",
   "metadata": {},
   "outputs": [
    {
     "name": "stdout",
     "output_type": "stream",
     "text": [
      "1 : 5 2\n",
      "2 : 1 7\n",
      "3 : 6 4\n",
      "4 : 3 7\n",
      "5 : 1\n",
      "6 : 3\n",
      "7 : 2 4\n"
     ]
    }
   ],
   "source": [
    "print_graph(prufer_tree)"
   ]
  },
  {
   "cell_type": "code",
   "execution_count": 234,
   "id": "60550c5e",
   "metadata": {},
   "outputs": [
    {
     "data": {
      "text/plain": [
       "[1, 5, 2, 7, 4, 3, 6]"
      ]
     },
     "execution_count": 234,
     "metadata": {},
     "output_type": "execute_result"
    }
   ],
   "source": [
    "preorder(prufer_tree, 1)"
   ]
  },
  {
   "cell_type": "code",
   "execution_count": 235,
   "id": "b0237fd4",
   "metadata": {},
   "outputs": [
    {
     "data": {
      "text/plain": [
       "[5, 6, 3, 4, 7, 2, 1]"
      ]
     },
     "execution_count": 235,
     "metadata": {},
     "output_type": "execute_result"
    }
   ],
   "source": [
    "postorder(prufer_tree, 1)"
   ]
  },
  {
   "cell_type": "code",
   "execution_count": 148,
   "id": "5ae16848",
   "metadata": {},
   "outputs": [],
   "source": [
    "random_graph = random_bipartite_graph(5, 1/5)"
   ]
  },
  {
   "cell_type": "code",
   "execution_count": 149,
   "id": "06fdf87a",
   "metadata": {},
   "outputs": [
    {
     "name": "stdout",
     "output_type": "stream",
     "text": [
      "1 : 6 9\n",
      "2 : 8\n",
      "3 : 7 9 10\n",
      "4 : 6 9\n",
      "5 : 10\n",
      "6 : 1 4\n",
      "7 : 3\n",
      "8 : 2\n",
      "9 : 1 3 4\n",
      "10 : 3 5\n"
     ]
    }
   ],
   "source": [
    "print_graph(random_graph)"
   ]
  },
  {
   "cell_type": "code",
   "execution_count": 24,
   "id": "d523dd82",
   "metadata": {},
   "outputs": [
    {
     "name": "stdout",
     "output_type": "stream",
     "text": [
      "1 : 3\n",
      "2 :\n",
      "3 : 1 7 8\n",
      "4 : 5 6 9\n",
      "5 : 4 10\n",
      "6 : 4\n",
      "7 : 3 9 10\n",
      "8 : 3\n",
      "9 : 4 7 10\n",
      "10 : 5 7 9\n",
      "----------------------------------------------------------\n"
     ]
    }
   ],
   "source": [
    "graph = random_graph(10, 1/5)\n",
    "print_graph(graph)\n",
    "print('----------------------------------------------------------')"
   ]
  },
  {
   "cell_type": "code",
   "execution_count": 25,
   "id": "b66ee992",
   "metadata": {},
   "outputs": [
    {
     "name": "stdout",
     "output_type": "stream",
     "text": [
      "[{1, 2, 3, 4, 5, 6, 7, 8, 9, 10}, {1, 3, 4, 5, 6, 7, 8, 9, 10}, {2}]\n"
     ]
    }
   ],
   "source": [
    "print(ConnectedComponentsBFS(graph))"
   ]
  },
  {
   "cell_type": "code",
   "execution_count": 111,
   "id": "7fd36149",
   "metadata": {},
   "outputs": [
    {
     "name": "stdout",
     "output_type": "stream",
     "text": [
      "1 : 9\n",
      "2 : 9 10\n",
      "4 : 5 7 10\n",
      "5 : 4 10\n",
      "7 : 4\n",
      "8 : 10\n",
      "9 : 1 2\n",
      "10 : 2 4 5 8\n",
      "-----------------------------------------\n",
      "3 :\n",
      "-----------------------------------------\n",
      "6 :\n",
      "-----------------------------------------\n"
     ]
    }
   ],
   "source": [
    "for i in range(len(ConnectedComponentsGraphs(graph))):\n",
    "    print_graph(ConnectedComponentsGraphs(graph)[i])\n",
    "    print('-----------------------------------------')"
   ]
  },
  {
   "cell_type": "code",
   "execution_count": 32,
   "id": "47121112",
   "metadata": {},
   "outputs": [],
   "source": [
    "vertices = [\"a\", \"b\", \"c\", \"d\", \"e\", \"i\"]\n",
    "matrix = np.array([[0,1,1,0,0,0],[1,0,1,0,0,0],[1,1,0,0,1,0],[0,0,1,0,1,1],[0,0,1,1,0,1],[1,0,1,0,1,0]])"
   ]
  },
  {
   "cell_type": "code",
   "execution_count": 9,
   "id": "5e37fedc",
   "metadata": {},
   "outputs": [
    {
     "name": "stdout",
     "output_type": "stream",
     "text": [
      "['a', 'b', 'c', 'd', 'e', 'i']\n",
      "[[0 1 1 0 0 0]\n",
      " [1 0 1 0 0 0]\n",
      " [1 1 0 0 1 0]\n",
      " [0 0 1 0 1 1]\n",
      " [0 0 1 1 0 1]\n",
      " [1 0 1 0 1 0]]\n",
      "------------------------------------------------------\n",
      "a :  b  c\n",
      "b :  a  c\n",
      "c :  a  b  e\n",
      "d :  c  e  i\n",
      "e :  c  d  i\n",
      "i :  a  c  e\n",
      "------------------------------------------------------\n",
      "1 :  2  3\n",
      "2 :  1  3\n",
      "3 :  1  2  5\n",
      "4 :  3  5  6\n",
      "5 :  3  4  6\n",
      "6 :  1  3  5\n"
     ]
    }
   ],
   "source": [
    "print(vertices)\n",
    "print(matrix)\n",
    "print(\"------------------------------------------------------\")\n",
    "print_matrix(vertices, matrix)\n",
    "print(\"------------------------------------------------------\")\n",
    "print_matrix(None, matrix)"
   ]
  },
  {
   "cell_type": "markdown",
   "id": "041c7bb5",
   "metadata": {},
   "source": [
    "Druga reprezentacja"
   ]
  },
  {
   "cell_type": "code",
   "execution_count": 65,
   "id": "c81d3904",
   "metadata": {},
   "outputs": [
    {
     "name": "stdout",
     "output_type": "stream",
     "text": [
      "{'a': ['b', 'c'], 'b': ['a', 'c'], 'c': ['a', 'b', 'e'], 'd': ['c', 'e', 'i'], 'e': ['c', 'd', 'i'], 'i': ['a', 'c', 'e'], 'g': []}\n"
     ]
    }
   ],
   "source": [
    "graph = {\n",
    "    'a' :  ['b',  'c'],\n",
    "    'b' :  ['a',  'c'],\n",
    "    'c' :  ['a',  'b',  'e'],\n",
    "    'd' :  ['c',  'e',  'i'],\n",
    "    'e' :  ['c',  'd',  'i'],\n",
    "    'i' :  ['a',  'c',  'e'],\n",
    "    'g' :  []\n",
    "}\n",
    "print(graph)"
   ]
  },
  {
   "cell_type": "code",
   "execution_count": 11,
   "id": "91bfeddf",
   "metadata": {},
   "outputs": [
    {
     "name": "stdout",
     "output_type": "stream",
     "text": [
      "a : b c\n",
      "b : a c\n",
      "c : a b e\n",
      "d : c e i\n",
      "e : c d i\n",
      "i : a c e\n",
      "g :\n"
     ]
    }
   ],
   "source": [
    "print_graph(graph)"
   ]
  },
  {
   "cell_type": "code",
   "execution_count": 12,
   "id": "2f3fb322",
   "metadata": {},
   "outputs": [
    {
     "name": "stdout",
     "output_type": "stream",
     "text": [
      "a : b c\n",
      "b : a c\n",
      "c : a b e\n",
      "d : c e i\n",
      "e : c d i\n",
      "i : a c e\n",
      "g :\n",
      "h :\n"
     ]
    }
   ],
   "source": [
    "add_vertex(graph, \"h\")\n",
    "print_graph(graph)"
   ]
  },
  {
   "cell_type": "code",
   "execution_count": 13,
   "id": "c4914111",
   "metadata": {},
   "outputs": [
    {
     "name": "stdout",
     "output_type": "stream",
     "text": [
      "a : b c\n",
      "b : a c\n",
      "c : a b e\n",
      "d : c e i\n",
      "e : c d i\n",
      "i : a c e\n",
      "g :\n",
      "h :\n",
      "u : v\n",
      "v :\n"
     ]
    }
   ],
   "source": [
    "add_arc(graph, [\"u\", \"v\"])\n",
    "print_graph(graph)"
   ]
  },
  {
   "cell_type": "code",
   "execution_count": 14,
   "id": "75844f41",
   "metadata": {},
   "outputs": [
    {
     "name": "stdout",
     "output_type": "stream",
     "text": [
      "a : b c\n",
      "b : a c\n",
      "c : a b e\n",
      "d : c e i\n",
      "e : c d i\n",
      "i : a c e h\n",
      "g :\n",
      "h : f i\n",
      "u : v\n",
      "v :\n",
      "f : h\n"
     ]
    }
   ],
   "source": [
    "add_edge(graph, [\"h\", \"f\"])\n",
    "add_edge(graph, [\"h\", \"i\"])\n",
    "print_graph(graph)"
   ]
  },
  {
   "cell_type": "markdown",
   "id": "b0e469ac",
   "metadata": {},
   "source": [
    "Tworzenie grafów losowych G(n,p)"
   ]
  },
  {
   "cell_type": "code",
   "execution_count": 15,
   "id": "d021e183",
   "metadata": {},
   "outputs": [],
   "source": [
    "seed(2024)"
   ]
  },
  {
   "cell_type": "code",
   "execution_count": 16,
   "id": "1ec3ee90",
   "metadata": {},
   "outputs": [
    {
     "name": "stdout",
     "output_type": "stream",
     "text": [
      "1 : 5 10\n",
      "2 : 3 5 9 10\n",
      "3 : 2 8\n",
      "4 : 6 7 8 10\n",
      "5 : 1 2 10\n",
      "6 : 4 8 10\n",
      "7 : 4 9 10\n",
      "8 : 3 4 6\n",
      "9 : 2 7\n",
      "10 : 1 2 4 5 6 7\n"
     ]
    }
   ],
   "source": [
    "#losuje graf G(10,1/3)\n",
    "random_g = random_graph(10,1/3) \n",
    "print_graph(random_g)"
   ]
  },
  {
   "cell_type": "code",
   "execution_count": 46,
   "id": "b15c6fda",
   "metadata": {},
   "outputs": [],
   "source": [
    "graph = np.array([[0,1,1,0,0,0], [1,0,1,0,0,0], [1,1,0,0,1,0], [0,0,1,0,1,1], [0,0,1,1,0,1], [1,0,1,0,1,0]])"
   ]
  },
  {
   "cell_type": "code",
   "execution_count": 18,
   "id": "8ad2fd2c",
   "metadata": {},
   "outputs": [
    {
     "name": "stdout",
     "output_type": "stream",
     "text": [
      "1 : 2 3\n",
      "2 : 1 3\n",
      "3 : 1 2 5\n",
      "4 : 3 5 6\n",
      "5 : 3 4 6\n",
      "6 : 1 3 5\n"
     ]
    }
   ],
   "source": [
    "print_graph(matrix_to_dict(graph))"
   ]
  },
  {
   "cell_type": "code",
   "execution_count": 24,
   "id": "5f320c6f",
   "metadata": {},
   "outputs": [
    {
     "name": "stdout",
     "output_type": "stream",
     "text": [
      "1 : 2\n",
      "2 : 3\n",
      "3 : 4\n",
      "4 : 5\n",
      "5 : 6\n",
      "6 : 1\n"
     ]
    }
   ],
   "source": [
    "print_graph(cycle(6))"
   ]
  },
  {
   "cell_type": "code",
   "execution_count": 84,
   "id": "bfeb4e63",
   "metadata": {},
   "outputs": [
    {
     "name": "stdout",
     "output_type": "stream",
     "text": [
      "a : b c\n",
      "b : a c\n",
      "c : a b e\n",
      "d : c e i\n",
      "e : c d i\n",
      "i : a c e\n",
      "g :\n"
     ]
    }
   ],
   "source": [
    "vertices, matrix = dict_to_matrix(graph)\n",
    "print_graph(matrix_to_dict(vertices, matrix))"
   ]
  },
  {
   "cell_type": "code",
   "execution_count": 10,
   "id": "faaccde4",
   "metadata": {},
   "outputs": [
    {
     "name": "stdout",
     "output_type": "stream",
     "text": [
      "Overwriting lista.txt\n"
     ]
    }
   ],
   "source": [
    "%%writefile lista.txt\n",
    "A   B\n",
    "B C\n",
    "B D\n",
    "D C\n",
    "E \n",
    "F"
   ]
  },
  {
   "cell_type": "code",
   "execution_count": 63,
   "id": "2e94ded5",
   "metadata": {},
   "outputs": [
    {
     "name": "stdout",
     "output_type": "stream",
     "text": [
      "A : B\n",
      "B : A C D\n",
      "C : B D\n",
      "D : B C\n",
      "E :\n",
      "F :\n"
     ]
    }
   ],
   "source": [
    "graph1 = graph_from_edges(\"lista.txt\")\n",
    "print_graph(graph1)"
   ]
  },
  {
   "cell_type": "code",
   "execution_count": 81,
   "id": "bd7e0dbe",
   "metadata": {},
   "outputs": [],
   "source": [
    "add_edge(graph1, (\"A\", \"E\"))\n",
    "add_edge(graph1, (\"E\", \"F\"))\n",
    "add_vertex(graph1, 'G')"
   ]
  },
  {
   "cell_type": "code",
   "execution_count": 82,
   "id": "7c6eea3c",
   "metadata": {},
   "outputs": [
    {
     "name": "stdout",
     "output_type": "stream",
     "text": [
      "A : B E\n",
      "B : A C D\n",
      "C : B D\n",
      "D : B C\n",
      "E : A F\n",
      "F : E\n",
      "G :\n"
     ]
    }
   ],
   "source": [
    "print_graph(graph1)"
   ]
  },
  {
   "cell_type": "code",
   "execution_count": 83,
   "id": "bd5d527d",
   "metadata": {},
   "outputs": [],
   "source": [
    "graph_to_neighbourlist(graph1, \"graf1.txt\")"
   ]
  },
  {
   "cell_type": "code",
   "execution_count": 84,
   "id": "86e418f9",
   "metadata": {},
   "outputs": [
    {
     "name": "stdout",
     "output_type": "stream",
     "text": [
      "A : B E\n",
      "B : A C D\n",
      "C : B D\n",
      "D : B C\n",
      "E : A F\n",
      "F : E\n",
      "G :\n"
     ]
    }
   ],
   "source": [
    "print_graph(graph_from_neighbourlist('graf1.txt'))"
   ]
  },
  {
   "cell_type": "code",
   "execution_count": 12,
   "id": "d408be0f",
   "metadata": {},
   "outputs": [
    {
     "name": "stdout",
     "output_type": "stream",
     "text": [
      "['A', 'B']\n",
      "['B', 'C']\n",
      "['B', 'D']\n",
      "['D', 'C']\n",
      "['E']\n",
      "['F']\n"
     ]
    }
   ],
   "source": [
    "file = open('lista.txt', 'r')\n",
    "for line in file:\n",
    "    words = line.split()\n",
    "    print(words)"
   ]
  },
  {
   "cell_type": "code",
   "execution_count": 16,
   "id": "31b3ed05",
   "metadata": {},
   "outputs": [],
   "source": [
    "tree = {\n",
    "    '1' :  ['2'],\n",
    "    '2' :  ['1',  '3',  '4'],\n",
    "    '3' :  ['2'],\n",
    "    '4' :  ['2'],\n",
    "}"
   ]
  },
  {
   "cell_type": "code",
   "execution_count": 17,
   "id": "21e5def4",
   "metadata": {},
   "outputs": [
    {
     "name": "stdout",
     "output_type": "stream",
     "text": [
      "2 2\n"
     ]
    }
   ],
   "source": [
    "print(Prufer(tree))"
   ]
  },
  {
   "cell_type": "code",
   "execution_count": 165,
   "id": "cd61f173",
   "metadata": {},
   "outputs": [
    {
     "name": "stdout",
     "output_type": "stream",
     "text": [
      "1 : 5 2\n",
      "2 : 1 7\n",
      "3 : 6 4\n",
      "4 : 3 7\n",
      "5 : 1\n",
      "6 : 3\n",
      "7 : 2 4\n"
     ]
    }
   ],
   "source": [
    "print_graph(tree_from_Prufer('1 2 7 3 4'))"
   ]
  },
  {
   "cell_type": "code",
   "execution_count": 170,
   "id": "9f0b23ed",
   "metadata": {},
   "outputs": [],
   "source": [
    "prufer_tree = tree_from_Prufer('1 2 7 3 4')"
   ]
  },
  {
   "cell_type": "code",
   "execution_count": 24,
   "id": "b867d545",
   "metadata": {},
   "outputs": [
    {
     "name": "stdout",
     "output_type": "stream",
     "text": [
      "1 2 7 3 4\n"
     ]
    }
   ],
   "source": [
    "print(Prufer(tree_from_Prufer('1 2 7 3 4')))"
   ]
  },
  {
   "cell_type": "code",
   "execution_count": 25,
   "id": "d2a3d9b5",
   "metadata": {},
   "outputs": [
    {
     "name": "stdout",
     "output_type": "stream",
     "text": [
      "1 : 3 4 7\n",
      "2 : 6 8\n",
      "3 : 1\n",
      "4 : 1\n",
      "5 : 7\n",
      "6 : 7 2\n",
      "7 : 1 5 6\n",
      "8 : 2\n"
     ]
    }
   ],
   "source": [
    "print_graph(tree_from_Prufer('1 1 7 7 6 2'))"
   ]
  },
  {
   "cell_type": "code",
   "execution_count": 26,
   "id": "ee608a21",
   "metadata": {},
   "outputs": [
    {
     "name": "stdout",
     "output_type": "stream",
     "text": [
      "1 1 7 7 6 2\n"
     ]
    }
   ],
   "source": [
    "print(Prufer(tree_from_Prufer('1 1 7 7 6 2')))"
   ]
  },
  {
   "cell_type": "code",
   "execution_count": 59,
   "id": "9fcfa354",
   "metadata": {},
   "outputs": [
    {
     "data": {
      "text/plain": [
       "('wagi0.txt', <http.client.HTTPMessage at 0x19daf8847c0>)"
      ]
     },
     "execution_count": 59,
     "metadata": {},
     "output_type": "execute_result"
    }
   ],
   "source": [
    "import urllib.request\n",
    "url = 'https://raw.githubusercontent.com/pgordin/OptDisc2024/main/wagi0.txt'\n",
    "filename = 'wagi0.txt'\n",
    "urllib.request.urlretrieve(url, filename)"
   ]
  },
  {
   "cell_type": "code",
   "execution_count": 116,
   "id": "f7bc6076",
   "metadata": {},
   "outputs": [],
   "source": [
    "wgraph = graph_from_edges(filename, directed = 0)"
   ]
  },
  {
   "cell_type": "code",
   "execution_count": 123,
   "id": "c1cae4b2",
   "metadata": {},
   "outputs": [
    {
     "name": "stdout",
     "output_type": "stream",
     "text": [
      "A : ('B', '3') ('E', '10')\n",
      "B : ('A', '3') ('C', '26') ('D', '12')\n",
      "E : ('A', '10') ('D', '7') ('F', '8') ('H', '4')\n",
      "C : ('B', '26') ('D', '17') ('F', '13') ('G', '14')\n",
      "D : ('B', '12') ('C', '17') ('E', '7') ('F', '15')\n",
      "F : ('C', '13') ('D', '15') ('E', '8') ('G', '9') ('H', '6')\n",
      "G : ('C', '14') ('F', '9') ('H', '16') ('I', '11')\n",
      "H : ('E', '4') ('F', '6') ('G', '16')\n",
      "I : ('G', '11')\n"
     ]
    }
   ],
   "source": [
    "print_graph(wgraph)"
   ]
  },
  {
   "cell_type": "code",
   "execution_count": 89,
   "id": "67dc8a81",
   "metadata": {},
   "outputs": [
    {
     "name": "stdout",
     "output_type": "stream",
     "text": [
      "63\n",
      "A : [('B', 3)] [('E', 10)]\n",
      "B : ('A', 3)\n",
      "E : ('A', 10) [('H', 4)] [('D', 7)]\n",
      "H : ('E', 4) [('F', 6)]\n",
      "F : ('H', 6) [('G', 9)] [('C', 13)]\n",
      "D : ('E', 7)\n",
      "G : ('F', 9) [('I', 11)]\n",
      "I : ('G', 11)\n",
      "C : ('F', 13)\n"
     ]
    }
   ],
   "source": [
    "weight, tree = MinSpanningTree(wgraph)\n",
    "print(weight)\n",
    "print_graph(tree)"
   ]
  },
  {
   "cell_type": "code",
   "execution_count": 180,
   "id": "0c2939f2",
   "metadata": {},
   "outputs": [
    {
     "data": {
      "text/plain": [
       "array([[ 0.,  3., 10., inf, inf, inf, inf, inf, inf],\n",
       "       [ 3.,  0., inf, 26., 12., inf, inf, inf, inf],\n",
       "       [10., inf,  0., inf,  7.,  8., inf,  4., inf],\n",
       "       [inf, 26., inf,  0., 17., 13., 14., inf, inf],\n",
       "       [inf, 12.,  7., 17.,  0., 15., inf, inf, inf],\n",
       "       [inf, inf,  8., 13., 15.,  0.,  9.,  6., inf],\n",
       "       [inf, inf, inf, 14., inf,  9.,  0., 16., 11.],\n",
       "       [inf, inf,  4., inf, inf,  6., 16.,  0., inf],\n",
       "       [inf, inf, inf, inf, inf, inf, 11., inf,  0.]])"
      ]
     },
     "execution_count": 180,
     "metadata": {},
     "output_type": "execute_result"
    }
   ],
   "source": [
    "D = direct_dist(wgraph, weighted = 1)\n",
    "D"
   ]
  },
  {
   "cell_type": "code",
   "execution_count": 181,
   "id": "d4abf5de",
   "metadata": {},
   "outputs": [
    {
     "data": {
      "text/plain": [
       "array([[ 0.,  3., 10., 29., 15., 18., 27., 14., 38.],\n",
       "       [ 3.,  0., 13., 26., 12., 21., 30., 17., 41.],\n",
       "       [10., 13.,  0., 21.,  7.,  8., 17.,  4., 28.],\n",
       "       [29., 26., 21.,  0., 17., 13., 14., 19., 25.],\n",
       "       [15., 12.,  7., 17.,  0., 15., 24., 11., 35.],\n",
       "       [18., 21.,  8., 13., 15.,  0.,  9.,  6., 20.],\n",
       "       [27., 30., 17., 14., 24.,  9.,  0., 15., 11.],\n",
       "       [14., 17.,  4., 19., 11.,  6., 15.,  0., 26.],\n",
       "       [38., 41., 28., 25., 35., 20., 11., 26.,  0.]])"
      ]
     },
     "execution_count": 181,
     "metadata": {},
     "output_type": "execute_result"
    }
   ],
   "source": [
    "Floyd_Warshall(D)"
   ]
  },
  {
   "cell_type": "code",
   "execution_count": 65,
   "id": "570540e4",
   "metadata": {},
   "outputs": [],
   "source": [
    "wgraph2 = graph_from_edges('wagi2.txt', directed = 1)"
   ]
  },
  {
   "cell_type": "code",
   "execution_count": 66,
   "id": "c853b528",
   "metadata": {},
   "outputs": [
    {
     "name": "stdout",
     "output_type": "stream",
     "text": [
      "1 : ('2', '3') ('3', '8') ('5', '-4')\n",
      "2 : ('4', '1') ('5', '7')\n",
      "3 : ('2', '4')\n",
      "5 : ('4', '6')\n",
      "4 : ('1', '2') ('3', '-5')\n"
     ]
    }
   ],
   "source": [
    "print_graph(wgraph2)"
   ]
  },
  {
   "cell_type": "code",
   "execution_count": 67,
   "id": "23e3507f",
   "metadata": {},
   "outputs": [
    {
     "data": {
      "text/plain": [
       "({'1': 0, '2': 1, '3': -3, '5': -4, '4': 2},\n",
       " {'1': None, '2': '3', '3': '4', '5': '1', '4': '5'})"
      ]
     },
     "execution_count": 67,
     "metadata": {},
     "output_type": "execute_result"
    }
   ],
   "source": [
    "Dijkstra(wgraph2, '1')"
   ]
  },
  {
   "cell_type": "code",
   "execution_count": 68,
   "id": "c94bcafe",
   "metadata": {},
   "outputs": [
    {
     "data": {
      "text/plain": [
       "({'1': 0, '2': 1, '3': -3, '5': -4, '4': 2},\n",
       " {'1': None, '2': '3', '3': '4', '5': '1', '4': '5'})"
      ]
     },
     "execution_count": 68,
     "metadata": {},
     "output_type": "execute_result"
    }
   ],
   "source": [
    "Bellman_Ford(wgraph2, '1')"
   ]
  },
  {
   "cell_type": "markdown",
   "id": "d5ae0d91",
   "metadata": {},
   "source": [
    "# EK-flow test"
   ]
  },
  {
   "cell_type": "code",
   "execution_count": 31,
   "id": "e84f7d18",
   "metadata": {},
   "outputs": [],
   "source": [
    "wgraph3 = graph_from_edges('flow1.txt', directed = 1)"
   ]
  },
  {
   "cell_type": "code",
   "execution_count": 32,
   "id": "0f8840c0",
   "metadata": {},
   "outputs": [
    {
     "name": "stdout",
     "output_type": "stream",
     "text": [
      "s : ('a', '6') ('b', '4')\n",
      "a : ('b', '5') ('c', '2') ('d', '3')\n",
      "b : ('c', '6')\n",
      "c : ('a', '2') ('d', '3') ('t', '4')\n",
      "d : ('t', '6')\n",
      "t :\n"
     ]
    }
   ],
   "source": [
    "print_graph(wgraph3)"
   ]
  },
  {
   "cell_type": "code",
   "execution_count": 38,
   "id": "36220801",
   "metadata": {},
   "outputs": [
    {
     "data": {
      "text/plain": [
       "array([[0, 6, 4, 0, 0, 0],\n",
       "       [0, 0, 5, 2, 3, 0],\n",
       "       [0, 0, 0, 6, 0, 0],\n",
       "       [0, 2, 0, 0, 3, 4],\n",
       "       [0, 0, 0, 0, 0, 6],\n",
       "       [0, 0, 0, 0, 0, 0]])"
      ]
     },
     "execution_count": 38,
     "metadata": {},
     "output_type": "execute_result"
    }
   ],
   "source": [
    "C = direct_dist(wgraph3, weighted = True, infinity = False)\n",
    "C"
   ]
  },
  {
   "cell_type": "code",
   "execution_count": 39,
   "id": "e4c2edbe",
   "metadata": {},
   "outputs": [
    {
     "name": "stdout",
     "output_type": "stream",
     "text": [
      "Edmonds-Karp algorithm\n",
      "max_flow_value is:  10\n"
     ]
    }
   ],
   "source": [
    "source = 0  # s\n",
    "sink = 5    # t\n",
    "max_flow_value = flow_EK(C, source, sink)\n",
    "print(\"Edmonds-Karp algorithm\")\n",
    "print(\"max_flow_value is: \", max_flow_value)"
   ]
  },
  {
   "cell_type": "code",
   "execution_count": null,
   "id": "a73db4fe",
   "metadata": {},
   "outputs": [],
   "source": []
  }
 ],
 "metadata": {
  "kernelspec": {
   "display_name": "Python 3 (ipykernel)",
   "language": "python",
   "name": "python3"
  },
  "language_info": {
   "codemirror_mode": {
    "name": "ipython",
    "version": 3
   },
   "file_extension": ".py",
   "mimetype": "text/x-python",
   "name": "python",
   "nbconvert_exporter": "python",
   "pygments_lexer": "ipython3",
   "version": "3.8.2"
  }
 },
 "nbformat": 4,
 "nbformat_minor": 5
}
