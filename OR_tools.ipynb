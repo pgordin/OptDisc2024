{
  "nbformat": 4,
  "nbformat_minor": 0,
  "metadata": {
    "colab": {
      "provenance": [],
      "include_colab_link": true
    },
    "kernelspec": {
      "name": "python3",
      "display_name": "Python 3"
    },
    "language_info": {
      "name": "python"
    }
  },
  "cells": [
    {
      "cell_type": "markdown",
      "metadata": {
        "id": "view-in-github",
        "colab_type": "text"
      },
      "source": [
        "<a href=\"https://colab.research.google.com/github/pgordin/OptDisc2024/blob/main/OR_tools.ipynb\" target=\"_parent\"><img src=\"https://colab.research.google.com/assets/colab-badge.svg\" alt=\"Open In Colab\"/></a>"
      ]
    },
    {
      "cell_type": "code",
      "source": [
        "pip install ortools"
      ],
      "metadata": {
        "id": "FNebscnzSTrY"
      },
      "execution_count": null,
      "outputs": []
    },
    {
      "cell_type": "markdown",
      "source": [
        "W bibliotece ortools dostępne są różne solvery, z których każdy jest zoptymalizowany dla określonych rodzajów problemów.\n",
        "\n",
        "GLOP (Google Linear Optimization) jest solwerem dedykowanym dla problemów optymalizacji liniowej w których funkcja celu oraz ograniczenia są liniowe.\n"
      ],
      "metadata": {
        "id": "FX2owc6VHQyl"
      }
    },
    {
      "cell_type": "code",
      "source": [
        "from ortools.linear_solver import pywraplp\n",
        "\n",
        "# Inicjalizujemy obiekt solvera\n",
        "solver = pywraplp.Solver.CreateSolver('GLOP')\n",
        "\n",
        "# Dodajemy zmienne decyzyjne\n",
        "x1 = solver.NumVar(0.0, solver.infinity(), 'x1')\n",
        "x2 = solver.NumVar(0.0, solver.infinity(), 'x2')\n",
        "x3 = solver.NumVar(0.0, solver.infinity(), 'x3')\n",
        "x4 = solver.NumVar(0.0, solver.infinity(), 'x4')\n",
        "x5 = solver.NumVar(0.0, solver.infinity(), 'x5')\n",
        "x6 = solver.NumVar(0.0, solver.infinity(), 'x6')\n",
        "\n",
        "# Definiujemy funkcję celu\n",
        "solver.Maximize(20*x1 + 15*x2 + 10*x3 + 5*x4 + 30*x5 + 18*x6)\n",
        "\n",
        "# Dodajemy ograniczenia\n",
        "solver.Add(x1 <= 3.5)\n",
        "solver.Add(x2 <= 2)\n",
        "solver.Add(x3 <= 3)\n",
        "solver.Add(x4 <= 5)\n",
        "solver.Add(x5 <= 1)\n",
        "solver.Add(x6 <= 2.5)\n",
        "solver.Add(x1 + x2 + x3 + x4+ x5 + x6 <= 10)\n",
        "\n",
        "# Rozwiązujemy problem\n",
        "results = solver.Solve()\n",
        "\n",
        "# Sprawdzamy czy rozwiązanie jest optymalne\n",
        "if results == pywraplp.Solver.OPTIMAL: print(f'The solution is optimal.')\n",
        "print(f'Objective value: z* = {solver.Objective().Value()}')\n",
        "print(f'Solution: x1* = {x1.solution_value()}, x2* = {x2.solution_value()}, x3* = {x3.solution_value()}, x4* = {x4.solution_value()}, x5* = {x5.solution_value()}, x6* = {x6.solution_value()}')"
      ],
      "metadata": {
        "colab": {
          "base_uri": "https://localhost:8080/"
        },
        "id": "EuXGH5jTDuHz",
        "outputId": "0d6c35fd-325a-4c4d-9290-3c44166878c1"
      },
      "execution_count": null,
      "outputs": [
        {
          "output_type": "stream",
          "name": "stdout",
          "text": [
            "The solution is optimal.\n",
            "Objective value: z* = 185.0\n",
            "Solution: x1* = 3.5, x2* = 2.0, x3* = 1.0, x4* = 0.0, x5* = 1.0, x6* = 2.5\n"
          ]
        }
      ]
    },
    {
      "cell_type": "markdown",
      "source": [
        "CBC (Coin-OR Branch and Cut): jest solwerem ogólnego przeznaczenia i może być używany do rozwiązywania różnych problemów optymalizacji całkowitoliczbowej w tym problemów plecakowych."
      ],
      "metadata": {
        "id": "Zw-Kz2FBImcb"
      }
    },
    {
      "cell_type": "code",
      "source": [
        "from ortools.linear_solver import pywraplp\n",
        "\n",
        "# Definiujemy funkcję\n",
        "\n",
        "def solve_knapsack_problem(values, weights, max_weight, max_quantities):\n",
        "    solver = pywraplp.Solver.CreateSolver('CBC')\n",
        "\n",
        "    # Dodajemy zmienne decyzyjne\n",
        "    x = []\n",
        "    for i in range(len(values)):\n",
        "        x.append(solver.IntVar(0, max_quantities[i], 'x[%i]' % i))\n",
        "\n",
        "    # Dodajemy ograniczenia dotyczącego wagi\n",
        "    weight_constraint = solver.Constraint(0, max_weight)\n",
        "    for i in range(len(values)):\n",
        "        weight_constraint.SetCoefficient(x[i], weights[i])\n",
        "\n",
        "    # Dodajemy funkcje celu\n",
        "    objective = solver.Objective()\n",
        "    for i in range(len(values)):\n",
        "        objective.SetCoefficient(x[i], values[i])\n",
        "    objective.SetMaximization()\n",
        "\n",
        "    # Rozwiązanie problemu\n",
        "    solver.Solve()\n",
        "\n",
        "    # Wyświetlenie wyników\n",
        "    print('Wartość maksymalna:', objective.Value())\n",
        "    print('Przedmioty do wzięcia:')\n",
        "    for i in range(len(values)):\n",
        "        print('Przedmiot %s: ilość = %d' % (chr(65 + i), x[i].solution_value()))\n",
        "\n"
      ],
      "metadata": {
        "id": "ipmRZJcMEaOC"
      },
      "execution_count": null,
      "outputs": []
    },
    {
      "cell_type": "code",
      "source": [
        "# Dane\n",
        "values = [5000, 1500, 200, 1000, 500, 600]\n",
        "weights = [1, 0.5, 0.3, 4, 1, 3]\n",
        "max_weight = 11.5\n",
        "max_quantities = [1, 3, 5, 1, 3, 2]\n",
        "\n",
        "\n"
      ],
      "metadata": {
        "id": "LBUnWX5dDm2I"
      },
      "execution_count": null,
      "outputs": []
    },
    {
      "cell_type": "code",
      "source": [
        "solve_knapsack_problem(values, weights, max_weight, max_quantities)\n"
      ],
      "metadata": {
        "id": "2EJozo3aSqCu",
        "colab": {
          "base_uri": "https://localhost:8080/"
        },
        "outputId": "14f5fdbc-6dd0-47c3-ff1e-4e99d488aa80"
      },
      "execution_count": null,
      "outputs": [
        {
          "output_type": "stream",
          "name": "stdout",
          "text": [
            "Wartość maksymalna: 13000.0\n",
            "Przedmioty do wzięcia:\n",
            "Przedmiot A: ilość = 1\n",
            "Przedmiot B: ilość = 3\n",
            "Przedmiot C: ilość = 5\n",
            "Przedmiot D: ilość = 1\n",
            "Przedmiot E: ilość = 3\n",
            "Przedmiot F: ilość = 0\n"
          ]
        }
      ]
    }
  ]
}