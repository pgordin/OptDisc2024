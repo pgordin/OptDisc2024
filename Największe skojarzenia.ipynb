{
 "cells": [
  {
   "cell_type": "markdown",
   "id": "6f8c6df1",
   "metadata": {},
   "source": [
    "# Algorytm Hopcrofta-Karpa"
   ]
  },
  {
   "cell_type": "markdown",
   "id": "62e09863",
   "metadata": {},
   "source": [
    "Algorytm ten wykorzystuje ścieżki powiększające do znalezienia największego skojarzenia w grafie dwudzielnym.\n",
    "\n",
    "*Ścieżka powiększająca* to ścieżka która zaczyna się i kończy na wierzchołkach wcześniej nieskojarzonych i na przemian występują krawędzie spoza skojarzenia i ze skojarzenia.\n",
    "\n",
    "Algorytm wykorzystuje BFS i DFS do znalezienia najkrótszych ścieżek rozszerzających.\n",
    "\n",
    "### Jak działa algorytm?\n",
    "Zakładamy tu, że graf dwudzielny składa się z dwóch zbiorów wierzchołków: U i V.\n",
    "\n",
    "1. Na początek inicjujemy zmienną matching, która będzie mówiła o tym ile jest par w obecnym skojarzeniu.\n",
    "2. Następnie wykonujemy BFS, aby znaleźć najkrótszą ścieżkę rozszerzającą:\n",
    "    - tworzymy kolejkę (póki co pustą)\n",
    "    - dla każdego wierzchołka u w U, jeśli jest on nieskojarzony, ustawiamy jego odległość od początku ścieżki augmentującej na 0 i dodajemy go do kolejki. W przeciwnym razie ustawiamy jego odległość na $\\infty$.\n",
    "    - ustawiamy minimalną odległość od dowolnego wolnego wierzchołka w U do końca augmentującej ścieżki na $\\infty$.\n",
    "    - przetwarzamy wierzchołki z kolejki: dla każdego wierzchołka u w kolejce (jeśli jest on bliżej początku ścieżki powiększającej niż koniec - jeśli nie jest to jeszcze koniec ścieżki powiększającej) przeglądamy jego sąsiadów v w V. Jeśli odległość sparowanego wierzchołka z v jest $\\infty$ (nie został on jeszcze przetworzony), aktualizujemy ją (self.dist[self.pairV[v]] = self.dist[u] + 1) i dodajemy ten wierzchołek do kolejki.\n",
    "    - BFS zwraca True, jeśli znaleziono przynajmniej jedną rozszerzającą ścieżkę (czyli self.dist[None] nie jest nieskończonością).\n",
    "3. Po wykonaniu BFS, przechodzimy do przeglądania wszystkich wierzchołków u z U. Jeśli u jest wolny, wywołujemy DFS(u).\n",
    "    - dla każdego sąsiada wierzchołka u - v sprawdzamy, czy sparowany z nim wierzchołek jest następny w kolejności przetwarzania (self.dist[self.pairV[v]] == self.dist[u] + 1).\n",
    "    - jeśli tak, rekurencyjnie wywołujemy DFS na tym wierzchołku\n",
    "    - jeśli DFS(self.pairV[v]) zwróci True, oznacza to, że znaleźliśmy ścieżkę powiększającą. Aktualizujemy parowanie, ustawiając self.pairV[v] na u i self.pairU[u] na v, i zwracamy True.\n",
    "    - jeśli nie znaleźliśmy ścieżki rozszerzającej z u, ustawiamy self.dist[u] na $\\infty$, aby ten wierzchołek mógł być uwzględniony w następnych ścieżkach powiększających i zwracamy False.\n",
    "4. Jeśli DFS znajdzie augmentującą ścieżkę (zwróci True), zwiększamy matching o 1.\n",
    "5. Na końcu funkcji hopcroft_karp zwracamy wartość matching, która reprezentuje maksymalne skojarzenie. Zmienne self.pairU i self.pairV przechowują skojarzenie (parowanie wierzchołków z U i V)."
   ]
  },
  {
   "cell_type": "markdown",
   "id": "605b8029",
   "metadata": {},
   "source": [
    "## Wyjściowy graf dwudzielny\n",
    "<img src='1.png' width='350'/>"
   ]
  },
  {
   "cell_type": "markdown",
   "id": "62fe2b3c",
   "metadata": {},
   "source": [
    "## Zaczynamy od pustego grafu\n",
    "<img src='2.png' width='350'/>"
   ]
  },
  {
   "cell_type": "markdown",
   "id": "4804ff4f",
   "metadata": {},
   "source": [
    "## Algorytm BFS\n",
    "Szukamy najprostszego połączenia (łączymy wolny wierzchołek z U z pierwszym wolnym sąsiadem z V)\n",
    "<img src='3.png' width='350'/>"
   ]
  },
  {
   "cell_type": "markdown",
   "id": "c86b20b0",
   "metadata": {},
   "source": [
    "Dla wolnych wierzchołków z U szukamy sąsiadów z V\n",
    "<img src='5.png' width='350'/>"
   ]
  },
  {
   "cell_type": "markdown",
   "id": "5933b7a8",
   "metadata": {},
   "source": [
    "Dla sąsiadów z V szukamy skojarzonych z nimi wierzchołków z U...\n",
    "<img src='6.png' width='350'/>"
   ]
  },
  {
   "cell_type": "markdown",
   "id": "fc51c3e1",
   "metadata": {},
   "source": [
    "... dla nich szukamy sąsiadów z V (i tak aż dojdziemy do wolnych wierzchołków z V)\n",
    "<img src='7.png' width='350'/>"
   ]
  },
  {
   "cell_type": "markdown",
   "id": "30bc0ee6",
   "metadata": {},
   "source": [
    "## Algorytm DFS\n",
    "Zaczynając od niesparowanego wierzchołka z V szukamy ścieżki powiększającej, która prowadzi do niesparowanego wierzzchołka z U\n",
    "<img src='8.png' width='350'/>"
   ]
  },
  {
   "cell_type": "markdown",
   "id": "57436357",
   "metadata": {},
   "source": [
    "Usuwamy tą ścieżkę z drzewa i powtarzamy dla kolejnego wolnego wierzchołka z V\n",
    "<img src='9.png' width='350'/>"
   ]
  },
  {
   "cell_type": "markdown",
   "id": "c7a51001",
   "metadata": {},
   "source": [
    "Kontynuujemy do ostatniego wolnego wierzchołka z V\n",
    "<img src='10.png' width='350'/>"
   ]
  },
  {
   "cell_type": "markdown",
   "id": "26bf0f44",
   "metadata": {},
   "source": [
    "Aktualizujemy dotychczasowe skojarzenie o nowo znalezione ścieżki rozszerzające\n",
    "<img src='11.png' width='350'/>\n",
    "<img src='12.png' width='350'/>"
   ]
  },
  {
   "cell_type": "markdown",
   "id": "f70cf925",
   "metadata": {},
   "source": [
    "Na takim grafie wykonujemy algorytm BFS. Jeśli dalej są ścieżki powiększające - powtarzamy procedurę. Jeśli nie - zwracamy skojarzenie."
   ]
  },
  {
   "cell_type": "code",
   "execution_count": 1,
   "id": "c83313d7",
   "metadata": {},
   "outputs": [],
   "source": [
    "import numpy as np\n",
    "from random import random\n",
    "from copy import deepcopy\n",
    "from queue import PriorityQueue, deque"
   ]
  },
  {
   "cell_type": "code",
   "execution_count": 2,
   "id": "a288166b",
   "metadata": {},
   "outputs": [],
   "source": [
    "class Graph:\n",
    "    def __init__(self, graph=None):\n",
    "        if graph is None:\n",
    "            graph = {}\n",
    "        self.graph = graph\n",
    "        self.weighted = False\n",
    "\n",
    "    # dict initializer\n",
    "    @classmethod\n",
    "    def from_dict(cls, graph):\n",
    "        return cls(graph)\n",
    "\n",
    "    # array initializer\n",
    "    @classmethod\n",
    "    def from_array(cls, graph: np.array, nodes: list = None):\n",
    "        if nodes is None:\n",
    "            nodes = [*range(1, len(graph) + 1)]\n",
    "        return cls.from_dict(\n",
    "            cls._array_to_dict(graph, nodes)\n",
    "        )\n",
    "\n",
    "    @staticmethod\n",
    "    def from_edges(filename: str, directed = 0):\n",
    "        \"\"\"\n",
    "        Generates a graphs from a text file, where each line defines one edge.\\n\n",
    "        Filename is a file path.\n",
    "        \"\"\"\n",
    "        graph = Graph()\n",
    "        file = open(filename, \"r\")\n",
    "        for line in file:\n",
    "            words = line.strip().split()\n",
    "            if len(words) == 1:\n",
    "                graph.add_node(words[0])\n",
    "            elif len(words) == 2: # two words -- unweighed graph\n",
    "                if directed:\n",
    "                    graph.add_arc([words[0], words[1]])\n",
    "                else:\n",
    "                    graph.add_edge([words[0], words[1]])\n",
    "            elif len(words) > 2: # more than two words - labeled graph\n",
    "                graph.weighted = True\n",
    "                if directed:\n",
    "                    graph.add_arc([words[0], words[1]])\n",
    "                    graph.graph[words[0]][-1] = (words[1], words[2]) # process label\n",
    "                else:\n",
    "                    graph.add_edge([words[0], words[1]])\n",
    "                    graph.graph[words[0]][-1] = (words[1], words[2])\n",
    "                    graph.graph[words[1]][-1] = (words[0], words[2])\n",
    "        file.close()\n",
    "        return graph\n",
    "\n",
    "    @staticmethod\n",
    "    def random_graph(nodes_num: int, prob: float):\n",
    "        \"\"\"\n",
    "        Generates a random graph provided a number of nodes and probability of generating an edge.\n",
    "        \"\"\"\n",
    "        rand_graph = Graph()\n",
    "        for i in range(1, nodes_num + 1):\n",
    "            rand_graph.add_node(i)\n",
    "            for j in range(1, i):\n",
    "                if random() < prob:\n",
    "                    rand_graph.add_edge([i, j])\n",
    "        return rand_graph\n",
    "\n",
    "    @staticmethod\n",
    "    def cycle(nodes_num: int):\n",
    "        \"\"\"\n",
    "        Generates a cycle provided a number of nodes.\n",
    "        \"\"\"\n",
    "        cycle = Graph()\n",
    "        nodes = [*range(1, nodes_num + 1)]\n",
    "        for i in nodes:\n",
    "            cycle.add_edge([nodes[i-2], nodes[i-1]])\n",
    "        cycle.graph = dict(sorted(cycle.graph.items()))\n",
    "        return cycle\n",
    "\n",
    "    def to_neighbourlist(self, filename: str):\n",
    "        \"\"\"\n",
    "        Saves a graphs to a text file as a neighbour dict.\\n\n",
    "        Filename is a file path.\n",
    "        \"\"\"\n",
    "        file = open(filename, \"w\")\n",
    "        file.write(str(self))\n",
    "        file.close()\n",
    "\n",
    "    def nodes(self) -> list:\n",
    "        \"\"\"\n",
    "        Returns list of nodes of a graph.\n",
    "        \"\"\"\n",
    "        return [*self.graph.keys()]\n",
    "\n",
    "    def array(self) -> np.array:\n",
    "        \"\"\"\n",
    "        Returns the graph in array form.\n",
    "        \"\"\"\n",
    "        return self._dict_to_array(self.graph)\n",
    "\n",
    "    # redefinition of print for objects of class Graph\n",
    "    def __str__(self):\n",
    "        res = \"\"\n",
    "        for v in self.graph:\n",
    "            res += f\"{v}:\"\n",
    "            for u in self.graph[v]:\n",
    "                res += f\" {u}\"\n",
    "            res += \"\\n\"\n",
    "        return res\n",
    "\n",
    "    def add_node(self, node):\n",
    "        \"\"\"\n",
    "        Adds a node to a graph.\n",
    "        \"\"\"\n",
    "        if node not in self.graph:\n",
    "            self.graph[node] = []\n",
    "\n",
    "    def del_node(self, node):\n",
    "        \"\"\"\n",
    "        Recursively removes a node from a graph.\n",
    "        \"\"\"\n",
    "        if node in self.graph:\n",
    "            self.graph.pop(node)\n",
    "            for key in [*self.graph.keys()]:\n",
    "                if node in self.graph[key]:\n",
    "                    self.graph[key].remove(node)\n",
    "\n",
    "    def add_arc(self, arc: list):\n",
    "        \"\"\"\n",
    "        Adds arc to a graph provided a list of nodes.\n",
    "        \"\"\"\n",
    "        u, v = arc\n",
    "        self.add_node(u)\n",
    "        self.add_node(v)\n",
    "        if v not in self.graph[u]:\n",
    "            self.graph[u].append(v)\n",
    "\n",
    "    def add_edge(self, edge: list):\n",
    "        \"\"\"\n",
    "        Adds edge to a graph provided a list of nodes.\n",
    "        \"\"\"\n",
    "        u, v = edge\n",
    "        if u == v:\n",
    "            raise ValueError(\"Pętla!\")\n",
    "        self.add_node(u)\n",
    "        self.add_node(v)\n",
    "        if v not in self.graph[u]:\n",
    "            self.graph[u].append(v)\n",
    "        if u not in self.graph[v]:\n",
    "            self.graph[v].append(u)\n",
    "\n",
    "    \n",
    "    def bfs(self):                                                   # algorytm BFS\n",
    "        queue = deque()                                              # tworzymy kolejkę\n",
    "        for u in self.U:                                             # dla każdego wierzchołka z U\n",
    "            if self.pairU[u] is None:                                # jeżeli u jest nie jest sparowany\n",
    "                self.dist[u] = 0                                     # ustawiamy jego odległość u od początku ścieżki rozszerzającej na 0\n",
    "                queue.append(u)                                      # i dodajemy go do kolejki\n",
    "            else:                                                    # jeśli u jest już sparowany\n",
    "                self.dist[u] = float('inf')                          # to ustawiamy jego odległość na inf (nie będzie on początkiem ścieżki augmentującej)\n",
    "            \n",
    "        self.dist[None] = float('inf')                               # minimalna odległość od dowolnego wolnego wierzchołka w U do końca augmentującej ścieżki\n",
    "        \n",
    "        while queue:                                                 # dopóki kolejka jest niepusta\n",
    "            u = queue.popleft()                                      # bierzemy pierwszy element z kolejki - u\n",
    "            if self.dist[u] < self.dist[None]:                       # jeśli u jest bliżej początku ścieżki augmentującej niż koniec\n",
    "                for v in self.graph[u]:                              # to dla każdego v, który sąsiaduje z u\n",
    "                    if self.dist[self.pairV[v]] == float('inf'):     # jeśli sparowany wierzchołek z v nie został odwiedzony\n",
    "                        self.dist[self.pairV[v]] = self.dist[u] + 1  # to zmieniamy jego odległość na odległość u +1\n",
    "                        queue.append(self.pairV[v])                  # i dodajemy do kolejki \n",
    "        return self.dist[None] != float('inf')                       # jeśli istnieje ścieżka rozszerzająca - funkcja zwraca TRUE\n",
    "    \n",
    "    def dfs(self, u):                                                # algorytm DFS \n",
    "        if u is not None:                                            # jeśli u istnieje\n",
    "            for v in self.graph[u]:                                  # dla v, który sąsiaduje z u\n",
    "                if self.dist[self.pairV[v]] == self.dist[u] + 1:     # jeśli sparowanegy wierzchołek z v jest następny w kolejce przetwarzania\n",
    "                    if self.dfs(self.pairV[v]):                      # to wywołujemy na nim DFS, jeśli znajdzie ścieżkę powiększającą dla niego\n",
    "                        self.pairV[v] = u                            # aktualizujemy skojarzenie\n",
    "                        self.pairU[u] = v\n",
    "                        return True                                  # true oznacza, że została znaleziona ścieżka rozszerzająca\n",
    "            self.dist[u] = float('inf')                              # jeśli u jest sparowany - ustawiamy jego odległość na inf\n",
    "            return False                                             # zwracamy False = nie znaleziono ścieżki rozszerzającej\n",
    "        return True                                                  # zwracamy True = znaleniono ścieżkę rozszerzającą\n",
    "    \n",
    "    def hopcroft_karp(self):                                         # algorytm Hopcrofta - Karpa\n",
    "        matching = 0                                                 # ustawiamy matching na 0\n",
    "        while self.bfs():                                            # jeśli BFS zwróci True\n",
    "            for u in self.U:                                         # dla każdego wierzchołka z U\n",
    "                if self.pairU[u] is None:                            # jeśli jest on nieskojarzony\n",
    "                    if self.dfs(u):                                  # jeśli DFS(u) zwróci True (znajdzie ścieżkę rozszerzającą)\n",
    "                        matching += 1                                # zwiększamy matching o 1\n",
    "        return matching                                              # zwracamy matching - największe skojarzenie"
   ]
  },
  {
   "cell_type": "code",
   "execution_count": 3,
   "id": "db5bb5e3",
   "metadata": {},
   "outputs": [],
   "source": [
    "def random_bipartite_graph(n,p):\n",
    "    ver1=[]                                                 # zaczątek listy wierzchołków U\n",
    "    ver2=[]                                                 # zaczątek listy wierzchołków V\n",
    "    graph=Graph.from_dict({})                               # zaczątek grafu\n",
    "    \n",
    "    for i in range(1,n+1):                                 \n",
    "        ver1.append(i)                                      # tworzymy n wierzcholków z U\n",
    "        ver2.append(i+n)                                    # tworzymy n wierzcholków z V\n",
    "    \n",
    "    for vertex1 in ver1:                                    # dla każdego wierzchołka z U\n",
    "        for vertex2 in ver2:                                # dla każdego wierzchołka z V\n",
    "            if random()<p:                                  # jeśli wylosowana wartość jest mniejsza niż zadane p\n",
    "                graph.add_edge([vertex1,vertex2])           # dodajemy krawędź między u i v\n",
    "    \n",
    "    for v in ver1: \n",
    "        if v not in graph.graph:\n",
    "            graph.add_node(v)                               # dodajemy wierzchołki izolowane z U\n",
    "    for v in ver2:\n",
    "        if v not in graph.graph:\n",
    "            graph.add_node(v)                               # dodajemy wierzchołki izolowane z V\n",
    "    graph.U=ver1                                            # wierzchołki U   \n",
    "    graph.V=ver2                                            # wierzchołki U \n",
    "    graph.pairU = {u: None for u in graph.U}                # wierzchołki skojarzone z U (domyślnie wszystkie ustawiamy na None)\n",
    "    graph.pairV = {v: None for v in graph.V}                # wierzchołki skojarzone z V (domyślnie wszystkie ustawiamy na None)\n",
    "    graph.dist={}                                           # zaczątek słownika odległości\n",
    "    return graph                                            # zwracamy graf"
   ]
  },
  {
   "cell_type": "code",
   "execution_count": 127,
   "id": "3abfe9c9",
   "metadata": {},
   "outputs": [
    {
     "data": {
      "text/plain": [
       "{1: [6, 7, 10],\n",
       " 6: [1, 2, 3, 4],\n",
       " 7: [1, 4, 5],\n",
       " 10: [1, 5],\n",
       " 2: [6],\n",
       " 3: [6, 9],\n",
       " 9: [3, 5],\n",
       " 4: [6, 7, 8],\n",
       " 8: [4, 5],\n",
       " 5: [7, 8, 9, 10]}"
      ]
     },
     "execution_count": 127,
     "metadata": {},
     "output_type": "execute_result"
    }
   ],
   "source": [
    "g=random_bipartite_graph(5, 1/2)\n",
    "g.graph"
   ]
  },
  {
   "cell_type": "code",
   "execution_count": 128,
   "id": "e0e132b4",
   "metadata": {},
   "outputs": [
    {
     "data": {
      "text/plain": [
       "5"
      ]
     },
     "execution_count": 128,
     "metadata": {},
     "output_type": "execute_result"
    }
   ],
   "source": [
    "g.hopcroft_karp()"
   ]
  },
  {
   "cell_type": "code",
   "execution_count": 129,
   "id": "d241b4b6",
   "metadata": {},
   "outputs": [
    {
     "data": {
      "text/plain": [
       "{1: 10, 2: 6, 3: 9, 4: 7, 5: 8}"
      ]
     },
     "execution_count": 129,
     "metadata": {},
     "output_type": "execute_result"
    }
   ],
   "source": [
    "g.pairU"
   ]
  },
  {
   "cell_type": "code",
   "execution_count": 130,
   "id": "b75c276b",
   "metadata": {},
   "outputs": [
    {
     "data": {
      "text/plain": [
       "{6: 2, 7: 4, 8: 5, 9: 3, 10: 1}"
      ]
     },
     "execution_count": 130,
     "metadata": {},
     "output_type": "execute_result"
    }
   ],
   "source": [
    "g.pairV"
   ]
  }
 ],
 "metadata": {
  "kernelspec": {
   "display_name": "Python 3 (ipykernel)",
   "language": "python",
   "name": "python3"
  },
  "language_info": {
   "codemirror_mode": {
    "name": "ipython",
    "version": 3
   },
   "file_extension": ".py",
   "mimetype": "text/x-python",
   "name": "python",
   "nbconvert_exporter": "python",
   "pygments_lexer": "ipython3",
   "version": "3.10.9"
  }
 },
 "nbformat": 4,
 "nbformat_minor": 5
}
