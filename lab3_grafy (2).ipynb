{
  "nbformat": 4,
  "nbformat_minor": 0,
  "metadata": {
    "colab": {
      "provenance": []
    },
    "kernelspec": {
      "name": "python3",
      "display_name": "Python 3"
    },
    "language_info": {
      "name": "python"
    }
  },
  "cells": [
    {
      "cell_type": "markdown",
      "source": [
        "Importowanie pakietów"
      ],
      "metadata": {
        "id": "DgiMeqWFWV_Q"
      }
    },
    {
      "cell_type": "code",
      "execution_count": 1,
      "metadata": {
        "id": "8I86lEAwWOsy"
      },
      "outputs": [],
      "source": [
        "import numpy as np\n",
        "from random import random, seed"
      ]
    },
    {
      "cell_type": "markdown",
      "source": [
        "# Funkcje grafowe"
      ],
      "metadata": {
        "id": "68g15gdjWlxV"
      }
    },
    {
      "cell_type": "code",
      "source": [
        "def print_matrix(verticles, matrix):\n",
        "  \"\"\"\n",
        "  wypisuje na ekranie graf podany jako macierz sąsiedztwa\n",
        "  \"\"\"\n",
        "  n = len(matrix)\n",
        "  if (vertices is not None) and (len(vertices)==n):\n",
        "    vv = vertices\n",
        "  else:\n",
        "    vv = range(1, n+1)\n",
        "  for i in range(n):\n",
        "    print(vv[i], \":\", end =\"\")\n",
        "    for j in range(n):\n",
        "      if matrix[i, j]:\n",
        "        print(\" \", vv[j], end=\"\")\n",
        "    print(\"\")"
      ],
      "metadata": {
        "id": "UI9-CzMGW07H"
      },
      "execution_count": 2,
      "outputs": []
    },
    {
      "cell_type": "code",
      "source": [
        "def print_graph(graph):\n",
        "  \"\"\"\n",
        "  wypisuje na ekranie graf podany jako lista sąsiedztwa (słownik pythona)\n",
        "  \"\"\"\n",
        "  for v in graph:\n",
        "    print(v, \":\", end = \"\")\n",
        "    for u in graph[v]:\n",
        "      print(\" \", u, end = \"\")\n",
        "    print(\"\")"
      ],
      "metadata": {
        "id": "RJ2zHT1RbiGF"
      },
      "execution_count": 3,
      "outputs": []
    },
    {
      "cell_type": "markdown",
      "source": [
        "#Tworzenie i modyfikacje grafów"
      ],
      "metadata": {
        "id": "32MK1J0gdAyl"
      }
    },
    {
      "cell_type": "code",
      "source": [
        "def add_vertex(graph, vertex):\n",
        "  \"\"\"\n",
        "  dodaje nowy wierzcholek do instniejacego grafu\n",
        "  \"\"\"\n",
        "  if vertex not in graph:\n",
        "    graph[vertex] = []"
      ],
      "metadata": {
        "id": "AN6Vvp_6dE9P"
      },
      "execution_count": 4,
      "outputs": []
    },
    {
      "cell_type": "code",
      "source": [
        "def add_arc(graph, arc):\n",
        "  \"\"\"\n",
        "  dodaje nowy łuk (podany jako para wierzchołków) do instniejacego grafu\n",
        "  rozważamy grafy proste, skierowane\n",
        "  \"\"\"\n",
        "  u,v = arc\n",
        "  add_vertex(graph,u)\n",
        "  add_vertex(graph, v)\n",
        "  if v not in graph[u]:\n",
        "    graph[u].append(v)"
      ],
      "metadata": {
        "id": "YhoHqOosdwyv"
      },
      "execution_count": 5,
      "outputs": []
    },
    {
      "cell_type": "code",
      "source": [
        "def add_edge(graph, edge):\n",
        "  \"\"\"\n",
        "  dodaje nowa krawedz (podana jako para wierzcholkow) dp istniejacego grafu\n",
        "  rozwazam grafy proste nieskierowane (bez petli)\n",
        "  \"\"\"\n",
        "  u,v = edge\n",
        "  add_vertex(graph,u)\n",
        "  add_vertex(graph, v)\n",
        "  if u==v:\n",
        "    raise ValueError(\"Pętla!\")\n",
        "  if v not in graph[u]:\n",
        "    graph[u].append(v)\n",
        "  if u not in graph[v]:\n",
        "    graph[v].append(u)"
      ],
      "metadata": {
        "id": "hrphnrnnfIOa"
      },
      "execution_count": 6,
      "outputs": []
    },
    {
      "cell_type": "markdown",
      "source": [
        "## Przykłady wykorzystania"
      ],
      "metadata": {
        "id": "pHA4669kWpZw"
      }
    },
    {
      "cell_type": "code",
      "source": [
        "vertices = [\"a\", \"b\", \"c\", \"d\", \"e\", \"f\"]\n",
        "matrix = np.array([[0,1,1,0,0,0],[1,0,0,1,1,0],[1,0,0,0,0,1],[0,1,0,0,0,1],[0,1,0,0,0,0],[0,0,1,1,0,0]])\n",
        "print(vertices)\n",
        "print(\"---------------------\")\n",
        "print_matrix(vertices, matrix)\n",
        "print(\"---------------------\")\n",
        "print_matrix(None, matrix)"
      ],
      "metadata": {
        "colab": {
          "base_uri": "https://localhost:8080/"
        },
        "id": "-1yySvtNWkc-",
        "outputId": "6aa43a90-1ead-4089-fdb0-5ede3127d69e"
      },
      "execution_count": 7,
      "outputs": [
        {
          "output_type": "stream",
          "name": "stdout",
          "text": [
            "['a', 'b', 'c', 'd', 'e', 'f']\n",
            "---------------------\n",
            "a :  b  c\n",
            "b :  a  d  e\n",
            "c :  a  f\n",
            "d :  b  f\n",
            "e :  b\n",
            "f :  c  d\n",
            "---------------------\n",
            "a :  b  c\n",
            "b :  a  d  e\n",
            "c :  a  f\n",
            "d :  b  f\n",
            "e :  b\n",
            "f :  c  d\n"
          ]
        }
      ]
    },
    {
      "cell_type": "markdown",
      "source": [
        "Druga reprezentacja"
      ],
      "metadata": {
        "id": "QDt1j75yajkn"
      }
    },
    {
      "cell_type": "code",
      "source": [
        "graph = {'a' :  ['b','c'],\n",
        "         'b' :  ['a','d','e'],\n",
        "         'c' :  ['a','f'],\n",
        "         'd' :  ['b','f'],\n",
        "         'e' :  ['b'],\n",
        "         'f' :  ['c','d'],\n",
        "         'g' : []}\n",
        "print(graph)\n",
        "print(\"------------------\")\n",
        "print_graph(graph)"
      ],
      "metadata": {
        "colab": {
          "base_uri": "https://localhost:8080/"
        },
        "id": "7DI-9-cIWkZX",
        "outputId": "00dcfc9e-80c5-413e-de61-2e0e2eea9895"
      },
      "execution_count": 8,
      "outputs": [
        {
          "output_type": "stream",
          "name": "stdout",
          "text": [
            "{'a': ['b', 'c'], 'b': ['a', 'd', 'e'], 'c': ['a', 'f'], 'd': ['b', 'f'], 'e': ['b'], 'f': ['c', 'd'], 'g': []}\n",
            "------------------\n",
            "a :  b  c\n",
            "b :  a  d  e\n",
            "c :  a  f\n",
            "d :  b  f\n",
            "e :  b\n",
            "f :  c  d\n",
            "g :\n"
          ]
        }
      ]
    },
    {
      "cell_type": "code",
      "source": [
        "add_vertex(graph, \"h\")\n",
        "print_graph(graph)"
      ],
      "metadata": {
        "colab": {
          "base_uri": "https://localhost:8080/"
        },
        "id": "pRWsvAewWkXC",
        "outputId": "2c2beac8-2e0a-4769-c296-19628f26fd84"
      },
      "execution_count": 9,
      "outputs": [
        {
          "output_type": "stream",
          "name": "stdout",
          "text": [
            "a :  b  c\n",
            "b :  a  d  e\n",
            "c :  a  f\n",
            "d :  b  f\n",
            "e :  b\n",
            "f :  c  d\n",
            "g :\n",
            "h :\n"
          ]
        }
      ]
    },
    {
      "cell_type": "code",
      "source": [
        "add_arc(graph, [\"g\", \"h\"])\n",
        "print_graph(graph)"
      ],
      "metadata": {
        "colab": {
          "base_uri": "https://localhost:8080/"
        },
        "id": "pF0TUmfuWkRs",
        "outputId": "fe44169d-b18d-40bf-c124-0db2cf79634a"
      },
      "execution_count": 10,
      "outputs": [
        {
          "output_type": "stream",
          "name": "stdout",
          "text": [
            "a :  b  c\n",
            "b :  a  d  e\n",
            "c :  a  f\n",
            "d :  b  f\n",
            "e :  b\n",
            "f :  c  d\n",
            "g :  h\n",
            "h :\n"
          ]
        }
      ]
    },
    {
      "cell_type": "code",
      "source": [
        "add_edge(graph, [\"g\", \"h\"])\n",
        "print_graph(graph)"
      ],
      "metadata": {
        "colab": {
          "base_uri": "https://localhost:8080/"
        },
        "id": "F7PFlL_lWkHq",
        "outputId": "b1a6a125-bf81-4173-e515-d82c9976761b"
      },
      "execution_count": 11,
      "outputs": [
        {
          "output_type": "stream",
          "name": "stdout",
          "text": [
            "a :  b  c\n",
            "b :  a  d  e\n",
            "c :  a  f\n",
            "d :  b  f\n",
            "e :  b\n",
            "f :  c  d\n",
            "g :  h\n",
            "h :  g\n"
          ]
        }
      ]
    },
    {
      "cell_type": "code",
      "source": [
        "add_edge(graph, [\"d\", \"d\"])"
      ],
      "metadata": {
        "colab": {
          "base_uri": "https://localhost:8080/",
          "height": 263
        },
        "id": "VvfvuX-oWijF",
        "outputId": "17326e67-9e6d-4ad9-91dc-466c37e76f58"
      },
      "execution_count": 12,
      "outputs": [
        {
          "output_type": "error",
          "ename": "ValueError",
          "evalue": "Pętla!",
          "traceback": [
            "\u001b[0;31m---------------------------------------------------------------------------\u001b[0m",
            "\u001b[0;31mValueError\u001b[0m                                Traceback (most recent call last)",
            "\u001b[0;32m<ipython-input-12-419ac7109444>\u001b[0m in \u001b[0;36m<cell line: 1>\u001b[0;34m()\u001b[0m\n\u001b[0;32m----> 1\u001b[0;31m \u001b[0madd_edge\u001b[0m\u001b[0;34m(\u001b[0m\u001b[0mgraph\u001b[0m\u001b[0;34m,\u001b[0m \u001b[0;34m[\u001b[0m\u001b[0;34m\"d\"\u001b[0m\u001b[0;34m,\u001b[0m \u001b[0;34m\"d\"\u001b[0m\u001b[0;34m]\u001b[0m\u001b[0;34m)\u001b[0m\u001b[0;34m\u001b[0m\u001b[0;34m\u001b[0m\u001b[0m\n\u001b[0m",
            "\u001b[0;32m<ipython-input-6-1ca66970bd5b>\u001b[0m in \u001b[0;36madd_edge\u001b[0;34m(graph, edge)\u001b[0m\n\u001b[1;32m      8\u001b[0m   \u001b[0madd_vertex\u001b[0m\u001b[0;34m(\u001b[0m\u001b[0mgraph\u001b[0m\u001b[0;34m,\u001b[0m \u001b[0mv\u001b[0m\u001b[0;34m)\u001b[0m\u001b[0;34m\u001b[0m\u001b[0;34m\u001b[0m\u001b[0m\n\u001b[1;32m      9\u001b[0m   \u001b[0;32mif\u001b[0m \u001b[0mu\u001b[0m\u001b[0;34m==\u001b[0m\u001b[0mv\u001b[0m\u001b[0;34m:\u001b[0m\u001b[0;34m\u001b[0m\u001b[0;34m\u001b[0m\u001b[0m\n\u001b[0;32m---> 10\u001b[0;31m     \u001b[0;32mraise\u001b[0m \u001b[0mValueError\u001b[0m\u001b[0;34m(\u001b[0m\u001b[0;34m\"Pętla!\"\u001b[0m\u001b[0;34m)\u001b[0m\u001b[0;34m\u001b[0m\u001b[0;34m\u001b[0m\u001b[0m\n\u001b[0m\u001b[1;32m     11\u001b[0m   \u001b[0;32mif\u001b[0m \u001b[0mv\u001b[0m \u001b[0;32mnot\u001b[0m \u001b[0;32min\u001b[0m \u001b[0mgraph\u001b[0m\u001b[0;34m[\u001b[0m\u001b[0mu\u001b[0m\u001b[0;34m]\u001b[0m\u001b[0;34m:\u001b[0m\u001b[0;34m\u001b[0m\u001b[0;34m\u001b[0m\u001b[0m\n\u001b[1;32m     12\u001b[0m     \u001b[0mgraph\u001b[0m\u001b[0;34m[\u001b[0m\u001b[0mu\u001b[0m\u001b[0;34m]\u001b[0m\u001b[0;34m.\u001b[0m\u001b[0mappend\u001b[0m\u001b[0;34m(\u001b[0m\u001b[0mv\u001b[0m\u001b[0;34m)\u001b[0m\u001b[0;34m\u001b[0m\u001b[0;34m\u001b[0m\u001b[0m\n",
            "\u001b[0;31mValueError\u001b[0m: Pętla!"
          ]
        }
      ]
    },
    {
      "cell_type": "code",
      "source": [
        "add_edge(graph, [\"h\", \"f\"])\n",
        "add_edge(graph, [\"h\", \"i\"])\n",
        "print_graph(graph)"
      ],
      "metadata": {
        "colab": {
          "base_uri": "https://localhost:8080/"
        },
        "id": "52vjtk4Hggq8",
        "outputId": "d48443dd-5d7b-4407-b418-cde9abcdc953"
      },
      "execution_count": 14,
      "outputs": [
        {
          "output_type": "stream",
          "name": "stdout",
          "text": [
            "a :  b  c\n",
            "b :  a  d  e\n",
            "c :  a  f\n",
            "d :  b  f\n",
            "e :  b\n",
            "f :  c  d  h\n",
            "g :  h\n",
            "h :  g  f  i\n",
            "i :  h\n"
          ]
        }
      ]
    },
    {
      "cell_type": "markdown",
      "source": [
        "# Tworzenie grafow losowych $G(n,p)$"
      ],
      "metadata": {
        "id": "redexZnkhvkN"
      }
    },
    {
      "cell_type": "code",
      "source": [
        "seed(2024)"
      ],
      "metadata": {
        "id": "DNLYIU0Ohz3g"
      },
      "execution_count": 15,
      "outputs": []
    },
    {
      "cell_type": "code",
      "source": [
        "#losuje graf G(10, 1/3)\n",
        "n = 10\n",
        "p = 1/3\n",
        "random_graph = {}\n",
        "for i in range(1, n+1):\n",
        "  add_vertex(random_graph, i)\n",
        "  for j in range(1, i):\n",
        "    if random() < p:\n",
        "      add_edge(random_graph, [i,j])\n",
        "\n",
        "print_graph(random_graph)"
      ],
      "metadata": {
        "colab": {
          "base_uri": "https://localhost:8080/"
        },
        "id": "xiBioibriiUf",
        "outputId": "016ba934-b015-4017-af4d-97c67d9e55aa"
      },
      "execution_count": 16,
      "outputs": [
        {
          "output_type": "stream",
          "name": "stdout",
          "text": [
            "1 :  5  10\n",
            "2 :  3  5  9  10\n",
            "3 :  2  8\n",
            "4 :  6  7  8  10\n",
            "5 :  1  2  10\n",
            "6 :  4  8  10\n",
            "7 :  4  9  10\n",
            "8 :  3  4  6\n",
            "9 :  2  7\n",
            "10 :  1  2  4  5  6  7\n"
          ]
        }
      ]
    },
    {
      "cell_type": "markdown",
      "source": [
        "###zad1\n",
        "Stworzyć funkcję random_graph(n, p), która jako wynik będzie zwracać graf losowy w modelu G(n, p) — n wierzchołków, wystąpienie każdej krawędzi niezależne i z prawdopodobieństwem p."
      ],
      "metadata": {
        "id": "kmrt0sAUEhIJ"
      }
    },
    {
      "cell_type": "code",
      "source": [
        "def random_graph(n, p):\n",
        "  \"\"\"\n",
        "  losuje graf G(10, 1/3), n - liczba wierzcholkow, p - prawdopodobienstwo stworzenia krawedzi\n",
        "  \"\"\"\n",
        "  random_graph = {}\n",
        "  for i in range(1, n+1):\n",
        "    add_vertex(random_graph, i)\n",
        "    for j in range(1, i):\n",
        "      if random() < p:\n",
        "        add_edge(random_graph, [i,j])\n",
        "\n",
        "  print_graph(random_graph)"
      ],
      "metadata": {
        "id": "1nWS6Wm_lmtQ"
      },
      "execution_count": 17,
      "outputs": []
    },
    {
      "cell_type": "code",
      "source": [
        "random_graph(10, 1/3)"
      ],
      "metadata": {
        "colab": {
          "base_uri": "https://localhost:8080/"
        },
        "id": "CYIHsThflNCs",
        "outputId": "77813f7b-ea98-4a98-b4ad-742094ce8424"
      },
      "execution_count": 18,
      "outputs": [
        {
          "output_type": "stream",
          "name": "stdout",
          "text": [
            "1 :  2  6  9\n",
            "2 :  1  4  5  8\n",
            "3 :  8\n",
            "4 :  2  6  9  10\n",
            "5 :  2  7  8  10\n",
            "6 :  1  4  9  10\n",
            "7 :  5  8  10\n",
            "8 :  2  3  5  7  9\n",
            "9 :  1  4  6  8  10\n",
            "10 :  4  5  6  7  9\n"
          ]
        }
      ]
    },
    {
      "cell_type": "markdown",
      "source": [
        "###zad2\n",
        "Napisać funkcję graph_to_matrix(graph), która przekształci graf w formie listy sąsiedztwa na macierz sąsiedztwa i wraz z listą wierzchołków zwróci ją jako wynik ."
      ],
      "metadata": {
        "id": "xOEh0OskEvvO"
      }
    },
    {
      "cell_type": "code",
      "source": [
        "def graph_to_matrix(graph):\n",
        "    \"\"\"\n",
        "    Przekształca graf w formie słownika z listami sąsiedztwa na macierz sąsiedztwa i zwraca ją jako wynik.\n",
        "    \"\"\"\n",
        "    # Znajduje wszystkie unikalne wierzchołki w grafie\n",
        "    vertices = sorted(graph.keys())\n",
        "    num_vertices = len(vertices)\n",
        "\n",
        "    # Inicjalizuje macierz sąsiedztwa jako listę list wypełnioną zerami\n",
        "    adjacency_matrix = [[0] * num_vertices for _ in range(num_vertices)]\n",
        "\n",
        "    # Wypełnia macierz sąsiedztwa na podstawie słownika z listami sąsiedztwa\n",
        "    for vertex, neighbors in graph.items():\n",
        "        vertex_index = vertices.index(vertex)\n",
        "        for neighbor in neighbors:\n",
        "            neighbor_index = vertices.index(neighbor)\n",
        "            adjacency_matrix[vertex_index][neighbor_index] = 1\n",
        "\n",
        "    return adjacency_matrix\n"
      ],
      "metadata": {
        "id": "sfjnWJciOM3c"
      },
      "execution_count": 19,
      "outputs": []
    },
    {
      "cell_type": "code",
      "source": [
        "graph = {\n",
        "    'a': ['b', 'c'],\n",
        "    'b': ['a', 'd', 'e'],\n",
        "    'c': ['a', 'f'],\n",
        "    'd': ['b', 'f'],\n",
        "    'e': ['b'],\n",
        "    'f': ['c', 'd'],\n",
        "    'g': []\n",
        "}\n",
        "\n",
        "adj_matrix = graph_to_matrix(graph)\n",
        "\n",
        "print(\"Macierz sąsiedztwa:\")\n",
        "for row in adj_matrix:\n",
        "    print(row)\n",
        "\n",
        "print(\"wierzcholki: \",vertices)"
      ],
      "metadata": {
        "colab": {
          "base_uri": "https://localhost:8080/"
        },
        "id": "y4DfQygdO1lR",
        "outputId": "0920ac87-1f2c-4c1b-9888-d92b2414cc5e"
      },
      "execution_count": 20,
      "outputs": [
        {
          "output_type": "stream",
          "name": "stdout",
          "text": [
            "Macierz sąsiedztwa:\n",
            "[0, 1, 1, 0, 0, 0, 0]\n",
            "[1, 0, 0, 1, 1, 0, 0]\n",
            "[1, 0, 0, 0, 0, 1, 0]\n",
            "[0, 1, 0, 0, 0, 1, 0]\n",
            "[0, 1, 0, 0, 0, 0, 0]\n",
            "[0, 0, 1, 1, 0, 0, 0]\n",
            "[0, 0, 0, 0, 0, 0, 0]\n",
            "wierzcholki:  ['a', 'b', 'c', 'd', 'e', 'f']\n"
          ]
        }
      ]
    },
    {
      "cell_type": "markdown",
      "source": [
        "###zad3\n",
        "Napisać funkcję matrix_to_graph(vertices, matrix) która dokona konwersji w drugą stronę — przekształci macierz (i listę nazw wierzchołków) na postać grafu w formie listy sąsiedztwa (słownika)."
      ],
      "metadata": {
        "id": "XFabF9XpEzoP"
      }
    },
    {
      "cell_type": "code",
      "source": [
        "def matrix_to_graph(vertices, matrix):\n",
        "    \"\"\"\n",
        "    Przekształca macierz sąsiedztwa oraz listę nazw wierzchołków na postać grafu w formie słownika z listami sąsiedztwa.\n",
        "    \"\"\"\n",
        "    graph = {}\n",
        "    for i, vertex in enumerate(vertices):\n",
        "        neighbors = [vertices[j] for j, edge in enumerate(matrix[i]) if edge == 1]\n",
        "        graph[vertex] = neighbors\n",
        "    return graph\n",
        "\n"
      ],
      "metadata": {
        "id": "dqpPse9pNXhp"
      },
      "execution_count": 21,
      "outputs": []
    },
    {
      "cell_type": "code",
      "source": [
        "vertices = ['a', 'b', 'c', 'd', 'e', 'f', 'g']\n",
        "adj_matrix = [\n",
        "    [0, 1, 1, 0, 0, 0, 0],\n",
        "    [1, 0, 0, 1, 1, 0, 0],\n",
        "    [1, 0, 0, 0, 0, 1, 0],\n",
        "    [0, 1, 0, 0, 0, 1, 0],\n",
        "    [0, 1, 0, 0, 0, 0, 0],\n",
        "    [0, 0, 1, 1, 0, 0, 0],\n",
        "    [0, 0, 0, 0, 0, 0, 0]\n",
        "]\n"
      ],
      "metadata": {
        "id": "OcPUyd26Na7j"
      },
      "execution_count": 22,
      "outputs": []
    },
    {
      "cell_type": "code",
      "source": [
        "graph = matrix_to_graph(vertices, adj_matrix)\n",
        "print(\"Graf w postaci listy sąsiedztwa:\")\n",
        "print(graph)"
      ],
      "metadata": {
        "colab": {
          "base_uri": "https://localhost:8080/"
        },
        "id": "n4kvMQdENi3y",
        "outputId": "198cdc61-f41e-4f7d-c54d-e341e8cd9e3d"
      },
      "execution_count": 23,
      "outputs": [
        {
          "output_type": "stream",
          "name": "stdout",
          "text": [
            "Graf w postaci listy sąsiedztwa:\n",
            "{'a': ['b', 'c'], 'b': ['a', 'd', 'e'], 'c': ['a', 'f'], 'd': ['b', 'f'], 'e': ['b'], 'f': ['c', 'd'], 'g': []}\n"
          ]
        }
      ]
    },
    {
      "cell_type": "markdown",
      "source": [
        "###zad4\n",
        "Napisać funkcję cycle(n), która stworzy cykl o n wierzchołkach."
      ],
      "metadata": {
        "id": "EkEVWs-UEoP3"
      }
    },
    {
      "cell_type": "code",
      "source": [
        "def cycle(n):\n",
        "    \"\"\"\n",
        "    Tworzy cykl o n wierzchołkach.\n",
        "    \"\"\"\n",
        "    graph = {}\n",
        "    for i in range(n):\n",
        "        vertex = str(i)\n",
        "        prev_vertex = str((i - 1) % n)\n",
        "        next_vertex = str((i + 1) % n)\n",
        "        graph[vertex] = [prev_vertex, next_vertex]\n",
        "\n",
        "    return graph\n",
        "\n"
      ],
      "metadata": {
        "id": "FF7UnXKcPLwv"
      },
      "execution_count": 24,
      "outputs": []
    },
    {
      "cell_type": "code",
      "source": [
        "n = 6\n",
        "cycle_graph = cycle(n)\n",
        "print(\"Cykl o\", n, \"wierzchołkach:\")\n",
        "print(cycle_graph)\n"
      ],
      "metadata": {
        "colab": {
          "base_uri": "https://localhost:8080/"
        },
        "id": "qcsev46dQTiu",
        "outputId": "452e1635-856f-4307-c2eb-3372b5bb3ddd"
      },
      "execution_count": 25,
      "outputs": [
        {
          "output_type": "stream",
          "name": "stdout",
          "text": [
            "Cykl o 6 wierzchołkach:\n",
            "{'0': ['5', '1'], '1': ['0', '2'], '2': ['1', '3'], '3': ['2', '4'], '4': ['3', '5'], '5': ['4', '0']}\n"
          ]
        }
      ]
    }
  ]
}