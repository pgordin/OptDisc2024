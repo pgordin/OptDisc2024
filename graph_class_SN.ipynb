{
  "cells": [
    {
      "cell_type": "markdown",
      "metadata": {
        "id": "view-in-github",
        "colab_type": "text"
      },
      "source": [
        "<a href=\"https://colab.research.google.com/github/pgordin/OptDisc2024/blob/main/graph_class_SN.ipynb\" target=\"_parent\"><img src=\"https://colab.research.google.com/assets/colab-badge.svg\" alt=\"Open In Colab\"/></a>"
      ]
    },
    {
      "cell_type": "code",
      "execution_count": 1,
      "metadata": {
        "id": "vWgeTyk5qbAu"
      },
      "outputs": [],
      "source": [
        "import numpy as np\n",
        "from random import random"
      ]
    },
    {
      "cell_type": "code",
      "execution_count": 2,
      "metadata": {
        "id": "ECGnFwaXqbAx"
      },
      "outputs": [],
      "source": [
        "class Graph:\n",
        "    def __init__(self, graph=None):\n",
        "        if graph is None:\n",
        "            graph = {}\n",
        "        self.graph = graph\n",
        "\n",
        "    # dict initializer\n",
        "    @classmethod\n",
        "    def from_dict(cls, graph):\n",
        "        return cls(graph)\n",
        "\n",
        "    # array initializer\n",
        "    @classmethod\n",
        "    def from_array(cls, graph: np.array, nodes: list = None):\n",
        "        if nodes is None:\n",
        "            nodes = [*range(1, len(graph) + 1)]\n",
        "        return cls.from_dict(\n",
        "            cls._array_to_dict(graph, nodes)\n",
        "        )\n",
        "\n",
        "    @staticmethod\n",
        "    def from_file(filename: str, directed = 0):\n",
        "        \"\"\"\n",
        "        Generates a graphs from a text file, where each line defines one edge.\\n\n",
        "        Filename is a file path.\n",
        "        \"\"\"\n",
        "        graph = Graph()\n",
        "        file = open(filename, \"r\")\n",
        "        for line in file:\n",
        "            words = line.split() # nie potrzeba .strip()\n",
        "            if len(words) == 1:\n",
        "                graph.add_node(words[0])\n",
        "            elif len(words) > 1: # more than two words -- we use first two\n",
        "                if directed:\n",
        "                    graph.add_arc([words[0], words[1]])\n",
        "                else:\n",
        "                    graph.add_edge([words[0], words[1]])\n",
        "        file.close()\n",
        "        return graph\n",
        "\n",
        "    @staticmethod\n",
        "    def random_graph(nodes_num: int, prob: float):\n",
        "        \"\"\"\n",
        "        Generates a random graph provided a number of nodes and probability of generating an edge.\n",
        "        \"\"\"\n",
        "        rand_graph = Graph()\n",
        "        for i in range(1, nodes_num + 1):\n",
        "            for j in range(1, i):\n",
        "                if random() < prob:\n",
        "                    rand_graph.add_edge([i, j])\n",
        "        return rand_graph\n",
        "\n",
        "    @staticmethod\n",
        "    def cycle(nodes_num: int):\n",
        "        \"\"\"\n",
        "        Generates a cycle provided a number of nodes.\n",
        "        \"\"\"\n",
        "        cycle = Graph()\n",
        "        nodes = [*range(1, nodes_num + 1)]\n",
        "        for i in nodes:\n",
        "            cycle.add_edge([nodes[i-2], nodes[i-1]])\n",
        "        cycle.graph = dict(sorted(cycle.graph.items()))\n",
        "        return cycle\n",
        "\n",
        "    def to_file(self, filename: str):\n",
        "        \"\"\"\n",
        "        Saves a graphs to a text file as a neighbour dict.\\n\n",
        "        Filename is a file path.\n",
        "        \"\"\"\n",
        "        file = open(filename, \"w\")\n",
        "        for v in self.graph:\n",
        "            neigh_list = f\"{v}:\"\n",
        "            for u in self.graph[v]:\n",
        "                neigh_list += f\" {u}\"\n",
        "            neigh_list += \"\\n\"\n",
        "            file.write(neigh_list)\n",
        "        file.close()\n",
        "\n",
        "    def nodes(self) -> list:\n",
        "        \"\"\"\n",
        "        Returns list of nodes of a graph.\n",
        "        \"\"\"\n",
        "        return [*self.graph.keys()]\n",
        "\n",
        "    def array(self) -> np.array:\n",
        "        \"\"\"\n",
        "        Returns the graph in array form.\n",
        "        \"\"\"\n",
        "        return self._dict_to_array(self.graph)\n",
        "\n",
        "    # redefinition of print for objects of class Graph\n",
        "    def __str__(self):\n",
        "        res = \"\"\n",
        "        for v in self.graph:\n",
        "            res += f\"{v} -> {self.graph[v]}\\n\"\n",
        "        return res\n",
        "\n",
        "    def add_node(self, node):\n",
        "        \"\"\"\n",
        "        Adds a node to a graph.\n",
        "        \"\"\"\n",
        "        if node not in self.graph:\n",
        "            self.graph[node] = []\n",
        "\n",
        "    def del_node(self, node):\n",
        "        \"\"\"\n",
        "        Recursively removes a node from a graph.\n",
        "        \"\"\"\n",
        "        if node in self.graph:\n",
        "            self.graph.pop(node)\n",
        "            for key in [*self.graph.keys()]:\n",
        "                if node in self.graph[key]:\n",
        "                    self.graph[key].remove(node)\n",
        "\n",
        "    def add_arc(self, arc: list):\n",
        "        \"\"\"\n",
        "        Adds arc to a graph provided a list of nodes.\n",
        "        \"\"\"\n",
        "        u, v = arc\n",
        "        self.add_node(u)\n",
        "        self.add_node(v)\n",
        "        if v not in self.graph[u]:\n",
        "            self.graph[u].append(v)\n",
        "\n",
        "    def add_edge(self, edge: list):\n",
        "        \"\"\"\n",
        "        Adds edge to a graph provided a list of nodes.\n",
        "        \"\"\"\n",
        "        u, v = edge\n",
        "        if u == v:\n",
        "            raise ValueError(\"Pętla!\")\n",
        "        self.add_node(u)\n",
        "        self.add_node(v)\n",
        "        if v not in self.graph[u]:\n",
        "            self.graph[u].append(v)\n",
        "        if u not in self.graph[v]:\n",
        "            self.graph[v].append(u)\n",
        "\n",
        "    def _array_to_dict(arr: np.array, nodes: list) -> dict:\n",
        "        \"\"\"\n",
        "        Converts a graph in array form to a graph in dict form.\n",
        "        \"\"\"\n",
        "        res_dict = {}\n",
        "        for i, node in enumerate(nodes):\n",
        "            neighbours = [nodes[j] for j, edge in enumerate(arr[i]) if edge]\n",
        "            res_dict[node] = neighbours\n",
        "        return res_dict\n",
        "\n",
        "    def _dict_to_array(self, _dict: dict) -> np.array:\n",
        "        \"\"\"\n",
        "        Converts a graph in dict form to a graph in array form.\n",
        "        \"\"\"\n",
        "        n = len(_dict)\n",
        "        nodes = [*_dict.keys()]\n",
        "        res_arr = np.zeros(shape = (n, n), dtype=int)\n",
        "        for u,v in [\n",
        "            (nodes.index(u), nodes.index(v))\n",
        "            for u, row in _dict.items() for v in row\n",
        "        ]:\n",
        "            res_arr[u][v] += 1\n",
        "        return res_arr\n"
      ]
    },
    {
      "cell_type": "markdown",
      "metadata": {
        "id": "FkUyth0KqbAz"
      },
      "source": [
        "# Przykłady wykorzystania"
      ]
    },
    {
      "cell_type": "code",
      "execution_count": 3,
      "metadata": {
        "colab": {
          "base_uri": "https://localhost:8080/"
        },
        "id": "A9PZAqe4qbA0",
        "outputId": "d32ee146-6419-4e1f-dd1b-e1f31ad47b40"
      },
      "outputs": [
        {
          "output_type": "stream",
          "name": "stdout",
          "text": [
            "a -> ['b', 'c']\n",
            "b -> ['a', 'd', 'e']\n",
            "c -> ['a', 'f']\n",
            "d -> ['b', 'f']\n",
            "e -> ['b']\n",
            "f -> ['c', 'd']\n",
            "g -> []\n",
            "\n",
            "[[0 1 1 0 0 0 0]\n",
            " [1 0 0 1 1 0 0]\n",
            " [1 0 0 0 0 1 0]\n",
            " [0 1 0 0 0 1 0]\n",
            " [0 1 0 0 0 0 0]\n",
            " [0 0 1 1 0 0 0]\n",
            " [0 0 0 0 0 0 0]]\n",
            "['a', 'b', 'c', 'd', 'e', 'f', 'g']\n"
          ]
        }
      ],
      "source": [
        "graph = Graph.from_dict(\n",
        "    {\n",
        "        'a': ['b', 'c'],\n",
        "        'b': ['a', 'd', 'e'],\n",
        "        'c': ['a', 'f'],\n",
        "        'd': ['b', 'f'],\n",
        "        'e': ['b'],\n",
        "        'f': ['c', 'd'],\n",
        "        'g': [],\n",
        "    }\n",
        ")\n",
        "\n",
        "graph_array = graph.array()\n",
        "graph_nodes = graph.nodes()\n",
        "\n",
        "print(graph)\n",
        "print(graph_array)\n",
        "print(graph_nodes)"
      ]
    },
    {
      "cell_type": "code",
      "execution_count": 4,
      "metadata": {
        "colab": {
          "base_uri": "https://localhost:8080/"
        },
        "id": "8CpeTY4WqbA1",
        "outputId": "6f3b1175-88f2-4ae2-971f-9f7495bc8257"
      },
      "outputs": [
        {
          "output_type": "stream",
          "name": "stdout",
          "text": [
            "2 -> [1, 3, 7, 9]\n",
            "1 -> [2, 8]\n",
            "3 -> [2, 4, 5, 7]\n",
            "4 -> [3, 5, 9, 10]\n",
            "5 -> [3, 4, 8]\n",
            "7 -> [2, 3]\n",
            "8 -> [1, 5]\n",
            "9 -> [2, 4, 6]\n",
            "6 -> [9]\n",
            "10 -> [4]\n",
            "\n"
          ]
        }
      ],
      "source": [
        "random_graph = Graph.random_graph(10, 1/3)\n",
        "print(random_graph)"
      ]
    },
    {
      "cell_type": "code",
      "execution_count": null,
      "metadata": {
        "id": "Z8B1lsqaqbA2",
        "outputId": "3d47434b-a9b8-4799-8484-df96ddcc3691"
      },
      "outputs": [
        {
          "name": "stdout",
          "output_type": "stream",
          "text": [
            "1 -> [10, 2]\n",
            "2 -> [1, 3]\n",
            "3 -> [2, 4]\n",
            "4 -> [3, 5]\n",
            "5 -> [4, 6]\n",
            "6 -> [5, 7]\n",
            "7 -> [6, 8]\n",
            "8 -> [7, 9]\n",
            "9 -> [8, 10]\n",
            "10 -> [1, 9]\n",
            "\n"
          ]
        }
      ],
      "source": [
        "cycle = Graph.cycle(10)\n",
        "print(cycle)"
      ]
    },
    {
      "cell_type": "code",
      "source": [
        "%%writefile lista.txt\n",
        "A B\n",
        "B C\n",
        "B D\n",
        "D C\n",
        "E\n",
        "F"
      ],
      "metadata": {
        "colab": {
          "base_uri": "https://localhost:8080/"
        },
        "id": "AZhm_p1NrmAt",
        "outputId": "e3d9c35e-41e4-41b4-ecc5-fa402890cc6f"
      },
      "execution_count": 5,
      "outputs": [
        {
          "output_type": "stream",
          "name": "stdout",
          "text": [
            "Writing lista.txt\n"
          ]
        }
      ]
    },
    {
      "cell_type": "code",
      "execution_count": 6,
      "metadata": {
        "colab": {
          "base_uri": "https://localhost:8080/"
        },
        "id": "IrGvF05-qbA2",
        "outputId": "8bf3ef09-f644-425f-ab58-c9bff8ae23a6"
      },
      "outputs": [
        {
          "output_type": "stream",
          "name": "stdout",
          "text": [
            "A -> ['B']\n",
            "B -> ['A', 'C', 'D']\n",
            "C -> ['B', 'D']\n",
            "D -> ['B', 'C']\n",
            "E -> []\n",
            "F -> []\n",
            "\n"
          ]
        }
      ],
      "source": [
        "file_graph = Graph.from_file(\"./lista.txt\")\n",
        "print(file_graph)"
      ]
    },
    {
      "cell_type": "code",
      "execution_count": 7,
      "metadata": {
        "id": "fCNER6SHqbA3"
      },
      "outputs": [],
      "source": [
        "file_graph.add_edge([\"E\", \"F\"])\n",
        "file_graph.to_file(\"lista1.txt\")"
      ]
    },
    {
      "cell_type": "code",
      "source": [
        "%cat lista1.txt"
      ],
      "metadata": {
        "colab": {
          "base_uri": "https://localhost:8080/"
        },
        "id": "g-VhrZ_Crx5T",
        "outputId": "cf7222f6-b7da-4006-afff-f59c52ff2781"
      },
      "execution_count": 8,
      "outputs": [
        {
          "output_type": "stream",
          "name": "stdout",
          "text": [
            "A: B\n",
            "B: A C D\n",
            "C: B D\n",
            "D: B C\n",
            "E: F\n",
            "F: E\n"
          ]
        }
      ]
    }
  ],
  "metadata": {
    "kernelspec": {
      "display_name": ".venv",
      "language": "python",
      "name": "python3"
    },
    "language_info": {
      "codemirror_mode": {
        "name": "ipython",
        "version": 3
      },
      "file_extension": ".py",
      "mimetype": "text/x-python",
      "name": "python",
      "nbconvert_exporter": "python",
      "pygments_lexer": "ipython3",
      "version": "3.11.6"
    },
    "colab": {
      "provenance": [],
      "include_colab_link": true
    }
  },
  "nbformat": 4,
  "nbformat_minor": 0
}