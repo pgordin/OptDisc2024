{
  "cells": [
    {
      "cell_type": "markdown",
      "metadata": {
        "id": "view-in-github",
        "colab_type": "text"
      },
      "source": [
        "<a href=\"https://colab.research.google.com/github/pgordin/OptDisc2024/blob/main/Grafy8_class.ipynb\" target=\"_parent\"><img src=\"https://colab.research.google.com/assets/colab-badge.svg\" alt=\"Open In Colab\"/></a>"
      ]
    },
    {
      "cell_type": "code",
      "execution_count": 49,
      "metadata": {
        "id": "vWgeTyk5qbAu"
      },
      "outputs": [],
      "source": [
        "import numpy as np\n",
        "from random import random\n",
        "from copy import deepcopy\n",
        "from queue import PriorityQueue"
      ]
    },
    {
      "cell_type": "markdown",
      "source": [
        "## Dygresja &mdash; kopce binarne"
      ],
      "metadata": {
        "id": "hQbZMHfvwJP9"
      }
    },
    {
      "cell_type": "code",
      "source": [
        "!wget https://raw.githubusercontent.com/pgordin/OptDisc2024/main/MyHeap.py"
      ],
      "metadata": {
        "id": "huMIrw4uut9S",
        "outputId": "d4113261-4fef-4054-d4e9-336f394a31c5",
        "colab": {
          "base_uri": "https://localhost:8080/"
        }
      },
      "execution_count": 50,
      "outputs": [
        {
          "output_type": "stream",
          "name": "stdout",
          "text": [
            "--2024-05-27 12:48:28--  https://raw.githubusercontent.com/pgordin/OptDisc2024/main/MyHeap.py\n",
            "Resolving raw.githubusercontent.com (raw.githubusercontent.com)... 185.199.108.133, 185.199.109.133, 185.199.110.133, ...\n",
            "Connecting to raw.githubusercontent.com (raw.githubusercontent.com)|185.199.108.133|:443... connected.\n",
            "HTTP request sent, awaiting response... 200 OK\n",
            "Length: 3992 (3.9K) [text/plain]\n",
            "Saving to: ‘MyHeap.py.1’\n",
            "\n",
            "\rMyHeap.py.1           0%[                    ]       0  --.-KB/s               \rMyHeap.py.1         100%[===================>]   3.90K  --.-KB/s    in 0s      \n",
            "\n",
            "2024-05-27 12:48:28 (14.1 MB/s) - ‘MyHeap.py.1’ saved [3992/3992]\n",
            "\n"
          ]
        }
      ]
    },
    {
      "cell_type": "code",
      "source": [
        "from MyHeap import MyHeap"
      ],
      "metadata": {
        "id": "-YuXMosvu4vO"
      },
      "execution_count": 51,
      "outputs": []
    },
    {
      "cell_type": "code",
      "source": [
        "#Test działania kopca - sortowanie\n",
        "kopiec = MyHeap()\n",
        "for i in range(20):\n",
        "    kopiec.insert((20-i, 2*i+7))\n",
        "wynik = []\n",
        "print(kopiec)\n",
        "print(kopiec._place)\n",
        "for i in range(20):\n",
        "    wynik.append(kopiec.get_min())\n",
        "#    print(wynik)\n",
        "#    print(kopiec)\n",
        "    print(kopiec._place)\n",
        "print(wynik)"
      ],
      "metadata": {
        "id": "65XvDZ9wu-PQ",
        "outputId": "5d7487a5-f020-4938-a396-bc045d4899df",
        "colab": {
          "base_uri": "https://localhost:8080/"
        }
      },
      "execution_count": 52,
      "outputs": [
        {
          "output_type": "stream",
          "name": "stdout",
          "text": [
            "[(1, 45), (2, 43), (7, 33), (4, 39), (3, 41), (10, 27), (8, 31), (11, 25), (5, 37), (12, 23), (13, 21), (19, 9), (15, 17), (16, 15), (9, 29), (20, 7), (14, 19), (17, 13), (6, 35), (18, 11)]\n",
            "{7: 15, 9: 11, 11: 19, 13: 17, 15: 13, 17: 12, 19: 16, 21: 10, 23: 9, 25: 7, 27: 5, 29: 14, 31: 6, 33: 2, 35: 18, 37: 8, 39: 3, 41: 4, 43: 1, 45: 0}\n",
            "{7: 15, 9: 11, 11: 9, 13: 17, 15: 13, 17: 12, 19: 16, 21: 10, 23: 4, 25: 7, 27: 5, 29: 14, 31: 6, 33: 2, 35: 18, 37: 8, 39: 3, 41: 1, 43: 0}\n",
            "{7: 15, 9: 11, 11: 9, 13: 17, 15: 13, 17: 12, 19: 16, 21: 10, 23: 4, 25: 7, 27: 5, 29: 14, 31: 6, 33: 2, 35: 8, 37: 3, 39: 1, 41: 0}\n",
            "{7: 15, 9: 11, 11: 9, 13: 8, 15: 13, 17: 12, 19: 16, 21: 10, 23: 4, 25: 7, 27: 5, 29: 14, 31: 6, 33: 2, 35: 3, 37: 1, 39: 0}\n",
            "{7: 15, 9: 11, 11: 9, 13: 8, 15: 13, 17: 12, 19: 7, 21: 10, 23: 4, 25: 3, 27: 5, 29: 14, 31: 6, 33: 2, 35: 1, 37: 0}\n",
            "{7: 7, 9: 11, 11: 9, 13: 8, 15: 13, 17: 12, 19: 3, 21: 10, 23: 4, 25: 1, 27: 5, 29: 14, 31: 6, 33: 2, 35: 0}\n",
            "{7: 7, 9: 11, 11: 9, 13: 8, 15: 13, 17: 12, 19: 3, 21: 10, 23: 4, 25: 1, 27: 5, 29: 6, 31: 2, 33: 0}\n",
            "{7: 7, 9: 11, 11: 9, 13: 8, 15: 6, 17: 12, 19: 3, 21: 10, 23: 4, 25: 1, 27: 5, 29: 2, 31: 0}\n",
            "{7: 7, 9: 11, 11: 9, 13: 8, 15: 6, 17: 5, 19: 3, 21: 10, 23: 4, 25: 1, 27: 2, 29: 0}\n",
            "{7: 7, 9: 5, 11: 9, 13: 8, 15: 6, 17: 2, 19: 3, 21: 10, 23: 4, 25: 1, 27: 0}\n",
            "{7: 7, 9: 5, 11: 9, 13: 8, 15: 6, 17: 2, 19: 3, 21: 4, 23: 1, 25: 0}\n",
            "{7: 7, 9: 5, 11: 4, 13: 8, 15: 6, 17: 2, 19: 3, 21: 1, 23: 0}\n",
            "{7: 7, 9: 5, 11: 4, 13: 3, 15: 6, 17: 2, 19: 1, 21: 0}\n",
            "{7: 3, 9: 5, 11: 4, 13: 1, 15: 6, 17: 2, 19: 0}\n",
            "{7: 3, 9: 5, 11: 4, 13: 1, 15: 2, 17: 0}\n",
            "{7: 3, 9: 2, 11: 4, 13: 1, 15: 0}\n",
            "{7: 3, 9: 2, 11: 1, 13: 0}\n",
            "{7: 1, 9: 2, 11: 0}\n",
            "{7: 1, 9: 0}\n",
            "{7: 0}\n",
            "{}\n",
            "[(1, 45), (2, 43), (3, 41), (4, 39), (5, 37), (6, 35), (7, 33), (8, 31), (9, 29), (10, 27), (11, 25), (12, 23), (13, 21), (14, 19), (15, 17), (16, 15), (17, 13), (18, 11), (19, 9), (20, 7)]\n"
          ]
        }
      ]
    },
    {
      "cell_type": "markdown",
      "source": [
        "# Klasa Grafy"
      ],
      "metadata": {
        "id": "F5WO5nc5wRzG"
      }
    },
    {
      "cell_type": "code",
      "execution_count": 61,
      "metadata": {
        "id": "ECGnFwaXqbAx"
      },
      "outputs": [],
      "source": [
        "class Graph:\n",
        "    def __init__(self, graph=None):\n",
        "        if graph is None:\n",
        "            graph = {}\n",
        "        self.graph = graph\n",
        "        self.weighted = False\n",
        "\n",
        "    # dict initializer\n",
        "    @classmethod\n",
        "    def from_dict(cls, graph):\n",
        "        return cls(graph)\n",
        "\n",
        "    # array initializer\n",
        "    @classmethod\n",
        "    def from_array(cls, graph: np.array, nodes: list = None):\n",
        "        if nodes is None:\n",
        "            nodes = [*range(1, len(graph) + 1)]\n",
        "        return cls.from_dict(\n",
        "            cls._array_to_dict(graph, nodes)\n",
        "        )\n",
        "\n",
        "    @staticmethod\n",
        "    def from_edges(filename: str, directed = 0):\n",
        "        \"\"\"\n",
        "        Generates a graphs from a text file, where each line defines one edge.\\n\n",
        "        Filename is a file path.\n",
        "        \"\"\"\n",
        "        graph = Graph()\n",
        "        file = open(filename, \"r\")\n",
        "        for line in file:\n",
        "            words = line.strip().split()\n",
        "            if len(words) == 1:\n",
        "                graph.add_node(words[0])\n",
        "            elif len(words) == 2: # two words -- unweighed graph\n",
        "                if directed:\n",
        "                    graph.add_arc([words[0], words[1]])\n",
        "                else:\n",
        "                    graph.add_edge([words[0], words[1]])\n",
        "            elif len(words) > 2: # more than two words - labeled graph\n",
        "                graph.weighted = True\n",
        "                if directed:\n",
        "                    graph.add_arc([words[0], words[1]])\n",
        "                    graph.graph[words[0]][-1] = (words[1], words[2]) # process label\n",
        "                else:\n",
        "                    graph.add_edge([words[0], words[1]])\n",
        "                    graph.graph[words[0]][-1] = (words[1], words[2])\n",
        "                    graph.graph[words[1]][-1] = (words[0], words[2])\n",
        "        file.close()\n",
        "        return graph\n",
        "\n",
        "    @staticmethod\n",
        "    def random_graph(nodes_num: int, prob: float):\n",
        "        \"\"\"\n",
        "        Generates a random graph provided a number of nodes and probability of generating an edge.\n",
        "        \"\"\"\n",
        "        rand_graph = Graph()\n",
        "        for i in range(1, nodes_num + 1):\n",
        "            rand_graph.add_node(i)\n",
        "            for j in range(1, i):\n",
        "                if random() < prob:\n",
        "                    rand_graph.add_edge([i, j])\n",
        "        return rand_graph\n",
        "\n",
        "    @staticmethod\n",
        "    def cycle(nodes_num: int):\n",
        "        \"\"\"\n",
        "        Generates a cycle provided a number of nodes.\n",
        "        \"\"\"\n",
        "        cycle = Graph()\n",
        "        nodes = [*range(1, nodes_num + 1)]\n",
        "        for i in nodes:\n",
        "            cycle.add_edge([nodes[i-2], nodes[i-1]])\n",
        "        cycle.graph = dict(sorted(cycle.graph.items()))\n",
        "        return cycle\n",
        "\n",
        "    def to_neighbourlist(self, filename: str):\n",
        "        \"\"\"\n",
        "        Saves a graphs to a text file as a neighbour dict.\\n\n",
        "        Filename is a file path.\n",
        "        \"\"\"\n",
        "        file = open(filename, \"w\")\n",
        "        file.write(str(self))\n",
        "        file.close()\n",
        "\n",
        "    def nodes(self) -> list:\n",
        "        \"\"\"\n",
        "        Returns list of nodes of a graph.\n",
        "        \"\"\"\n",
        "        return [*self.graph.keys()]\n",
        "\n",
        "    def array(self) -> np.array:\n",
        "        \"\"\"\n",
        "        Returns the graph in array form.\n",
        "        \"\"\"\n",
        "        return self._dict_to_array(self.graph)\n",
        "\n",
        "    # redefinition of print for objects of class Graph\n",
        "    def __str__(self):\n",
        "        res = \"\"\n",
        "        for v in self.graph:\n",
        "            res += f\"{v}:\"\n",
        "            for u in self.graph[v]:\n",
        "                res += f\" {u}\"\n",
        "            res += \"\\n\"\n",
        "        return res\n",
        "\n",
        "    def add_node(self, node):\n",
        "        \"\"\"\n",
        "        Adds a node to a graph.\n",
        "        \"\"\"\n",
        "        if node not in self.graph:\n",
        "            self.graph[node] = []\n",
        "\n",
        "    def del_node(self, node):\n",
        "        \"\"\"\n",
        "        Recursively removes a node from a graph.\n",
        "        \"\"\"\n",
        "        if node in self.graph:\n",
        "            self.graph.pop(node)\n",
        "            for key in [*self.graph.keys()]:\n",
        "                if node in self.graph[key]:\n",
        "                    self.graph[key].remove(node)\n",
        "\n",
        "    def add_arc(self, arc: list):\n",
        "        \"\"\"\n",
        "        Adds arc to a graph provided a list of nodes.\n",
        "        \"\"\"\n",
        "        u, v = arc\n",
        "        self.add_node(u)\n",
        "        self.add_node(v)\n",
        "        if v not in self.graph[u]:\n",
        "            self.graph[u].append(v)\n",
        "\n",
        "    def add_edge(self, edge: list):\n",
        "        \"\"\"\n",
        "        Adds edge to a graph provided a list of nodes.\n",
        "        \"\"\"\n",
        "        u, v = edge\n",
        "        if u == v:\n",
        "            raise ValueError(\"Pętla!\")\n",
        "        self.add_node(u)\n",
        "        self.add_node(v)\n",
        "        if v not in self.graph[u]:\n",
        "            self.graph[u].append(v)\n",
        "        if u not in self.graph[v]:\n",
        "            self.graph[v].append(u)\n",
        "\n",
        "    def _array_to_dict(arr: np.array, nodes: list) -> dict:\n",
        "        \"\"\"\n",
        "        Converts a graph in array form to a graph in dict form.\n",
        "        \"\"\"\n",
        "        res_dict = {}\n",
        "        for i, node in enumerate(nodes):\n",
        "            neighbours = [nodes[j] for j, edge in enumerate(arr[i]) if edge]\n",
        "            res_dict[node] = neighbours\n",
        "        return res_dict\n",
        "\n",
        "    def _dict_to_array(self, _dict: dict) -> np.array:\n",
        "        \"\"\"\n",
        "        Converts a graph in dict form to a graph in array form.\n",
        "        \"\"\"\n",
        "        n = len(_dict)\n",
        "        nodes = [*_dict.keys()]\n",
        "        res_arr = np.zeros(shape = (n, n), dtype=int)\n",
        "        for u,v in [\n",
        "            (nodes.index(u), nodes.index(v))\n",
        "            for u, row in _dict.items() for v in row\n",
        "        ]:\n",
        "            res_arr[u][v] += 1\n",
        "        return res_arr\n",
        "\n",
        "    def Prufer(self):\n",
        "      \"\"\"\n",
        "      Kod Prufera drzewa - zwrócony jako napis\n",
        "      Wymagane, aby graf był drzewem.\n",
        "      Zwraca pusty napis dla drzew o mniej niż 3 wierzchołkach.\n",
        "      \"\"\"\n",
        "      tr = deepcopy(self.graph)   # będziemy psuć graf\n",
        "      code = \"\"\n",
        "      for i in range(len(self.graph) - 2):\n",
        "        for x in sorted(tr):    # po kolei przeglądam nieusunięte wierzchołki\n",
        "          if len(tr[x]) == 1:   # najmniejszy liść\n",
        "            break\n",
        "        v = tr[x][0]  # sąsiad najmniejszego x\n",
        "        code = code + f\"{v} \"\n",
        "        tr[v].remove(x)   # usuwam x z listy sąsiadów v\n",
        "        tr.pop(x)         # usuwam x z drzewa\n",
        "      return code.strip()\n",
        "\n",
        "    @staticmethod\n",
        "    def tree_from_Prufer(code: str):\n",
        "        \"\"\"\n",
        "        Tworzy drzewo na podstawie kodu Prufera.\n",
        "        \"\"\"\n",
        "        tree = Graph()\n",
        "        clist = [int(x) for x in code.strip().split()]   # kod zamieniamy na listę liczb\n",
        "        n = len(clist) + 2    # liczba wierzchołków\n",
        "        vert = [v for v in range(1, n+1)]  # lista liczb od 1 do n\n",
        "        for v in vert:\n",
        "          tree.add_node(v)\n",
        "        for i in range(n-2):\n",
        "          for x in vert:\n",
        "            if not x in clist:    # najmniejszy liść\n",
        "              break\n",
        "          v = clist.pop(0)    # usuwam pierwszy element listy (sąsiad x)\n",
        "          tree.add_edge((x, v))\n",
        "          vert.remove(x)\n",
        "        tree.add_edge(vert)\n",
        "        return tree\n",
        "\n",
        "    def ConnectedComponents(self):\n",
        "      \"\"\"\n",
        "      Znajduje spójne składowe w grafie nieskierowanym\n",
        "      Jako wynik zwraca listę zbiorów wierzchołków\n",
        "      Uwaga: jako pierwszy element listy uzyskamy zbiór wszystkich wierzchołków grafu\n",
        "      \"\"\"\n",
        "      def DFS(u):\n",
        "        \"\"\"\n",
        "        Przeszukiwanie w głąb\n",
        "        \"\"\"\n",
        "        for w in self.graph[u]:\n",
        "          if not w in VT[0]:  # w jeszcze nie odwiedzony\n",
        "            VT[0].add(w)      # już odwiedzony\n",
        "            VT[-1].add(w)     # w ostatniej spójnej składowej\n",
        "            DFS(w)\n",
        "      \"\"\"\n",
        "      VT - lista zbiorów VT[i] dla i > 0 - lista wierzchołków spójnych składowych\n",
        "      dla i = 0 - lista wszystkich odwiedzonych wierzchołków\n",
        "      \"\"\"\n",
        "      VT = [set([])]\n",
        "      for v in self.graph:\n",
        "        if v not in VT[0]:\n",
        "          VT[0].add(v)\n",
        "          VT.append(set([v]))   # zaczątek nowej spójnej składowej\n",
        "          DFS(v)\n",
        "      return VT\n",
        "\n",
        "    def Connected_components_graphs(self):\n",
        "      \"\"\"\n",
        "      Spójne składowe jako grafy\n",
        "      \"\"\"\n",
        "      VT=self.ConnectedComponents()\n",
        "      noCc=len(VT)-1  #liczba spojnych skladowych\n",
        "      graphs=[]  #lista do przechowywania grafow reprezentujacych spojne skladowe\n",
        "      for i in range(noCc):  #iterujemy przez wszystkie spojne skladowe\n",
        "          graph_i={}    #dla każdej spójnej składowej tworzymy nowy graf graph_i, który jest podgrafem oryginalnego grafu,\n",
        "          for v in VT[i+1]:     #zawierającym tylko wierzchołki z bieżącej spójnej składowej\n",
        "              graph_i[v]=self.graph[v].copy()\n",
        "          graphs.append(Graph.from_dict(graph_i))  #dodajemy stworzone grafy do listy\n",
        "      return graphs\n",
        "\n",
        "    def Distance(self, v):\n",
        "      \"\"\"\n",
        "      Znajduje i zwraca jako wektor słownik odległości od wierzchołka v\n",
        "      do wierzchołków w tej samej spójnej składowej co v\n",
        "      \"\"\"\n",
        "      dist = {v:0} # zalążek słownika odległości\n",
        "      kolejka = [v]\n",
        "      while len(kolejka) > 0:\n",
        "        u = kolejka.pop(0)\n",
        "        for w in self.graph[u]:\n",
        "          if not w in dist:\n",
        "            dist[w] = dist[u] + 1\n",
        "            kolejka.append(w)\n",
        "      return dist\n",
        "\n",
        "\n",
        "    def GDFS(self):\n",
        "      \"\"\"\n",
        "      Uogólniony DFS w grafie skierowanym. Zwraca dwa słowniki visited i processed\n",
        "      \"\"\"\n",
        "      def DFS(u):\n",
        "        \"\"\"\n",
        "        Przeszukiwanie w głąb - począwszy od niedowiedzonego wierzchołka u\n",
        "        \"\"\"\n",
        "        visited[u] = len(visited) # już odwiedzony\n",
        "        for w in self.graph[u]:\n",
        "          if not w in visited:  # w jeszcze nie odwiedzony\n",
        "            DFS(w)\n",
        "        processed[u] = len(visited) # u - przetworzony\n",
        "\n",
        "      visited = {}\n",
        "      processed = {}\n",
        "      for v in self.graph:\n",
        "        if not v in visited:\n",
        "          DFS(v)\n",
        "      return visited, processed\n",
        "\n",
        "    def TopologicalSort(self):\n",
        "      \"\"\"\n",
        "      Porządek topologiczny w grafie skierowanym (bez sprawdzania poprawności)\n",
        "      \"\"\"\n",
        "      visited, processed = self.GDFS()\n",
        "      order = {}\n",
        "      n = len(self.graph)\n",
        "      for v in self.graph:\n",
        "        order[v] = n * processed[v] - visited[v]\n",
        "      return sorted(order, key = order.get, reverse= True)\n",
        "\n",
        "\n",
        "    def MinSpanningTree(self):\n",
        "      \"\"\"\n",
        "      Algorytm Jarnika-Prima -- minimalne drzewa spinające\n",
        "      Dla nieskierowanych grafów ważonych (wagi to liczby całkowite)\n",
        "      Zwraca parę (waga, drzewo), gdzie waga to łączna waga drzewa\n",
        "      a drzewo to minimalne drzewo spinające w formie grafu ważonego\n",
        "      \"\"\"\n",
        "      if not self.weighted: # jak graf nie jest ważony - zwróć nic\n",
        "        return None, None\n",
        "      for v in self.graph: # wybieram jakiś wierzchołek  grafu\n",
        "        break\n",
        "      tree = {v:[]}       # zalążek drzewa\n",
        "      weight = 0          # łączna waga\n",
        "      q = PriorityQueue() # pusta kolejka priorytetowa\n",
        "      for (u, w) in self.graph[v]:\n",
        "        q.put((int(w), v, u))\n",
        "      while not q.empty():\n",
        "        (w, v, u) = q.get()\n",
        "        if u not in tree:\n",
        "          weight += w\n",
        "          tree[u] = [(v, w)]\n",
        "          tree[v].append([(u, w)])\n",
        "          for (x, w) in self.graph[u]:\n",
        "            if not x in tree:\n",
        "              q.put((int(w), u, x))\n",
        "      if len(tree) < len(self.graph):\n",
        "        print(\"Graf niespójny - zwrócone drzewo dla jednej składowej\")\n",
        "      wtree = Graph(tree)\n",
        "      wtree.weighted = True\n",
        "      return weight, wtree\n",
        "\n",
        "    def Dijkstra(self, s):\n",
        "      \"\"\"\n",
        "      Algorytm Dijkstry - najkrótsze ścieżki z jednym źródłem (z wierzchołka s)\n",
        "      Wagi krawędzi - liczby naturalne\n",
        "      \"\"\"\n",
        "      if not self.weighted: # jak graf nie jest ważony - zwróć nic\n",
        "        return None, None\n",
        "      # Init\n",
        "      dist = {}\n",
        "      pred = {}\n",
        "      for v in self.graph:\n",
        "        dist[v] = 2**31 # substytut nieskończoności\n",
        "        pred[v] = None\n",
        "      dist[s] = 0\n",
        "      q = PriorityQueue()\n",
        "      q.put((0, s))\n",
        "      V = set() # zbiór wierzchołków przetworzonych\n",
        "      while not q.empty():   # dopóki kolejka niepusta\n",
        "        (d, u) = q.get()      # odległość i najbliższy wierzchołek\n",
        "        if u not in V:\n",
        "          V.add(u)\n",
        "          for (v, w) in self.graph[u]:  # relax\n",
        "            if dist[v] > dist[u] + int(w):\n",
        "              dist[v] = dist[u] + int(w)\n",
        "              pred[v] = u\n",
        "              q.put((dist[v], v))\n",
        "      return dist, pred\n",
        "\n",
        "    def Dijkstra2(self, s):\n",
        "        \"\"\"Algorytm Dijkstry - szukanie najkrótszych scieżek z jednym źródłem\n",
        "            wariant z własnym kopcem - każdy wierzchołek wstawiony raz\"\"\"\n",
        "        if not self.weighted: # jak graf nie jest ważony - zwróć nic\n",
        "          return None, None\n",
        "        heap = MyHeap()\n",
        "        # init\n",
        "        dist = {}\n",
        "        pred = {}\n",
        "        for v in self.graph:\n",
        "            dist[v] = 2**31 # taki substytut nieskończoności\n",
        "            pred[v] = None\n",
        "        dist[s] = 0\n",
        "        # główny algorytm\n",
        "        heap.insert_val(s, 0)\n",
        "        V = set()\n",
        "        while len(heap):    # dopóki kopiec niepusty, są w nim tylko wierzchołki osiągalne z s\n",
        "            (d, u) = heap.get_min()\n",
        "            V.add(u)\n",
        "            for (v, w) in self.graph[u]:\n",
        "                if v not in V: # relax\n",
        "                    if dist[v] > dist[u] + int(w):\n",
        "                        dist[v] = dist[u] + int(w)\n",
        "                        pred[v] = u\n",
        "                        heap.insert_val(v, dist[v]) #insert_val działa tak, że jak v jest to zmniejsza wartość, a jak nie ma to dodaje\n",
        "        return dist, pred\n",
        "\n",
        "\n",
        "    def Bellman_Ford(self, s):\n",
        "      if not self.weighted: # jak graf nie jest ważony - zwróć nic\n",
        "        return None, None\n",
        "      # Init\n",
        "      dist = {}\n",
        "      pred = {}\n",
        "      for v in self.graph:\n",
        "        dist[v] = 2**31 # substytut nieskończoności\n",
        "        pred[v] = None\n",
        "      dist[s] = 0\n",
        "      for i in range(len(self.graph)-1):\n",
        "        for u in self.graph:\n",
        "          for (v, w) in self.graph[u]:  # relax\n",
        "            if dist[v] > dist[u] + int(w):\n",
        "              dist[v] = dist[u] + int(w)\n",
        "              pred[v] = u\n",
        "      for u in self.graph:\n",
        "        for (v,w) in self.graph[u]:\n",
        "          if dist[v] > dist[u] + int(w):\n",
        "            print(f\"graf zawiera cykl o ujemnej wadze {u}, {v}\")\n",
        "      return dist, pred\n",
        "\n",
        "    def MaxFlow_EK(self, s, t):\n",
        "        \"\"\"\n",
        "        Algorytm Edmondsa-Karpa na maksymalny przepływ\n",
        "        \"\"\"\n",
        "        if not self.weighted: # jak graf nie jest ważony - zwróć nic\n",
        "          return None, None\n",
        "        n = len(self.graph)\n",
        "        #przygotowanie - sieć przeprzepustowość\n",
        "        network = {}\n",
        "        for u in self.graph:\n",
        "          network[u] = []\n",
        "        for u in self.graph:\n",
        "          for (v, w) in self.graph[u]:\n",
        "            if int(w) > 0:\n",
        "              network[u].append((v, int(w)))\n",
        "              network[v].append((u, 0))\n",
        "        flow = np.zeros((n,n))\n",
        "        nodes = [*network.keys()]\n",
        "        while True:\n",
        "          # ścieżki powiększające s - > t\n",
        "          pred = {s:None} # zalążek słownika poprzedników\n",
        "          cap = {s:2^31}  # zalążek słownika przepustowości\n",
        "          kolejka = [s]\n",
        "          while len(kolejka) > 0:\n",
        "            u = kolejka.pop(0)\n",
        "            for (v, w) in network[u]:\n",
        "              if (not v in pred) and w + flow[nodes.index(v), nodes.index(u)] > 0:\n",
        "                pred[v] = u\n",
        "                cap[v] = min(cap[u], w + flow[nodes.index(v), nodes.index(u)])\n",
        "                kolejka.append(v)\n",
        "              if v == t:\n",
        "                break\n",
        "          if not t in pred:\n",
        "            break # koniec - nie ma s->t-ścieżki\n",
        "          else:\n",
        "            u = t\n",
        "            c = cap[t]\n",
        "            while u != s:\n",
        "              v = pred[u]\n",
        "              flow[nodes.index(v), nodes.index(u)] += c\n",
        "              flow[nodes.index(u), nodes.index(v)] -= c\n",
        "              u = v\n",
        "\n",
        "        return nodes, flow\n"
      ]
    },
    {
      "cell_type": "markdown",
      "metadata": {
        "id": "FkUyth0KqbAz"
      },
      "source": [
        "# Przykłady wykorzystania"
      ]
    },
    {
      "cell_type": "code",
      "source": [
        "graph = Graph.random_graph(10, 1/5)\n",
        "print(graph)\n",
        "print(\"---------------------------\")\n",
        "print(graph.ConnectedComponents())\n"
      ],
      "metadata": {
        "id": "0_XatYQtj3w1",
        "outputId": "d7c2d434-068e-48bb-bec9-77dadc0e9eb0",
        "colab": {
          "base_uri": "https://localhost:8080/"
        }
      },
      "execution_count": null,
      "outputs": [
        {
          "output_type": "stream",
          "name": "stdout",
          "text": [
            "1: 3 8\n",
            "2: 6\n",
            "3: 1 4 10\n",
            "4: 3 8\n",
            "5: 6\n",
            "6: 2 5\n",
            "7: 9\n",
            "8: 1 4 9\n",
            "9: 7 8\n",
            "10: 3\n",
            "\n",
            "---------------------------\n",
            "[{1, 2, 3, 4, 5, 6, 7, 8, 9, 10}, {1, 3, 4, 7, 8, 9, 10}, {2, 5, 6}]\n"
          ]
        }
      ]
    },
    {
      "cell_type": "code",
      "source": [
        "odl = graph.Distance(1)\n",
        "print(odl)"
      ],
      "metadata": {
        "colab": {
          "base_uri": "https://localhost:8080/"
        },
        "id": "1izOx7oBftAs",
        "outputId": "834df500-6276-4d04-bd78-39deb08b6734"
      },
      "execution_count": null,
      "outputs": [
        {
          "output_type": "stream",
          "name": "stdout",
          "text": [
            "{1: 0, 3: 1, 8: 1, 4: 2, 10: 2, 9: 2, 7: 3}\n"
          ]
        }
      ]
    },
    {
      "cell_type": "markdown",
      "source": [
        "#Small world phenomenon - eksperyment Millgrama (1967)\n",
        "\n",
        "Użyjemy grafu $G(n,p)$ (dokładnie $G(2000, 1/300)$) jako ilustrację zjawiska"
      ],
      "metadata": {
        "id": "OOS6ICt1hQY8"
      }
    },
    {
      "cell_type": "code",
      "source": [
        "import sys\n",
        "\n",
        "n = 2000\n",
        "p = 1/300\n",
        "sys.setrecursionlimit(n+5)\n",
        "\n",
        "rgraph = Graph.random_graph(n, p)\n",
        "lista = rgraph.Connected_components_graphs()\n",
        "graph = lista[0]\n",
        "print(len(graph.graph))\n"
      ],
      "metadata": {
        "colab": {
          "base_uri": "https://localhost:8080/"
        },
        "id": "YXlc5ddLhXHr",
        "outputId": "8a1903bf-cf09-4d20-8de6-5e126511a199"
      },
      "execution_count": null,
      "outputs": [
        {
          "output_type": "stream",
          "name": "stdout",
          "text": [
            "1998\n"
          ]
        }
      ]
    },
    {
      "cell_type": "code",
      "source": [
        "md = {}\n",
        "ecc = {}\n",
        "for v in graph.graph:\n",
        "  dist = graph.Distance(v)\n",
        "  ecc[v] = max(dist.values())\n",
        "  md[v] = sum(dist.values())/len(dist.values())\n",
        "print(\"Promień:\", min(ecc.values()), \" Średnica:\", max(ecc.values()), \" Średnio: \", sum(md.values())/len(md.values()))"
      ],
      "metadata": {
        "colab": {
          "base_uri": "https://localhost:8080/"
        },
        "id": "4T_Ri01hi7qx",
        "outputId": "1bc8c2ab-7d78-46b3-981c-038b1b530d63"
      },
      "execution_count": null,
      "outputs": [
        {
          "output_type": "stream",
          "name": "stdout",
          "text": [
            "Promień: 5  Średnica: 8  Średnio:  4.254108963818673\n"
          ]
        }
      ]
    },
    {
      "cell_type": "code",
      "source": [
        "%%writefile lista.txt\n",
        "A B\n",
        "B C\n",
        "B D\n",
        "D C\n",
        "E\n",
        "F"
      ],
      "metadata": {
        "colab": {
          "base_uri": "https://localhost:8080/"
        },
        "id": "AZhm_p1NrmAt",
        "outputId": "99c580a7-5a23-4b2e-9427-80ae2cd470f8"
      },
      "execution_count": null,
      "outputs": [
        {
          "output_type": "stream",
          "name": "stdout",
          "text": [
            "Writing lista.txt\n"
          ]
        }
      ]
    },
    {
      "cell_type": "code",
      "execution_count": null,
      "metadata": {
        "colab": {
          "base_uri": "https://localhost:8080/"
        },
        "id": "IrGvF05-qbA2",
        "outputId": "588be995-a015-41de-f899-3edc88322374"
      },
      "outputs": [
        {
          "output_type": "stream",
          "name": "stdout",
          "text": [
            "A: B\n",
            "B: A C D\n",
            "C: B D\n",
            "D: B C\n",
            "E:\n",
            "F:\n",
            "\n"
          ]
        }
      ],
      "source": [
        "file_graph = Graph.from_edges(\"./lista.txt\")\n",
        "print(file_graph)"
      ]
    },
    {
      "cell_type": "code",
      "execution_count": null,
      "metadata": {
        "id": "fCNER6SHqbA3"
      },
      "outputs": [],
      "source": [
        "file_graph.add_edge([\"E\", \"F\"])\n",
        "file_graph.to_neighbourlist(\"lista1.txt\")"
      ]
    },
    {
      "cell_type": "code",
      "source": [
        "%cat lista1.txt"
      ],
      "metadata": {
        "colab": {
          "base_uri": "https://localhost:8080/"
        },
        "id": "g-VhrZ_Crx5T",
        "outputId": "87a02476-d62a-4710-9c1a-d625ef8f0933"
      },
      "execution_count": null,
      "outputs": [
        {
          "output_type": "stream",
          "name": "stdout",
          "text": [
            "A: B\n",
            "B: A C D\n",
            "C: B D\n",
            "D: B C\n",
            "E: F\n",
            "F: E\n"
          ]
        }
      ]
    },
    {
      "cell_type": "code",
      "source": [
        "!wget https://raw.githubusercontent.com/pgordin/OptDisc2024/main/ubranie.txt"
      ],
      "metadata": {
        "id": "AzimerrmzWee",
        "outputId": "90efa908-b26f-4987-962d-8ddb82adaf04",
        "colab": {
          "base_uri": "https://localhost:8080/"
        }
      },
      "execution_count": null,
      "outputs": [
        {
          "output_type": "stream",
          "name": "stdout",
          "text": [
            "--2024-05-06 11:29:12--  https://raw.githubusercontent.com/pgordin/OptDisc2024/main/ubranie.txt\n",
            "Resolving raw.githubusercontent.com (raw.githubusercontent.com)... 185.199.108.133, 185.199.109.133, 185.199.110.133, ...\n",
            "Connecting to raw.githubusercontent.com (raw.githubusercontent.com)|185.199.108.133|:443... connected.\n",
            "HTTP request sent, awaiting response... 200 OK\n",
            "Length: 186 [text/plain]\n",
            "Saving to: ‘ubranie.txt’\n",
            "\n",
            "ubranie.txt         100%[===================>]     186  --.-KB/s    in 0s      \n",
            "\n",
            "2024-05-06 11:29:12 (6.29 MB/s) - ‘ubranie.txt’ saved [186/186]\n",
            "\n"
          ]
        }
      ]
    },
    {
      "cell_type": "code",
      "source": [
        "ubranie_graph = Graph.from_edges(\"ubranie.txt\", directed = 1)\n",
        "print(ubranie_graph)"
      ],
      "metadata": {
        "id": "B72Aejqc1VcF",
        "outputId": "8ad0300e-5c4e-48b1-abc5-5e77bf1bd6c5",
        "colab": {
          "base_uri": "https://localhost:8080/"
        }
      },
      "execution_count": null,
      "outputs": [
        {
          "output_type": "stream",
          "name": "stdout",
          "text": [
            "slipki: kalesony\n",
            "kalesony: spodnie\n",
            "spodnie: buty szelki\n",
            "buty:\n",
            "szelki: marynarka\n",
            "skarpety: buty\n",
            "koszula: szelki marynarka krawat\n",
            "marynarka: plaszcz\n",
            "krawat: marynarka\n",
            "plaszcz:\n",
            "\n"
          ]
        }
      ]
    },
    {
      "cell_type": "code",
      "source": [],
      "metadata": {
        "id": "oOnH7ReRrhgq"
      },
      "execution_count": null,
      "outputs": []
    },
    {
      "cell_type": "markdown",
      "source": [
        "# Grafy ważone"
      ],
      "metadata": {
        "id": "cqICA1ETQIUT"
      }
    },
    {
      "cell_type": "code",
      "source": [
        "!wget https://raw.githubusercontent.com/pgordin/OptDisc2024/main/wagi0.txt"
      ],
      "metadata": {
        "outputId": "1a7af11e-ee94-4ff8-8739-9c33d44755c5",
        "colab": {
          "base_uri": "https://localhost:8080/"
        },
        "id": "fOWpkVglrjm7"
      },
      "execution_count": null,
      "outputs": [
        {
          "output_type": "stream",
          "name": "stdout",
          "text": [
            "--2024-05-13 09:20:37--  https://raw.githubusercontent.com/pgordin/OptDisc2024/main/wagi0.txt\n",
            "Resolving raw.githubusercontent.com (raw.githubusercontent.com)... 185.199.108.133, 185.199.109.133, 185.199.110.133, ...\n",
            "Connecting to raw.githubusercontent.com (raw.githubusercontent.com)|185.199.108.133|:443... connected.\n",
            "HTTP request sent, awaiting response... 200 OK\n",
            "Length: 114 [text/plain]\n",
            "Saving to: ‘wagi0.txt’\n",
            "\n",
            "\rwagi0.txt             0%[                    ]       0  --.-KB/s               \rwagi0.txt           100%[===================>]     114  --.-KB/s    in 0s      \n",
            "\n",
            "2024-05-13 09:20:37 (857 KB/s) - ‘wagi0.txt’ saved [114/114]\n",
            "\n"
          ]
        }
      ]
    },
    {
      "cell_type": "code",
      "source": [
        "%cat wagi0.txt"
      ],
      "metadata": {
        "id": "h07milyernXQ",
        "outputId": "80ac9883-6a55-4652-caac-96f55e44fc5c",
        "colab": {
          "base_uri": "https://localhost:8080/"
        }
      },
      "execution_count": null,
      "outputs": [
        {
          "output_type": "stream",
          "name": "stdout",
          "text": [
            "A B 3\r\n",
            "A E 10\r\n",
            "B C 26\r\n",
            "B D 12\r\n",
            "C D 17\r\n",
            "C F 13\r\n",
            "C G 14\r\n",
            "D E 7\r\n",
            "D F 15\r\n",
            "E F 8\r\n",
            "E H 4\r\n",
            "F G 9\r\n",
            "F H 6\r\n",
            "G H 16\r\n",
            "G I 11\r\n"
          ]
        }
      ]
    },
    {
      "cell_type": "code",
      "source": [
        "wgraph = Graph.from_edges(\"wagi0.txt\")\n",
        "print(wgraph)"
      ],
      "metadata": {
        "id": "hQwVAkpvruzu",
        "outputId": "e92d67ab-9705-455a-c166-3fd330946d7a",
        "colab": {
          "base_uri": "https://localhost:8080/",
          "height": 286
        }
      },
      "execution_count": null,
      "outputs": [
        {
          "output_type": "error",
          "ename": "FileNotFoundError",
          "evalue": "[Errno 2] No such file or directory: 'wagi0.txt'",
          "traceback": [
            "\u001b[0;31m---------------------------------------------------------------------------\u001b[0m",
            "\u001b[0;31mFileNotFoundError\u001b[0m                         Traceback (most recent call last)",
            "\u001b[0;32m<ipython-input-17-5605ac4b9c7c>\u001b[0m in \u001b[0;36m<cell line: 1>\u001b[0;34m()\u001b[0m\n\u001b[0;32m----> 1\u001b[0;31m \u001b[0mwgraph\u001b[0m \u001b[0;34m=\u001b[0m \u001b[0mGraph\u001b[0m\u001b[0;34m.\u001b[0m\u001b[0mfrom_edges\u001b[0m\u001b[0;34m(\u001b[0m\u001b[0;34m\"wagi0.txt\"\u001b[0m\u001b[0;34m)\u001b[0m\u001b[0;34m\u001b[0m\u001b[0;34m\u001b[0m\u001b[0m\n\u001b[0m\u001b[1;32m      2\u001b[0m \u001b[0mprint\u001b[0m\u001b[0;34m(\u001b[0m\u001b[0mwgraph\u001b[0m\u001b[0;34m)\u001b[0m\u001b[0;34m\u001b[0m\u001b[0;34m\u001b[0m\u001b[0m\n",
            "\u001b[0;32m<ipython-input-16-65a8305b4486>\u001b[0m in \u001b[0;36mfrom_edges\u001b[0;34m(filename, directed)\u001b[0m\n\u001b[1;32m     27\u001b[0m         \"\"\"\n\u001b[1;32m     28\u001b[0m         \u001b[0mgraph\u001b[0m \u001b[0;34m=\u001b[0m \u001b[0mGraph\u001b[0m\u001b[0;34m(\u001b[0m\u001b[0;34m)\u001b[0m\u001b[0;34m\u001b[0m\u001b[0;34m\u001b[0m\u001b[0m\n\u001b[0;32m---> 29\u001b[0;31m         \u001b[0mfile\u001b[0m \u001b[0;34m=\u001b[0m \u001b[0mopen\u001b[0m\u001b[0;34m(\u001b[0m\u001b[0mfilename\u001b[0m\u001b[0;34m,\u001b[0m \u001b[0;34m\"r\"\u001b[0m\u001b[0;34m)\u001b[0m\u001b[0;34m\u001b[0m\u001b[0;34m\u001b[0m\u001b[0m\n\u001b[0m\u001b[1;32m     30\u001b[0m         \u001b[0;32mfor\u001b[0m \u001b[0mline\u001b[0m \u001b[0;32min\u001b[0m \u001b[0mfile\u001b[0m\u001b[0;34m:\u001b[0m\u001b[0;34m\u001b[0m\u001b[0;34m\u001b[0m\u001b[0m\n\u001b[1;32m     31\u001b[0m             \u001b[0mwords\u001b[0m \u001b[0;34m=\u001b[0m \u001b[0mline\u001b[0m\u001b[0;34m.\u001b[0m\u001b[0mstrip\u001b[0m\u001b[0;34m(\u001b[0m\u001b[0;34m)\u001b[0m\u001b[0;34m.\u001b[0m\u001b[0msplit\u001b[0m\u001b[0;34m(\u001b[0m\u001b[0;34m)\u001b[0m\u001b[0;34m\u001b[0m\u001b[0;34m\u001b[0m\u001b[0m\n",
            "\u001b[0;31mFileNotFoundError\u001b[0m: [Errno 2] No such file or directory: 'wagi0.txt'"
          ]
        }
      ]
    },
    {
      "cell_type": "code",
      "source": [
        "weight, tree = wgraph.MinSpanningTree()\n",
        "print(weight)\n",
        "print(tree)"
      ],
      "metadata": {
        "id": "vpo0EEhpwGJB",
        "outputId": "f9f62885-9d53-4406-b7bd-4ca07043164a",
        "colab": {
          "base_uri": "https://localhost:8080/"
        }
      },
      "execution_count": null,
      "outputs": [
        {
          "output_type": "stream",
          "name": "stdout",
          "text": [
            "63\n",
            "A: [('B', 3)] [('E', 10)]\n",
            "B: ('A', 3)\n",
            "E: ('A', 10) [('H', 4)] [('D', 7)]\n",
            "H: ('E', 4) [('F', 6)]\n",
            "F: ('H', 6) [('G', 9)] [('C', 13)]\n",
            "D: ('E', 7)\n",
            "G: ('F', 9) [('I', 11)]\n",
            "I: ('G', 11)\n",
            "C: ('F', 13)\n",
            "\n"
          ]
        }
      ]
    },
    {
      "cell_type": "code",
      "source": [
        "dist, pred = wgraph.Dijkstra(\"A\")\n",
        "print(dist)\n",
        "print(pred)"
      ],
      "metadata": {
        "id": "Kx-65dcsQUCV",
        "outputId": "e7dc8b61-d365-4c7e-ab0d-595bb6f89a3e",
        "colab": {
          "base_uri": "https://localhost:8080/"
        }
      },
      "execution_count": null,
      "outputs": [
        {
          "output_type": "stream",
          "name": "stdout",
          "text": [
            "{'A': 0, 'B': 3, 'E': 10, 'C': 29, 'D': 15, 'F': 18, 'G': 27, 'H': 14, 'I': 38}\n",
            "{'A': None, 'B': 'A', 'E': 'A', 'C': 'B', 'D': 'B', 'F': 'E', 'G': 'F', 'H': 'E', 'I': 'G'}\n"
          ]
        }
      ]
    },
    {
      "cell_type": "code",
      "source": [
        "dist, pred = wgraph.Dijkstra2(\"A\")\n",
        "print(dist)\n",
        "print(pred)"
      ],
      "metadata": {
        "id": "y-RuGLcMUm7E",
        "outputId": "deb36468-f4e9-4b3e-c061-56ebaed79d33",
        "colab": {
          "base_uri": "https://localhost:8080/"
        }
      },
      "execution_count": null,
      "outputs": [
        {
          "output_type": "stream",
          "name": "stdout",
          "text": [
            "{'A': 0, 'B': 3, 'E': 10, 'C': 29, 'D': 15, 'F': 18, 'G': 27, 'H': 14, 'I': 38}\n",
            "{'A': None, 'B': 'A', 'E': 'A', 'C': 'B', 'D': 'B', 'F': 'E', 'G': 'F', 'H': 'E', 'I': 'G'}\n"
          ]
        }
      ]
    },
    {
      "cell_type": "code",
      "source": [
        "%timeit dist, pred = wgraph.Dijkstra(\"A\")\n",
        "%timeit dist, pred = wgraph.Dijkstra2(\"A\")"
      ],
      "metadata": {
        "id": "RrPn3CgnVFos",
        "outputId": "771944a5-b6e1-4b32-dd9d-237b41c0392d",
        "colab": {
          "base_uri": "https://localhost:8080/"
        }
      },
      "execution_count": null,
      "outputs": [
        {
          "output_type": "stream",
          "name": "stdout",
          "text": [
            "66.5 µs ± 16.4 µs per loop (mean ± std. dev. of 7 runs, 10000 loops each)\n",
            "34.4 µs ± 831 ns per loop (mean ± std. dev. of 7 runs, 10000 loops each)\n"
          ]
        }
      ]
    },
    {
      "cell_type": "code",
      "source": [
        "!wget https://raw.githubusercontent.com/pgordin/OptDisc2024/main/wagi1.txt"
      ],
      "metadata": {
        "id": "HwurFN7RVWuO",
        "outputId": "3144b2ae-a7db-46fe-9e83-7a5c0ea69598",
        "colab": {
          "base_uri": "https://localhost:8080/"
        }
      },
      "execution_count": null,
      "outputs": [
        {
          "output_type": "stream",
          "name": "stdout",
          "text": [
            "--2024-05-20 11:48:03--  https://raw.githubusercontent.com/pgordin/OptDisc2024/main/wagi1.txt\n",
            "Resolving raw.githubusercontent.com (raw.githubusercontent.com)... 185.199.111.133, 185.199.110.133, 185.199.108.133, ...\n",
            "Connecting to raw.githubusercontent.com (raw.githubusercontent.com)|185.199.111.133|:443... connected.\n",
            "HTTP request sent, awaiting response... 200 OK\n",
            "Length: 922 [text/plain]\n",
            "Saving to: ‘wagi1.txt’\n",
            "\n",
            "\rwagi1.txt             0%[                    ]       0  --.-KB/s               \rwagi1.txt           100%[===================>]     922  --.-KB/s    in 0s      \n",
            "\n",
            "2024-05-20 11:48:03 (57.2 MB/s) - ‘wagi1.txt’ saved [922/922]\n",
            "\n"
          ]
        }
      ]
    },
    {
      "cell_type": "code",
      "source": [
        "wgraph = Graph.from_edges(\"wagi1.txt\")\n",
        "print(wgraph)"
      ],
      "metadata": {
        "id": "CVJrfAStVfQf",
        "outputId": "c3983181-43c0-4227-b54b-7ae214ed696e",
        "colab": {
          "base_uri": "https://localhost:8080/"
        }
      },
      "execution_count": null,
      "outputs": [
        {
          "output_type": "stream",
          "name": "stdout",
          "text": [
            "1: ('5', '350') ('6', '300') ('8', '200') ('14', '400') ('15', '100') ('20', '400') ('22', '200')\n",
            "5: ('1', '350') ('4', '300') ('7', '300') ('10', '300') ('11', '400') ('14', '150') ('16', '300') ('19', '100') ('22', '300') ('23', '200') ('13', '200') ('22', '400')\n",
            "6: ('1', '300') ('8', '50') ('10', '400') ('12', '350') ('8', '400') ('13', '250')\n",
            "8: ('1', '200') ('2', '400') ('3', '200') ('4', '400') ('6', '50') ('6', '400') ('11', '100') ('19', '50')\n",
            "14: ('1', '400') ('5', '150') ('7', '100') ('10', '100') ('15', '100') ('21', '250') ('24', '300') ('25', '200') ('17', '400') ('18', '450')\n",
            "15: ('1', '100') ('11', '400') ('14', '100') ('10', '100') ('16', '400') ('18', '200') ('21', '300') ('23', '100') ('25', '400') ('19', '400')\n",
            "20: ('1', '400') ('11', '150') ('13', '100') ('18', '200') ('23', '400') ('24', '500')\n",
            "22: ('1', '200') ('2', '500') ('3', '500') ('5', '300') ('12', '200') ('13', '300') ('16', '250') ('5', '400') ('9', '300') ('18', '100')\n",
            "2: ('8', '400') ('12', '400') ('17', '400') ('18', '400') ('19', '500') ('22', '500')\n",
            "12: ('2', '400') ('4', '300') ('6', '350') ('11', '400') ('22', '200')\n",
            "17: ('2', '400') ('3', '200') ('14', '400') ('21', '400') ('23', '150') ('25', '300')\n",
            "18: ('2', '400') ('4', '50') ('15', '200') ('4', '100') ('14', '450') ('20', '200') ('22', '100')\n",
            "19: ('2', '500') ('3', '500') ('4', '50') ('5', '100') ('11', '100') ('16', '100') ('8', '50') ('15', '400') ('23', '350') ('24', '400') ('25', '400')\n",
            "3: ('8', '200') ('13', '250') ('17', '200') ('19', '500') ('21', '200') ('22', '500')\n",
            "13: ('3', '250') ('4', '150') ('5', '200') ('6', '250') ('10', '300') ('20', '100') ('22', '300') ('24', '300')\n",
            "21: ('3', '200') ('14', '250') ('15', '300') ('17', '400') ('23', '300') ('24', '300')\n",
            "4: ('5', '300') ('8', '400') ('10', '250') ('12', '300') ('13', '150') ('16', '50') ('18', '50') ('19', '50') ('9', '200') ('18', '100')\n",
            "10: ('4', '250') ('5', '300') ('6', '400') ('9', '200') ('14', '100') ('24', '150') ('25', '300') ('13', '300') ('15', '100')\n",
            "16: ('4', '50') ('5', '300') ('15', '400') ('9', '400') ('19', '100') ('22', '250') ('23', '400')\n",
            "7: ('5', '300') ('14', '100')\n",
            "11: ('5', '400') ('8', '100') ('15', '400') ('19', '100') ('20', '150') ('12', '400')\n",
            "23: ('5', '200') ('15', '100') ('16', '400') ('17', '150') ('19', '350') ('20', '400') ('21', '300')\n",
            "9: ('4', '200') ('10', '200') ('16', '400') ('22', '300')\n",
            "24: ('10', '150') ('13', '300') ('14', '300') ('19', '400') ('20', '500') ('21', '300')\n",
            "25: ('10', '300') ('14', '200') ('15', '400') ('17', '300') ('19', '400')\n",
            "\n"
          ]
        }
      ]
    },
    {
      "cell_type": "code",
      "source": [
        "%timeit dist, pred = wgraph.Dijkstra(\"1\")\n",
        "%timeit dist, pred = wgraph.Dijkstra2(\"1\")\n",
        "%timeit dist, pred = wgraph.Bellman_Ford(\"1\")"
      ],
      "metadata": {
        "id": "Uq8CMgZwVhgY",
        "outputId": "e13f533c-85fa-46d4-b803-b1137ec94060",
        "colab": {
          "base_uri": "https://localhost:8080/"
        }
      },
      "execution_count": null,
      "outputs": [
        {
          "output_type": "stream",
          "name": "stdout",
          "text": [
            "219 µs ± 5.5 µs per loop (mean ± std. dev. of 7 runs, 1000 loops each)\n",
            "203 µs ± 42.4 µs per loop (mean ± std. dev. of 7 runs, 10000 loops each)\n",
            "1.4 ms ± 320 µs per loop (mean ± std. dev. of 7 runs, 1000 loops each)\n"
          ]
        }
      ]
    },
    {
      "cell_type": "code",
      "source": [
        "!wget https://raw.githubusercontent.com/pgordin/OptDisc2024/main/wagi2.txt"
      ],
      "metadata": {
        "id": "9zFrGW190afh",
        "outputId": "a96477da-411c-4e58-eb4e-8263fe16777c",
        "colab": {
          "base_uri": "https://localhost:8080/"
        }
      },
      "execution_count": null,
      "outputs": [
        {
          "output_type": "stream",
          "name": "stdout",
          "text": [
            "--2024-05-20 11:46:57--  https://raw.githubusercontent.com/pgordin/OptDisc2024/main/wagi2.txt\n",
            "Resolving raw.githubusercontent.com (raw.githubusercontent.com)... 185.199.108.133, 185.199.111.133, 185.199.110.133, ...\n",
            "Connecting to raw.githubusercontent.com (raw.githubusercontent.com)|185.199.108.133|:443... connected.\n",
            "HTTP request sent, awaiting response... 200 OK\n",
            "Length: 67 [text/plain]\n",
            "Saving to: ‘wagi2.txt’\n",
            "\n",
            "\rwagi2.txt             0%[                    ]       0  --.-KB/s               \rwagi2.txt           100%[===================>]      67  --.-KB/s    in 0s      \n",
            "\n",
            "2024-05-20 11:46:57 (892 KB/s) - ‘wagi2.txt’ saved [67/67]\n",
            "\n"
          ]
        }
      ]
    },
    {
      "cell_type": "code",
      "source": [
        "%cat wagi2.txt"
      ],
      "metadata": {
        "id": "-IYceHDR0maU",
        "outputId": "f8bbf0bb-d7aa-47b8-92ec-8d0435ef1fd5",
        "colab": {
          "base_uri": "https://localhost:8080/"
        }
      },
      "execution_count": null,
      "outputs": [
        {
          "output_type": "stream",
          "name": "stdout",
          "text": [
            "1 2 3\r\n",
            "1 3 8\r\n",
            "1 5 -4\r\n",
            "4 1 2\r\n",
            "3 2 4\r\n",
            "2 4 1\r\n",
            "2 5 7\r\n",
            "4 3 -5 \r\n",
            "5 4 6 \r\n"
          ]
        }
      ]
    },
    {
      "cell_type": "code",
      "source": [
        "wgraph = Graph.from_edges(\"wagi2.txt\", directed = 1)\n",
        "print(wgraph)"
      ],
      "metadata": {
        "id": "XMSYWVbg0qN7",
        "outputId": "0d994bd9-6c62-4464-c953-7ecaec08400c",
        "colab": {
          "base_uri": "https://localhost:8080/"
        }
      },
      "execution_count": null,
      "outputs": [
        {
          "output_type": "stream",
          "name": "stdout",
          "text": [
            "1: ('2', '3') ('3', '8') ('5', '-4')\n",
            "2: ('4', '1') ('5', '7')\n",
            "3: ('2', '4')\n",
            "5: ('4', '6')\n",
            "4: ('1', '2') ('3', '-5')\n",
            "\n"
          ]
        }
      ]
    },
    {
      "cell_type": "code",
      "source": [
        "dist,pred = wgraph.Bellman_Ford('1')"
      ],
      "metadata": {
        "id": "6bmVSkNB0ywv"
      },
      "execution_count": null,
      "outputs": []
    },
    {
      "cell_type": "code",
      "source": [
        "print(dist)"
      ],
      "metadata": {
        "id": "yyMf9qFw07wM",
        "outputId": "d21581f5-d4ed-434a-db65-8e6404d7718b",
        "colab": {
          "base_uri": "https://localhost:8080/"
        }
      },
      "execution_count": null,
      "outputs": [
        {
          "output_type": "stream",
          "name": "stdout",
          "text": [
            "{'1': 0, '2': 1, '3': -3, '5': -4, '4': 2}\n"
          ]
        }
      ]
    },
    {
      "cell_type": "code",
      "source": [
        "print(pred)"
      ],
      "metadata": {
        "id": "i4P65sZE09ck",
        "outputId": "5de3b988-e25c-4024-db6e-78dd37729cc0",
        "colab": {
          "base_uri": "https://localhost:8080/"
        }
      },
      "execution_count": null,
      "outputs": [
        {
          "output_type": "stream",
          "name": "stdout",
          "text": [
            "{'1': None, '2': '3', '3': '4', '5': '1', '4': '5'}\n"
          ]
        }
      ]
    },
    {
      "cell_type": "code",
      "source": [
        "wgraph.graph[\"4\"].append((\"3\", \"-6\"))\n",
        "print(wgraph)\n",
        "dist,pred = wgraph.Bellman_Ford('1')\n",
        "print(dist)\n",
        "print(pred)"
      ],
      "metadata": {
        "id": "xJBnxb3V2cQr",
        "outputId": "1fa69cb6-01b3-401f-def5-cbcc09c7dd0e",
        "colab": {
          "base_uri": "https://localhost:8080/"
        }
      },
      "execution_count": null,
      "outputs": [
        {
          "output_type": "stream",
          "name": "stdout",
          "text": [
            "1: ('2', '3') ('3', '8') ('5', '-4')\n",
            "2: ('4', '1') ('5', '7')\n",
            "3: ('2', '4')\n",
            "5: ('4', '6')\n",
            "4: ('1', '2') ('3', '-5') ('3', '-6')\n",
            "\n",
            "graf zawiera cykl o ujemnej wadze 2, 4\n",
            "{'1': 0, '2': -1, '3': -5, '5': -4, '4': 1}\n",
            "{'1': None, '2': '3', '3': '4', '5': '1', '4': '2'}\n"
          ]
        }
      ]
    },
    {
      "cell_type": "markdown",
      "source": [
        "# Maksymalny przepływ"
      ],
      "metadata": {
        "id": "KNiTrsoVttNk"
      }
    },
    {
      "cell_type": "code",
      "source": [
        "!wget https://raw.githubusercontent.com/pgordin/OptDisc2024/main/MaxFlow.zip"
      ],
      "metadata": {
        "id": "4e-AF1pctvz7",
        "outputId": "0eb5ef2f-6f8c-4cee-87ab-a5bc9dd54907",
        "colab": {
          "base_uri": "https://localhost:8080/"
        }
      },
      "execution_count": 54,
      "outputs": [
        {
          "output_type": "stream",
          "name": "stdout",
          "text": [
            "--2024-05-27 12:48:39--  https://raw.githubusercontent.com/pgordin/OptDisc2024/main/MaxFlow.zip\n",
            "Resolving raw.githubusercontent.com (raw.githubusercontent.com)... 185.199.109.133, 185.199.110.133, 185.199.111.133, ...\n",
            "Connecting to raw.githubusercontent.com (raw.githubusercontent.com)|185.199.109.133|:443... connected.\n",
            "HTTP request sent, awaiting response... 200 OK\n",
            "Length: 3867 (3.8K) [application/zip]\n",
            "Saving to: ‘MaxFlow.zip.1’\n",
            "\n",
            "\rMaxFlow.zip.1         0%[                    ]       0  --.-KB/s               \rMaxFlow.zip.1       100%[===================>]   3.78K  --.-KB/s    in 0s      \n",
            "\n",
            "2024-05-27 12:48:39 (45.4 MB/s) - ‘MaxFlow.zip.1’ saved [3867/3867]\n",
            "\n"
          ]
        }
      ]
    },
    {
      "cell_type": "code",
      "source": [
        "!unzip MaxFlow.zip"
      ],
      "metadata": {
        "id": "UFHlGI_Ot5Ln",
        "outputId": "917e1075-3023-4576-ff78-e52c0ed9cc02",
        "colab": {
          "base_uri": "https://localhost:8080/"
        }
      },
      "execution_count": 55,
      "outputs": [
        {
          "output_type": "stream",
          "name": "stdout",
          "text": [
            "Archive:  MaxFlow.zip\n",
            "replace 15w5a.txt? [y]es, [n]o, [A]ll, [N]one, [r]ename: "
          ]
        }
      ]
    },
    {
      "cell_type": "code",
      "source": [
        "%cat flow1.txt"
      ],
      "metadata": {
        "id": "MIa6omVOvPP2",
        "outputId": "fae5d9b9-5eef-4494-e8ad-2b14957f345f",
        "colab": {
          "base_uri": "https://localhost:8080/"
        }
      },
      "execution_count": 56,
      "outputs": [
        {
          "output_type": "stream",
          "name": "stdout",
          "text": [
            "s a 6\r\n",
            "s b 4\r\n",
            "a b 5\r\n",
            "a c 2\r\n",
            "a d 3\r\n",
            "b c 6\r\n",
            "c a 2\r\n",
            "c d 3\r\n",
            "c t 4\r\n",
            "d t 6\r\n"
          ]
        }
      ]
    },
    {
      "cell_type": "code",
      "source": [
        "graph1 = Graph.from_edges(\"flow1.txt\", directed = 1)\n",
        "print(graph1)"
      ],
      "metadata": {
        "id": "yqJHcaq6vhSH",
        "outputId": "7f3d4017-20ad-43db-92e8-a6eea412cb10",
        "colab": {
          "base_uri": "https://localhost:8080/"
        }
      },
      "execution_count": 62,
      "outputs": [
        {
          "output_type": "stream",
          "name": "stdout",
          "text": [
            "s: ('a', '6') ('b', '4')\n",
            "a: ('b', '5') ('c', '2') ('d', '3')\n",
            "b: ('c', '6')\n",
            "c: ('a', '2') ('d', '3') ('t', '4')\n",
            "d: ('t', '6')\n",
            "t:\n",
            "\n"
          ]
        }
      ]
    },
    {
      "cell_type": "code",
      "source": [
        "nodes, flow = graph1.MaxFlow_EK(\"s\", \"t\")"
      ],
      "metadata": {
        "id": "WSvRW-m94f5e"
      },
      "execution_count": 63,
      "outputs": []
    },
    {
      "cell_type": "code",
      "source": [
        "print(nodes)"
      ],
      "metadata": {
        "colab": {
          "base_uri": "https://localhost:8080/"
        },
        "id": "MC5x3DkC9TGJ",
        "outputId": "986b4685-0259-4a99-afa8-eb467b5d6a65"
      },
      "execution_count": 64,
      "outputs": [
        {
          "output_type": "stream",
          "name": "stdout",
          "text": [
            "['s', 'a', 'b', 'c', 'd', 't']\n"
          ]
        }
      ]
    },
    {
      "cell_type": "code",
      "source": [
        "print(flow)"
      ],
      "metadata": {
        "colab": {
          "base_uri": "https://localhost:8080/"
        },
        "id": "DG3OxxDA43LV",
        "outputId": "e4a2482c-847c-4d70-9b08-31ccb9c2826c"
      },
      "execution_count": 65,
      "outputs": [
        {
          "output_type": "stream",
          "name": "stdout",
          "text": [
            "[[ 0.  6.  4.  0.  0.  0.]\n",
            " [-6.  0.  1.  2.  3.  0.]\n",
            " [-4. -1.  0.  5.  0.  0.]\n",
            " [ 0. -2. -5.  0.  3.  4.]\n",
            " [ 0. -3.  0. -3.  0.  6.]\n",
            " [ 0.  0.  0. -4. -6.  0.]]\n"
          ]
        }
      ]
    },
    {
      "cell_type": "code",
      "source": [
        "print(-sum(flow[len(flow)-1]))"
      ],
      "metadata": {
        "id": "j9n19q3rHozY",
        "outputId": "0d508960-924a-4962-c94f-acbcf2381cbc",
        "colab": {
          "base_uri": "https://localhost:8080/"
        }
      },
      "execution_count": 71,
      "outputs": [
        {
          "output_type": "stream",
          "name": "stdout",
          "text": [
            "10.0\n"
          ]
        }
      ]
    },
    {
      "cell_type": "code",
      "source": [],
      "metadata": {
        "colab": {
          "base_uri": "https://localhost:8080/"
        },
        "id": "mbOSgoPZ9W7H",
        "outputId": "80156f3b-cb80-4824-c42e-e623b7e2187d"
      },
      "execution_count": null,
      "outputs": [
        {
          "output_type": "execute_result",
          "data": {
            "text/plain": [
              "1"
            ]
          },
          "metadata": {},
          "execution_count": 40
        }
      ]
    }
  ],
  "metadata": {
    "kernelspec": {
      "display_name": ".venv",
      "language": "python",
      "name": "python3"
    },
    "language_info": {
      "codemirror_mode": {
        "name": "ipython",
        "version": 3
      },
      "file_extension": ".py",
      "mimetype": "text/x-python",
      "name": "python",
      "nbconvert_exporter": "python",
      "pygments_lexer": "ipython3",
      "version": "3.11.6"
    },
    "colab": {
      "provenance": [],
      "include_colab_link": true
    }
  },
  "nbformat": 4,
  "nbformat_minor": 0
}