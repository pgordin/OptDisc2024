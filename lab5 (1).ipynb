{
  "cells": [
    {
      "cell_type": "markdown",
      "metadata": {
        "id": "view-in-github"
      },
      "source": [
        "<a href=\"https://colab.research.google.com/github/pgordin/OptDisc2024/blob/main/Grafy2_class.ipynb\" target=\"_parent\"><img src=\"https://colab.research.google.com/assets/colab-badge.svg\" alt=\"Open In Colab\"/></a>"
      ]
    },
    {
      "cell_type": "code",
      "execution_count": null,
      "metadata": {
        "id": "vWgeTyk5qbAu"
      },
      "outputs": [],
      "source": [
        "import numpy as np\n",
        "from random import random\n",
        "from copy import deepcopy"
      ]
    },
    {
      "cell_type": "code",
      "execution_count": null,
      "metadata": {
        "id": "ECGnFwaXqbAx"
      },
      "outputs": [],
      "source": [
        "class Graph:\n",
        "    def __init__(self, graph=None):\n",
        "        if graph is None:\n",
        "            graph = {}\n",
        "        self.graph = graph\n",
        "\n",
        "    # dict initializer\n",
        "    @classmethod\n",
        "    def from_dict(cls, graph):\n",
        "        return cls(graph)\n",
        "\n",
        "    # array initializer\n",
        "    @classmethod\n",
        "    def from_array(cls, graph: np.array, nodes: list = None):\n",
        "        if nodes is None:\n",
        "            nodes = [*range(1, len(graph) + 1)]\n",
        "        return cls.from_dict(\n",
        "            cls._array_to_dict(graph, nodes)\n",
        "        )\n",
        "\n",
        "    @staticmethod\n",
        "    def from_edges(filename: str, directed = 0):\n",
        "        \"\"\"\n",
        "        Generates a graphs from a text file, where each line defines one edge.\\n\n",
        "        Filename is a file path.\n",
        "        \"\"\"\n",
        "        graph = Graph()\n",
        "        file = open(filename, \"r\")\n",
        "        for line in file:\n",
        "            words = line.strip().split()\n",
        "            if len(words) == 1:\n",
        "                graph.add_node(words[0])\n",
        "            elif len(words) > 1: # more than two words -- we use first two\n",
        "                if directed:\n",
        "                    graph.add_arc([words[0], words[1]])\n",
        "                else:\n",
        "                    graph.add_edge([words[0], words[1]])\n",
        "        file.close()\n",
        "        return graph\n",
        "\n",
        "    @staticmethod\n",
        "    def random_graph(nodes_num: int, prob: float):\n",
        "        \"\"\"\n",
        "        Generates a random graph provided a number of nodes and probability of generating an edge.\n",
        "        \"\"\"\n",
        "        rand_graph = Graph()\n",
        "        for i in range(1, nodes_num + 1):\n",
        "            for j in range(1, i):\n",
        "                if random() < prob:\n",
        "                    rand_graph.add_edge([i, j])\n",
        "        return rand_graph\n",
        "\n",
        "    @staticmethod\n",
        "    def cycle(nodes_num: int):\n",
        "        \"\"\"\n",
        "        Generates a cycle provided a number of nodes.\n",
        "        \"\"\"\n",
        "        cycle = Graph()\n",
        "        nodes = [*range(1, nodes_num + 1)]\n",
        "        for i in nodes:\n",
        "            cycle.add_edge([nodes[i-2], nodes[i-1]])\n",
        "        cycle.graph = dict(sorted(cycle.graph.items()))\n",
        "        return cycle\n",
        "\n",
        "    def to_neighbourlist(self, filename: str):\n",
        "        \"\"\"\n",
        "        Saves a graphs to a text file as a neighbour dict.\\n\n",
        "        Filename is a file path.\n",
        "        \"\"\"\n",
        "        file = open(filename, \"w\")\n",
        "        file.write(str(self))\n",
        "        file.close()\n",
        "\n",
        "    def nodes(self) -> list:\n",
        "        \"\"\"\n",
        "        Returns list of nodes of a graph.\n",
        "        \"\"\"\n",
        "        return [*self.graph.keys()]\n",
        "\n",
        "    def array(self) -> np.array:\n",
        "        \"\"\"\n",
        "        Returns the graph in array form.\n",
        "        \"\"\"\n",
        "        return self._dict_to_array(self.graph)\n",
        "\n",
        "    # redefinition of print for objects of class Graph\n",
        "    def __str__(self):\n",
        "        res = \"\"\n",
        "        for v in self.graph:\n",
        "            res += f\"{v}:\"\n",
        "            for u in self.graph[v]:\n",
        "                res += f\" {u}\"\n",
        "            res += \"\\n\"\n",
        "        return res\n",
        "\n",
        "    def add_node(self, node):\n",
        "        \"\"\"\n",
        "        Adds a node to a graph.\n",
        "        \"\"\"\n",
        "        if node not in self.graph:\n",
        "            self.graph[node] = []\n",
        "\n",
        "    def del_node(self, node):\n",
        "        \"\"\"\n",
        "        Recursively removes a node from a graph.\n",
        "        \"\"\"\n",
        "        if node in self.graph:\n",
        "            self.graph.pop(node)\n",
        "            for key in [*self.graph.keys()]:\n",
        "                if node in self.graph[key]:\n",
        "                    self.graph[key].remove(node)\n",
        "\n",
        "    def add_arc(self, arc: list):\n",
        "        \"\"\"\n",
        "        Adds arc to a graph provided a list of nodes.\n",
        "        \"\"\"\n",
        "        u, v = arc\n",
        "        self.add_node(u)\n",
        "        self.add_node(v)\n",
        "        if v not in self.graph[u]:\n",
        "            self.graph[u].append(v)\n",
        "\n",
        "    def add_edge(self, edge: list):\n",
        "        \"\"\"\n",
        "        Adds edge to a graph provided a list of nodes.\n",
        "        \"\"\"\n",
        "        u, v = edge\n",
        "        if u == v:\n",
        "            raise ValueError(\"Pętla!\")\n",
        "        self.add_node(u)\n",
        "        self.add_node(v)\n",
        "        if v not in self.graph[u]:\n",
        "            self.graph[u].append(v)\n",
        "        if u not in self.graph[v]:\n",
        "            self.graph[v].append(u)\n",
        "\n",
        "    def _array_to_dict(arr: np.array, nodes: list) -> dict:\n",
        "        \"\"\"\n",
        "        Converts a graph in array form to a graph in dict form.\n",
        "        \"\"\"\n",
        "        res_dict = {}\n",
        "        for i, node in enumerate(nodes):\n",
        "            neighbours = [nodes[j] for j, edge in enumerate(arr[i]) if edge]\n",
        "            res_dict[node] = neighbours\n",
        "        return res_dict\n",
        "\n",
        "    def _dict_to_array(self, _dict: dict) -> np.array:\n",
        "        \"\"\"\n",
        "        Converts a graph in dict form to a graph in array form.\n",
        "        \"\"\"\n",
        "        n = len(_dict)\n",
        "        nodes = [*_dict.keys()]\n",
        "        res_arr = np.zeros(shape = (n, n), dtype=int)\n",
        "        for u,v in [\n",
        "            (nodes.index(u), nodes.index(v))\n",
        "            for u, row in _dict.items() for v in row\n",
        "        ]:\n",
        "            res_arr[u][v] += 1\n",
        "        return res_arr\n",
        "\n",
        "    def Prufer(self):\n",
        "      \"\"\"\n",
        "      Kod Prufera drzewa - zwrocony jako napis.\n",
        "      Wymagane, aby graf byl drzewem.\n",
        "      zwraca pusty napis dla drzew o mniej niz 3 wierzcholkach\n",
        "      \"\"\"\n",
        "      tr = deepcopy(self.graph) #bedziemy psuc graf\n",
        "      code = \"\"\n",
        "      for i in range(len(self.graph)-2):\n",
        "        for x in sorted(tr): # po kolei przegladam nieusuniete wierzcholki\n",
        "          if len(tr[x])==1:   #najmniejszy lisc\n",
        "            break\n",
        "        v = tr[x][0]  #sasiad najmniejszego x\n",
        "        code = code + f'{v} '\n",
        "        tr[v].remove(x) #usuwam x z listy sasiadow v\n",
        "        tr.pop(x)  #usuwam x z drzewa\n",
        "      return code.strip()\n",
        "\n",
        "    def tree_from_Prufer(code: str):\n",
        "      \"\"\"\n",
        "      tworzy rzewo na podstawie kodu Prufera\n",
        "      \"\"\"\n",
        "      tree = Graph()\n",
        "      clist = [int(x) for x in code.strip().split()]  #kod zamieniamy na liste list\n",
        "      n = len(clist) + 2  #liczba wierzcholkow\n",
        "      vert = [v for v in range(1, n +1)] #lista licz od 1 do n\n",
        "      for v in vert:\n",
        "        tree.add_node(v)\n",
        "      for i in range(n-2):\n",
        "        for x in vert:\n",
        "          if not x in clist: #najmniejszy lisc\n",
        "            break\n",
        "        v = clist.pop(0)    #usuwam pierwszy el. listy (sasiad x)\n",
        "        tree.add_edge((x,v))\n",
        "        vert.remove(x)\n",
        "      tree.add_edge(vert)\n",
        "      return tree\n",
        "\n",
        "    def Connected_components(self):\n",
        "        \"\"\"\n",
        "        Znajduje spójne składowe w grafie nieskierowanym.\n",
        "        Jako wynik zwraca listę list wierzchołków.\n",
        "        Uwaga: jako pierwszy element listy uzyskamy zbiór wszystkich wierzchołków grafu.\n",
        "        \"\"\"\n",
        "        def DFS(u):\n",
        "            \"\"\"\n",
        "            Przeszukiwanie w głąb\n",
        "            \"\"\"\n",
        "            for w in self.graph[u]:\n",
        "                if not w in VT[0]:             # w jeszcze nie odwiedzony\n",
        "                    VT[0].add(w)               # w już odwiedzone\n",
        "                    VT[-1].add(w)              # w ostatniej spójnej składowej\n",
        "                    DFS(w)\n",
        "        \"\"\"\n",
        "        VF - lista zbiorów VT[i] dla i>0 - lista wierzchołków spójnych składowych\n",
        "        dla i=0 - lista wszystkich odwiedzonych wierzchołków\n",
        "        \"\"\"\n",
        "        VT=[set([])]\n",
        "        for v in self.graph:\n",
        "            if v not in VT[0]:\n",
        "                VT[0].add(v)\n",
        "                VT.append(set([v]))          # zaczątek nowej spójnej składowej\n",
        "                DFS(v)\n",
        "        return VT"
      ]
    },
    {
      "cell_type": "markdown",
      "metadata": {
        "id": "FkUyth0KqbAz"
      },
      "source": [
        "# Przykłady wykorzystania"
      ]
    },
    {
      "cell_type": "code",
      "source": [
        "graph = Graph.random_graph(10, 1/2)\n",
        "print(graph)\n",
        "print(\"-------------------\")\n",
        "print(graph.Connected_components())\n"
      ],
      "metadata": {
        "colab": {
          "base_uri": "https://localhost:8080/"
        },
        "id": "P7sCG5Soj4v8",
        "outputId": "7e5dd37e-4a36-48d5-c243-1540c24460e9"
      },
      "execution_count": null,
      "outputs": [
        {
          "output_type": "stream",
          "name": "stdout",
          "text": [
            "3: 2 6 7 8 10\n",
            "2: 3 4 9\n",
            "4: 1 2 5 9 10\n",
            "1: 4 5 7 10\n",
            "5: 1 4 7\n",
            "6: 3 7 10\n",
            "7: 1 3 5 6 9\n",
            "8: 3 9 10\n",
            "9: 2 4 7 8 10\n",
            "10: 1 3 4 6 8 9\n",
            "\n",
            "-------------------\n",
            "[{1, 2, 3, 4, 5, 6, 7, 8, 9, 10}, {1, 2, 3, 4, 5, 6, 7, 8, 9, 10}]\n"
          ]
        }
      ]
    },
    {
      "cell_type": "code",
      "source": [
        "graph.add_edge((11, 12))\n",
        "print(graph.Connected_components())"
      ],
      "metadata": {
        "colab": {
          "base_uri": "https://localhost:8080/"
        },
        "id": "uRtRWmiwkgso",
        "outputId": "c5a32330-57e0-45d7-a9e7-261850d9fe8a"
      },
      "execution_count": null,
      "outputs": [
        {
          "output_type": "stream",
          "name": "stdout",
          "text": [
            "[{1, 2, 3, 4, 5, 6, 7, 8, 9, 10, 11, 12}, {1, 2, 3, 4, 5, 6, 7, 8, 9, 10}, {11, 12}]\n"
          ]
        }
      ]
    },
    {
      "cell_type": "code",
      "source": [
        "tree = Graph.from_dict(\n",
        "    {\n",
        "    1: [2],\n",
        "    2: [1, 3, 4],\n",
        "    3: [2],\n",
        "    4: [2]\n",
        "    }\n",
        ")\n",
        "print(tree.Prufer())"
      ],
      "metadata": {
        "colab": {
          "base_uri": "https://localhost:8080/"
        },
        "id": "XbOBNTgmbU67",
        "outputId": "2508ad26-0a13-4956-c0c2-01e0d317cf70"
      },
      "execution_count": null,
      "outputs": [
        {
          "output_type": "stream",
          "name": "stdout",
          "text": [
            "2 2\n"
          ]
        }
      ]
    },
    {
      "cell_type": "code",
      "source": [
        "print(Graph.tree_from_Prufer(\"2 2\"))"
      ],
      "metadata": {
        "colab": {
          "base_uri": "https://localhost:8080/"
        },
        "id": "CBmTvPr7fOo6",
        "outputId": "4dfdc8ec-2d8d-4ba9-ba74-cdd7e6dd90ab"
      },
      "execution_count": null,
      "outputs": [
        {
          "output_type": "stream",
          "name": "stdout",
          "text": [
            "1: 2\n",
            "2: 1 3 4\n",
            "3: 2\n",
            "4: 2\n",
            "\n"
          ]
        }
      ]
    },
    {
      "cell_type": "code",
      "source": [
        "tree2 = Graph.tree_from_Prufer(\"1 2 7 3 4\")\n",
        "print(tree2)\n",
        "print(\"--------------------------\")\n",
        "print(tree2.Prufer())"
      ],
      "metadata": {
        "colab": {
          "base_uri": "https://localhost:8080/"
        },
        "id": "Z9eUp21ofcAI",
        "outputId": "937ef2b9-0966-47c7-e9fa-18199d1ea300"
      },
      "execution_count": null,
      "outputs": [
        {
          "output_type": "stream",
          "name": "stdout",
          "text": [
            "1: 5 2\n",
            "2: 1 7\n",
            "3: 6 4\n",
            "4: 3 7\n",
            "5: 1\n",
            "6: 3\n",
            "7: 2 4\n",
            "\n",
            "--------------------------\n",
            "1 2 7 3 4\n"
          ]
        }
      ]
    },
    {
      "cell_type": "code",
      "source": [
        "tree3 = Graph.tree_from_Prufer(\"1 1 7 7 6 2\")\n",
        "print(tree3)\n",
        "print(\"--------------------------\")\n",
        "print(tree3.Prufer())"
      ],
      "metadata": {
        "colab": {
          "base_uri": "https://localhost:8080/"
        },
        "id": "jrCUl0hAgPb5",
        "outputId": "2d977f49-cc47-4c02-9e45-c432b2113b58"
      },
      "execution_count": null,
      "outputs": [
        {
          "output_type": "stream",
          "name": "stdout",
          "text": [
            "1: 3 4 7\n",
            "2: 6 8\n",
            "3: 1\n",
            "4: 1\n",
            "5: 7\n",
            "6: 7 2\n",
            "7: 1 5 6\n",
            "8: 2\n",
            "\n",
            "--------------------------\n",
            "1 1 7 7 6 2\n"
          ]
        }
      ]
    },
    {
      "cell_type": "code",
      "source": [
        "tree4 = Graph.tree_from_Prufer(\" \")\n",
        "print(tree4)\n",
        "print(\"--------------------------\")\n",
        "print(tree4.Prufer())"
      ],
      "metadata": {
        "colab": {
          "base_uri": "https://localhost:8080/"
        },
        "id": "llRf5RB6gokX",
        "outputId": "4c8c9b73-dfa8-4b5f-d5f5-6ac0aea6583c"
      },
      "execution_count": null,
      "outputs": [
        {
          "output_type": "stream",
          "name": "stdout",
          "text": [
            "1: 2\n",
            "2: 1\n",
            "\n",
            "--------------------------\n",
            "\n"
          ]
        }
      ]
    },
    {
      "cell_type": "code",
      "execution_count": null,
      "metadata": {
        "colab": {
          "base_uri": "https://localhost:8080/"
        },
        "id": "A9PZAqe4qbA0",
        "outputId": "c39e6fee-05db-4a34-c1f5-a7ffd82d588b"
      },
      "outputs": [
        {
          "output_type": "stream",
          "name": "stdout",
          "text": [
            "a: b c\n",
            "b: a d e\n",
            "c: a f\n",
            "d: b f\n",
            "e: b\n",
            "f: c d\n",
            "g:\n",
            "\n",
            "[[0 1 1 0 0 0 0]\n",
            " [1 0 0 1 1 0 0]\n",
            " [1 0 0 0 0 1 0]\n",
            " [0 1 0 0 0 1 0]\n",
            " [0 1 0 0 0 0 0]\n",
            " [0 0 1 1 0 0 0]\n",
            " [0 0 0 0 0 0 0]]\n",
            "['a', 'b', 'c', 'd', 'e', 'f', 'g']\n"
          ]
        }
      ],
      "source": [
        "graph = Graph.from_dict(\n",
        "    {\n",
        "        'a': ['b', 'c'],\n",
        "        'b': ['a', 'd', 'e'],\n",
        "        'c': ['a', 'f'],\n",
        "        'd': ['b', 'f'],\n",
        "        'e': ['b'],\n",
        "        'f': ['c', 'd'],\n",
        "        'g': [],\n",
        "    }\n",
        ")\n",
        "\n",
        "graph_array = graph.array()\n",
        "graph_nodes = graph.nodes()\n",
        "\n",
        "print(graph)\n",
        "print(graph_array)\n",
        "print(graph_nodes)"
      ]
    },
    {
      "cell_type": "code",
      "execution_count": null,
      "metadata": {
        "colab": {
          "base_uri": "https://localhost:8080/"
        },
        "id": "8CpeTY4WqbA1",
        "outputId": "e0f74dff-edc9-4bbb-cbde-554b97069ed4"
      },
      "outputs": [
        {
          "output_type": "stream",
          "name": "stdout",
          "text": [
            "4: 3 7\n",
            "3: 4 9\n",
            "6: 1 5 10\n",
            "1: 6 7 10\n",
            "5: 6 7 8 9 10\n",
            "7: 1 4 5 8 9\n",
            "8: 2 5 7 10\n",
            "2: 8 10\n",
            "9: 3 5 7\n",
            "10: 1 2 5 6 8\n",
            "\n"
          ]
        }
      ],
      "source": [
        "random_graph = Graph.random_graph(10, 1/3)\n",
        "print(random_graph)"
      ]
    },
    {
      "cell_type": "code",
      "execution_count": null,
      "metadata": {
        "colab": {
          "base_uri": "https://localhost:8080/"
        },
        "id": "Z8B1lsqaqbA2",
        "outputId": "5fa0723d-7539-497b-fe8c-60e8f96c01ce"
      },
      "outputs": [
        {
          "output_type": "stream",
          "name": "stdout",
          "text": [
            "1: 10 2\n",
            "2: 1 3\n",
            "3: 2 4\n",
            "4: 3 5\n",
            "5: 4 6\n",
            "6: 5 7\n",
            "7: 6 8\n",
            "8: 7 9\n",
            "9: 8 10\n",
            "10: 1 9\n",
            "\n"
          ]
        }
      ],
      "source": [
        "cycle = Graph.cycle(10)\n",
        "print(cycle)"
      ]
    },
    {
      "cell_type": "code",
      "source": [
        "%%writefile lista.txt\n",
        "A B\n",
        "B C\n",
        "B D\n",
        "D C\n",
        "E\n",
        "F"
      ],
      "metadata": {
        "colab": {
          "base_uri": "https://localhost:8080/"
        },
        "id": "AZhm_p1NrmAt",
        "outputId": "a465d127-d01a-42c7-f58b-3abe0ed7911a"
      },
      "execution_count": null,
      "outputs": [
        {
          "output_type": "stream",
          "name": "stdout",
          "text": [
            "Writing lista.txt\n"
          ]
        }
      ]
    },
    {
      "cell_type": "code",
      "execution_count": null,
      "metadata": {
        "colab": {
          "base_uri": "https://localhost:8080/"
        },
        "id": "IrGvF05-qbA2",
        "outputId": "ff4ab5ca-418e-4eab-8615-0011684a40ee"
      },
      "outputs": [
        {
          "output_type": "stream",
          "name": "stdout",
          "text": [
            "A: B\n",
            "B: A C D\n",
            "C: B D\n",
            "D: B C\n",
            "E:\n",
            "F:\n",
            "\n"
          ]
        }
      ],
      "source": [
        "file_graph = Graph.from_edges(\"./lista.txt\")\n",
        "print(file_graph)"
      ]
    },
    {
      "cell_type": "code",
      "execution_count": null,
      "metadata": {
        "id": "fCNER6SHqbA3"
      },
      "outputs": [],
      "source": [
        "file_graph.add_edge([\"E\", \"F\"])\n",
        "file_graph.to_neighbourlist(\"lista1.txt\")"
      ]
    },
    {
      "cell_type": "code",
      "source": [
        "%cat lista1.txt"
      ],
      "metadata": {
        "colab": {
          "base_uri": "https://localhost:8080/"
        },
        "id": "g-VhrZ_Crx5T",
        "outputId": "4fe0cd37-efe5-4ba1-a873-33c91e44c19b"
      },
      "execution_count": null,
      "outputs": [
        {
          "output_type": "stream",
          "name": "stdout",
          "text": [
            "A: B\n",
            "B: A C D\n",
            "C: B D\n",
            "D: B C\n",
            "E: F\n",
            "F: E\n"
          ]
        }
      ]
    },
    {
      "cell_type": "markdown",
      "source": [
        "#ZADANIA"
      ],
      "metadata": {
        "id": "WestXX-5B8Qp"
      }
    },
    {
      "cell_type": "markdown",
      "source": [
        "### Zad1.\n",
        "Napisać funkcję preorder(v) i postorder(v) które wypiszą drzewa (np. wygenerowane z kodu Prüfera) w porządku preorder lub (odpowiednio) postorder, począwszy od wierzchołka v."
      ],
      "metadata": {
        "id": "Q2fSE9sYIjPG"
      }
    },
    {
      "cell_type": "code",
      "source": [
        "def preorder(tree, v, visited=None, pre=None):\n",
        "    \"\"\"\n",
        "    Funkcja wypisująca drzewa w porządku preorder\n",
        "    - tree to obiekt reprezentujący drzewo\n",
        "    - v to wierzchołek, od którego rozpoczynamy przechodzenie drzewa\n",
        "    - visited jest opcjonalnym parametrem, przechowującym zbiór odwiedzonych wierzchołków\n",
        "    - pre to lista, która będzie przechowywać wierzchołki drzewa w kolejności preorder\n",
        "    \"\"\"\n",
        "    if visited==None:\n",
        "        visited = set() #tworzymy zbior visited\n",
        "    if pre==None:\n",
        "        pre=[]          #tworzymy liste pre\n",
        "    visited.add(v)\n",
        "    pre.append(v)       #dodanie do listy odwiedzonego wierzcholka (przed znalezieniem jego sasiadow)\n",
        "    for neighbor in tree.graph[v]:  #dla sąsiadów danego wierzchołka\n",
        "        if neighbor not in visited:  #jesli sąsiad nie był odwiedzony\n",
        "            preorder(tree,neighbor, visited, pre)  #powtarzamy cala funkcje traktujac dany wierzcholek jako poczatek aktualnego drzewa\n",
        "    return pre  #zwracamy wierzcholki w kolejnosci\n"
      ],
      "metadata": {
        "id": "zWho8lYuK8m1"
      },
      "execution_count": null,
      "outputs": []
    },
    {
      "cell_type": "code",
      "source": [
        "tree = Graph.from_dict(\n",
        "    {\n",
        "    1: [2],\n",
        "    2: [1, 3, 4],\n",
        "    3: [2,5],\n",
        "    4: [2],\n",
        "    5: [1,4]\n",
        "    }\n",
        ")"
      ],
      "metadata": {
        "id": "Jo-aN2glSsn7"
      },
      "execution_count": null,
      "outputs": []
    },
    {
      "cell_type": "code",
      "source": [
        "print(preorder(tree,1))"
      ],
      "metadata": {
        "colab": {
          "base_uri": "https://localhost:8080/"
        },
        "id": "uGiDKmAwSu_-",
        "outputId": "134f70e9-dcaa-418c-f556-6cffc32d9d42"
      },
      "execution_count": null,
      "outputs": [
        {
          "output_type": "stream",
          "name": "stdout",
          "text": [
            "[1, 2, 3, 5, 4]\n"
          ]
        }
      ]
    },
    {
      "cell_type": "code",
      "source": [
        "def postorder(tree, v, visited=None, post=None):\n",
        "    \"\"\"\n",
        "    Funkcja wypisująca drzewa w porządku postorder\n",
        "    - tree to obiekt reprezentujący drzewo\n",
        "    - v to wierzchołek, od którego rozpoczynamy przechodzenie drzewa\n",
        "    - visited jest opcjonalnym parametrem, przechowującym zbiór odwiedzonych wierzchołków\n",
        "    - post to lista, która będzie przechowywać wierzchołki drzewa w kolejności postorder\n",
        "    \"\"\"\n",
        "    if visited is None:\n",
        "        visited = set() #tworzenie zbioru visited\n",
        "    if post is None:\n",
        "        post=[]         #tworzenie listy post\n",
        "    visited.add(v)      #dodanie wierzcholka do odwiedzonych\n",
        "    for neighbor in tree.graph[v]:  #dla sasiada danego wierzcholka\n",
        "        if neighbor not in visited:   #jesli sasiad nie byl odwiedzony\n",
        "            postorder(tree, neighbor, visited, post)   ##powtarzamy cala funkcje traktujac dany wierzcholek jako poczatek aktualnego drzewa\n",
        "    post.append(v)  #dodanie do listy odwiedzonego wierzcholka (po znalezieniu jego sasiadow)\n",
        "    return post"
      ],
      "metadata": {
        "id": "qGOcG7bAUwgK"
      },
      "execution_count": null,
      "outputs": []
    },
    {
      "cell_type": "code",
      "source": [
        "tree = Graph.from_dict(\n",
        "    {\n",
        "    1: [2],\n",
        "    2: [1, 3, 4],\n",
        "    3: [2,5],\n",
        "    4: [2],\n",
        "    5: [1,4]\n",
        "    }\n",
        ")"
      ],
      "metadata": {
        "id": "s87KPcRRUwcn"
      },
      "execution_count": null,
      "outputs": []
    },
    {
      "cell_type": "code",
      "source": [
        "print(postorder(tree,1))"
      ],
      "metadata": {
        "colab": {
          "base_uri": "https://localhost:8080/"
        },
        "id": "D9mN9Zn1Uwa9",
        "outputId": "e1f8642d-957b-4953-a048-0634b4d94a48"
      },
      "execution_count": null,
      "outputs": [
        {
          "output_type": "stream",
          "name": "stdout",
          "text": [
            "[4, 5, 3, 2, 1]\n"
          ]
        }
      ]
    },
    {
      "cell_type": "code",
      "source": [
        "print(preorder(tree,1))"
      ],
      "metadata": {
        "colab": {
          "base_uri": "https://localhost:8080/"
        },
        "id": "uc_xIkdpUwYu",
        "outputId": "880c0a5b-ec58-494e-df24-d3f874c87eb0"
      },
      "execution_count": null,
      "outputs": [
        {
          "output_type": "stream",
          "name": "stdout",
          "text": [
            "[1, 2, 3, 5, 4]\n"
          ]
        }
      ]
    },
    {
      "cell_type": "markdown",
      "source": [
        "###zad2\n",
        "Pokazana na zajęciach funkcja ConnectedComponents zwraca listę zbiorów wierzchołków. Napisać funkcję ConnectedComponentsGraphs(), która zwróci listę grafów — spójnych składowych grafu podanego jako jej parametr. Można (warto) wykorzystać (gotową) funkcję ConnectedComponents."
      ],
      "metadata": {
        "id": "A6GMEuWaH4Sk"
      }
    },
    {
      "cell_type": "code",
      "source": [
        "def Connected_components_graphs(graph):\n",
        "    VT=graph.Connected_components()\n",
        "    noCc=len(VT)-1  #liczba spojnych skladowych\n",
        "    graphs=[]  #lista do przechowywania grafow reprezentujacych spojne skladowe\n",
        "    for i in range(noCc):  #iterujemy przez wszystkie spojne skladowe\n",
        "        graph_i={}    #dla każdej spójnej składowej tworzymy nowy graf graph_i, który jest podgrafem oryginalnego grafu,\n",
        "        for v in VT[i+1]:     #zawierającym tylko wierzchołki z bieżącej spójnej składowej\n",
        "            graph_i[v]=graph.graph[v]\n",
        "        graphs.append(graph_i)  #dodajemy stworzone grafy do listy\n",
        "    return graphs"
      ],
      "metadata": {
        "id": "DOn9Ue8sWAbl"
      },
      "execution_count": null,
      "outputs": []
    },
    {
      "cell_type": "code",
      "source": [
        "graph = Graph.from_dict(\n",
        "    {\n",
        "        'a': ['b', 'c'],\n",
        "        'b': ['a', 'd', 'e'],\n",
        "        'c': ['a', 'f'],\n",
        "        'd': ['b', 'f'],\n",
        "        'e': ['b'],\n",
        "        'f': ['c', 'd'],\n",
        "        'g': [],\n",
        "    }\n",
        ")\n",
        "print(graph)"
      ],
      "metadata": {
        "colab": {
          "base_uri": "https://localhost:8080/"
        },
        "id": "lwy7KDcyWAXO",
        "outputId": "0eaf90f2-d1fb-4191-e22e-16647a3746df"
      },
      "execution_count": null,
      "outputs": [
        {
          "output_type": "stream",
          "name": "stdout",
          "text": [
            "a: b c\n",
            "b: a d e\n",
            "c: a f\n",
            "d: b f\n",
            "e: b\n",
            "f: c d\n",
            "g:\n",
            "\n"
          ]
        }
      ]
    },
    {
      "cell_type": "code",
      "source": [
        "Connected_components_graphs(graph)"
      ],
      "metadata": {
        "colab": {
          "base_uri": "https://localhost:8080/"
        },
        "id": "vL_ERIpCWAVk",
        "outputId": "2a2137a0-2b6e-4ef9-b32a-1ff58115fac6"
      },
      "execution_count": null,
      "outputs": [
        {
          "output_type": "execute_result",
          "data": {
            "text/plain": [
              "[{'c': ['a', 'f'],\n",
              "  'd': ['b', 'f'],\n",
              "  'f': ['c', 'd'],\n",
              "  'a': ['b', 'c'],\n",
              "  'e': ['b'],\n",
              "  'b': ['a', 'd', 'e']},\n",
              " {'g': []}]"
            ]
          },
          "metadata": {},
          "execution_count": 37
        }
      ]
    },
    {
      "cell_type": "markdown",
      "source": [
        "### zad3.\n",
        "Napisać funkcję random_bipartite_graph(n, p) która wygeneruje dwudzielny graf losowy o 2n wierzchołkach (podgraf grafu Kn,n ) w którym każda możliwa para wierzchołków jest połączona krawędzią niezależnie, z p-stwem p."
      ],
      "metadata": {
        "id": "3k8Ysn5kCI1s"
      }
    },
    {
      "cell_type": "code",
      "source": [
        "def random_bipartite_graph(n,p):\n",
        "    v1=[]  #pusta lista wierzcholkow\n",
        "    v2=[]  #pusta lista wierzcholkow\n",
        "    graph={}\n",
        "    for i in range(1,n+1):\n",
        "        v1.append(i)    #generujemy wierzcholki od 1 do n i zapisujemy w v1 dana wartosc\n",
        "        v2.append(i+n)  #generujemy wierzcholki od 1+n do 2n i zapisujemy w v1 dana wartosc\n",
        "\n",
        "    for vertex1 in v1:\n",
        "        values=[]\n",
        "        for vertex2 in v2:\n",
        "            if random()<p:    #pętla sprawdza, czy dla danego połączenia między wierzchołkiem z v1 a wierzchołkiem z v2 powinna zostać dodana krawędź\n",
        "                values.append(vertex2)  #jesli wylosowana liczba z (0,1)<p dodaje krawedz\n",
        "        graph[vertex1]=values   #Sąsiedzi danego wierzchołka są przechowywani w liście values,\n",
        "                                #a następnie ta lista jest przypisywana jako wartość dla klucza będącego numerem wierzchołka z v1 w słowniku graph.\n",
        "\n",
        "    return Graph.from_dict(graph)"
      ],
      "metadata": {
        "id": "K1UkDlyfCJPP"
      },
      "execution_count": null,
      "outputs": []
    },
    {
      "cell_type": "code",
      "source": [
        "bipartite_graph=random_bipartite_graph(3,1/2)\n",
        "print(bipartite_graph)"
      ],
      "metadata": {
        "colab": {
          "base_uri": "https://localhost:8080/"
        },
        "id": "tmdnpiGnY-hE",
        "outputId": "2089588c-7517-46d1-b2c2-05e85ba061e3"
      },
      "execution_count": null,
      "outputs": [
        {
          "output_type": "stream",
          "name": "stdout",
          "text": [
            "1: 4 5 6\n",
            "2: 4\n",
            "3: 5 6\n",
            "\n"
          ]
        }
      ]
    }
  ],
  "metadata": {
    "kernelspec": {
      "display_name": ".venv",
      "language": "python",
      "name": "python3"
    },
    "language_info": {
      "codemirror_mode": {
        "name": "ipython",
        "version": 3
      },
      "file_extension": ".py",
      "mimetype": "text/x-python",
      "name": "python",
      "nbconvert_exporter": "python",
      "pygments_lexer": "ipython3",
      "version": "3.11.6"
    },
    "colab": {
      "provenance": []
    }
  },
  "nbformat": 4,
  "nbformat_minor": 0
}