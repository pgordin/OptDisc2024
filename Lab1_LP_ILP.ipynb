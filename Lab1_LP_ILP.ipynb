{
  "nbformat": 4,
  "nbformat_minor": 0,
  "metadata": {
    "colab": {
      "provenance": [],
      "authorship_tag": "ABX9TyMDbVyaBI7u2qaY1RaHBnAX",
      "include_colab_link": true
    },
    "kernelspec": {
      "name": "python3",
      "display_name": "Python 3"
    },
    "language_info": {
      "name": "python"
    }
  },
  "cells": [
    {
      "cell_type": "markdown",
      "metadata": {
        "id": "view-in-github",
        "colab_type": "text"
      },
      "source": [
        "<a href=\"https://colab.research.google.com/github/pgordin/OptDisc2024/blob/main/Lab1_LP_ILP.ipynb\" target=\"_parent\"><img src=\"https://colab.research.google.com/assets/colab-badge.svg\" alt=\"Open In Colab\"/></a>"
      ]
    },
    {
      "cell_type": "markdown",
      "source": [
        "Na początek polecany\n",
        "[tutorial](https://medium.com/@chongjingting/4-ways-to-solve-linear-programming-in-python-b4af36b7894dhttps://)\n",
        "do programowania liniowego.\n",
        "\n",
        "## Zadanie 1\n",
        "Na przykładzie ciągłego problemu plecakowego sprawdzić (i przetestować) *SciPy*, *PuLP* i *Google OR-Tools*."
      ],
      "metadata": {
        "id": "SN3UAuRCdN0c"
      }
    },
    {
      "cell_type": "code",
      "execution_count": null,
      "metadata": {
        "id": "hQ3cPiK7co1j"
      },
      "outputs": [],
      "source": []
    },
    {
      "cell_type": "markdown",
      "source": [
        "# Zadanie 2\n",
        "\n",
        "Jak wygląda programowanie całkowitoliczbowe w tych pakietach? Rozwiązać (zwykły) problem plecakowy."
      ],
      "metadata": {
        "id": "y8T0XfrPcp4A"
      }
    },
    {
      "cell_type": "code",
      "source": [],
      "metadata": {
        "id": "l_hbhVeAfIWw"
      },
      "execution_count": null,
      "outputs": []
    }
  ]
}