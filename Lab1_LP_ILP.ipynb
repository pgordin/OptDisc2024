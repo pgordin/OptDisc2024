{
  "nbformat": 4,
  "nbformat_minor": 0,
  "metadata": {
    "colab": {
      "provenance": [],
      "include_colab_link": true
    },
    "kernelspec": {
      "name": "python3",
      "display_name": "Python 3"
    },
    "language_info": {
      "name": "python"
    }
  },
  "cells": [
    {
      "cell_type": "markdown",
      "metadata": {
        "id": "view-in-github",
        "colab_type": "text"
      },
      "source": [
        "<a href=\"https://colab.research.google.com/github/pgordin/OptDisc2024/blob/main/Lab1_LP_ILP.ipynb\" target=\"_parent\"><img src=\"https://colab.research.google.com/assets/colab-badge.svg\" alt=\"Open In Colab\"/></a>"
      ]
    },
    {
      "cell_type": "markdown",
      "source": [
        "# Linki do tutoriali\n",
        "\n",
        "[Programowanie liniowe](https://medium.com/@chongjingting/4-ways-to-solve-linear-programming-in-python-b4af36b7894d)\n",
        "\n",
        "[Programowanie całkowitoliczbowe w PULP](https://medium.com/@gazalashaikh999/mixed-integer-programming-cfe0c196e875)\n",
        "\n",
        "[Automatyzacja programowania całkowitoliczbowego w Google-OR\n",
        "](https://developers.google.com/optimization/mip/mip_var_array?hl=pl)\n",
        "\n",
        "# Zadanie 1.\n",
        "Na przykładzie ciągłego problemu plecakowego sprawdzić (i przetestować) SciPy, PuLP i Google OR-Tools."
      ],
      "metadata": {
        "id": "aOeKaIUkTpvk"
      }
    },
    {
      "cell_type": "code",
      "source": [
        "!pip install pulp"
      ],
      "metadata": {
        "colab": {
          "base_uri": "https://localhost:8080/"
        },
        "id": "RFpeRYxuTucU",
        "outputId": "567f7c4f-b957-4cc7-90e5-9f7e7230c7db"
      },
      "execution_count": 1,
      "outputs": [
        {
          "output_type": "stream",
          "name": "stdout",
          "text": [
            "Requirement already satisfied: pulp in /usr/local/lib/python3.10/dist-packages (2.8.0)\n"
          ]
        }
      ]
    },
    {
      "cell_type": "code",
      "source": [
        "from pulp import *"
      ],
      "metadata": {
        "id": "j1H65O_ITts7"
      },
      "execution_count": 2,
      "outputs": []
    },
    {
      "cell_type": "code",
      "source": [
        "problem = LpProblem(\"Meat cutting problem\", LpMaximize)"
      ],
      "metadata": {
        "colab": {
          "base_uri": "https://localhost:8080/"
        },
        "id": "DY1ScbDgUbt7",
        "outputId": "ee3163b0-effc-4808-cc37-f1284b4a3e50"
      },
      "execution_count": 3,
      "outputs": [
        {
          "output_type": "stream",
          "name": "stderr",
          "text": [
            "/usr/local/lib/python3.10/dist-packages/pulp/pulp.py:1316: UserWarning: Spaces are not permitted in the name. Converted to '_'\n",
            "  warnings.warn(\"Spaces are not permitted in the name. Converted to '_'\")\n"
          ]
        }
      ]
    },
    {
      "cell_type": "code",
      "source": [
        "x1 = LpVariable(\"A\", 0, 3.5)\n",
        "x2 = LpVariable(\"B\", 0, 2)\n",
        "x3 = LpVariable(\"C\", 0, 3)\n",
        "x4 = LpVariable(\"D\", 0, 5)\n",
        "x5 = LpVariable(\"E\", 0, 1)\n",
        "x6 = LpVariable(\"F\", 0, 2.5)"
      ],
      "metadata": {
        "id": "GOIV58FDVr3_"
      },
      "execution_count": 4,
      "outputs": []
    },
    {
      "cell_type": "code",
      "source": [
        "problem += 20*x1 + 15*x2 + 10*x3 + 5*x4 + 30*x5 + 18*x6, \"Total value\""
      ],
      "metadata": {
        "id": "OSk71wMJWJl0"
      },
      "execution_count": 5,
      "outputs": []
    },
    {
      "cell_type": "code",
      "source": [
        "problem += x1 + x2 + x3 + x4 + x5 + x6 <= 10, \"Total weigh\""
      ],
      "metadata": {
        "id": "FOJX301jWdUO"
      },
      "execution_count": 6,
      "outputs": []
    },
    {
      "cell_type": "code",
      "source": [
        "problem.solve()"
      ],
      "metadata": {
        "colab": {
          "base_uri": "https://localhost:8080/"
        },
        "id": "XJWWv66mWuiA",
        "outputId": "17f642fc-cf82-41aa-9776-a64cbe4b0aca"
      },
      "execution_count": 7,
      "outputs": [
        {
          "output_type": "execute_result",
          "data": {
            "text/plain": [
              "1"
            ]
          },
          "metadata": {},
          "execution_count": 7
        }
      ]
    },
    {
      "cell_type": "code",
      "source": [
        "print(\"Status:\", LpStatus[problem.status])"
      ],
      "metadata": {
        "colab": {
          "base_uri": "https://localhost:8080/"
        },
        "id": "GiJVBTV7W1hG",
        "outputId": "577292b7-d410-486f-c52c-5032e221d1bb"
      },
      "execution_count": 8,
      "outputs": [
        {
          "output_type": "stream",
          "name": "stdout",
          "text": [
            "Status: Optimal\n"
          ]
        }
      ]
    },
    {
      "cell_type": "code",
      "source": [
        "for v in problem.variables():\n",
        "    print(v.name, \"=\", v.varValue)"
      ],
      "metadata": {
        "colab": {
          "base_uri": "https://localhost:8080/"
        },
        "id": "g10_Zw8sW78w",
        "outputId": "b63bd5b7-7ad9-409d-a715-f0a846e41faf"
      },
      "execution_count": 9,
      "outputs": [
        {
          "output_type": "stream",
          "name": "stdout",
          "text": [
            "A = 3.5\n",
            "B = 2.0\n",
            "C = 1.0\n",
            "D = 0.0\n",
            "E = 1.0\n",
            "F = 2.5\n"
          ]
        }
      ]
    },
    {
      "cell_type": "code",
      "source": [
        "print(\"Total Cost = \", value(problem.objective))"
      ],
      "metadata": {
        "colab": {
          "base_uri": "https://localhost:8080/"
        },
        "id": "t1DVZAn9XL0V",
        "outputId": "6ae00905-42f2-4693-cdec-3e90eaf30dec"
      },
      "execution_count": 10,
      "outputs": [
        {
          "output_type": "stream",
          "name": "stdout",
          "text": [
            "Total Cost =  185.0\n"
          ]
        }
      ]
    },
    {
      "cell_type": "markdown",
      "source": [
        "- - -"
      ],
      "metadata": {
        "id": "7l1Y2wmybul2"
      }
    },
    {
      "cell_type": "markdown",
      "source": [
        "# Zadanie 2.\n",
        "Jak wygląda programowanie całkowitoliczbowe w tych pakietach? Rozwiązać (zwykły) problem plecakowy.\n"
      ],
      "metadata": {
        "id": "jkN1WRnzZlw4"
      }
    },
    {
      "cell_type": "code",
      "source": [
        "problem2 = LpProblem(\"Knapsack problem\", LpMaximize)"
      ],
      "metadata": {
        "id": "cd6D01kTXsZ4"
      },
      "execution_count": 11,
      "outputs": []
    },
    {
      "cell_type": "code",
      "source": [
        "x1 = LpVariable(\"A\", 0, 1, LpInteger)\n",
        "x2 = LpVariable(\"B\", 0, 3, LpInteger)\n",
        "x3 = LpVariable(\"C\", 0, 5, LpInteger)\n",
        "x4 = LpVariable(\"D\", 0, 1, LpInteger)\n",
        "x5 = LpVariable(\"E\", 0, 5, LpInteger)\n",
        "x6 = LpVariable(\"F\", 0, 2, LpInteger)"
      ],
      "metadata": {
        "id": "_0RbP717XzAs"
      },
      "execution_count": 12,
      "outputs": []
    },
    {
      "cell_type": "code",
      "source": [
        "problem2 += 5000*x1 + 1500*x2 + 200*x3 + 1000*x4 + 500*x5 + 600*x6, \"Total value\""
      ],
      "metadata": {
        "id": "Yvt6-lLEYPrS"
      },
      "execution_count": 13,
      "outputs": []
    },
    {
      "cell_type": "code",
      "source": [
        "problem2 += x1 + 0.5*x2 + 0.3*x3 + 4*x4 + x5 + 3*x6 <= 11.5, \"Total weight\""
      ],
      "metadata": {
        "id": "st6JGN29YsR8"
      },
      "execution_count": 14,
      "outputs": []
    },
    {
      "cell_type": "code",
      "source": [
        "problem2.solve()"
      ],
      "metadata": {
        "colab": {
          "base_uri": "https://localhost:8080/"
        },
        "id": "_1M2inJhZN52",
        "outputId": "6e98ea8d-e4bc-4fa5-c9f8-d6dde04d9997"
      },
      "execution_count": 15,
      "outputs": [
        {
          "output_type": "execute_result",
          "data": {
            "text/plain": [
              "1"
            ]
          },
          "metadata": {},
          "execution_count": 15
        }
      ]
    },
    {
      "cell_type": "code",
      "source": [
        "print(\"Status:\", LpStatus[problem2.status])"
      ],
      "metadata": {
        "colab": {
          "base_uri": "https://localhost:8080/"
        },
        "id": "casQBY-QZQx0",
        "outputId": "41b01cb8-aeb6-4601-d07c-80404ac45733"
      },
      "execution_count": 16,
      "outputs": [
        {
          "output_type": "stream",
          "name": "stdout",
          "text": [
            "Status: Optimal\n"
          ]
        }
      ]
    },
    {
      "cell_type": "code",
      "source": [
        "for v in problem2.variables():\n",
        "    print(v.name, \"=\", v.varValue)"
      ],
      "metadata": {
        "id": "FpZ_cBnmZU8y",
        "outputId": "52ebcb19-0615-4b24-a208-ab21bb4ab5c2",
        "colab": {
          "base_uri": "https://localhost:8080/"
        }
      },
      "execution_count": 17,
      "outputs": [
        {
          "output_type": "stream",
          "name": "stdout",
          "text": [
            "A = 1.0\n",
            "B = 3.0\n",
            "C = 3.0\n",
            "D = 0.0\n",
            "E = 5.0\n",
            "F = 1.0\n"
          ]
        }
      ]
    },
    {
      "cell_type": "code",
      "source": [
        "print(\"Total Cost = \", value(problem2.objective))"
      ],
      "metadata": {
        "id": "LEKoax6HZaOt",
        "outputId": "cb657bd8-2c09-4a26-a156-f9a0fea63c80",
        "colab": {
          "base_uri": "https://localhost:8080/"
        }
      },
      "execution_count": 18,
      "outputs": [
        {
          "output_type": "stream",
          "name": "stdout",
          "text": [
            "Total Cost =  13200.0\n"
          ]
        }
      ]
    },
    {
      "cell_type": "markdown",
      "source": [
        "- - -"
      ],
      "metadata": {
        "id": "aSGWhoPcb7wQ"
      }
    },
    {
      "cell_type": "code",
      "source": [
        "problem3 = LpProblem(\"Knapsack problem\", LpMaximize)"
      ],
      "metadata": {
        "id": "aTQ66SRVhKEv"
      },
      "execution_count": 19,
      "outputs": []
    },
    {
      "cell_type": "code",
      "source": [
        "items = range(6)\n",
        "lower_bounds = [0, 0, 0, 0, 0, 0]\n",
        "upper_bounds = [1, 3, 5, 1, 5, 2]"
      ],
      "metadata": {
        "id": "giZ7oTrKb8j1"
      },
      "execution_count": 20,
      "outputs": []
    },
    {
      "cell_type": "code",
      "source": [
        "selected = LpVariable.dicts(\"Selected\", items, cat=\"Integer\")"
      ],
      "metadata": {
        "id": "NE18_Mq2b-rQ"
      },
      "execution_count": 21,
      "outputs": []
    },
    {
      "cell_type": "code",
      "source": [
        "problem3 += lpSum(selected[i] * [5000, 1500, 200, 1000, 500, 600][i] for i in items), \"Total value\""
      ],
      "metadata": {
        "id": "2O9DN_MJcMGE"
      },
      "execution_count": 22,
      "outputs": []
    },
    {
      "cell_type": "code",
      "source": [
        "for i in items:\n",
        "  problem3 += selected[i] >= lower_bounds[i]\n",
        "  problem3 += selected[i] <= upper_bounds[i]"
      ],
      "metadata": {
        "id": "8qfdXJG8c_TC"
      },
      "execution_count": 23,
      "outputs": []
    },
    {
      "cell_type": "code",
      "source": [
        "problem3 += lpSum(selected[i] * [1, 0.5, 0.3, 4, 1, 3][i] for i in items) <= 11.5, \"Total weight\""
      ],
      "metadata": {
        "id": "vvdmR1_IcZcM"
      },
      "execution_count": 24,
      "outputs": []
    },
    {
      "cell_type": "code",
      "source": [
        "problem3.solve()"
      ],
      "metadata": {
        "id": "FNyJZMTJcnWB",
        "outputId": "e9a3a2f0-cbb2-439c-8fa4-3d9468b330c6",
        "colab": {
          "base_uri": "https://localhost:8080/"
        }
      },
      "execution_count": 25,
      "outputs": [
        {
          "output_type": "execute_result",
          "data": {
            "text/plain": [
              "1"
            ]
          },
          "metadata": {},
          "execution_count": 25
        }
      ]
    },
    {
      "cell_type": "code",
      "source": [
        "print(\"Status:\", LpStatus[problem3.status])"
      ],
      "metadata": {
        "id": "Qxcp43rJcp_i",
        "outputId": "cbdf0509-f1c0-467b-fd42-2a82cfe7a6a5",
        "colab": {
          "base_uri": "https://localhost:8080/"
        }
      },
      "execution_count": 26,
      "outputs": [
        {
          "output_type": "stream",
          "name": "stdout",
          "text": [
            "Status: Optimal\n"
          ]
        }
      ]
    },
    {
      "cell_type": "code",
      "source": [
        "for v in problem3.variables():\n",
        "    print(v.name, \"=\", v.varValue)"
      ],
      "metadata": {
        "id": "dt0SvwPBdR-D",
        "outputId": "99fb0e1d-dfbf-45d1-c763-a0bae054f8d5",
        "colab": {
          "base_uri": "https://localhost:8080/"
        }
      },
      "execution_count": 27,
      "outputs": [
        {
          "output_type": "stream",
          "name": "stdout",
          "text": [
            "Selected_0 = 1.0\n",
            "Selected_1 = 3.0\n",
            "Selected_2 = 3.0\n",
            "Selected_3 = -0.0\n",
            "Selected_4 = 5.0\n",
            "Selected_5 = 1.0\n"
          ]
        }
      ]
    },
    {
      "cell_type": "code",
      "source": [
        "print(\"Total Cost = \", value(problem3.objective))"
      ],
      "metadata": {
        "id": "RtbulL5GdWXB",
        "outputId": "dc276ca9-d85d-4765-e1cc-778977defcc7",
        "colab": {
          "base_uri": "https://localhost:8080/"
        }
      },
      "execution_count": 28,
      "outputs": [
        {
          "output_type": "stream",
          "name": "stdout",
          "text": [
            "Total Cost =  13200.0\n"
          ]
        }
      ]
    }
  ]
}