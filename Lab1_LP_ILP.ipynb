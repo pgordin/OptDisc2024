{
  "nbformat": 4,
  "nbformat_minor": 0,
  "metadata": {
    "colab": {
      "provenance": [],
      "include_colab_link": true
    },
    "kernelspec": {
      "name": "python3",
      "display_name": "Python 3"
    },
    "language_info": {
      "name": "python"
    }
  },
  "cells": [
    {
      "cell_type": "markdown",
      "metadata": {
        "id": "view-in-github",
        "colab_type": "text"
      },
      "source": [
        "<a href=\"https://colab.research.google.com/github/pgordin/OptDisc2024/blob/main/Lab1_LP_ILP.ipynb\" target=\"_parent\"><img src=\"https://colab.research.google.com/assets/colab-badge.svg\" alt=\"Open In Colab\"/></a>"
      ]
    },
    {
      "cell_type": "markdown",
      "source": [
        "# Zadanie 1.\n",
        "Na przykładzie ciągłego problemu plecakowego sprawdzić (i przetestować) SciPy, PuLP i Google OR-Tools."
      ],
      "metadata": {
        "id": "aOeKaIUkTpvk"
      }
    },
    {
      "cell_type": "code",
      "source": [
        "!pip install pulp"
      ],
      "metadata": {
        "colab": {
          "base_uri": "https://localhost:8080/"
        },
        "id": "RFpeRYxuTucU",
        "outputId": "75542418-05b4-47f2-f22f-8c610a1adbe5"
      },
      "execution_count": null,
      "outputs": [
        {
          "output_type": "stream",
          "name": "stdout",
          "text": [
            "Collecting pulp\n",
            "  Downloading PuLP-2.8.0-py3-none-any.whl (17.7 MB)\n",
            "\u001b[2K     \u001b[90m━━━━━━━━━━━━━━━━━━━━━━━━━━━━━━━━━━━━━━━━\u001b[0m \u001b[32m17.7/17.7 MB\u001b[0m \u001b[31m30.8 MB/s\u001b[0m eta \u001b[36m0:00:00\u001b[0m\n",
            "\u001b[?25hInstalling collected packages: pulp\n",
            "Successfully installed pulp-2.8.0\n"
          ]
        }
      ]
    },
    {
      "cell_type": "code",
      "source": [
        "from pulp import *"
      ],
      "metadata": {
        "id": "j1H65O_ITts7"
      },
      "execution_count": null,
      "outputs": []
    },
    {
      "cell_type": "code",
      "source": [
        "problem = LpProblem(\"Meat cutting problem\", LpMaximize)"
      ],
      "metadata": {
        "colab": {
          "base_uri": "https://localhost:8080/"
        },
        "id": "DY1ScbDgUbt7",
        "outputId": "323f0bab-9ec7-4312-b8c8-de3bf29fa286"
      },
      "execution_count": null,
      "outputs": [
        {
          "output_type": "stream",
          "name": "stderr",
          "text": [
            "/usr/local/lib/python3.10/dist-packages/pulp/pulp.py:1316: UserWarning: Spaces are not permitted in the name. Converted to '_'\n",
            "  warnings.warn(\"Spaces are not permitted in the name. Converted to '_'\")\n"
          ]
        }
      ]
    },
    {
      "cell_type": "code",
      "source": [
        "x1 = LpVariable(\"A\", 0, 3.5)\n",
        "x2 = LpVariable(\"B\", 0, 2)\n",
        "x3 = LpVariable(\"C\", 0, 3)\n",
        "x4 = LpVariable(\"D\", 0, 5)\n",
        "x5 = LpVariable(\"E\", 0, 1)\n",
        "x6 = LpVariable(\"F\", 0, 2.5)"
      ],
      "metadata": {
        "id": "GOIV58FDVr3_"
      },
      "execution_count": null,
      "outputs": []
    },
    {
      "cell_type": "code",
      "source": [
        "problem += 20*x1 + 15*x2 + 10*x3 + 5*x4 + 30*x5 + 18*x6, \"Total value\""
      ],
      "metadata": {
        "id": "OSk71wMJWJl0"
      },
      "execution_count": null,
      "outputs": []
    },
    {
      "cell_type": "code",
      "source": [
        "problem += x1 + x2 + x3 + x4 + x5 + x6 <= 10, \"Total weigh\""
      ],
      "metadata": {
        "id": "FOJX301jWdUO"
      },
      "execution_count": null,
      "outputs": []
    },
    {
      "cell_type": "code",
      "source": [
        "problem.solve()"
      ],
      "metadata": {
        "colab": {
          "base_uri": "https://localhost:8080/"
        },
        "id": "XJWWv66mWuiA",
        "outputId": "3e65b9f7-7ae4-49a4-b0f2-a6fd43335883"
      },
      "execution_count": null,
      "outputs": [
        {
          "output_type": "execute_result",
          "data": {
            "text/plain": [
              "1"
            ]
          },
          "metadata": {},
          "execution_count": 10
        }
      ]
    },
    {
      "cell_type": "code",
      "source": [
        "print(\"Status:\", LpStatus[problem.status])"
      ],
      "metadata": {
        "colab": {
          "base_uri": "https://localhost:8080/"
        },
        "id": "GiJVBTV7W1hG",
        "outputId": "7ba17eed-46cd-4cb9-edf5-f1bb3238f4bc"
      },
      "execution_count": null,
      "outputs": [
        {
          "output_type": "stream",
          "name": "stdout",
          "text": [
            "Status: Optimal\n"
          ]
        }
      ]
    },
    {
      "cell_type": "code",
      "source": [
        "for v in problem.variables():\n",
        "    print(v.name, \"=\", v.varValue)"
      ],
      "metadata": {
        "colab": {
          "base_uri": "https://localhost:8080/"
        },
        "id": "g10_Zw8sW78w",
        "outputId": "3fee52f6-e623-4698-bde3-3c791a0eca77"
      },
      "execution_count": null,
      "outputs": [
        {
          "output_type": "stream",
          "name": "stdout",
          "text": [
            "A = 3.5\n",
            "B = 2.0\n",
            "C = 1.0\n",
            "D = 0.0\n",
            "E = 1.0\n",
            "F = 2.5\n"
          ]
        }
      ]
    },
    {
      "cell_type": "code",
      "source": [
        "print(\"Total Cost = \", value(problem.objective))"
      ],
      "metadata": {
        "colab": {
          "base_uri": "https://localhost:8080/"
        },
        "id": "t1DVZAn9XL0V",
        "outputId": "52bd6abd-036d-493c-971c-76356f617d18"
      },
      "execution_count": null,
      "outputs": [
        {
          "output_type": "stream",
          "name": "stdout",
          "text": [
            "Total Cost =  185.0\n"
          ]
        }
      ]
    },
    {
      "cell_type": "markdown",
      "source": [
        "# Zadanie 2.\n",
        "Jak wygląda programowanie całkowitoliczbowe w tych pakietach? Rozwiązać (zwykły) problem plecakowy.\n"
      ],
      "metadata": {
        "id": "jkN1WRnzZlw4"
      }
    },
    {
      "cell_type": "code",
      "source": [
        "problem2 = LpProblem(\"Knapsack problem\", LpMaximize)"
      ],
      "metadata": {
        "colab": {
          "base_uri": "https://localhost:8080/"
        },
        "id": "cd6D01kTXsZ4",
        "outputId": "52c2d1bf-79aa-4c38-bb0e-800b87dd915e"
      },
      "execution_count": null,
      "outputs": [
        {
          "output_type": "stream",
          "name": "stderr",
          "text": [
            "/usr/local/lib/python3.10/dist-packages/pulp/pulp.py:1316: UserWarning: Spaces are not permitted in the name. Converted to '_'\n",
            "  warnings.warn(\"Spaces are not permitted in the name. Converted to '_'\")\n"
          ]
        }
      ]
    },
    {
      "cell_type": "code",
      "source": [
        "x1 = LpVariable(\"A\", 0, 1, LpInteger)\n",
        "x2 = LpVariable(\"B\", 0, 3, LpInteger)\n",
        "x3 = LpVariable(\"C\", 0, 5, LpInteger)\n",
        "x4 = LpVariable(\"D\", 0, 1, LpInteger)\n",
        "x5 = LpVariable(\"E\", 0, 5, LpInteger)\n",
        "x6 = LpVariable(\"F\", 0, 2, LpInteger)"
      ],
      "metadata": {
        "id": "_0RbP717XzAs"
      },
      "execution_count": null,
      "outputs": []
    },
    {
      "cell_type": "code",
      "source": [
        "problem2 += 5000*x1 + 1500*x2 + 200*x3 + 1000*x4 + 500*x5 + 600*x6, \"Total value\""
      ],
      "metadata": {
        "id": "Yvt6-lLEYPrS"
      },
      "execution_count": null,
      "outputs": []
    },
    {
      "cell_type": "code",
      "source": [
        "problem2 += x1 + 0.5*x2 + 0.3*x3 + 4*x4 + x5 + 3*x6 <= 11.5, \"Total weight\""
      ],
      "metadata": {
        "id": "st6JGN29YsR8"
      },
      "execution_count": null,
      "outputs": []
    },
    {
      "cell_type": "code",
      "source": [
        "problem2.solve()"
      ],
      "metadata": {
        "colab": {
          "base_uri": "https://localhost:8080/"
        },
        "id": "_1M2inJhZN52",
        "outputId": "93f2cca5-3fbe-4db7-8a3a-9f5bfe21a018"
      },
      "execution_count": null,
      "outputs": [
        {
          "output_type": "execute_result",
          "data": {
            "text/plain": [
              "1"
            ]
          },
          "metadata": {},
          "execution_count": 24
        }
      ]
    },
    {
      "cell_type": "code",
      "source": [
        "print(\"Status:\", LpStatus[problem2.status])"
      ],
      "metadata": {
        "colab": {
          "base_uri": "https://localhost:8080/"
        },
        "id": "casQBY-QZQx0",
        "outputId": "41f0367f-1132-4ad7-ccc5-1ce7b5936062"
      },
      "execution_count": null,
      "outputs": [
        {
          "output_type": "stream",
          "name": "stdout",
          "text": [
            "Status: Optimal\n"
          ]
        }
      ]
    },
    {
      "cell_type": "code",
      "source": [
        "for v in problem2.variables():\n",
        "    print(v.name, \"=\", v.varValue)"
      ],
      "metadata": {
        "id": "FpZ_cBnmZU8y",
        "outputId": "e37cf27c-1006-44b9-d891-8e4e72fdff9c",
        "colab": {
          "base_uri": "https://localhost:8080/"
        }
      },
      "execution_count": null,
      "outputs": [
        {
          "output_type": "stream",
          "name": "stdout",
          "text": [
            "A = 1.0\n",
            "B = 3.0\n",
            "C = 3.0\n",
            "D = 0.0\n",
            "E = 5.0\n",
            "F = 1.0\n"
          ]
        }
      ]
    },
    {
      "cell_type": "code",
      "source": [
        "print(\"Total Cost = \", value(problem2.objective))"
      ],
      "metadata": {
        "id": "LEKoax6HZaOt",
        "outputId": "6072617c-9708-4057-a67b-ec79222c479d",
        "colab": {
          "base_uri": "https://localhost:8080/"
        }
      },
      "execution_count": null,
      "outputs": [
        {
          "output_type": "stream",
          "name": "stdout",
          "text": [
            "Total Cost =  13200.0\n"
          ]
        }
      ]
    }
  ]
}