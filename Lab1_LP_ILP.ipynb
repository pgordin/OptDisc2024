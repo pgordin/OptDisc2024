{
  "nbformat": 4,
  "nbformat_minor": 0,
  "metadata": {
    "colab": {
      "provenance": [],
      "include_colab_link": true
    },
    "kernelspec": {
      "name": "python3",
      "display_name": "Python 3"
    },
    "language_info": {
      "name": "python"
    }
  },
  "cells": [
    {
      "cell_type": "markdown",
      "metadata": {
        "id": "view-in-github",
        "colab_type": "text"
      },
      "source": [
        "<a href=\"https://colab.research.google.com/github/pgordin/OptDisc2024/blob/main/Lab1_LP_ILP.ipynb\" target=\"_parent\"><img src=\"https://colab.research.google.com/assets/colab-badge.svg\" alt=\"Open In Colab\"/></a>"
      ]
    },
    {
      "cell_type": "markdown",
      "source": [
        "# Linki do tutoriali\n",
        "\n",
        "[Programowanie liniowe](https://medium.com/@chongjingting/4-ways-to-solve-linear-programming-in-python-b4af36b7894d)\n",
        "\n",
        "[Programowanie całkowitoliczbowe w PULP](https://medium.com/@gazalashaikh999/mixed-integer-programming-cfe0c196e875)\n",
        "\n",
        "\n",
        "[Automatyzacja programowania całkowitoliczbowego w Google-OR](https://developers.google.com/optimization/mip/mip_var_array)\n",
        "\n",
        "# Zadanie 1.\n",
        "Na przykładzie ciągłego problemu plecakowego sprawdzić (i przetestować) SciPy, PuLP i Google OR-Tools."
      ],
      "metadata": {
        "id": "aOeKaIUkTpvk"
      }
    },
    {
      "cell_type": "code",
      "source": [
        "!pip install pulp"
      ],
      "metadata": {
        "colab": {
          "base_uri": "https://localhost:8080/"
        },
        "id": "RFpeRYxuTucU",
        "outputId": "cc594d9d-35bf-4eb1-c4b0-5f698482293b"
      },
      "execution_count": 19,
      "outputs": [
        {
          "output_type": "stream",
          "name": "stdout",
          "text": [
            "Requirement already satisfied: pulp in /usr/local/lib/python3.10/dist-packages (2.8.0)\n"
          ]
        }
      ]
    },
    {
      "cell_type": "code",
      "source": [
        "from pulp import *"
      ],
      "metadata": {
        "id": "j1H65O_ITts7"
      },
      "execution_count": 20,
      "outputs": []
    },
    {
      "cell_type": "code",
      "source": [
        "problem = LpProblem(\"Meat cutting problem\", LpMaximize)"
      ],
      "metadata": {
        "colab": {
          "base_uri": "https://localhost:8080/"
        },
        "id": "DY1ScbDgUbt7",
        "outputId": "f1f14f39-2466-40bc-8f31-572186fce67c"
      },
      "execution_count": 21,
      "outputs": [
        {
          "output_type": "stream",
          "name": "stderr",
          "text": [
            "/usr/local/lib/python3.10/dist-packages/pulp/pulp.py:1316: UserWarning: Spaces are not permitted in the name. Converted to '_'\n",
            "  warnings.warn(\"Spaces are not permitted in the name. Converted to '_'\")\n"
          ]
        }
      ]
    },
    {
      "cell_type": "code",
      "source": [
        "x1 = LpVariable(\"A\", 0, 3.5)\n",
        "x2 = LpVariable(\"B\", 0, 2)\n",
        "x3 = LpVariable(\"C\", 0, 3)\n",
        "x4 = LpVariable(\"D\", 0, 5)\n",
        "x5 = LpVariable(\"E\", 0, 1)\n",
        "x6 = LpVariable(\"F\", 0, 2.5)"
      ],
      "metadata": {
        "id": "GOIV58FDVr3_"
      },
      "execution_count": 22,
      "outputs": []
    },
    {
      "cell_type": "code",
      "source": [
        "problem += 20*x1 + 15*x2 + 10*x3 + 5*x4 + 30*x5 + 18*x6, \"Total value\""
      ],
      "metadata": {
        "id": "OSk71wMJWJl0"
      },
      "execution_count": 23,
      "outputs": []
    },
    {
      "cell_type": "code",
      "source": [
        "problem += x1 + x2 + x3 + x4 + x5 + x6 <= 10, \"Total weigh\""
      ],
      "metadata": {
        "id": "FOJX301jWdUO"
      },
      "execution_count": 24,
      "outputs": []
    },
    {
      "cell_type": "code",
      "source": [
        "problem.solve()"
      ],
      "metadata": {
        "colab": {
          "base_uri": "https://localhost:8080/"
        },
        "id": "XJWWv66mWuiA",
        "outputId": "d327a8eb-7869-46de-e686-0e6d372ae4f5"
      },
      "execution_count": 25,
      "outputs": [
        {
          "output_type": "execute_result",
          "data": {
            "text/plain": [
              "1"
            ]
          },
          "metadata": {},
          "execution_count": 25
        }
      ]
    },
    {
      "cell_type": "code",
      "source": [
        "print(\"Status:\", LpStatus[problem.status])"
      ],
      "metadata": {
        "colab": {
          "base_uri": "https://localhost:8080/"
        },
        "id": "GiJVBTV7W1hG",
        "outputId": "9947ae06-f730-48fd-bd44-de89b5d7bd77"
      },
      "execution_count": 26,
      "outputs": [
        {
          "output_type": "stream",
          "name": "stdout",
          "text": [
            "Status: Optimal\n"
          ]
        }
      ]
    },
    {
      "cell_type": "code",
      "source": [
        "for v in problem.variables():\n",
        "    print(v.name, \"=\", v.varValue)"
      ],
      "metadata": {
        "colab": {
          "base_uri": "https://localhost:8080/"
        },
        "id": "g10_Zw8sW78w",
        "outputId": "0ebe6847-42f2-41b0-c04d-7e27fb998cb5"
      },
      "execution_count": 27,
      "outputs": [
        {
          "output_type": "stream",
          "name": "stdout",
          "text": [
            "A = 3.5\n",
            "B = 2.0\n",
            "C = 1.0\n",
            "D = 0.0\n",
            "E = 1.0\n",
            "F = 2.5\n"
          ]
        }
      ]
    },
    {
      "cell_type": "code",
      "source": [
        "print(\"Total Cost = \", value(problem.objective))"
      ],
      "metadata": {
        "colab": {
          "base_uri": "https://localhost:8080/"
        },
        "id": "t1DVZAn9XL0V",
        "outputId": "23673b20-1a06-4834-be4a-82efaa6552ed"
      },
      "execution_count": 28,
      "outputs": [
        {
          "output_type": "stream",
          "name": "stdout",
          "text": [
            "Total Cost =  185.0\n"
          ]
        }
      ]
    },
    {
      "cell_type": "markdown",
      "source": [
        "# Zadanie 2.\n",
        "Jak wygląda programowanie całkowitoliczbowe w tych pakietach? Rozwiązać (zwykły) problem plecakowy.\n"
      ],
      "metadata": {
        "id": "jkN1WRnzZlw4"
      }
    },
    {
      "cell_type": "code",
      "source": [
        "problem2 = LpProblem(\"Knapsack problem\", LpMaximize)"
      ],
      "metadata": {
        "id": "cd6D01kTXsZ4"
      },
      "execution_count": 29,
      "outputs": []
    },
    {
      "cell_type": "code",
      "source": [
        "x1 = LpVariable(\"A\", 0, 1, LpInteger)\n",
        "x2 = LpVariable(\"B\", 0, 3, LpInteger)\n",
        "x3 = LpVariable(\"C\", 0, 5, LpInteger)\n",
        "x4 = LpVariable(\"D\", 0, 1, LpInteger)\n",
        "x5 = LpVariable(\"E\", 0, 5, LpInteger)\n",
        "x6 = LpVariable(\"F\", 0, 2, LpInteger)"
      ],
      "metadata": {
        "id": "_0RbP717XzAs"
      },
      "execution_count": null,
      "outputs": []
    },
    {
      "cell_type": "code",
      "source": [
        "problem2 += 5000*x1 + 1500*x2 + 200*x3 + 1000*x4 + 500*x5 + 600*x6, \"Total value\""
      ],
      "metadata": {
        "id": "Yvt6-lLEYPrS"
      },
      "execution_count": 30,
      "outputs": []
    },
    {
      "cell_type": "code",
      "source": [
        "problem2 += x1 + 0.5*x2 + 0.3*x3 + 4*x4 + x5 + 3*x6 <= 11.5, \"Total weight\""
      ],
      "metadata": {
        "id": "st6JGN29YsR8"
      },
      "execution_count": 31,
      "outputs": []
    },
    {
      "cell_type": "code",
      "source": [
        "problem2.solve()"
      ],
      "metadata": {
        "colab": {
          "base_uri": "https://localhost:8080/"
        },
        "id": "_1M2inJhZN52",
        "outputId": "1e24d686-fe3c-49c1-d506-40a3cd14d04c"
      },
      "execution_count": 32,
      "outputs": [
        {
          "output_type": "execute_result",
          "data": {
            "text/plain": [
              "1"
            ]
          },
          "metadata": {},
          "execution_count": 32
        }
      ]
    },
    {
      "cell_type": "code",
      "source": [
        "print(\"Status:\", LpStatus[problem2.status])"
      ],
      "metadata": {
        "colab": {
          "base_uri": "https://localhost:8080/"
        },
        "id": "casQBY-QZQx0",
        "outputId": "feb279fe-837b-425c-bb96-8f26763b65ea"
      },
      "execution_count": 33,
      "outputs": [
        {
          "output_type": "stream",
          "name": "stdout",
          "text": [
            "Status: Optimal\n"
          ]
        }
      ]
    },
    {
      "cell_type": "code",
      "source": [
        "for v in problem2.variables():\n",
        "    print(v.name, \"=\", v.varValue)"
      ],
      "metadata": {
        "id": "FpZ_cBnmZU8y",
        "outputId": "bb100b7c-703f-4c26-cd76-5412211c8f2f",
        "colab": {
          "base_uri": "https://localhost:8080/"
        }
      },
      "execution_count": 34,
      "outputs": [
        {
          "output_type": "stream",
          "name": "stdout",
          "text": [
            "A = 3.5\n",
            "B = 2.0\n",
            "C = 3.0\n",
            "D = 1.275\n",
            "E = 1.0\n",
            "F = 0.0\n"
          ]
        }
      ]
    },
    {
      "cell_type": "code",
      "source": [
        "print(\"Total Cost = \", value(problem2.objective))"
      ],
      "metadata": {
        "id": "LEKoax6HZaOt",
        "outputId": "1b7f1241-f747-46e9-ab3f-f5fad461392a",
        "colab": {
          "base_uri": "https://localhost:8080/"
        }
      },
      "execution_count": 35,
      "outputs": [
        {
          "output_type": "stream",
          "name": "stdout",
          "text": [
            "Total Cost =  22875.0\n"
          ]
        }
      ]
    },
    {
      "cell_type": "code",
      "source": [
        "# Create the problem instance\n",
        "problem3 = LpProblem(\"Problem plecakowy\", LpMaximize)\n",
        "\n",
        "# Decision variables\n",
        "items = range(6)  # Number of items\n",
        "selected = LpVariable.dicts(\"Przedmiot\", items, cat=\"Binary\")\n",
        "\n",
        "# Objective function: Maximize the total value\n",
        "problem3 += lpSum(selected[i] * [5000, 1500, 200, 1000, 500, 600][i] for i in items)\n",
        "\n",
        "# Constraint: Total weight should not exceed the knapsack capacity\n",
        "problem3 += lpSum(selected[i] * [1, 0.5, 0.3, 4, 1, 3][i] for i in items) <= 11.5\n",
        "\n",
        "# Solve the problem\n",
        "problem3.solve()\n",
        "\n",
        "# Print the optimal solution\n",
        "print(\"Optimal Solution:\")\n",
        "for i in items:\n",
        "    if selected[i].value() >= 0:\n",
        "        print(f\"Item {i + 1} is selected in quantity {selected[i].value()}\")\n",
        "\n",
        "# Print the maximum value\n",
        "print(\"Maximum Value:\", value(problem3.objective))"
      ],
      "metadata": {
        "id": "rzLx6VbAZnip",
        "outputId": "b7ad5f90-1d58-43d0-9915-ec320af7cd29",
        "colab": {
          "base_uri": "https://localhost:8080/"
        }
      },
      "execution_count": 40,
      "outputs": [
        {
          "output_type": "stream",
          "name": "stdout",
          "text": [
            "Optimal Solution:\n",
            "Item 1 is selected in quantity 1.0\n",
            "Item 2 is selected in quantity 1.0\n",
            "Item 3 is selected in quantity 1.0\n",
            "Item 4 is selected in quantity 1.0\n",
            "Item 5 is selected in quantity 1.0\n",
            "Item 6 is selected in quantity 1.0\n",
            "Maximum Value: 8800.0\n"
          ]
        }
      ]
    }
  ]
}