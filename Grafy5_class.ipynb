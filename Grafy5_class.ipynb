{
  "cells": [
    {
      "cell_type": "markdown",
      "metadata": {
        "id": "view-in-github",
        "colab_type": "text"
      },
      "source": [
        "<a href=\"https://colab.research.google.com/github/pgordin/OptDisc2024/blob/main/Grafy5_class.ipynb\" target=\"_parent\"><img src=\"https://colab.research.google.com/assets/colab-badge.svg\" alt=\"Open In Colab\"/></a>"
      ]
    },
    {
      "cell_type": "code",
      "execution_count": 14,
      "metadata": {
        "id": "vWgeTyk5qbAu"
      },
      "outputs": [],
      "source": [
        "import numpy as np\n",
        "from random import random\n",
        "from copy import deepcopy\n",
        "from queue import PriorityQueue"
      ]
    },
    {
      "cell_type": "code",
      "execution_count": 18,
      "metadata": {
        "id": "ECGnFwaXqbAx"
      },
      "outputs": [],
      "source": [
        "class Graph:\n",
        "    def __init__(self, graph=None):\n",
        "        if graph is None:\n",
        "            graph = {}\n",
        "        self.graph = graph\n",
        "        self.weighted = False\n",
        "\n",
        "    # dict initializer\n",
        "    @classmethod\n",
        "    def from_dict(cls, graph):\n",
        "        return cls(graph)\n",
        "\n",
        "    # array initializer\n",
        "    @classmethod\n",
        "    def from_array(cls, graph: np.array, nodes: list = None):\n",
        "        if nodes is None:\n",
        "            nodes = [*range(1, len(graph) + 1)]\n",
        "        return cls.from_dict(\n",
        "            cls._array_to_dict(graph, nodes)\n",
        "        )\n",
        "\n",
        "    @staticmethod\n",
        "    def from_edges(filename: str, directed = 0):\n",
        "        \"\"\"\n",
        "        Generates a graphs from a text file, where each line defines one edge.\\n\n",
        "        Filename is a file path.\n",
        "        \"\"\"\n",
        "        graph = Graph()\n",
        "        file = open(filename, \"r\")\n",
        "        for line in file:\n",
        "            words = line.strip().split()\n",
        "            if len(words) == 1:\n",
        "                graph.add_node(words[0])\n",
        "            elif len(words) == 2: # two words -- unweighed graph\n",
        "                if directed:\n",
        "                    graph.add_arc([words[0], words[1]])\n",
        "                else:\n",
        "                    graph.add_edge([words[0], words[1]])\n",
        "            elif len(words) > 2: # more than two words - labeled graph\n",
        "                graph.weighted = True\n",
        "                if directed:\n",
        "                    graph.add_arc([words[0], words[1]])\n",
        "                    graph.graph[words[0]][-1] = (words[1], words[2]) # process label\n",
        "                else:\n",
        "                    graph.add_edge([words[0], words[1]])\n",
        "                    graph.graph[words[0]][-1] = (words[1], words[2])\n",
        "                    graph.graph[words[1]][-1] = (words[0], words[2])\n",
        "        file.close()\n",
        "        return graph\n",
        "\n",
        "    @staticmethod\n",
        "    def random_graph(nodes_num: int, prob: float):\n",
        "        \"\"\"\n",
        "        Generates a random graph provided a number of nodes and probability of generating an edge.\n",
        "        \"\"\"\n",
        "        rand_graph = Graph()\n",
        "        for i in range(1, nodes_num + 1):\n",
        "            rand_graph.add_node(i)\n",
        "            for j in range(1, i):\n",
        "                if random() < prob:\n",
        "                    rand_graph.add_edge([i, j])\n",
        "        return rand_graph\n",
        "\n",
        "    @staticmethod\n",
        "    def cycle(nodes_num: int):\n",
        "        \"\"\"\n",
        "        Generates a cycle provided a number of nodes.\n",
        "        \"\"\"\n",
        "        cycle = Graph()\n",
        "        nodes = [*range(1, nodes_num + 1)]\n",
        "        for i in nodes:\n",
        "            cycle.add_edge([nodes[i-2], nodes[i-1]])\n",
        "        cycle.graph = dict(sorted(cycle.graph.items()))\n",
        "        return cycle\n",
        "\n",
        "    def to_neighbourlist(self, filename: str):\n",
        "        \"\"\"\n",
        "        Saves a graphs to a text file as a neighbour dict.\\n\n",
        "        Filename is a file path.\n",
        "        \"\"\"\n",
        "        file = open(filename, \"w\")\n",
        "        file.write(str(self))\n",
        "        file.close()\n",
        "\n",
        "    def nodes(self) -> list:\n",
        "        \"\"\"\n",
        "        Returns list of nodes of a graph.\n",
        "        \"\"\"\n",
        "        return [*self.graph.keys()]\n",
        "\n",
        "    def array(self) -> np.array:\n",
        "        \"\"\"\n",
        "        Returns the graph in array form.\n",
        "        \"\"\"\n",
        "        return self._dict_to_array(self.graph)\n",
        "\n",
        "    # redefinition of print for objects of class Graph\n",
        "    def __str__(self):\n",
        "        res = \"\"\n",
        "        for v in self.graph:\n",
        "            res += f\"{v}:\"\n",
        "            for u in self.graph[v]:\n",
        "                res += f\" {u}\"\n",
        "            res += \"\\n\"\n",
        "        return res\n",
        "\n",
        "    def add_node(self, node):\n",
        "        \"\"\"\n",
        "        Adds a node to a graph.\n",
        "        \"\"\"\n",
        "        if node not in self.graph:\n",
        "            self.graph[node] = []\n",
        "\n",
        "    def del_node(self, node):\n",
        "        \"\"\"\n",
        "        Recursively removes a node from a graph.\n",
        "        \"\"\"\n",
        "        if node in self.graph:\n",
        "            self.graph.pop(node)\n",
        "            for key in [*self.graph.keys()]:\n",
        "                if node in self.graph[key]:\n",
        "                    self.graph[key].remove(node)\n",
        "\n",
        "    def add_arc(self, arc: list):\n",
        "        \"\"\"\n",
        "        Adds arc to a graph provided a list of nodes.\n",
        "        \"\"\"\n",
        "        u, v = arc\n",
        "        self.add_node(u)\n",
        "        self.add_node(v)\n",
        "        if v not in self.graph[u]:\n",
        "            self.graph[u].append(v)\n",
        "\n",
        "    def add_edge(self, edge: list):\n",
        "        \"\"\"\n",
        "        Adds edge to a graph provided a list of nodes.\n",
        "        \"\"\"\n",
        "        u, v = edge\n",
        "        if u == v:\n",
        "            raise ValueError(\"Pętla!\")\n",
        "        self.add_node(u)\n",
        "        self.add_node(v)\n",
        "        if v not in self.graph[u]:\n",
        "            self.graph[u].append(v)\n",
        "        if u not in self.graph[v]:\n",
        "            self.graph[v].append(u)\n",
        "\n",
        "    def _array_to_dict(arr: np.array, nodes: list) -> dict:\n",
        "        \"\"\"\n",
        "        Converts a graph in array form to a graph in dict form.\n",
        "        \"\"\"\n",
        "        res_dict = {}\n",
        "        for i, node in enumerate(nodes):\n",
        "            neighbours = [nodes[j] for j, edge in enumerate(arr[i]) if edge]\n",
        "            res_dict[node] = neighbours\n",
        "        return res_dict\n",
        "\n",
        "    def _dict_to_array(self, _dict: dict) -> np.array:\n",
        "        \"\"\"\n",
        "        Converts a graph in dict form to a graph in array form.\n",
        "        \"\"\"\n",
        "        n = len(_dict)\n",
        "        nodes = [*_dict.keys()]\n",
        "        res_arr = np.zeros(shape = (n, n), dtype=int)\n",
        "        for u,v in [\n",
        "            (nodes.index(u), nodes.index(v))\n",
        "            for u, row in _dict.items() for v in row\n",
        "        ]:\n",
        "            res_arr[u][v] += 1\n",
        "        return res_arr\n",
        "\n",
        "    def Prufer(self):\n",
        "      \"\"\"\n",
        "      Kod Prufera drzewa - zwrócony jako napis\n",
        "      Wymagane, aby graf był drzewem.\n",
        "      Zwraca pusty napis dla drzew o mniej niż 3 wierzchołkach.\n",
        "      \"\"\"\n",
        "      tr = deepcopy(self.graph)   # będziemy psuć graf\n",
        "      code = \"\"\n",
        "      for i in range(len(self.graph) - 2):\n",
        "        for x in sorted(tr):    # po kolei przeglądam nieusunięte wierzchołki\n",
        "          if len(tr[x]) == 1:   # najmniejszy liść\n",
        "            break\n",
        "        v = tr[x][0]  # sąsiad najmniejszego x\n",
        "        code = code + f\"{v} \"\n",
        "        tr[v].remove(x)   # usuwam x z listy sąsiadów v\n",
        "        tr.pop(x)         # usuwam x z drzewa\n",
        "      return code.strip()\n",
        "\n",
        "    @staticmethod\n",
        "    def tree_from_Prufer(code: str):\n",
        "        \"\"\"\n",
        "        Tworzy drzewo na podstawie kodu Prufera.\n",
        "        \"\"\"\n",
        "        tree = Graph()\n",
        "        clist = [int(x) for x in code.strip().split()]   # kod zamieniamy na listę liczb\n",
        "        n = len(clist) + 2    # liczba wierzchołków\n",
        "        vert = [v for v in range(1, n+1)]  # lista liczb od 1 do n\n",
        "        for v in vert:\n",
        "          tree.add_node(v)\n",
        "        for i in range(n-2):\n",
        "          for x in vert:\n",
        "            if not x in clist:    # najmniejszy liść\n",
        "              break\n",
        "          v = clist.pop(0)    # usuwam pierwszy element listy (sąsiad x)\n",
        "          tree.add_edge((x, v))\n",
        "          vert.remove(x)\n",
        "        tree.add_edge(vert)\n",
        "        return tree\n",
        "\n",
        "    def ConnectedComponents(self):\n",
        "      \"\"\"\n",
        "      Znajduje spójne składowe w grafie nieskierowanym\n",
        "      Jako wynik zwraca listę zbiorów wierzchołków\n",
        "      Uwaga: jako pierwszy element listy uzyskamy zbiór wszystkich wierzchołków grafu\n",
        "      \"\"\"\n",
        "      def DFS(u):\n",
        "        \"\"\"\n",
        "        Przeszukiwanie w głąb\n",
        "        \"\"\"\n",
        "        for w in self.graph[u]:\n",
        "          if not w in VT[0]:  # w jeszcze nie odwiedzony\n",
        "            VT[0].add(w)      # już odwiedzony\n",
        "            VT[-1].add(w)     # w ostatniej spójnej składowej\n",
        "            DFS(w)\n",
        "      \"\"\"\n",
        "      VT - lista zbiorów VT[i] dla i > 0 - lista wierzchołków spójnych składowych\n",
        "      dla i = 0 - lista wszystkich odwiedzonych wierzchołków\n",
        "      \"\"\"\n",
        "      VT = [set([])]\n",
        "      for v in self.graph:\n",
        "        if v not in VT[0]:\n",
        "          VT[0].add(v)\n",
        "          VT.append(set([v]))   # zaczątek nowej spójnej składowej\n",
        "          DFS(v)\n",
        "      return VT\n",
        "\n",
        "    def Connected_components_graphs(self):\n",
        "      \"\"\"\n",
        "      Spójne składowe jako grafy\n",
        "      \"\"\"\n",
        "      VT=self.ConnectedComponents()\n",
        "      noCc=len(VT)-1  #liczba spojnych skladowych\n",
        "      graphs=[]  #lista do przechowywania grafow reprezentujacych spojne skladowe\n",
        "      for i in range(noCc):  #iterujemy przez wszystkie spojne skladowe\n",
        "          graph_i={}    #dla każdej spójnej składowej tworzymy nowy graf graph_i, który jest podgrafem oryginalnego grafu,\n",
        "          for v in VT[i+1]:     #zawierającym tylko wierzchołki z bieżącej spójnej składowej\n",
        "              graph_i[v]=self.graph[v].copy()\n",
        "          graphs.append(Graph.from_dict(graph_i))  #dodajemy stworzone grafy do listy\n",
        "      return graphs\n",
        "\n",
        "    def Distance(self, v):\n",
        "      \"\"\"\n",
        "      Znajduje i zwraca jako wektor słownik odległości od wierzchołka v\n",
        "      do wierzchołków w tej samej spójnej składowej co v\n",
        "      \"\"\"\n",
        "      dist = {v:0} # zalążek słownika odległości\n",
        "      kolejka = [v]\n",
        "      while len(kolejka) > 0:\n",
        "        u = kolejka.pop(0)\n",
        "        for w in self.graph[u]:\n",
        "          if not w in dist:\n",
        "            dist[w] = dist[u] + 1\n",
        "            kolejka.append(w)\n",
        "      return dist\n",
        "\n",
        "    def MinSpanningTree(self):\n",
        "      \"\"\"\n",
        "      Algorytm Jarnika-Prima -- minimalne drzewa spinające\n",
        "      Dla nieskierowanych grafów ważonych (wagi to liczby całkowite)\n",
        "      Zwraca parę (waga, drzewo), gdzie waga to łączna waga drzewa\n",
        "      a drzewo to minimalne drzewo spinające w formie grafu ważonego\n",
        "      \"\"\"\n",
        "      if not self.weighted: # jak graf nie jest ważony - zwróć nic\n",
        "        return None, None\n",
        "      for v in self.graph: # wybieram jakiś wierzchołek  grafu\n",
        "        break\n",
        "      tree = {v:[]}       # zalążek drzewa\n",
        "      weight = 0          # łączna waga\n",
        "      q = PriorityQueue() # pusta kolejka priorytetowa\n",
        "      for (u, w) in self.graph[v]:\n",
        "        q.put((int(w), v, u))\n",
        "      while not q.empty():\n",
        "        (w, v, u) = q.get()\n",
        "        if u not in tree:\n",
        "          weight += w\n",
        "          tree[u] = [(v, w)]\n",
        "          tree[v].append([(u, w)])\n",
        "          for (x, w) in self.graph[u]:\n",
        "            if not x in tree:\n",
        "              q.put((int(w), u, x))\n",
        "      if len(tree) < len(self.graph):\n",
        "        print(\"Graf niespójny - zwrócone drzewo dla jednej składowej\")\n",
        "      wtree = Graph(tree)\n",
        "      wtree.weighted = True\n",
        "      return weight, wtree"
      ]
    },
    {
      "cell_type": "markdown",
      "metadata": {
        "id": "FkUyth0KqbAz"
      },
      "source": [
        "# Przykłady wykorzystania"
      ]
    },
    {
      "cell_type": "code",
      "source": [
        "graph = Graph.random_graph(10, 1/5)\n",
        "print(graph)\n",
        "print(\"---------------------------\")\n",
        "print(graph.ConnectedComponents())\n"
      ],
      "metadata": {
        "id": "0_XatYQtj3w1",
        "outputId": "cfd3b60e-4dbd-4822-b1c1-c6043359e70f",
        "colab": {
          "base_uri": "https://localhost:8080/"
        }
      },
      "execution_count": null,
      "outputs": [
        {
          "output_type": "stream",
          "name": "stdout",
          "text": [
            "1:\n",
            "2: 3\n",
            "3: 2\n",
            "4: 6 8\n",
            "5: 7 9\n",
            "6: 4 8 9\n",
            "7: 5\n",
            "8: 4 6 9\n",
            "9: 5 6 8\n",
            "10:\n",
            "\n",
            "---------------------------\n",
            "[{1, 2, 3, 4, 5, 6, 7, 8, 9, 10}, {1}, {2, 3}, {4, 5, 6, 7, 8, 9}, {10}]\n"
          ]
        }
      ]
    },
    {
      "cell_type": "code",
      "source": [
        "odl = graph.Distance(1)\n",
        "print(odl)"
      ],
      "metadata": {
        "colab": {
          "base_uri": "https://localhost:8080/"
        },
        "id": "1izOx7oBftAs",
        "outputId": "8c6506e1-949b-4270-ae00-4eb3c280cd67"
      },
      "execution_count": null,
      "outputs": [
        {
          "output_type": "stream",
          "name": "stdout",
          "text": [
            "{1: 0}\n"
          ]
        }
      ]
    },
    {
      "cell_type": "markdown",
      "source": [
        "#Small world phenomenon - eksperyment Millgrama (1967)\n",
        "\n",
        "Użyjemy grafu $G(n,p)$ (dokładnie $G(2000, 1/300)$) jako ilustrację zjawiska"
      ],
      "metadata": {
        "id": "OOS6ICt1hQY8"
      }
    },
    {
      "cell_type": "code",
      "source": [
        "import sys\n",
        "\n",
        "n = 2000\n",
        "p = 1/300\n",
        "sys.setrecursionlimit(n+5)\n",
        "\n",
        "rgraph = Graph.random_graph(n, p)\n",
        "lista = rgraph.Connected_components_graphs()\n",
        "graph = lista[0]\n",
        "print(len(graph.graph))\n"
      ],
      "metadata": {
        "colab": {
          "base_uri": "https://localhost:8080/"
        },
        "id": "YXlc5ddLhXHr",
        "outputId": "8a1903bf-cf09-4d20-8de6-5e126511a199"
      },
      "execution_count": null,
      "outputs": [
        {
          "output_type": "stream",
          "name": "stdout",
          "text": [
            "1998\n"
          ]
        }
      ]
    },
    {
      "cell_type": "code",
      "source": [
        "md = {}\n",
        "ecc = {}\n",
        "for v in graph.graph:\n",
        "  dist = graph.Distance(v)\n",
        "  ecc[v] = max(dist.values())\n",
        "  md[v] = sum(dist.values())/len(dist.values())\n",
        "print(\"Promień:\", min(ecc.values()), \" Średnica:\", max(ecc.values()), \" Średnio: \", sum(md.values())/len(md.values()))"
      ],
      "metadata": {
        "colab": {
          "base_uri": "https://localhost:8080/"
        },
        "id": "4T_Ri01hi7qx",
        "outputId": "1bc8c2ab-7d78-46b3-981c-038b1b530d63"
      },
      "execution_count": null,
      "outputs": [
        {
          "output_type": "stream",
          "name": "stdout",
          "text": [
            "Promień: 5  Średnica: 8  Średnio:  4.254108963818673\n"
          ]
        }
      ]
    },
    {
      "cell_type": "code",
      "source": [
        "%%writefile lista.txt\n",
        "A B\n",
        "B C\n",
        "B D\n",
        "D C\n",
        "E\n",
        "F"
      ],
      "metadata": {
        "colab": {
          "base_uri": "https://localhost:8080/"
        },
        "id": "AZhm_p1NrmAt",
        "outputId": "99c580a7-5a23-4b2e-9427-80ae2cd470f8"
      },
      "execution_count": null,
      "outputs": [
        {
          "output_type": "stream",
          "name": "stdout",
          "text": [
            "Writing lista.txt\n"
          ]
        }
      ]
    },
    {
      "cell_type": "code",
      "execution_count": null,
      "metadata": {
        "colab": {
          "base_uri": "https://localhost:8080/"
        },
        "id": "IrGvF05-qbA2",
        "outputId": "588be995-a015-41de-f899-3edc88322374"
      },
      "outputs": [
        {
          "output_type": "stream",
          "name": "stdout",
          "text": [
            "A: B\n",
            "B: A C D\n",
            "C: B D\n",
            "D: B C\n",
            "E:\n",
            "F:\n",
            "\n"
          ]
        }
      ],
      "source": [
        "file_graph = Graph.from_edges(\"./lista.txt\")\n",
        "print(file_graph)"
      ]
    },
    {
      "cell_type": "code",
      "execution_count": null,
      "metadata": {
        "id": "fCNER6SHqbA3"
      },
      "outputs": [],
      "source": [
        "file_graph.add_edge([\"E\", \"F\"])\n",
        "file_graph.to_neighbourlist(\"lista1.txt\")"
      ]
    },
    {
      "cell_type": "code",
      "source": [
        "%cat lista1.txt"
      ],
      "metadata": {
        "colab": {
          "base_uri": "https://localhost:8080/"
        },
        "id": "g-VhrZ_Crx5T",
        "outputId": "87a02476-d62a-4710-9c1a-d625ef8f0933"
      },
      "execution_count": null,
      "outputs": [
        {
          "output_type": "stream",
          "name": "stdout",
          "text": [
            "A: B\n",
            "B: A C D\n",
            "C: B D\n",
            "D: B C\n",
            "E: F\n",
            "F: E\n"
          ]
        }
      ]
    },
    {
      "cell_type": "code",
      "source": [
        "!wget https://raw.githubusercontent.com/pgordin/OptDisc2024/main/ubranie.txt"
      ],
      "metadata": {
        "id": "AzimerrmzWee",
        "outputId": "90efa908-b26f-4987-962d-8ddb82adaf04",
        "colab": {
          "base_uri": "https://localhost:8080/"
        }
      },
      "execution_count": 4,
      "outputs": [
        {
          "output_type": "stream",
          "name": "stdout",
          "text": [
            "--2024-05-06 11:29:12--  https://raw.githubusercontent.com/pgordin/OptDisc2024/main/ubranie.txt\n",
            "Resolving raw.githubusercontent.com (raw.githubusercontent.com)... 185.199.108.133, 185.199.109.133, 185.199.110.133, ...\n",
            "Connecting to raw.githubusercontent.com (raw.githubusercontent.com)|185.199.108.133|:443... connected.\n",
            "HTTP request sent, awaiting response... 200 OK\n",
            "Length: 186 [text/plain]\n",
            "Saving to: ‘ubranie.txt’\n",
            "\n",
            "ubranie.txt         100%[===================>]     186  --.-KB/s    in 0s      \n",
            "\n",
            "2024-05-06 11:29:12 (6.29 MB/s) - ‘ubranie.txt’ saved [186/186]\n",
            "\n"
          ]
        }
      ]
    },
    {
      "cell_type": "code",
      "source": [
        "ubranie_graph = Graph.from_edges(\"ubranie.txt\", directed = 1)\n",
        "print(ubranie_graph)"
      ],
      "metadata": {
        "id": "B72Aejqc1VcF",
        "outputId": "8ad0300e-5c4e-48b1-abc5-5e77bf1bd6c5",
        "colab": {
          "base_uri": "https://localhost:8080/"
        }
      },
      "execution_count": 5,
      "outputs": [
        {
          "output_type": "stream",
          "name": "stdout",
          "text": [
            "slipki: kalesony\n",
            "kalesony: spodnie\n",
            "spodnie: buty szelki\n",
            "buty:\n",
            "szelki: marynarka\n",
            "skarpety: buty\n",
            "koszula: szelki marynarka krawat\n",
            "marynarka: plaszcz\n",
            "krawat: marynarka\n",
            "plaszcz:\n",
            "\n"
          ]
        }
      ]
    },
    {
      "cell_type": "code",
      "source": [],
      "metadata": {
        "id": "oOnH7ReRrhgq"
      },
      "execution_count": null,
      "outputs": []
    },
    {
      "cell_type": "code",
      "source": [
        "!wget https://raw.githubusercontent.com/pgordin/OptDisc2024/main/wagi0.txt"
      ],
      "metadata": {
        "outputId": "09515db5-33af-47a3-b35d-f26f0f148258",
        "colab": {
          "base_uri": "https://localhost:8080/"
        },
        "id": "fOWpkVglrjm7"
      },
      "execution_count": 6,
      "outputs": [
        {
          "output_type": "stream",
          "name": "stdout",
          "text": [
            "--2024-05-06 11:33:44--  https://raw.githubusercontent.com/pgordin/OptDisc2024/main/wagi0.txt\n",
            "Resolving raw.githubusercontent.com (raw.githubusercontent.com)... 185.199.110.133, 185.199.111.133, 185.199.109.133, ...\n",
            "Connecting to raw.githubusercontent.com (raw.githubusercontent.com)|185.199.110.133|:443... connected.\n",
            "HTTP request sent, awaiting response... 200 OK\n",
            "Length: 114 [text/plain]\n",
            "Saving to: ‘wagi0.txt’\n",
            "\n",
            "wagi0.txt           100%[===================>]     114  --.-KB/s    in 0s      \n",
            "\n",
            "2024-05-06 11:33:45 (5.39 MB/s) - ‘wagi0.txt’ saved [114/114]\n",
            "\n"
          ]
        }
      ]
    },
    {
      "cell_type": "code",
      "source": [
        "%cat wagi0.txt"
      ],
      "metadata": {
        "id": "h07milyernXQ",
        "outputId": "5309c3a0-1097-41f2-ce79-73558749c2f3",
        "colab": {
          "base_uri": "https://localhost:8080/"
        }
      },
      "execution_count": 7,
      "outputs": [
        {
          "output_type": "stream",
          "name": "stdout",
          "text": [
            "A B 3\r\n",
            "A E 10\r\n",
            "B C 26\r\n",
            "B D 12\r\n",
            "C D 17\r\n",
            "C F 13\r\n",
            "C G 14\r\n",
            "D E 7\r\n",
            "D F 15\r\n",
            "E F 8\r\n",
            "E H 4\r\n",
            "F G 9\r\n",
            "F H 6\r\n",
            "G H 16\r\n",
            "G I 11\r\n"
          ]
        }
      ]
    },
    {
      "cell_type": "code",
      "source": [
        "wgraph = Graph.from_edges(\"wagi0.txt\")\n",
        "print(wgraph)"
      ],
      "metadata": {
        "id": "hQwVAkpvruzu",
        "outputId": "57bf4f7a-921f-4b37-ef99-7ad2bdbbad24",
        "colab": {
          "base_uri": "https://localhost:8080/"
        }
      },
      "execution_count": 19,
      "outputs": [
        {
          "output_type": "stream",
          "name": "stdout",
          "text": [
            "A: ('B', '3') ('E', '10')\n",
            "B: ('A', '3') ('C', '26') ('D', '12')\n",
            "E: ('A', '10') ('D', '7') ('F', '8') ('H', '4')\n",
            "C: ('B', '26') ('D', '17') ('F', '13') ('G', '14')\n",
            "D: ('B', '12') ('C', '17') ('E', '7') ('F', '15')\n",
            "F: ('C', '13') ('D', '15') ('E', '8') ('G', '9') ('H', '6')\n",
            "G: ('C', '14') ('F', '9') ('H', '16') ('I', '11')\n",
            "H: ('E', '4') ('F', '6') ('G', '16')\n",
            "I: ('G', '11')\n",
            "\n"
          ]
        }
      ]
    },
    {
      "cell_type": "code",
      "source": [
        "weight, tree = wgraph.MinSpanningTree()\n",
        "print(weight)\n",
        "print(tree)"
      ],
      "metadata": {
        "id": "vpo0EEhpwGJB",
        "outputId": "f61ac114-1094-4ecb-d417-bbf47f20b1c8",
        "colab": {
          "base_uri": "https://localhost:8080/"
        }
      },
      "execution_count": 20,
      "outputs": [
        {
          "output_type": "stream",
          "name": "stdout",
          "text": [
            "63\n",
            "A: [('B', 3)] [('E', 10)]\n",
            "B: ('A', 3)\n",
            "E: ('A', 10) [('H', 4)] [('D', 7)]\n",
            "H: ('E', 4) [('F', 6)]\n",
            "F: ('H', 6) [('G', 9)] [('C', 13)]\n",
            "D: ('E', 7)\n",
            "G: ('F', 9) [('I', 11)]\n",
            "I: ('G', 11)\n",
            "C: ('F', 13)\n",
            "\n"
          ]
        }
      ]
    }
  ],
  "metadata": {
    "kernelspec": {
      "display_name": ".venv",
      "language": "python",
      "name": "python3"
    },
    "language_info": {
      "codemirror_mode": {
        "name": "ipython",
        "version": 3
      },
      "file_extension": ".py",
      "mimetype": "text/x-python",
      "name": "python",
      "nbconvert_exporter": "python",
      "pygments_lexer": "ipython3",
      "version": "3.11.6"
    },
    "colab": {
      "provenance": [],
      "include_colab_link": true
    }
  },
  "nbformat": 4,
  "nbformat_minor": 0
}