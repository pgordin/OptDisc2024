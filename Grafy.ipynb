{
 "cells": [
  {
   "cell_type": "code",
   "execution_count": 13,
   "id": "c2901f2b",
   "metadata": {},
   "outputs": [],
   "source": [
    "import numpy as np\n",
    "from random import random, seed"
   ]
  },
  {
   "cell_type": "markdown",
   "id": "67435c93",
   "metadata": {},
   "source": [
    "# Funkcje grafowe"
   ]
  },
  {
   "cell_type": "code",
   "execution_count": 14,
   "id": "0f450469",
   "metadata": {},
   "outputs": [],
   "source": [
    "def print_matrix(vertices, matrix):\n",
    "    '''\n",
    "    wypisuje na ekranie graf podany jako macierz sąsiedztwa\n",
    "    '''\n",
    "    n = len(matrix)\n",
    "    if (vertices is not None) and (len(vertices) == n):\n",
    "        vv = vertices\n",
    "    else:\n",
    "        vv = range(1, n+1)\n",
    "    for i in range(n):\n",
    "        print(vv[i], \":\", end = \"\")\n",
    "        for j in range(n):\n",
    "            if matrix[i, j]:\n",
    "                print(\" \", vv[j], end=\"\")\n",
    "        print(\"\")"
   ]
  },
  {
   "cell_type": "code",
   "execution_count": 15,
   "id": "87be4581",
   "metadata": {},
   "outputs": [],
   "source": [
    "def print_graph(graph):\n",
    "    '''\n",
    "    wypisuje na ekranie graf podany jako słownik w pythonie\n",
    "    '''\n",
    "    for v in graph:\n",
    "        print(v, \":\", end = \"\")\n",
    "        for u in graph[v]:\n",
    "            print(\"\", u, end = \"\")\n",
    "        print(\"\")    "
   ]
  },
  {
   "cell_type": "markdown",
   "id": "40699bd2",
   "metadata": {},
   "source": [
    "Tworzenie i modyfikacja grafów"
   ]
  },
  {
   "cell_type": "code",
   "execution_count": 16,
   "id": "f034bffe",
   "metadata": {},
   "outputs": [],
   "source": [
    "def add_vertex(graph, vertex):\n",
    "    '''\n",
    "    Nowy wierzchołek do istniejącego grafu\n",
    "    '''\n",
    "    if vertex not in graph:\n",
    "        graph[vertex] = []\n",
    "        \n",
    "def add_arc(graph, arc):\n",
    "    '''\n",
    "    Dodaje nowy łuk (podany jako para wierzchołków) do istniejącego grafu\n",
    "    Rozważamy grafy proste, skierowane\n",
    "    '''\n",
    "    u, v = arc\n",
    "    add_vertex(graph, u)\n",
    "    add_vertex(graph, v)\n",
    "    if v not in graph[u]:\n",
    "        graph[u].append(v)\n",
    "\n",
    "def add_edge(graph, edge):\n",
    "    '''\n",
    "    Dodaje nową krawędź (podaną jako parę wierzchołków) do istniejącego grafu\n",
    "    traktując graf nieskierowany jako prosty graf skierowany, symetryczny i bez pętli.\n",
    "    '''\n",
    "    u, v = edge\n",
    "    add_vertex(graph, u)\n",
    "    add_vertex(graph, v)\n",
    "    if u == v:\n",
    "        raise ValueError(\"Pętla!\")\n",
    "    if v not in graph[u]:\n",
    "        graph[u].append(v)\n",
    "    if u not in graph[v]:\n",
    "        graph[v].append(u)\n",
    "    "
   ]
  },
  {
   "cell_type": "markdown",
   "id": "98bb2765",
   "metadata": {},
   "source": [
    "Losowe grafy"
   ]
  },
  {
   "cell_type": "code",
   "execution_count": 17,
   "id": "fbdf3ce3",
   "metadata": {},
   "outputs": [],
   "source": [
    "def random_graph(n, p):\n",
    "    '''\n",
    "    losowanie grafu o n wierzchołkach z p-ństwem połączenia p\n",
    "    '''\n",
    "    random_graph = {}\n",
    "    for i in range(1, n+1):\n",
    "        add_vertex(random_graph, i)\n",
    "        for j in range(1, i):\n",
    "            if random() < p:\n",
    "                add_edge(random_graph, [i, j])\n",
    "    return random_graph"
   ]
  },
  {
   "cell_type": "markdown",
   "id": "93839ae0",
   "metadata": {},
   "source": [
    "Konwersja między macierzą sąsiedztwa, a słownikiem"
   ]
  },
  {
   "cell_type": "code",
   "execution_count": 18,
   "id": "110c5ab1",
   "metadata": {},
   "outputs": [],
   "source": [
    "def matrix_to_dict(vertices, matrix):\n",
    "    '''\n",
    "    konwersja między postacią macierzową a słownikową\n",
    "    '''\n",
    "    n = len(vertices)\n",
    "    graph = {}\n",
    "    for vertex in vertices:\n",
    "        graph[vertex] = []\n",
    "    for i in range(n):    \n",
    "        for j in range(n):\n",
    "            if matrix[i, j] == 1:\n",
    "                graph[list(graph.keys())[i]].append(list(graph.keys())[j])\n",
    "    return graph            "
   ]
  },
  {
   "cell_type": "code",
   "execution_count": 19,
   "id": "8b4a4a9d",
   "metadata": {},
   "outputs": [],
   "source": [
    "def dict_to_matrix(graph):\n",
    "    '''\n",
    "    konwersja między postacią słownikową a macierzową\n",
    "    '''\n",
    "    n = len(graph)\n",
    "    matrix = np.zeros((n,n))\n",
    "    vertices = list(graph.keys())\n",
    "    for key in graph:\n",
    "        for arc in graph[key]:\n",
    "            i = list(graph.keys()).index(key)\n",
    "            j = list(graph.keys()).index(arc)\n",
    "            matrix[i, j] = 1       \n",
    "    return (vertices, matrix)"
   ]
  },
  {
   "cell_type": "markdown",
   "id": "366aea2c",
   "metadata": {},
   "source": [
    "Tworzenie cyklu o n wierzchołkach"
   ]
  },
  {
   "cell_type": "code",
   "execution_count": 20,
   "id": "24011a79",
   "metadata": {},
   "outputs": [],
   "source": [
    "def cycle(n):\n",
    "    '''\n",
    "    tworzenie cyklu o n wierzchołkach\n",
    "    '''\n",
    "    cycle = {}\n",
    "    for i in range(1, n+1):\n",
    "        add_vertex(cycle, i)\n",
    "        cycle[i].append(i%n + 1)\n",
    "    return cycle    "
   ]
  },
  {
   "cell_type": "markdown",
   "id": "8b6a61e4",
   "metadata": {},
   "source": [
    "# Wczytywanie grafów z plików"
   ]
  },
  {
   "cell_type": "code",
   "execution_count": 37,
   "id": "9775fc25",
   "metadata": {},
   "outputs": [],
   "source": [
    "def graph_from_edges(filename, directed = 0):\n",
    "    '''\n",
    "    wczytuje graf z pliku tekstowego (pełna ścieżka dostępu), który w każdej linii zawiera opis jednej krawędzi (pary słów),\n",
    "    ewentualnie jednego wierzchołka (pojedyncze słowo). Jako wynik zwraca graf w formie listy sąsiedztwa\n",
    "    '''\n",
    "    graph = {}\n",
    "    file = open(filename, \"r\")             #otwieranie pliku do odczytu\n",
    "    for line in file:                      #dla każdej linii w pliku\n",
    "        words = line.strip().split()       #rozbijam linię na słowa\n",
    "        if len(words) == 1:                #jedno słowo = wierzchołek\n",
    "            add_vertex(graph, words[0])\n",
    "        elif len(words) == 2:              #więcej słów - używamy dwóch pierwszych\n",
    "            if directed:\n",
    "                add_arc(graph, (words[0],words[1]))\n",
    "            else:\n",
    "                add_edge(graph, (words[0],words[1]))\n",
    "    file.close()\n",
    "    return graph\n",
    "\n",
    "\n",
    "def graph_to_neighbourlist(graph, filename):\n",
    "    '''\n",
    "    zapisuje graf do pliku tekstowego (pełna ścieżka dostępu) jako listę sąsiedztwa \n",
    "    '''\n",
    "    file = open(filename, 'w')   #otwarcie pliku do zapisu\n",
    "    for v in graph:\n",
    "        neigh_list = f\"{v}:\"\n",
    "        for u in graph[v]:  \n",
    "            neigh_list = neigh_list + f\" {u}\"  #u na koniec listy sąsiedztwa\n",
    "        neigh_list = neigh_list + \"\\n\"  #koniec wiersza\n",
    "        file.write(neigh_list)\n",
    "    file.close()"
   ]
  },
  {
   "cell_type": "markdown",
   "id": "3b5c8818",
   "metadata": {},
   "source": [
    "# Przykłady wykorzystania"
   ]
  },
  {
   "cell_type": "code",
   "execution_count": 8,
   "id": "47121112",
   "metadata": {},
   "outputs": [],
   "source": [
    "vertices = [\"a\", \"b\", \"c\", \"d\", \"e\", \"i\"]\n",
    "matrix = np.array([[0,1,1,0,0,0],[1,0,1,0,0,0],[1,1,0,0,1,0],[0,0,1,0,1,1],[0,0,1,1,0,1],[1,0,1,0,1,0]])"
   ]
  },
  {
   "cell_type": "code",
   "execution_count": 9,
   "id": "5e37fedc",
   "metadata": {},
   "outputs": [
    {
     "name": "stdout",
     "output_type": "stream",
     "text": [
      "['a', 'b', 'c', 'd', 'e', 'i']\n",
      "[[0 1 1 0 0 0]\n",
      " [1 0 1 0 0 0]\n",
      " [1 1 0 0 1 0]\n",
      " [0 0 1 0 1 1]\n",
      " [0 0 1 1 0 1]\n",
      " [1 0 1 0 1 0]]\n",
      "------------------------------------------------------\n",
      "a :  b  c\n",
      "b :  a  c\n",
      "c :  a  b  e\n",
      "d :  c  e  i\n",
      "e :  c  d  i\n",
      "i :  a  c  e\n",
      "------------------------------------------------------\n",
      "1 :  2  3\n",
      "2 :  1  3\n",
      "3 :  1  2  5\n",
      "4 :  3  5  6\n",
      "5 :  3  4  6\n",
      "6 :  1  3  5\n"
     ]
    }
   ],
   "source": [
    "print(vertices)\n",
    "print(matrix)\n",
    "print(\"------------------------------------------------------\")\n",
    "print_matrix(vertices, matrix)\n",
    "print(\"------------------------------------------------------\")\n",
    "print_matrix(None, matrix)"
   ]
  },
  {
   "cell_type": "markdown",
   "id": "041c7bb5",
   "metadata": {},
   "source": [
    "Druga reprezentacja"
   ]
  },
  {
   "cell_type": "code",
   "execution_count": 65,
   "id": "c81d3904",
   "metadata": {},
   "outputs": [
    {
     "name": "stdout",
     "output_type": "stream",
     "text": [
      "{'a': ['b', 'c'], 'b': ['a', 'c'], 'c': ['a', 'b', 'e'], 'd': ['c', 'e', 'i'], 'e': ['c', 'd', 'i'], 'i': ['a', 'c', 'e'], 'g': []}\n"
     ]
    }
   ],
   "source": [
    "graph = {\n",
    "    'a' :  ['b',  'c'],\n",
    "    'b' :  ['a',  'c'],\n",
    "    'c' :  ['a',  'b',  'e'],\n",
    "    'd' :  ['c',  'e',  'i'],\n",
    "    'e' :  ['c',  'd',  'i'],\n",
    "    'i' :  ['a',  'c',  'e'],\n",
    "    'g' :  []\n",
    "}\n",
    "print(graph)"
   ]
  },
  {
   "cell_type": "code",
   "execution_count": 11,
   "id": "91bfeddf",
   "metadata": {},
   "outputs": [
    {
     "name": "stdout",
     "output_type": "stream",
     "text": [
      "a : b c\n",
      "b : a c\n",
      "c : a b e\n",
      "d : c e i\n",
      "e : c d i\n",
      "i : a c e\n",
      "g :\n"
     ]
    }
   ],
   "source": [
    "print_graph(graph)"
   ]
  },
  {
   "cell_type": "code",
   "execution_count": 12,
   "id": "2f3fb322",
   "metadata": {},
   "outputs": [
    {
     "name": "stdout",
     "output_type": "stream",
     "text": [
      "a : b c\n",
      "b : a c\n",
      "c : a b e\n",
      "d : c e i\n",
      "e : c d i\n",
      "i : a c e\n",
      "g :\n",
      "h :\n"
     ]
    }
   ],
   "source": [
    "add_vertex(graph, \"h\")\n",
    "print_graph(graph)"
   ]
  },
  {
   "cell_type": "code",
   "execution_count": 13,
   "id": "c4914111",
   "metadata": {},
   "outputs": [
    {
     "name": "stdout",
     "output_type": "stream",
     "text": [
      "a : b c\n",
      "b : a c\n",
      "c : a b e\n",
      "d : c e i\n",
      "e : c d i\n",
      "i : a c e\n",
      "g :\n",
      "h :\n",
      "u : v\n",
      "v :\n"
     ]
    }
   ],
   "source": [
    "add_arc(graph, [\"u\", \"v\"])\n",
    "print_graph(graph)"
   ]
  },
  {
   "cell_type": "code",
   "execution_count": 14,
   "id": "75844f41",
   "metadata": {},
   "outputs": [
    {
     "name": "stdout",
     "output_type": "stream",
     "text": [
      "a : b c\n",
      "b : a c\n",
      "c : a b e\n",
      "d : c e i\n",
      "e : c d i\n",
      "i : a c e h\n",
      "g :\n",
      "h : f i\n",
      "u : v\n",
      "v :\n",
      "f : h\n"
     ]
    }
   ],
   "source": [
    "add_edge(graph, [\"h\", \"f\"])\n",
    "add_edge(graph, [\"h\", \"i\"])\n",
    "print_graph(graph)"
   ]
  },
  {
   "cell_type": "markdown",
   "id": "b0e469ac",
   "metadata": {},
   "source": [
    "Tworzenie grafów losowych G(n,p)"
   ]
  },
  {
   "cell_type": "code",
   "execution_count": 15,
   "id": "d021e183",
   "metadata": {},
   "outputs": [],
   "source": [
    "seed(2024)"
   ]
  },
  {
   "cell_type": "code",
   "execution_count": 16,
   "id": "1ec3ee90",
   "metadata": {},
   "outputs": [
    {
     "name": "stdout",
     "output_type": "stream",
     "text": [
      "1 : 5 10\n",
      "2 : 3 5 9 10\n",
      "3 : 2 8\n",
      "4 : 6 7 8 10\n",
      "5 : 1 2 10\n",
      "6 : 4 8 10\n",
      "7 : 4 9 10\n",
      "8 : 3 4 6\n",
      "9 : 2 7\n",
      "10 : 1 2 4 5 6 7\n"
     ]
    }
   ],
   "source": [
    "#losuje graf G(10,1/3)\n",
    "random_g = random_graph(10,1/3) \n",
    "print_graph(random_g)"
   ]
  },
  {
   "cell_type": "code",
   "execution_count": 46,
   "id": "b15c6fda",
   "metadata": {},
   "outputs": [],
   "source": [
    "graph = np.array([[0,1,1,0,0,0], [1,0,1,0,0,0], [1,1,0,0,1,0], [0,0,1,0,1,1], [0,0,1,1,0,1], [1,0,1,0,1,0]])"
   ]
  },
  {
   "cell_type": "code",
   "execution_count": 18,
   "id": "8ad2fd2c",
   "metadata": {},
   "outputs": [
    {
     "name": "stdout",
     "output_type": "stream",
     "text": [
      "1 : 2 3\n",
      "2 : 1 3\n",
      "3 : 1 2 5\n",
      "4 : 3 5 6\n",
      "5 : 3 4 6\n",
      "6 : 1 3 5\n"
     ]
    }
   ],
   "source": [
    "print_graph(matrix_to_dict(graph))"
   ]
  },
  {
   "cell_type": "code",
   "execution_count": 24,
   "id": "5f320c6f",
   "metadata": {},
   "outputs": [
    {
     "name": "stdout",
     "output_type": "stream",
     "text": [
      "1 : 2\n",
      "2 : 3\n",
      "3 : 4\n",
      "4 : 5\n",
      "5 : 6\n",
      "6 : 1\n"
     ]
    }
   ],
   "source": [
    "print_graph(cycle(6))"
   ]
  },
  {
   "cell_type": "code",
   "execution_count": 84,
   "id": "bfeb4e63",
   "metadata": {},
   "outputs": [
    {
     "name": "stdout",
     "output_type": "stream",
     "text": [
      "a : b c\n",
      "b : a c\n",
      "c : a b e\n",
      "d : c e i\n",
      "e : c d i\n",
      "i : a c e\n",
      "g :\n"
     ]
    }
   ],
   "source": [
    "vertices, matrix = dict_to_matrix(graph)\n",
    "print_graph(matrix_to_dict(vertices, matrix))"
   ]
  },
  {
   "cell_type": "code",
   "execution_count": 2,
   "id": "faaccde4",
   "metadata": {},
   "outputs": [
    {
     "name": "stdout",
     "output_type": "stream",
     "text": [
      "Writing lista.txt\n"
     ]
    }
   ],
   "source": [
    "%%writefile lista.txt\n",
    "A B\n",
    "B C\n",
    "B D\n",
    "D C\n",
    "E \n",
    "F"
   ]
  },
  {
   "cell_type": "code",
   "execution_count": 22,
   "id": "2e94ded5",
   "metadata": {},
   "outputs": [
    {
     "name": "stdout",
     "output_type": "stream",
     "text": [
      "A : B\n",
      "B : A C D\n",
      "C : B D\n",
      "D : B C\n",
      "E :\n",
      "F :\n"
     ]
    }
   ],
   "source": [
    "graph1 = graph_from_edges(\"lista.txt\")\n",
    "print_graph(graph1)"
   ]
  },
  {
   "cell_type": "code",
   "execution_count": 34,
   "id": "bd7e0dbe",
   "metadata": {},
   "outputs": [],
   "source": [
    "add_edge(graph1, (\"A\", \"E\"))\n",
    "add_edge(graph1, (\"E\", \"F\"))\n",
    "add_vertex(graph1, \"G\")"
   ]
  },
  {
   "cell_type": "code",
   "execution_count": 35,
   "id": "7c6eea3c",
   "metadata": {},
   "outputs": [
    {
     "name": "stdout",
     "output_type": "stream",
     "text": [
      "A : B E\n",
      "B : A C D\n",
      "C : B D\n",
      "D : B C\n",
      "E : A F\n",
      "F : E\n",
      "G :\n"
     ]
    }
   ],
   "source": [
    "print_graph(graph1)"
   ]
  },
  {
   "cell_type": "code",
   "execution_count": 38,
   "id": "bd5d527d",
   "metadata": {},
   "outputs": [],
   "source": [
    "graph_to_neighbourlist(graph1, \"graf1.txt\")"
   ]
  },
  {
   "cell_type": "code",
   "execution_count": null,
   "id": "b51c8c66",
   "metadata": {},
   "outputs": [],
   "source": []
  }
 ],
 "metadata": {
  "kernelspec": {
   "display_name": "Python 3 (ipykernel)",
   "language": "python",
   "name": "python3"
  },
  "language_info": {
   "codemirror_mode": {
    "name": "ipython",
    "version": 3
   },
   "file_extension": ".py",
   "mimetype": "text/x-python",
   "name": "python",
   "nbconvert_exporter": "python",
   "pygments_lexer": "ipython3",
   "version": "3.8.2"
  }
 },
 "nbformat": 4,
 "nbformat_minor": 5
}
