{
  "nbformat": 4,
  "nbformat_minor": 0,
  "metadata": {
    "colab": {
      "provenance": [],
      "authorship_tag": "ABX9TyMHq50wV+vw4lG2Vm0ruFG/",
      "include_colab_link": true
    },
    "kernelspec": {
      "name": "python3",
      "display_name": "Python 3"
    },
    "language_info": {
      "name": "python"
    }
  },
  "cells": [
    {
      "cell_type": "markdown",
      "metadata": {
        "id": "view-in-github",
        "colab_type": "text"
      },
      "source": [
        "<a href=\"https://colab.research.google.com/github/pgordin/OptDisc2024/blob/main/Grafy2.ipynb\" target=\"_parent\"><img src=\"https://colab.research.google.com/assets/colab-badge.svg\" alt=\"Open In Colab\"/></a>"
      ]
    },
    {
      "cell_type": "markdown",
      "source": [
        "Importowanie pakietów"
      ],
      "metadata": {
        "id": "mV3Veyz6WUru"
      }
    },
    {
      "cell_type": "code",
      "execution_count": 1,
      "metadata": {
        "id": "PdoO2FOoWSnm"
      },
      "outputs": [],
      "source": [
        "import numpy as np\n",
        "from random import random, seed"
      ]
    },
    {
      "cell_type": "markdown",
      "source": [
        "# Funkcje grafowe"
      ],
      "metadata": {
        "id": "Te-xjnHTWTfN"
      }
    },
    {
      "cell_type": "code",
      "source": [
        "def print_matrix(vertices, matrix):\n",
        "  \"\"\"\n",
        "  Wypisuje na ekranie graf podany jako macierz sąsiedztwa\n",
        "  \"\"\"\n",
        "  n = len(matrix)\n",
        "  if (vertices is not None) and (len(vertices)==n):\n",
        "    vv = vertices\n",
        "  else:\n",
        "    vv = range(1, n+1)\n",
        "  for i in range(n):\n",
        "    print(vv[i], \":\", end=\"\")\n",
        "    for j in range(n):\n",
        "      if matrix[i, j]:\n",
        "        print(\" \", vv[j], end=\"\")\n",
        "    print(\"\")"
      ],
      "metadata": {
        "id": "mNb9hmEoWnfV"
      },
      "execution_count": 2,
      "outputs": []
    },
    {
      "cell_type": "code",
      "source": [
        "def print_graph(graph):\n",
        "  \"\"\"\n",
        "   Wypisuje na ekranie graf podany jako lista sąsiedztwa (słownik pythona)\n",
        "  \"\"\"\n",
        "  for v in graph:\n",
        "    print(v, \":\", end=\"\")\n",
        "    for u in graph[v]:\n",
        "      print(\" \", u, end=\"\")\n",
        "    print(\"\")"
      ],
      "metadata": {
        "id": "tvo-hvFAbg77"
      },
      "execution_count": 3,
      "outputs": []
    },
    {
      "cell_type": "markdown",
      "source": [
        "## Tworzenie i modyfikacje grafów"
      ],
      "metadata": {
        "id": "JW2sNY4pc_F4"
      }
    },
    {
      "cell_type": "code",
      "source": [
        "def add_vertex(graph, vertex):\n",
        "  \"\"\"\n",
        "  Nowy wierzchołek do istniejącego grafu\n",
        "  \"\"\"\n",
        "  if vertex not in graph:\n",
        "    graph[vertex] = []\n",
        "\n",
        "def add_arc(graph, arc):\n",
        "  \"\"\"\n",
        "  Dodaje nowy łuk (podany jako para wierzchołków) do istniejącego grafu\n",
        "  Rozważamy grafy proste, skierowane\n",
        "  \"\"\"\n",
        "  u, v = arc\n",
        "  add_vertex(graph, u)\n",
        "  add_vertex(graph, v)\n",
        "  if v not in graph[u]:\n",
        "    graph[u].append(v)\n",
        "\n",
        "def add_edge(graph, edge):\n",
        "  \"\"\"\n",
        "  Dodaje nową krawędź (podaną jako para wierzchołków) do istniejącego grafu\n",
        "  traktując graf nieskierowany jako prosty graf skierowany, symetryczni i bez pętli\n",
        "  \"\"\"\n",
        "  u, v = edge\n",
        "  add_vertex(graph, u)\n",
        "  add_vertex(graph, v)\n",
        "  if u == v:\n",
        "    raise ValueError(\"Pętla!\")\n",
        "  if v not in graph[u]:\n",
        "    graph[u].append(v)\n",
        "  if u not in graph[v]:\n",
        "    graph[v].append(u)\n"
      ],
      "metadata": {
        "id": "BNo-rLdtdDt2"
      },
      "execution_count": 4,
      "outputs": []
    },
    {
      "cell_type": "markdown",
      "source": [
        "## Wczytywanie grafów z plików i zapis do pliku"
      ],
      "metadata": {
        "id": "ZdTlBl6le9M8"
      }
    },
    {
      "cell_type": "code",
      "source": [
        "def graph_from_edges(filename, directed = 0):\n",
        "  \"\"\"\n",
        "  Wczytuje graf z pliku tekstowego, który w każdej linii zawiera opis jednej krawędzi (pary słów),\n",
        "  ewentualnie jednego wierzchołka (pojedyncze słowo). JUako wynik zwraca graf w formie listy sąsiedztwa.\n",
        "  Wartośc filename oznacza pełną ścieżkę dostępu do pliku.\n",
        "  \"\"\"\n",
        "  graph = {}\n",
        "  file = open(filename, \"r\")      # otwarcie pliku do odczytu\n",
        "  for line in file:               # dla każdej linii w pliku\n",
        "    words = line.strip().split()  # rozbijam linię na słowa\n",
        "    if len(words) == 1:           # jedno słowo - wierzchołek\n",
        "      add_vertex(graph, words[0])\n",
        "    elif len(words) >= 2:         # wiecej słów - używam dwóch pierwszych\n",
        "      if directed:\n",
        "        add_arc(graph, (words[0], words[1]))\n",
        "      else:\n",
        "        add_edge(graph, (words[0], words[1]))\n",
        "  file.close()\n",
        "  return graph\n",
        "\n",
        "def graph_to_neighbourlist(graph, filename):\n",
        "  \"\"\"\n",
        "  Zapisuje graf do pliku tekstowego jako listę sąsiedztwa\n",
        "  Wartośc filename oznacza pełną ścieżkę dostępu do pliku.\n",
        "  \"\"\"\n",
        "  file = open(filename, \"w\")    # otwarcie pliku do zapisu\n",
        "  for v in graph:\n",
        "    neigh_list = f\"{v}:\"\n",
        "    for u in graph[v]:\n",
        "      neigh_list = neigh_list + f\" {u}\"  # u na koniec listy sąsiadów\n",
        "    neigh_list = neigh_list + \"\\n\"       # koniec wiersza\n",
        "    file.write(neigh_list)\n",
        "  file.close()"
      ],
      "metadata": {
        "id": "1zKgk2vUfCMb"
      },
      "execution_count": 16,
      "outputs": []
    },
    {
      "cell_type": "markdown",
      "source": [
        "# Przykłady wykorzystania"
      ],
      "metadata": {
        "id": "6qwGWOktWoTt"
      }
    },
    {
      "cell_type": "code",
      "source": [
        "%%writefile lista.txt\n",
        "A B\n",
        "B C\n",
        "B D\n",
        "D C\n",
        "E\n",
        "F\n"
      ],
      "metadata": {
        "id": "liSdghFNiBw3",
        "outputId": "47250e2c-6198-4371-ac05-2af7678f113c",
        "colab": {
          "base_uri": "https://localhost:8080/"
        }
      },
      "execution_count": 7,
      "outputs": [
        {
          "output_type": "stream",
          "name": "stdout",
          "text": [
            "Writing lista.txt\n"
          ]
        }
      ]
    },
    {
      "cell_type": "code",
      "source": [
        "%cat lista.txt"
      ],
      "metadata": {
        "id": "SRv_Hmh4il5p",
        "outputId": "2874975c-4b72-4472-838c-5e21937880a3",
        "colab": {
          "base_uri": "https://localhost:8080/"
        }
      },
      "execution_count": 8,
      "outputs": [
        {
          "output_type": "stream",
          "name": "stdout",
          "text": [
            "A B\n",
            "B C\n",
            "B D\n",
            "D C\n",
            "E\n",
            "F\n"
          ]
        }
      ]
    },
    {
      "cell_type": "code",
      "source": [
        "graph1 = graph_from_edges(\"lista.txt\")\n",
        "print_graph(graph1)"
      ],
      "metadata": {
        "id": "TQ4ZRUsOixTM",
        "outputId": "650b3735-e85d-4779-eb0c-dc86c026327d",
        "colab": {
          "base_uri": "https://localhost:8080/"
        }
      },
      "execution_count": 9,
      "outputs": [
        {
          "output_type": "stream",
          "name": "stdout",
          "text": [
            "A :  B\n",
            "B :  A  C  D\n",
            "C :  B  D\n",
            "D :  B  C\n",
            "E :\n",
            "F :\n"
          ]
        }
      ]
    },
    {
      "cell_type": "code",
      "source": [
        "add_edge(graph1, (\"A\", \"E\"))\n",
        "add_edge(graph1, (\"E\", \"F\"))\n",
        "add_vertex(graph1, \"G\")\n",
        "graph_to_neighbourlist(graph1, \"graf1.txt\")"
      ],
      "metadata": {
        "id": "zJSgq4o8jKZD"
      },
      "execution_count": 17,
      "outputs": []
    }
  ]
}