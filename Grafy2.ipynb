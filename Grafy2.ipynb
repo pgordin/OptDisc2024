{
  "nbformat": 4,
  "nbformat_minor": 0,
  "metadata": {
    "colab": {
      "provenance": [],
      "authorship_tag": "ABX9TyMFmmr9CWoE0naEHQzS9Cgs",
      "include_colab_link": true
    },
    "kernelspec": {
      "name": "python3",
      "display_name": "Python 3"
    },
    "language_info": {
      "name": "python"
    }
  },
  "cells": [
    {
      "cell_type": "markdown",
      "metadata": {
        "id": "view-in-github",
        "colab_type": "text"
      },
      "source": [
        "<a href=\"https://colab.research.google.com/github/pgordin/OptDisc2024/blob/main/Grafy2.ipynb\" target=\"_parent\"><img src=\"https://colab.research.google.com/assets/colab-badge.svg\" alt=\"Open In Colab\"/></a>"
      ]
    },
    {
      "cell_type": "markdown",
      "source": [
        "Importowanie pakietów"
      ],
      "metadata": {
        "id": "mV3Veyz6WUru"
      }
    },
    {
      "cell_type": "code",
      "execution_count": null,
      "metadata": {
        "id": "PdoO2FOoWSnm"
      },
      "outputs": [],
      "source": [
        "import numpy as np\n",
        "from random import random, seed"
      ]
    },
    {
      "cell_type": "markdown",
      "source": [
        "# Funkcje grafowe"
      ],
      "metadata": {
        "id": "Te-xjnHTWTfN"
      }
    },
    {
      "cell_type": "code",
      "source": [
        "def print_matrix(vertices, matrix):\n",
        "  \"\"\"\n",
        "  Wypisuje na ekranie graf podany jako macierz sąsiedztwa\n",
        "  \"\"\"\n",
        "  n = len(matrix)\n",
        "  if (vertices is not None) and (len(vertices)==n):\n",
        "    vv = vertices\n",
        "  else:\n",
        "    vv = range(1, n+1)\n",
        "  for i in range(n):\n",
        "    print(vv[i], \":\", end=\"\")\n",
        "    for j in range(n):\n",
        "      if matrix[i, j]:\n",
        "        print(\" \", vv[j], end=\"\")\n",
        "    print(\"\")"
      ],
      "metadata": {
        "id": "mNb9hmEoWnfV"
      },
      "execution_count": null,
      "outputs": []
    },
    {
      "cell_type": "code",
      "source": [
        "def print_graph(graph):\n",
        "  \"\"\"\n",
        "   Wypisuje na ekranie graf podany jako lista sąsiedztwa (słownik pythona)\n",
        "  \"\"\"\n",
        "  for v in graph:\n",
        "    print(v, \":\", end=\"\")\n",
        "    for u in graph[v]:\n",
        "      print(\" \", u, end=\"\")\n",
        "    print(\"\")"
      ],
      "metadata": {
        "id": "tvo-hvFAbg77"
      },
      "execution_count": null,
      "outputs": []
    },
    {
      "cell_type": "markdown",
      "source": [
        "## Tworzenie i modyfikacje grafów"
      ],
      "metadata": {
        "id": "JW2sNY4pc_F4"
      }
    },
    {
      "cell_type": "code",
      "source": [
        "def add_vertex(graph, vertex):\n",
        "  \"\"\"\n",
        "  Nowy wierzchołek do istniejącego grafu\n",
        "  \"\"\"\n",
        "  if vertex not in graph:\n",
        "    graph[vertex] = []\n",
        "\n",
        "def add_arc(graph, arc):\n",
        "  \"\"\"\n",
        "  Dodaje nowy łuk (podany jako para wierzchołków) do istniejącego grafu\n",
        "  Rozważamy grafy proste, skierowane\n",
        "  \"\"\"\n",
        "  u, v = arc\n",
        "  add_vertex(graph, u)\n",
        "  add_vertex(graph, v)\n",
        "  if v not in graph[u]:\n",
        "    graph[u].append(v)\n",
        "\n",
        "def add_edge(graph, edge):\n",
        "  \"\"\"\n",
        "  Dodaje nową krawędź (podaną jako para wierzchołków) do istniejącego grafu\n",
        "  traktując graf nieskierowany jako prosty graf skierowany, symetryczni i bez pętli\n",
        "  \"\"\"\n",
        "  u, v = edge\n",
        "  add_vertex(graph, u)\n",
        "  add_vertex(graph, v)\n",
        "  if u == v:\n",
        "    raise ValueError(\"Pętla!\")\n",
        "  if v not in graph[u]:\n",
        "    graph[u].append(v)\n",
        "  if u not in graph[v]:\n",
        "    graph[v].append(u)\n"
      ],
      "metadata": {
        "id": "BNo-rLdtdDt2"
      },
      "execution_count": null,
      "outputs": []
    },
    {
      "cell_type": "markdown",
      "source": [
        "# Przykłady wykorzystania"
      ],
      "metadata": {
        "id": "6qwGWOktWoTt"
      }
    },
    {
      "cell_type": "code",
      "source": [
        "vertices = [\"a\", \"b\", \"c\", \"d\", \"e\", \"f\"]\n",
        "matrix = np.array([[0,1,1,0,0,0],[1,0,0,1,1,0],[1,0,0,0,0,1],[0,1,0,0,0,1],[0,1,0,0,0,0],[0,0,1,1,0,0]])\n",
        "print(vertices)\n",
        "print(matrix)\n",
        "print(\"-------------------------\")\n",
        "print_matrix(vertices, matrix)\n",
        "print(\"-------------------------\")\n",
        "print_matrix(None, matrix)\n"
      ],
      "metadata": {
        "colab": {
          "base_uri": "https://localhost:8080/"
        },
        "id": "ycKySuBlWq3T",
        "outputId": "6f10b3c1-9047-4d29-a1fb-d8f124ce8f6e"
      },
      "execution_count": null,
      "outputs": [
        {
          "output_type": "stream",
          "name": "stdout",
          "text": [
            "['a', 'b', 'c', 'd', 'e', 'f']\n",
            "[[0 1 1 0 0 0]\n",
            " [1 0 0 1 1 0]\n",
            " [1 0 0 0 0 1]\n",
            " [0 1 0 0 0 1]\n",
            " [0 1 0 0 0 0]\n",
            " [0 0 1 1 0 0]]\n",
            "-------------------------\n",
            "a :  b  c\n",
            "b :  a  d  e\n",
            "c :  a  f\n",
            "d :  b  f\n",
            "e :  b\n",
            "f :  c  d\n",
            "-------------------------\n",
            "1 :  2  3\n",
            "2 :  1  4  5\n",
            "3 :  1  6\n",
            "4 :  2  6\n",
            "5 :  2\n",
            "6 :  3  4\n"
          ]
        }
      ]
    },
    {
      "cell_type": "markdown",
      "source": [
        "Druga reprezentacja"
      ],
      "metadata": {
        "id": "uI06acHOaipf"
      }
    },
    {
      "cell_type": "code",
      "source": [
        "graph = {\n",
        "  'a' : ['b',  'c'],\n",
        "  'b' : ['a', 'd', 'e'],\n",
        "  'c' : ['a', 'f'],\n",
        "  'd' : ['b', 'f'],\n",
        "  'e' : ['b'],\n",
        "  'f' : ['c', 'd'],\n",
        "  'g' : []\n",
        "}\n",
        "print(graph)\n",
        "print(\"--------------------\")\n",
        "print_graph(graph)"
      ],
      "metadata": {
        "colab": {
          "base_uri": "https://localhost:8080/"
        },
        "id": "akoW_skxakj1",
        "outputId": "f0147e38-51f6-4364-af98-3a281ae24258"
      },
      "execution_count": null,
      "outputs": [
        {
          "output_type": "stream",
          "name": "stdout",
          "text": [
            "{'a': ['b', 'c'], 'b': ['a', 'd', 'e'], 'c': ['a', 'f'], 'd': ['b', 'f'], 'e': ['b'], 'f': ['c', 'd'], 'g': []}\n",
            "--------------------\n",
            "a :  b  c\n",
            "b :  a  d  e\n",
            "c :  a  f\n",
            "d :  b  f\n",
            "e :  b\n",
            "f :  c  d\n",
            "g :\n"
          ]
        }
      ]
    },
    {
      "cell_type": "code",
      "source": [
        "add_vertex(graph, \"h\")\n",
        "print_graph(graph)"
      ],
      "metadata": {
        "colab": {
          "base_uri": "https://localhost:8080/"
        },
        "id": "Vl1yqCOsdaRs",
        "outputId": "bab50028-67c8-4bda-c74e-22553b7e3262"
      },
      "execution_count": null,
      "outputs": [
        {
          "output_type": "stream",
          "name": "stdout",
          "text": [
            "a :  b  c\n",
            "b :  a  d  e\n",
            "c :  a  f\n",
            "d :  b  f\n",
            "e :  b\n",
            "f :  c  d\n",
            "g :\n",
            "h :\n"
          ]
        }
      ]
    },
    {
      "cell_type": "code",
      "source": [
        "add_arc(graph, [\"g\", \"h\"])\n",
        "print_graph(graph)"
      ],
      "metadata": {
        "colab": {
          "base_uri": "https://localhost:8080/"
        },
        "id": "evzg0eRPenU0",
        "outputId": "4dce115b-a6c3-465f-ae70-29ae3d165e05"
      },
      "execution_count": null,
      "outputs": [
        {
          "output_type": "stream",
          "name": "stdout",
          "text": [
            "a :  b  c\n",
            "b :  a  d  e\n",
            "c :  a  f\n",
            "d :  b  f\n",
            "e :  b\n",
            "f :  c  d\n",
            "g :  h\n",
            "h :\n"
          ]
        }
      ]
    },
    {
      "cell_type": "code",
      "source": [
        "add_edge(graph, [\"g\", \"h\"])\n",
        "print_graph(graph)"
      ],
      "metadata": {
        "colab": {
          "base_uri": "https://localhost:8080/"
        },
        "id": "zqZEntvsgKM6",
        "outputId": "37406422-a350-4fba-ba5b-d5e318b1e240"
      },
      "execution_count": null,
      "outputs": [
        {
          "output_type": "stream",
          "name": "stdout",
          "text": [
            "a :  b  c\n",
            "b :  a  d  e\n",
            "c :  a  f\n",
            "d :  b  f\n",
            "e :  b\n",
            "f :  c  d\n",
            "g :  h\n",
            "h :  g\n"
          ]
        }
      ]
    },
    {
      "cell_type": "code",
      "source": [
        "add_edge(graph, [\"g\", \"g\"])"
      ],
      "metadata": {
        "colab": {
          "base_uri": "https://localhost:8080/",
          "height": 263
        },
        "id": "F169Nc1ggRvv",
        "outputId": "f1e0ac26-9402-4c60-ca58-7f101ded7b5f"
      },
      "execution_count": null,
      "outputs": [
        {
          "output_type": "error",
          "ename": "ValueError",
          "evalue": "Pętla!",
          "traceback": [
            "\u001b[0;31m---------------------------------------------------------------------------\u001b[0m",
            "\u001b[0;31mValueError\u001b[0m                                Traceback (most recent call last)",
            "\u001b[0;32m<ipython-input-17-f538301608a4>\u001b[0m in \u001b[0;36m<cell line: 1>\u001b[0;34m()\u001b[0m\n\u001b[0;32m----> 1\u001b[0;31m \u001b[0madd_edge\u001b[0m\u001b[0;34m(\u001b[0m\u001b[0mgraph\u001b[0m\u001b[0;34m,\u001b[0m \u001b[0;34m[\u001b[0m\u001b[0;34m\"g\"\u001b[0m\u001b[0;34m,\u001b[0m \u001b[0;34m\"g\"\u001b[0m\u001b[0;34m]\u001b[0m\u001b[0;34m)\u001b[0m\u001b[0;34m\u001b[0m\u001b[0;34m\u001b[0m\u001b[0m\n\u001b[0m",
            "\u001b[0;32m<ipython-input-15-bca56f81ac03>\u001b[0m in \u001b[0;36madd_edge\u001b[0;34m(graph, edge)\u001b[0m\n\u001b[1;32m     26\u001b[0m   \u001b[0madd_vertex\u001b[0m\u001b[0;34m(\u001b[0m\u001b[0mgraph\u001b[0m\u001b[0;34m,\u001b[0m \u001b[0mv\u001b[0m\u001b[0;34m)\u001b[0m\u001b[0;34m\u001b[0m\u001b[0;34m\u001b[0m\u001b[0m\n\u001b[1;32m     27\u001b[0m   \u001b[0;32mif\u001b[0m \u001b[0mu\u001b[0m \u001b[0;34m==\u001b[0m \u001b[0mv\u001b[0m\u001b[0;34m:\u001b[0m\u001b[0;34m\u001b[0m\u001b[0;34m\u001b[0m\u001b[0m\n\u001b[0;32m---> 28\u001b[0;31m     \u001b[0;32mraise\u001b[0m \u001b[0mValueError\u001b[0m\u001b[0;34m(\u001b[0m\u001b[0;34m\"Pętla!\"\u001b[0m\u001b[0;34m)\u001b[0m\u001b[0;34m\u001b[0m\u001b[0;34m\u001b[0m\u001b[0m\n\u001b[0m\u001b[1;32m     29\u001b[0m   \u001b[0;32mif\u001b[0m \u001b[0mv\u001b[0m \u001b[0;32mnot\u001b[0m \u001b[0;32min\u001b[0m \u001b[0mgraph\u001b[0m\u001b[0;34m[\u001b[0m\u001b[0mu\u001b[0m\u001b[0;34m]\u001b[0m\u001b[0;34m:\u001b[0m\u001b[0;34m\u001b[0m\u001b[0;34m\u001b[0m\u001b[0m\n\u001b[1;32m     30\u001b[0m     \u001b[0mgraph\u001b[0m\u001b[0;34m[\u001b[0m\u001b[0mu\u001b[0m\u001b[0;34m]\u001b[0m\u001b[0;34m.\u001b[0m\u001b[0mappend\u001b[0m\u001b[0;34m(\u001b[0m\u001b[0mv\u001b[0m\u001b[0;34m)\u001b[0m\u001b[0;34m\u001b[0m\u001b[0;34m\u001b[0m\u001b[0m\n",
            "\u001b[0;31mValueError\u001b[0m: Pętla!"
          ]
        }
      ]
    },
    {
      "cell_type": "code",
      "source": [
        "add_edge(graph, [\"h\", \"f\"])\n",
        "add_edge(graph, [\"h\", \"i\"])\n",
        "print_graph(graph)"
      ],
      "metadata": {
        "colab": {
          "base_uri": "https://localhost:8080/"
        },
        "id": "Uffueq3JgdAD",
        "outputId": "2ac15bdd-e233-4534-eb8b-242a3cfaf3d7"
      },
      "execution_count": null,
      "outputs": [
        {
          "output_type": "stream",
          "name": "stdout",
          "text": [
            "a :  b  c\n",
            "b :  a  d  e\n",
            "c :  a  f\n",
            "d :  b  f\n",
            "e :  b\n",
            "f :  c  d  h\n",
            "g :  h\n",
            "h :  g  f  i\n",
            "i :  h\n"
          ]
        }
      ]
    },
    {
      "cell_type": "markdown",
      "source": [
        "## Tworzenie grafów losowych $G(n, p)$"
      ],
      "metadata": {
        "id": "WbJo5FC7hl_Y"
      }
    },
    {
      "cell_type": "code",
      "source": [
        "# dla powtarzalności\n",
        "seed(2024)"
      ],
      "metadata": {
        "id": "f-GPwk_yhoPn"
      },
      "execution_count": null,
      "outputs": []
    },
    {
      "cell_type": "code",
      "source": [
        "#losuje graf G(10, 1/3)\n",
        "n = 10\n",
        "p = 1/3\n",
        "random_graph = {}\n",
        "for i in range(1, n+1):\n",
        "  add_vertex(random_graph, i)\n",
        "  for j in range(1, i):\n",
        "    if random() < p:\n",
        "      add_edge(random_graph, [i, j])\n",
        "\n",
        "print_graph(random_graph)"
      ],
      "metadata": {
        "colab": {
          "base_uri": "https://localhost:8080/"
        },
        "id": "asBfe5ZTihAY",
        "outputId": "472e5d24-2438-4bab-84c9-6e5f9a2997d9"
      },
      "execution_count": null,
      "outputs": [
        {
          "output_type": "stream",
          "name": "stdout",
          "text": [
            "1 :  5  10\n",
            "2 :  3  5  9  10\n",
            "3 :  2  8\n",
            "4 :  6  7  8  10\n",
            "5 :  1  2  10\n",
            "6 :  4  8  10\n",
            "7 :  4  9  10\n",
            "8 :  3  4  6\n",
            "9 :  2  7\n",
            "10 :  1  2  4  5  6  7\n"
          ]
        }
      ]
    }
  ]
}