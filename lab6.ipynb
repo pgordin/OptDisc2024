{
 "cells": [
  {
   "cell_type": "markdown",
   "metadata": {
    "colab_type": "text",
    "id": "view-in-github"
   },
   "source": [
    "<a href=\"https://colab.research.google.com/github/pgordin/OptDisc2024/blob/main/Grafy4_class.ipynb\" target=\"_parent\"><img src=\"https://colab.research.google.com/assets/colab-badge.svg\" alt=\"Open In Colab\"/></a>"
   ]
  },
  {
   "cell_type": "code",
   "execution_count": 1,
   "metadata": {
    "id": "vWgeTyk5qbAu"
   },
   "outputs": [],
   "source": [
    "import numpy as np\n",
    "from random import random\n",
    "from copy import deepcopy"
   ]
  },
  {
   "cell_type": "code",
   "execution_count": 2,
   "metadata": {},
   "outputs": [],
   "source": [
    "class Graph:\n",
    "    def __init__(self, graph=None):\n",
    "        if graph is None:\n",
    "            graph = {}\n",
    "        self.graph = graph\n",
    "        self.weighted=False\n",
    "\n",
    "    # dict initializer\n",
    "    @classmethod\n",
    "    def from_dict(cls, graph):\n",
    "        return cls(graph)\n",
    "\n",
    "    # array initializer\n",
    "    @classmethod\n",
    "    def from_array(cls, graph: np.array, nodes: list = None):\n",
    "        if nodes is None:\n",
    "            nodes = [*range(1, len(graph) + 1)]\n",
    "        return cls.from_dict(\n",
    "            cls._array_to_dict(graph, nodes)\n",
    "        )\n",
    "\n",
    "    @staticmethod\n",
    "    def from_edges(filename: str, directed = 0):\n",
    "        \"\"\"\n",
    "        Generates a graphs from a text file, where each line defines one edge.\\n\n",
    "        Filename is a file path.\n",
    "        \"\"\"\n",
    "        graph = Graph()\n",
    "        file = open(filename, \"r\")\n",
    "        for line in file:\n",
    "            words = line.strip().split()\n",
    "            if len(words) == 1:\n",
    "                graph.add_node(words[0])\n",
    "            elif len(words) > 1: # more than two words -- we use first two\n",
    "                if directed:\n",
    "                    graph.add_arc([words[0], words[1]])\n",
    "                else:\n",
    "                    graph.add_edge([words[0], words[1]])\n",
    "        file.close()\n",
    "        return graph\n",
    "\n",
    "    @staticmethod\n",
    "    def random_graph(nodes_num: int, prob: float):\n",
    "        \"\"\"\n",
    "        Generates a random graph provided a number of nodes and probability of generating an edge.\n",
    "        \"\"\"\n",
    "        rand_graph = Graph()\n",
    "        for i in range(1, nodes_num + 1):\n",
    "            rand_graph.add_node(i)\n",
    "            for j in range(1, i):\n",
    "                if random() < prob:\n",
    "                    rand_graph.add_edge([i, j])\n",
    "        return rand_graph\n",
    "\n",
    "    @staticmethod\n",
    "    def cycle(nodes_num: int):\n",
    "        \"\"\"\n",
    "        Generates a cycle provided a number of nodes.\n",
    "        \"\"\"\n",
    "        cycle = Graph()\n",
    "        nodes = [*range(1, nodes_num + 1)]\n",
    "        for i in nodes:\n",
    "            cycle.add_edge([nodes[i-2], nodes[i-1]])\n",
    "        cycle.graph = dict(sorted(cycle.graph.items()))\n",
    "        return cycle\n",
    "\n",
    "    def to_neighbourlist(self, filename: str):\n",
    "        \"\"\"\n",
    "        Saves a graphs to a text file as a neighbour dict.\\n\n",
    "        Filename is a file path.\n",
    "        \"\"\"\n",
    "        file = open(filename, \"w\")\n",
    "        file.write(str(self))\n",
    "        file.close()\n",
    "\n",
    "    def nodes(self) -> list:\n",
    "        \"\"\"\n",
    "        Returns list of nodes of a graph.\n",
    "        \"\"\"\n",
    "        return [*self.graph.keys()]\n",
    "\n",
    "    def array(self) -> np.array:\n",
    "        \"\"\"\n",
    "        Returns the graph in array form.\n",
    "        \"\"\"\n",
    "        return self._dict_to_array(self.graph)\n",
    "\n",
    "    # redefinition of print for objects of class Graph\n",
    "    def __str__(self):\n",
    "        res = \"\"\n",
    "        for v in self.graph:\n",
    "            res += f\"{v}:\"\n",
    "            for u in self.graph[v]:\n",
    "                res += f\" {u}\"\n",
    "            res += \"\\n\"\n",
    "        return res\n",
    "\n",
    "    def add_node(self, node):\n",
    "        \"\"\"\n",
    "        Adds a node to a graph.\n",
    "        \"\"\"\n",
    "        if node not in self.graph:\n",
    "            self.graph[node] = []\n",
    "\n",
    "    def del_node(self, node):\n",
    "        \"\"\"\n",
    "        Recursively removes a node from a graph.\n",
    "        \"\"\"\n",
    "        if node in self.graph:\n",
    "            self.graph.pop(node)\n",
    "            for key in [*self.graph.keys()]:\n",
    "                if node in self.graph[key]:\n",
    "                    self.graph[key].remove(node)\n",
    "\n",
    "    def add_arc(self, arc: list):\n",
    "        \"\"\"\n",
    "        Adds arc to a graph provided a list of nodes.\n",
    "        \"\"\"\n",
    "        u, v = arc\n",
    "        self.add_node(u)\n",
    "        self.add_node(v)\n",
    "        if v not in self.graph[u]:\n",
    "            self.graph[u].append(v)\n",
    "\n",
    "    def add_edge(self, edge: list):\n",
    "        \"\"\"\n",
    "        Adds edge to a graph provided a list of nodes.\n",
    "        \"\"\"\n",
    "        u, v = edge\n",
    "        if u == v:\n",
    "            raise ValueError(\"Pętla!\")\n",
    "        self.add_node(u)\n",
    "        self.add_node(v)\n",
    "        if v not in self.graph[u]:\n",
    "            self.graph[u].append(v)\n",
    "        if u not in self.graph[v]:\n",
    "            self.graph[v].append(u)\n",
    "\n",
    "    def _array_to_dict(arr: np.array, nodes: list) -> dict:\n",
    "        \"\"\"\n",
    "        Converts a graph in array form to a graph in dict form.\n",
    "        \"\"\"\n",
    "        res_dict = {}\n",
    "        for i, node in enumerate(nodes):\n",
    "            neighbours = [nodes[j] for j, edge in enumerate(arr[i]) if edge]\n",
    "            res_dict[node] = neighbours\n",
    "        return res_dict\n",
    "\n",
    "    def _dict_to_array(self, _dict: dict) -> np.array:\n",
    "        \"\"\"\n",
    "        Converts a graph in dict form to a graph in array form.\n",
    "        \"\"\"\n",
    "        n = len(_dict)\n",
    "        nodes = [*_dict.keys()]\n",
    "        res_arr = np.zeros(shape = (n, n), dtype=int)\n",
    "        for u,v in [\n",
    "            (nodes.index(u), nodes.index(v))\n",
    "            for u, row in _dict.items() for v in row\n",
    "        ]:\n",
    "            res_arr[u][v] += 1\n",
    "        return res_arr\n",
    "\n",
    "    def Prufer(self):\n",
    "      \"\"\"\n",
    "      Kod Prufera drzewa - zwrócony jako napis\n",
    "      Wymagane, aby graf był drzewem.\n",
    "      Zwraca pusty napis dla drzew o mniej niż 3 wierzchołkach.\n",
    "      \"\"\"\n",
    "      tr = deepcopy(self.graph)   # będziemy psuć graf\n",
    "      code = \"\"\n",
    "      for i in range(len(self.graph) - 2):\n",
    "        for x in sorted(tr):    # po kolei przeglądam nieusunięte wierzchołki\n",
    "          if len(tr[x]) == 1:   # najmniejszy liść\n",
    "            break\n",
    "        v = tr[x][0]  # sąsiad najmniejszego x\n",
    "        code = code + f\"{v} \"\n",
    "        tr[v].remove(x)   # usuwam x z listy sąsiadów v\n",
    "        tr.pop(x)         # usuwam x z drzewa\n",
    "      return code.strip()\n",
    "\n",
    "    @staticmethod\n",
    "    def tree_from_Prufer(code: str):\n",
    "        \"\"\"\n",
    "        Tworzy drzewo na podstawie kodu Prufera.\n",
    "        \"\"\"\n",
    "        tree = Graph()\n",
    "        clist = [int(x) for x in code.strip().split()]   # kod zamieniamy na listę liczb\n",
    "        n = len(clist) + 2    # liczba wierzchołków\n",
    "        vert = [v for v in range(1, n+1)]  # lista liczb od 1 do n\n",
    "        for v in vert:\n",
    "          tree.add_node(v)\n",
    "        for i in range(n-2):\n",
    "          for x in vert:\n",
    "            if not x in clist:    # najmniejszy liść\n",
    "              break\n",
    "          v = clist.pop(0)    # usuwam pierwszy element listy (sąsiad x)\n",
    "          tree.add_edge((x, v))\n",
    "          vert.remove(x)\n",
    "        tree.add_edge(vert)\n",
    "        return tree\n",
    "\n",
    "    def ConnectedComponents(self):\n",
    "      \"\"\"\n",
    "      Znajduje spójne składowe w grafie nieskierowanym\n",
    "      Jako wynik zwraca listę zbiorów wierzchołków\n",
    "      Uwaga: jako pierwszy element listy uzyskamy zbiór wszystkich wierzchołków grafu\n",
    "      \"\"\"\n",
    "      def DFS(u):\n",
    "        \"\"\"\n",
    "        Przeszukiwanie w głąb\n",
    "        \"\"\"\n",
    "        for w in self.graph[u]:\n",
    "          if not w in VT[0]:  # w jeszcze nie odwiedzony\n",
    "            VT[0].add(w)      # już odwiedzony\n",
    "            VT[-1].add(w)     # w ostatniej spójnej składowej\n",
    "            DFS(w)\n",
    "      \"\"\"\n",
    "      VT - lista zbiorów VT[i] dla i > 0 - lista wierzchołków spójnych składowych\n",
    "      dla i = 0 - lista wszystkich odwiedzonych wierzchołków\n",
    "      \"\"\"\n",
    "      VT = [set([])]\n",
    "      for v in self.graph:\n",
    "        if v not in VT[0]:\n",
    "          VT[0].add(v)\n",
    "          VT.append(set([v]))   # zaczątek nowej spójnej składowej\n",
    "          DFS(v)\n",
    "      return VT\n",
    "\n",
    "    def Connected_components_graphs(self):\n",
    "      \"\"\"\n",
    "      Spójne składowe jako grafy\n",
    "      \"\"\"\n",
    "      VT=self.ConnectedComponents()\n",
    "      noCc=len(VT)-1  #liczba spojnych skladowych\n",
    "      graphs=[]  #lista do przechowywania grafow reprezentujacych spojne skladowe\n",
    "      for i in range(noCc):  #iterujemy przez wszystkie spojne skladowe\n",
    "          graph_i={}    #dla każdej spójnej składowej tworzymy nowy graf graph_i, który jest podgrafem oryginalnego grafu,\n",
    "          for v in VT[i+1]:     #zawierającym tylko wierzchołki z bieżącej spójnej składowej\n",
    "              graph_i[v]=self.graph[v].copy()\n",
    "          graphs.append(Graph.from_dict(graph_i))  #dodajemy stworzone grafy do listy\n",
    "      return graphs\n",
    "\n",
    "    def Distance(self, v):\n",
    "      \"\"\"\n",
    "      Znajduje i zwraca jako wektor słownik odległości od wierzchołka v\n",
    "      do wierzchołków w tej samej spójnej składowej co v\n",
    "      \"\"\"\n",
    "      dist = {v:0} # zalążek słownika odległości\n",
    "      kolejka = [v]\n",
    "      while len(kolejka) > 0:\n",
    "        u = kolejka.pop(0)\n",
    "        for w in self.graph[u]:\n",
    "          if not w in dist:\n",
    "            dist[w] = dist[u] + 1\n",
    "            kolejka.append(w)\n",
    "      return dist\n",
    "\n",
    "    def GDFS(self, order=None):\n",
    "        '''\n",
    "        Uogólnione przechodzenie grafów skierowanych w głąb.\n",
    "        Zwraca dwa słowniki (visited, processed)\n",
    "        order - porządek wierzchołków (opcjonalny)\n",
    "        '''\n",
    "        \n",
    "        def DFS(u):\n",
    "            \"\"\"\n",
    "            wewnętrzna - przeszukiwanie w głąb\n",
    "            \"\"\"\n",
    "            visited[u] = len(visited)+1\n",
    "            for w in self.graph[u]:\n",
    "                  if not w in visited:  # w jeszcze nie odwiedzony\n",
    "                    DFS(w)\n",
    "            processed[u]=len(visited)\n",
    "            \n",
    "        if order is None:\n",
    "            vertices=self.graph.keys()\n",
    "        else:\n",
    "            vertices=order\n",
    "        visited={}\n",
    "        processed={}\n",
    "        for v in vertices:\n",
    "            if not v in visited:\n",
    "                DFS(v)\n",
    "        return visited, processed"
   ]
  },
  {
   "cell_type": "markdown",
   "metadata": {
    "id": "FkUyth0KqbAz"
   },
   "source": [
    "# Przykłady wykorzystania"
   ]
  },
  {
   "cell_type": "code",
   "execution_count": 105,
   "metadata": {
    "colab": {
     "base_uri": "https://localhost:8080/"
    },
    "id": "0_XatYQtj3w1",
    "outputId": "cfd3b60e-4dbd-4822-b1c1-c6043359e70f"
   },
   "outputs": [
    {
     "name": "stdout",
     "output_type": "stream",
     "text": [
      "1:\n",
      "2: 4\n",
      "3:\n",
      "4: 2\n",
      "5: 9 10\n",
      "6:\n",
      "7:\n",
      "8:\n",
      "9: 5\n",
      "10: 5\n",
      "\n",
      "---------------------------\n",
      "[{1, 2, 3, 4, 5, 6, 7, 8, 9, 10}, {1}, {2, 4}, {3}, {9, 10, 5}, {6}, {7}, {8}]\n"
     ]
    }
   ],
   "source": [
    "graph = Graph.random_graph(10, 1/5)\n",
    "print(graph)\n",
    "print(\"---------------------------\")\n",
    "print(graph.ConnectedComponents())\n"
   ]
  },
  {
   "cell_type": "code",
   "execution_count": 106,
   "metadata": {
    "colab": {
     "base_uri": "https://localhost:8080/"
    },
    "id": "1izOx7oBftAs",
    "outputId": "8c6506e1-949b-4270-ae00-4eb3c280cd67"
   },
   "outputs": [
    {
     "name": "stdout",
     "output_type": "stream",
     "text": [
      "{1: 0}\n"
     ]
    }
   ],
   "source": [
    "odl = graph.Distance(1)\n",
    "print(odl)"
   ]
  },
  {
   "cell_type": "markdown",
   "metadata": {
    "id": "OOS6ICt1hQY8"
   },
   "source": [
    "# Small world phenomenon - eksperyment Millgrama (1967)\n",
    "\n",
    "Użyjemy grafu $G(n,p)$ (dokładnie $G(2000, 1/300)$) jako ilustrację zjawiska"
   ]
  },
  {
   "cell_type": "code",
   "execution_count": 3,
   "metadata": {
    "colab": {
     "base_uri": "https://localhost:8080/"
    },
    "id": "YXlc5ddLhXHr",
    "outputId": "8a1903bf-cf09-4d20-8de6-5e126511a199"
   },
   "outputs": [
    {
     "name": "stdout",
     "output_type": "stream",
     "text": [
      "2000\n"
     ]
    }
   ],
   "source": [
    "import sys\n",
    "\n",
    "n = 2000\n",
    "p = 1/300\n",
    "sys.setrecursionlimit(n+5)\n",
    "\n",
    "rgraph = Graph.random_graph(n, p)\n",
    "lista = rgraph.Connected_components_graphs()\n",
    "graph = lista[0]\n",
    "print(len(graph.graph))\n"
   ]
  },
  {
   "cell_type": "code",
   "execution_count": 10,
   "metadata": {
    "colab": {
     "base_uri": "https://localhost:8080/"
    },
    "id": "4T_Ri01hi7qx",
    "outputId": "1bc8c2ab-7d78-46b3-981c-038b1b530d63"
   },
   "outputs": [
    {
     "name": "stdout",
     "output_type": "stream",
     "text": [
      "Promień: 6  Średnica: 8  Średnio:  4.2061085000000045\n",
      "Czas wykonania: 2.9260246753692627\n"
     ]
    }
   ],
   "source": [
    "import time\n",
    "\n",
    "start_time = time.time()\n",
    "md = {}\n",
    "ecc = {}\n",
    "for v in graph.graph:\n",
    "  dist = graph.Distance(v)\n",
    "  ecc[v] = max(dist.values())\n",
    "  md[v] = sum(dist.values())/len(dist.values())\n",
    "print(\"Promień:\", min(ecc.values()), \" Średnica:\", max(ecc.values()), \" Średnio: \", sum(md.values())/len(md.values()))\n",
    "\n",
    "end_time = time.time()\n",
    "execution_time = end_time - start_time\n",
    "print(\"Czas wykonania:\", execution_time)"
   ]
  },
  {
   "cell_type": "markdown",
   "metadata": {},
   "source": [
    "# Zadania\n",
    "### Zadanie 1\n",
    "Przy dużej liczbie wierzchołków przeszukiwanie w głąb natrafia na problem głębokości rekursji. Dorobić funkcję ConnectedComponentsBFS, która wykorzysta przeszukiwanie wszerz do wyznaczenia silnie spójnych składowych. Alternatywnie można spróbować napisać przeszukiwanie w głąb bez użycia wywołań rekursywnych"
   ]
  },
  {
   "cell_type": "code",
   "execution_count": 4,
   "metadata": {},
   "outputs": [],
   "source": [
    "from collections import deque\n",
    "\n",
    "def ConnectedComponentsBFS(graph):\n",
    "    \"\"\"\n",
    "    Znajduje spójne składowe w grafie nieskierowanym jako wynik zwraca listę zbiorów wierzchołków\n",
    "    \"\"\"\n",
    "    def BFS(v, visited, component):\n",
    "        \"\"\"\n",
    "        Przeszukiwanie wszerz\n",
    "        \"\"\"\n",
    "        queue = deque([v])     # dodajemy v do kolejki\n",
    "        visited.add(v)         # oznaczamy v jako odwiedzony\n",
    "\n",
    "        while queue:\n",
    "            u = queue.popleft()    # oznaczamy pierwszy element z kolejki jako u\n",
    "            component.add(u)       # dodajemy u do spójnej składowej\n",
    "            for neighbor in graph.graph[u]:     # dla każdego sąsiada u\n",
    "                if neighbor not in visited:     # jeśli sąsiad nie został odwiedzony to:\n",
    "                    visited.add(neighbor)         # oznaczamy go jako odwiedzony\n",
    "                    queue.append(neighbor)        # dodajemy go n koniec kolejki\n",
    "\n",
    "    visited = set()   # na początku mamy pusty zbiór odwiedzonych wierzchołków\n",
    "    components = []   # nie mamy jeszcze żadnych spójnych składowych\n",
    "\n",
    "    for vert in graph.graph:                # dla każdego wierzchołka w grafie\n",
    "        if vert not in visited:             # jeśli nie był on jeszcze odwiedzony\n",
    "            component = set()                  # tworzymy nową spójną składową\n",
    "            BFS(vert, visited, component)      # stosujemy dla tego wierzchołka procedurę BFS\n",
    "            components.append(component)       # dodajemy spójną składową do wyniku\n",
    "    return components\n"
   ]
  },
  {
   "cell_type": "code",
   "execution_count": 110,
   "metadata": {},
   "outputs": [
    {
     "name": "stdout",
     "output_type": "stream",
     "text": [
      "1: 4 8 10\n",
      "2: 6 7 8\n",
      "3: 5 8\n",
      "4: 1 5 7 9\n",
      "5: 3 4\n",
      "6: 2\n",
      "7: 2 4\n",
      "8: 1 2 3 9 10\n",
      "9: 4 8\n",
      "10: 1 8\n",
      "\n"
     ]
    }
   ],
   "source": [
    "graph1 = Graph.random_graph(10, 1/5)\n",
    "print(graph1)"
   ]
  },
  {
   "cell_type": "code",
   "execution_count": 111,
   "metadata": {},
   "outputs": [
    {
     "data": {
      "text/plain": [
       "[{1, 2, 3, 4, 5, 6, 7, 8, 9, 10}]"
      ]
     },
     "execution_count": 111,
     "metadata": {},
     "output_type": "execute_result"
    }
   ],
   "source": [
    "ConnectedComponentsBFS(graph1)"
   ]
  },
  {
   "cell_type": "markdown",
   "metadata": {},
   "source": [
    "### Zadanie 2\n",
    "Przedstawiony na zajęciach przykład (symulacja grafu małego świata można wykonać efektywniej z użyciem algorytmu Floyda-Warshala (do najkrótszych ścieżek). Sprawdzić na ile szybszy jest ten sposób jego realizacji."
   ]
  },
  {
   "cell_type": "code",
   "execution_count": 5,
   "metadata": {},
   "outputs": [],
   "source": [
    "def floyd_warshall(W):\n",
    "    '''\n",
    "    Algorytm Floyda-Warshalla.\n",
    "    '''\n",
    "    D = deepcopy(W)\n",
    "    n = len(D)\n",
    "    \n",
    "    for k in range(n):\n",
    "        for i in range(n):\n",
    "            for j in range(n):\n",
    "                D[i][j] = min(D[i][j], D[i][k] + D[k][j])\n",
    "\n",
    "    return D"
   ]
  },
  {
   "cell_type": "code",
   "execution_count": 6,
   "metadata": {},
   "outputs": [],
   "source": [
    "INF = float('inf')\n",
    "def inf_matrix(rows, cols):\n",
    "    \"\"\"\n",
    "    Funkcja tworząca macierz o wymiarach rows x cols, gdzie każdy element ma wartość INF.\n",
    "    \"\"\"\n",
    "    return [[INF for _ in range(cols)] for _ in range(rows)]"
   ]
  },
  {
   "cell_type": "code",
   "execution_count": 7,
   "metadata": {},
   "outputs": [],
   "source": [
    "def dict_to_dist_array(graph):\n",
    "    '''\n",
    "    Funkcja, która na podstawie grafu zwraca macierz odległości \n",
    "    (na i,j-tej pozycji jest liczba, która określa liczbę krawędzi, które\n",
    "    trzeba przejść, aby z wierzchołka i przejść do wierzchołka j).\n",
    "    \n",
    "    Jeśli nie ma ścieżki łączącej wierzchołki i,j, na pozycji i,j-tej znajduje się Inf.\n",
    "    '''\n",
    "    n=len(graph.nodes())                                        # liczba wierzchołków\n",
    "    W=inf_matrix(n,n)                                           # tworzymy macierz nxn z samych nieskończoności\n",
    "    skladowe=ConnectedComponentsBFS(graph)                      # spójne składowe grafu\n",
    "    for skladowa in skladowe:                                   # dla każdej spójnej składowej\n",
    "        for skladowa_node in list(skladowa):                    # dla każdego wirzchołka w spójnej składowej\n",
    "            dist=graph.Distance(skladowa_node)                 # obliczamy odległości\n",
    "            keys=list(dist.keys())                              # zapisujemy dla jakiego wierzchołka\n",
    "            values=list(dist.values())                          # jaka jest odległość\n",
    "            for i in range(len(keys)):\n",
    "                W[skladowa_node-1][keys[i]-1]=values[i]         # zapisujemy w macierzy\n",
    "    return W"
   ]
  },
  {
   "cell_type": "code",
   "execution_count": 8,
   "metadata": {},
   "outputs": [],
   "source": [
    "GRAPH = dict_to_dist_array(rgraph)\n",
    "FW=floyd_warshall(GRAPH)"
   ]
  },
  {
   "cell_type": "code",
   "execution_count": 11,
   "metadata": {},
   "outputs": [
    {
     "name": "stdout",
     "output_type": "stream",
     "text": [
      "Promień: 6  Średnica: 8  Średnio:  4.2061085000000045\n",
      "Czas wykonania: 0.2903621196746826\n"
     ]
    }
   ],
   "source": [
    "start_time = time.time()\n",
    "md = []\n",
    "ecc = []\n",
    "for i in range(len(FW)):\n",
    "    filtered_list = [x for x in FW[i] if x != INF]\n",
    "    ecc.append(max(filtered_list))\n",
    "    md.append(sum(filtered_list)/len(filtered_list))\n",
    "print(\"Promień:\", min(ecc), \" Średnica:\", max(ecc), \" Średnio: \", sum(md)/len(md))\n",
    "\n",
    "end_time = time.time()\n",
    "execution_time_Floyd = end_time - start_time\n",
    "print(\"Czas wykonania:\", execution_time_Floyd)"
   ]
  },
  {
   "cell_type": "markdown",
   "metadata": {},
   "source": [
    "### Zadanie 3\n",
    "Napisać funkcję TopologicalSort która wykona sortowanie topologiczne grafu skierowanego (zadanie nieco trudniejsze, ale pseudokod był podany na wykładzie, a potrzebne elementy - na laboratorium)."
   ]
  },
  {
   "cell_type": "code",
   "execution_count": null,
   "metadata": {},
   "outputs": [],
   "source": [
    "def TopologicalSort(graph):\n",
    "    '''\n",
    "    Funkcja wykonuje sortowanie topologiczne grafu skierowanego.\n",
    "    '''\n",
    "    vis, pro = graph.GDFS()                            # vis - visited, pro - processed\n",
    "    \n",
    "    n= len(graph.graph)                                # n - liczba wierzchołków\n",
    "    order={}                                           # zaczątek słownika, który będzie określał porządek\n",
    "    for v in graph.graph:\n",
    "        order[v]=n*pro[v] - vis[v]                     # wyliczamy porządek\n",
    "    porz = sorted(order, key=order.get, reverse=True)  # sortujemy słownik według porządku - malejąco\n",
    "    return porz"
   ]
  },
  {
   "cell_type": "code",
   "execution_count": 11,
   "metadata": {},
   "outputs": [
    {
     "name": "stdout",
     "output_type": "stream",
     "text": [
      "slipki: kalesony\n",
      "kalesony: spodnie\n",
      "spodnie: buty szelki\n",
      "buty:\n",
      "szelki: marynarka\n",
      "skarpety: buty\n",
      "koszula: szelki marynarka krawat\n",
      "marynarka: plaszcz\n",
      "krawat: marynarka\n",
      "plaszcz:\n",
      "\n"
     ]
    }
   ],
   "source": [
    "ubranie_graph = Graph.from_edges(\"ubranie.txt\", directed = 1)\n",
    "print(ubranie_graph)"
   ]
  },
  {
   "cell_type": "code",
   "execution_count": 12,
   "metadata": {},
   "outputs": [
    {
     "data": {
      "text/plain": [
       "['koszula',\n",
       " 'krawat',\n",
       " 'skarpety',\n",
       " 'slipki',\n",
       " 'kalesony',\n",
       " 'spodnie',\n",
       " 'szelki',\n",
       " 'marynarka',\n",
       " 'plaszcz',\n",
       " 'buty']"
      ]
     },
     "execution_count": 12,
     "metadata": {},
     "output_type": "execute_result"
    }
   ],
   "source": [
    "TopologicalSort(ubranie_graph)"
   ]
  },
  {
   "cell_type": "code",
   "execution_count": 13,
   "metadata": {},
   "outputs": [
    {
     "data": {
      "text/plain": [
       "['f', 'a', 'b', 'd', 'e', 'c']"
      ]
     },
     "execution_count": 13,
     "metadata": {},
     "output_type": "execute_result"
    }
   ],
   "source": [
    "gra = {'a': ['b', 'e'],\n",
    "       'b': ['c', 'd'],\n",
    "       'c': ['a'],\n",
    "       'd': ['e'],\n",
    "       'e': ['d'],\n",
    "       'f': ['e']}\n",
    "Gra=Graph.from_dict(gra)\n",
    "TopologicalSort(Gra)"
   ]
  },
  {
   "cell_type": "markdown",
   "metadata": {},
   "source": [
    "### Zadanie 4\n",
    "Dodać funkcję StronglyConnectedCoponents, która rozłoży graf skierowany na silnie spójne składowe. W wypadku grafu acyklicznego (dagu) będą one jednowierzchołkowe co da informację, że uzyskany porządek wierzchołków jest porządkiem topologicznym."
   ]
  },
  {
   "cell_type": "code",
   "execution_count": 72,
   "metadata": {},
   "outputs": [],
   "source": [
    "def StronglyConnectedCoponents(graph):\n",
    "    \"\"\"\n",
    "    Rozkłada graf skierowany na silnie spójne składowe.\n",
    "    \"\"\"\n",
    "    \n",
    "    def transpose(graph):\n",
    "        '''\n",
    "        Funkcja, która zwraca graf przeciwny (czyli kierunki wszystkich łuków w grafie skierowanym są przeciwne do oryginalnego grafu).\n",
    "        '''\n",
    "        trans_graph = {}                           # tworzymy pusty słownik - zaczątek grafu przeciwnego\n",
    "        for v in graph.graph:                      # dla każdego wierzchołka v w grafie\n",
    "            trans_graph[v] = []                    # tworzymy jego odpowiednik w nowym grafie\n",
    "            for u in graph.graph:                  # dla wierzchołka u w grafie\n",
    "                if v in graph.graph[u]:            # jeśli v sąsiaduje z u\n",
    "                    trans_graph[v] += [u]          # do wierzchołka v w przeciwnym grafie dodajemy jako sąsiada wierzchołek u\n",
    "        return Graph.from_dict(trans_graph)\n",
    "\n",
    "    porzadek = TopologicalSort(graph)              # wykonujemy sortowanie topologiczne i zapisujemy porządek\n",
    "    graphT=transpose(graph)                        # tworzymy graf przeciwny do oryginalnego\n",
    "    vis, pro = graphT.GDFS(porzadek)               # wyliczamy visited i processed dla grafu przeciwnego według porządku topologicznego oryginalnego grafu\n",
    "    spojne_skladowe=[]                             # podwaliny silnie spójnych składowych\n",
    "    \n",
    "    # wyznaczamy spójne skadowe według schematu:\n",
    "    # - szukamy najwcześniej odwiedzony wierzchołek\n",
    "    # - sprawdzamy dla niego jaka jest wartość przetworzenia\n",
    "    # - wszystkie wierzchołki, które mają nie większą wartość przetworzenia i nie mniejszą wartość odwiedzenia, klasyfikujemy jako wierzchołki w tej samej spójnej składowej\n",
    "    # - ze zbioru wierzchołków wyrzucamy te, które już zaklasyfikowaliśmy do jednej spójnej składowej\n",
    "    # - powtarzamy taki algorytm do sklasyfikowania wszystkich wirzchołków do którejś ze zspójnych składowych\n",
    "    \n",
    "    while vis:                                     # dopóki mamy wierzchołki bez przypisanej spójnej składowej\n",
    "        wierzcholki=list(vis.keys())               # tworzymy listę 'niesklasyfikowanych' wierzchołków (od razu są w kolejności rosnącej według visited)\n",
    "        v=wierzcholki[0]                           # wybieramy pierwszy wierzchołek (z najmniejszą wartośią visited)\n",
    "        odwiedzony=vis[v]                          # zapamiętujemy wartość visited dla wybranego wierzchołka\n",
    "        przetworzony=pro[v]                        # zapamiętujemy wartość processed dla wybranego wierzchołka\n",
    "        skladowa=[v]                               # tworzymy spójną składową składającą się (póki co) z wybranego wierzchołka\n",
    "        to_delete=[]                               # przygotowujemy listę, w której będziemy zapamiętywać wierzchołki, które zostały przypisane do tej spójnej składowej\n",
    "        vis.pop(v)                                 # wyrzucamy ze zbioru wierzchołków bez przypisanej spójnej składowej wybrany wierzchołek\n",
    "        for vertex in vis:                         # dla wszystkich pozostałych wierzchołków\n",
    "            if pro[vertex]<=przetworzony:          # jeśli wartość przetworzenia jest nie większa niż wybranego wierzchołka\n",
    "                if vis[vertex]>=odwiedzony:        # jeśli wartość odwiedzenia jest nie mniejsza niż wybranego wierzchołka\n",
    "                    skladowa.append(vertex)        # dodajemy ten wierzchołek do spójnej składowej wybranego wierzchołka\n",
    "                    to_delete.append(vertex)       # dodajemy ten wierzchołek do listy przetworzonych wierzchołków\n",
    "        spojne_skladowe.append(skladowa)           # dodajemy stworzoną spójną składową do zbioru silnie spójnych składowych\n",
    "        for i in to_delete:\n",
    "            vis.pop(i)                             # usuwamy ze zbioru wierzchołków nieprzypisanych do spójnej składowej te, które zostały przetworzone\n",
    "            \n",
    "    return spojne_skladowe\n",
    "\n",
    "        "
   ]
  },
  {
   "cell_type": "code",
   "execution_count": 60,
   "metadata": {
    "colab": {
     "base_uri": "https://localhost:8080/"
    },
    "id": "B72Aejqc1VcF",
    "outputId": "fdfe6f34-2106-4b54-937f-0509296b826d"
   },
   "outputs": [
    {
     "name": "stdout",
     "output_type": "stream",
     "text": [
      "slipki: kalesony\n",
      "kalesony: spodnie\n",
      "spodnie: buty szelki\n",
      "buty:\n",
      "szelki: marynarka\n",
      "skarpety: buty\n",
      "koszula: szelki marynarka krawat\n",
      "marynarka: plaszcz\n",
      "krawat: marynarka\n",
      "plaszcz:\n",
      "\n"
     ]
    }
   ],
   "source": [
    "ubranie_graph = Graph.from_edges(\"ubranie.txt\", directed = 1)\n",
    "print(ubranie_graph)"
   ]
  },
  {
   "cell_type": "code",
   "execution_count": 73,
   "metadata": {},
   "outputs": [
    {
     "name": "stdout",
     "output_type": "stream",
     "text": [
      "[['koszula'], ['krawat'], ['skarpety'], ['slipki'], ['kalesony'], ['spodnie'], ['szelki'], ['marynarka'], ['plaszcz'], ['buty']]\n"
     ]
    }
   ],
   "source": [
    "print(StronglyConnectedCoponents(ubranie_graph))"
   ]
  },
  {
   "cell_type": "code",
   "execution_count": 74,
   "metadata": {},
   "outputs": [
    {
     "data": {
      "text/plain": [
       "[['f'], ['a', 'c', 'b'], ['d', 'e']]"
      ]
     },
     "execution_count": 74,
     "metadata": {},
     "output_type": "execute_result"
    }
   ],
   "source": [
    "gra = {'a': ['b', 'e'],\n",
    "       'b': ['c', 'd'],\n",
    "       'c': ['a'],\n",
    "       'd': ['e'],\n",
    "       'e': ['d'],\n",
    "       'f': ['e']}\n",
    "Gra=Graph.from_dict(gra)\n",
    "StronglyConnectedCoponents(Gra)"
   ]
  }
 ],
 "metadata": {
  "colab": {
   "include_colab_link": true,
   "provenance": []
  },
  "kernelspec": {
   "display_name": "Python 3 (ipykernel)",
   "language": "python",
   "name": "python3"
  },
  "language_info": {
   "codemirror_mode": {
    "name": "ipython",
    "version": 3
   },
   "file_extension": ".py",
   "mimetype": "text/x-python",
   "name": "python",
   "nbconvert_exporter": "python",
   "pygments_lexer": "ipython3",
   "version": "3.10.9"
  }
 },
 "nbformat": 4,
 "nbformat_minor": 1
}
