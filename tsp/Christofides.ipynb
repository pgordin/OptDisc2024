{
 "cells": [
  {
   "cell_type": "markdown",
   "metadata": {},
   "source": [
    "# Algorytm Christofidesa"
   ]
  },
  {
   "cell_type": "markdown",
   "metadata": {},
   "source": [
    "Algorytm Christofidesa jest algorytmem z ograniczeniem względnym $2$ znajdującym przybliżone rozwiązanie problemu komiwojażera dla grafu $G$.\n",
    "1. Zbuduj minimalne drzewo rozpinające $T$ na $G$;\n",
    "2. wybierz dowolny $r\\in V(G)$ jako korzeń $T$;\n",
    "3. niech $L$ będzie listą wierzchołków drzewa $T$ w kolejności preorder;\n",
    "4. zwróć cykl Hamiltona odwiedzający wierzchołki w kolejności L."
   ]
  },
  {
   "cell_type": "code",
   "execution_count": 1,
   "metadata": {},
   "outputs": [
    {
     "name": "stdout",
     "output_type": "stream",
     "text": [
      "1: (2, 8) (3, 4) (4, 7) (5, 8) (6, 1) (7, 10) (8, 5) (9, 5) (10, 9)\n",
      "2: (1, 8) (3, 8) (4, 10) (5, 8) (6, 4) (7, 8) (8, 10) (9, 4) (10, 4)\n",
      "3: (1, 4) (2, 8) (4, 3) (5, 10) (6, 2) (7, 1) (8, 3) (9, 9) (10, 10)\n",
      "4: (1, 7) (2, 10) (3, 3) (5, 3) (6, 9) (7, 10) (8, 9) (9, 2) (10, 7)\n",
      "5: (1, 8) (2, 8) (3, 10) (4, 3) (6, 4) (7, 7) (8, 6) (9, 2) (10, 2)\n",
      "6: (1, 1) (2, 4) (3, 2) (4, 9) (5, 4) (7, 6) (8, 10) (9, 10) (10, 8)\n",
      "7: (1, 10) (2, 8) (3, 1) (4, 10) (5, 7) (6, 6) (8, 6) (9, 4) (10, 7)\n",
      "8: (1, 5) (2, 10) (3, 3) (4, 9) (5, 6) (6, 10) (7, 6) (9, 1) (10, 5)\n",
      "9: (1, 5) (2, 4) (3, 9) (4, 2) (5, 2) (6, 10) (7, 4) (8, 1) (10, 8)\n",
      "10: (1, 9) (2, 4) (3, 10) (4, 7) (5, 2) (6, 8) (7, 7) (8, 5) (9, 8)\n",
      "\n"
     ]
    }
   ],
   "source": [
    "from Graph import Graph, MinSpanningTree\n",
    "\n",
    "G = Graph.random_graph(nodes_num=10, prob=1, weighed=True)\n",
    "G.weighted = True\n",
    "print(G)"
   ]
  },
  {
   "cell_type": "markdown",
   "metadata": {},
   "source": [
    "Znajdujemy minimalne drzewo spinające na grafie $G$."
   ]
  },
  {
   "cell_type": "code",
   "execution_count": 2,
   "metadata": {},
   "outputs": [
    {
     "name": "stdout",
     "output_type": "stream",
     "text": [
      "1: (6, 1)\n",
      "6: (1, 1) (3, 2) (2, 4)\n",
      "3: (6, 2) (7, 1) (4, 3)\n",
      "7: (3, 1)\n",
      "4: (3, 3) (9, 2)\n",
      "9: (4, 2) (8, 1) (5, 2)\n",
      "8: (9, 1)\n",
      "5: (9, 2) (10, 2)\n",
      "10: (5, 2)\n",
      "2: (6, 4)\n",
      "\n"
     ]
    }
   ],
   "source": [
    "T = MinSpanningTree(G)\n",
    "print(T)"
   ]
  },
  {
   "cell_type": "markdown",
   "metadata": {},
   "source": [
    "Zwracamy wierzchołki w kolejności preorder."
   ]
  },
  {
   "cell_type": "code",
   "execution_count": 3,
   "metadata": {},
   "outputs": [],
   "source": [
    "def preorder(graph: Graph, node):\n",
    "\tdef DFS(u):\n",
    "\t\tfor v in graph.graph[u[0]]:\n",
    "\t\t\tif v[0] not in visited:\n",
    "\t\t\t\tvisited.append(v[0])\n",
    "\t\t\t\tDFS(v)\n",
    "\t\n",
    "\tvisited = [node]\n",
    "\tfor child in graph.graph[node]:\n",
    "\t\tif child[0] not in visited:\n",
    "\t\t\tvisited.append(child[0])\n",
    "\t\t\tDFS(child)\n",
    "\treturn visited"
   ]
  },
  {
   "cell_type": "code",
   "execution_count": 4,
   "metadata": {},
   "outputs": [
    {
     "data": {
      "text/plain": [
       "[1, 6, 3, 7, 4, 9, 8, 5, 10, 2]"
      ]
     },
     "execution_count": 4,
     "metadata": {},
     "output_type": "execute_result"
    }
   ],
   "source": [
    "preorder(T, 1)"
   ]
  }
 ],
 "metadata": {
  "kernelspec": {
   "display_name": ".venv",
   "language": "python",
   "name": "python3"
  },
  "language_info": {
   "codemirror_mode": {
    "name": "ipython",
    "version": 3
   },
   "file_extension": ".py",
   "mimetype": "text/x-python",
   "name": "python",
   "nbconvert_exporter": "python",
   "pygments_lexer": "ipython3",
   "version": "3.12.3"
  }
 },
 "nbformat": 4,
 "nbformat_minor": 2
}
